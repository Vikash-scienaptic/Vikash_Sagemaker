{
 "cells": [
  {
   "cell_type": "code",
   "execution_count": 1,
   "id": "97480807-9b45-4bf1-b551-c86e18e98523",
   "metadata": {
    "tags": []
   },
   "outputs": [
    {
     "name": "stdout",
     "output_type": "stream",
     "text": [
      "Requirement already satisfied: xgboost in /opt/conda/lib/python3.10/site-packages (2.0.3)\n",
      "Requirement already satisfied: numpy in /opt/conda/lib/python3.10/site-packages (from xgboost) (1.26.4)\n",
      "Requirement already satisfied: scipy in /opt/conda/lib/python3.10/site-packages (from xgboost) (1.12.0)\n",
      "\u001b[33mWARNING: Running pip as the 'root' user can result in broken permissions and conflicting behaviour with the system package manager. It is recommended to use a virtual environment instead: https://pip.pypa.io/warnings/venv\u001b[0m\u001b[33m\n",
      "\u001b[0m"
     ]
    }
   ],
   "source": [
    "!pip install xgboost"
   ]
  },
  {
   "cell_type": "code",
   "execution_count": 2,
   "id": "047734de",
   "metadata": {
    "tags": []
   },
   "outputs": [],
   "source": [
    "import warnings\n",
    "warnings.filterwarnings('ignore')\n",
    "\n",
    "import pandas as pd\n",
    "import numpy as np\n",
    "import json\n",
    "import logging\n",
    "import xgboost as xgb\n",
    "import ast\n",
    "import itertools\n",
    "import scipy.stats as ss\n",
    "from sklearn.preprocessing import MinMaxScaler\n",
    "from scipy.stats import chi2\n",
    "import os"
   ]
  },
  {
   "cell_type": "code",
   "execution_count": 4,
   "id": "b9bce6fc-2402-4765-8f0e-15db90512add",
   "metadata": {
    "tags": []
   },
   "outputs": [
    {
     "name": "stdout",
     "output_type": "stream",
     "text": [
      "Requirement already satisfied: hyperopt in /opt/conda/lib/python3.10/site-packages (0.2.7)\n",
      "Requirement already satisfied: numpy in /opt/conda/lib/python3.10/site-packages (from hyperopt) (1.26.4)\n",
      "Requirement already satisfied: scipy in /opt/conda/lib/python3.10/site-packages (from hyperopt) (1.12.0)\n",
      "Requirement already satisfied: six in /opt/conda/lib/python3.10/site-packages (from hyperopt) (1.16.0)\n",
      "Requirement already satisfied: networkx>=2.2 in /opt/conda/lib/python3.10/site-packages (from hyperopt) (3.3)\n",
      "Requirement already satisfied: future in /opt/conda/lib/python3.10/site-packages (from hyperopt) (1.0.0)\n",
      "Requirement already satisfied: tqdm in /opt/conda/lib/python3.10/site-packages (from hyperopt) (4.66.1)\n",
      "Requirement already satisfied: cloudpickle in /opt/conda/lib/python3.10/site-packages (from hyperopt) (2.2.1)\n",
      "Requirement already satisfied: py4j in /opt/conda/lib/python3.10/site-packages (from hyperopt) (0.10.9.7)\n",
      "\u001b[33mWARNING: Running pip as the 'root' user can result in broken permissions and conflicting behaviour with the system package manager. It is recommended to use a virtual environment instead: https://pip.pypa.io/warnings/venv\u001b[0m\u001b[33m\n",
      "\u001b[0m"
     ]
    }
   ],
   "source": [
    "!pip install hyperopt"
   ]
  },
  {
   "cell_type": "code",
   "execution_count": 5,
   "id": "c284cf6c",
   "metadata": {
    "tags": []
   },
   "outputs": [],
   "source": [
    "import numpy as np\n",
    "import pandas as pd\n",
    "from hyperopt import Trials, STATUS_OK, tpe, hp, fmin\n",
    "pd.set_option('display.max_columns', None)\n",
    "pd.set_option('display.max_rows', 200)\n",
    "import h2o\n",
    "from h2o.estimators import H2OXGBoostEstimator\n",
    "from hyperopt.pyll import scope as ho_scope\n",
    "from hyperopt.pyll.stochastic import sample as ho_sample"
   ]
  },
  {
   "cell_type": "code",
   "execution_count": 6,
   "id": "0271dbd4",
   "metadata": {
    "tags": []
   },
   "outputs": [],
   "source": [
    "import sys\n",
    "sys.path.append('/root/Unified_LN_V2/')\n",
    "from Utilities import *"
   ]
  },
  {
   "cell_type": "code",
   "execution_count": 7,
   "id": "e4b12e60",
   "metadata": {
    "tags": []
   },
   "outputs": [
    {
     "name": "stdout",
     "output_type": "stream",
     "text": [
      "Checking whether there is an H2O instance running at http://localhost:54321. connected.\n"
     ]
    },
    {
     "data": {
      "text/html": [
       "\n",
       "<style>\n",
       "\n",
       "#h2o-table-1.h2o-container {\n",
       "  overflow-x: auto;\n",
       "}\n",
       "#h2o-table-1 .h2o-table {\n",
       "  /* width: 100%; */\n",
       "  margin-top: 1em;\n",
       "  margin-bottom: 1em;\n",
       "}\n",
       "#h2o-table-1 .h2o-table caption {\n",
       "  white-space: nowrap;\n",
       "  caption-side: top;\n",
       "  text-align: left;\n",
       "  /* margin-left: 1em; */\n",
       "  margin: 0;\n",
       "  font-size: larger;\n",
       "}\n",
       "#h2o-table-1 .h2o-table thead {\n",
       "  white-space: nowrap; \n",
       "  position: sticky;\n",
       "  top: 0;\n",
       "  box-shadow: 0 -1px inset;\n",
       "}\n",
       "#h2o-table-1 .h2o-table tbody {\n",
       "  overflow: auto;\n",
       "}\n",
       "#h2o-table-1 .h2o-table th,\n",
       "#h2o-table-1 .h2o-table td {\n",
       "  text-align: right;\n",
       "  /* border: 1px solid; */\n",
       "}\n",
       "#h2o-table-1 .h2o-table tr:nth-child(even) {\n",
       "  /* background: #F5F5F5 */\n",
       "}\n",
       "\n",
       "</style>      \n",
       "<div id=\"h2o-table-1\" class=\"h2o-container\">\n",
       "  <table class=\"h2o-table\">\n",
       "    <caption></caption>\n",
       "    <thead></thead>\n",
       "    <tbody><tr><td>H2O_cluster_uptime:</td>\n",
       "<td>1 hour 56 mins</td></tr>\n",
       "<tr><td>H2O_cluster_timezone:</td>\n",
       "<td>Etc/GMT</td></tr>\n",
       "<tr><td>H2O_data_parsing_timezone:</td>\n",
       "<td>UTC</td></tr>\n",
       "<tr><td>H2O_cluster_version:</td>\n",
       "<td>3.46.0.1</td></tr>\n",
       "<tr><td>H2O_cluster_version_age:</td>\n",
       "<td>28 days, 19 hours and 4 minutes</td></tr>\n",
       "<tr><td>H2O_cluster_name:</td>\n",
       "<td>H2O_from_python_unknownUser_zc7e40</td></tr>\n",
       "<tr><td>H2O_cluster_total_nodes:</td>\n",
       "<td>1</td></tr>\n",
       "<tr><td>H2O_cluster_free_memory:</td>\n",
       "<td>7.414 Gb</td></tr>\n",
       "<tr><td>H2O_cluster_total_cores:</td>\n",
       "<td>8</td></tr>\n",
       "<tr><td>H2O_cluster_allowed_cores:</td>\n",
       "<td>8</td></tr>\n",
       "<tr><td>H2O_cluster_status:</td>\n",
       "<td>locked, healthy</td></tr>\n",
       "<tr><td>H2O_connection_url:</td>\n",
       "<td>http://localhost:54321</td></tr>\n",
       "<tr><td>H2O_connection_proxy:</td>\n",
       "<td>{\"http\": null, \"https\": null}</td></tr>\n",
       "<tr><td>H2O_internal_security:</td>\n",
       "<td>False</td></tr>\n",
       "<tr><td>Python_version:</td>\n",
       "<td>3.10.6 final</td></tr></tbody>\n",
       "  </table>\n",
       "</div>\n"
      ],
      "text/plain": [
       "--------------------------  ----------------------------------\n",
       "H2O_cluster_uptime:         1 hour 56 mins\n",
       "H2O_cluster_timezone:       Etc/GMT\n",
       "H2O_data_parsing_timezone:  UTC\n",
       "H2O_cluster_version:        3.46.0.1\n",
       "H2O_cluster_version_age:    28 days, 19 hours and 4 minutes\n",
       "H2O_cluster_name:           H2O_from_python_unknownUser_zc7e40\n",
       "H2O_cluster_total_nodes:    1\n",
       "H2O_cluster_free_memory:    7.414 Gb\n",
       "H2O_cluster_total_cores:    8\n",
       "H2O_cluster_allowed_cores:  8\n",
       "H2O_cluster_status:         locked, healthy\n",
       "H2O_connection_url:         http://localhost:54321\n",
       "H2O_connection_proxy:       {\"http\": null, \"https\": null}\n",
       "H2O_internal_security:      False\n",
       "Python_version:             3.10.6 final\n",
       "--------------------------  ----------------------------------"
      ]
     },
     "metadata": {},
     "output_type": "display_data"
    }
   ],
   "source": [
    "### Starting H2o Session\n",
    "h2o.init()"
   ]
  },
  {
   "cell_type": "code",
   "execution_count": 8,
   "id": "7135a15d",
   "metadata": {
    "tags": []
   },
   "outputs": [
    {
     "data": {
      "text/plain": [
       "(210114, 144)"
      ]
     },
     "execution_count": 8,
     "metadata": {},
     "output_type": "execute_result"
    }
   ],
   "source": [
    "#Train = pd.read_csv(\"Train.csv\")\n",
    "#Test = pd.read_csv(\"Test.csv\")\n",
    "TTD= pd.read_csv('/root/Unified_LN_V2/LN_Unsec_V2/Model_Data/Without_Segment_Model/Mono_Data/Overall_1_Unsec_Ttd_Binned_Data_100424.csv')\n",
    "TTD.shape\n",
    "# oot_binned = pd.read_csv(\"/home/username/aniruddha/NewBinned_BureauLN_BP_oot_mono_60_18m.csv\")"
   ]
  },
  {
   "cell_type": "code",
   "execution_count": 9,
   "id": "3b3a14bf",
   "metadata": {
    "tags": []
   },
   "outputs": [
    {
     "data": {
      "text/plain": [
       "Race\n",
       "white       92628\n",
       "missing     68244\n",
       "black       25321\n",
       "hispanic    20812\n",
       "api          2881\n",
       "multiple      122\n",
       "aian          100\n",
       "others          6\n",
       "Name: count, dtype: int64"
      ]
     },
     "execution_count": 9,
     "metadata": {},
     "output_type": "execute_result"
    }
   ],
   "source": [
    "TTD['Race'].value_counts()"
   ]
  },
  {
   "cell_type": "code",
   "execution_count": 10,
   "id": "26b3a17d",
   "metadata": {
    "tags": []
   },
   "outputs": [],
   "source": [
    "TTD[\"Race_black\"] = np.where(TTD[\"Race\"] == \"black\",1, 0)\n",
    "TTD[\"Race_hispanic\"] = np.where(TTD[\"Race\"] == \"hispanic\",1, 0)\n",
    "TTD[\"Race_api\"] = np.where((TTD[\"Race\"] == \"asian\")|(TTD[\"Race\"] == \"api\"),1, 0)\n",
    "TTD[\"age_cuts_flag\"] = np.where(TTD[\"age_cuts\"] == \"Age 62 and over\",1, 0)\n",
    "TTD[\"Gender_flag\"] = np.where(TTD[\"Gender\"] == \"F\",1, 0)"
   ]
  },
  {
   "cell_type": "code",
   "execution_count": 11,
   "id": "e25a61cc",
   "metadata": {
    "tags": []
   },
   "outputs": [
    {
     "data": {
      "text/plain": [
       "Race_api\n",
       "0    207233\n",
       "1      2881\n",
       "Name: count, dtype: int64"
      ]
     },
     "execution_count": 11,
     "metadata": {},
     "output_type": "execute_result"
    }
   ],
   "source": [
    "TTD[\"Race_api\"].value_counts()"
   ]
  },
  {
   "cell_type": "code",
   "execution_count": 12,
   "id": "905841bb-e8ef-4c25-a10a-2c46fb8eee10",
   "metadata": {
    "tags": []
   },
   "outputs": [
    {
     "data": {
      "text/plain": [
       "client\n",
       "Bethpage    49042\n",
       "Guardian    40918\n",
       "Numerica    36984\n",
       "Arkansas    31930\n",
       "Tower       31083\n",
       "Hawaii       8972\n",
       "GESA         7378\n",
       "HFCU         3807\n",
       "Name: count, dtype: int64"
      ]
     },
     "execution_count": 12,
     "metadata": {},
     "output_type": "execute_result"
    }
   ],
   "source": [
    "TTD['client'].value_counts(dropna= False)"
   ]
  },
  {
   "cell_type": "code",
   "execution_count": 13,
   "id": "7ff4f4ac-ffbd-4efe-bf90-d1c6206730b7",
   "metadata": {
    "tags": []
   },
   "outputs": [
    {
     "data": {
      "text/plain": [
       "37"
      ]
     },
     "execution_count": 13,
     "metadata": {},
     "output_type": "execute_result"
    }
   ],
   "source": [
    "### Convert the Variable into categorical\n",
    "var_to_cat= '''businesstitleleadership\n",
    "proflictypecategory\n",
    "addrcurrentdeedmailing\n",
    "addrcurrentphoneservice\n",
    "addrcurrentsubjectowned\n",
    "addrinputdeedmailing\n",
    "addrinputphoneservice\n",
    "addrinputproblems\n",
    "addrinputsubjectowned\n",
    "addrlastmoveecontrajectory\n",
    "addronfilecollege\n",
    "addronfilecorrectional\n",
    "addronfilehighrisk\n",
    "addrprevioussubjectowned\n",
    "alertregulatorycondition\n",
    "assetownership\n",
    "assetpersonal\n",
    "assetprop\n",
    "assetpropnewestmortgagetype\n",
    "bankruptcychapter\n",
    "bankruptcystatus\n",
    "businessassociation\n",
    "educationattendance\n",
    "educationevidence\n",
    "educationinstitutionrating\n",
    "educationprogramattended\n",
    "inquiryauto12month\n",
    "inquirybanking12month\n",
    "inquirycollections12month\n",
    "inquirynonshortterm12month\n",
    "inquiryshortterm12month\n",
    "inquirytelcom12month\n",
    "shorttermloanrequest\n",
    "shorttermloanrequest12month\n",
    "shorttermloanrequest24month\n",
    "subjectnewestrecord12month\n",
    "sourcevoterregistration'''.splitlines()\n",
    "len(var_to_cat)"
   ]
  },
  {
   "cell_type": "code",
   "execution_count": 14,
   "id": "e8313535-daa9-4263-8e52-c837d11bf636",
   "metadata": {
    "tags": []
   },
   "outputs": [],
   "source": [
    "for var in var_to_cat:\n",
    "    TTD[var]= TTD[var].astype(str)"
   ]
  },
  {
   "cell_type": "code",
   "execution_count": 15,
   "id": "f12a50dc",
   "metadata": {
    "tags": []
   },
   "outputs": [
    {
     "data": {
      "text/plain": [
       "Index(['unique_id', 'client', 'app_date', 'approve_flag', 'funded_flag',\n",
       "       'fico_pb', 'fico_cb', 'bad_flag', 'product', 'auto_score',\n",
       "       ...\n",
       "       'shorttermloanrequest24month', 'sourcecredheadertimenewest',\n",
       "       'sourcevoterregistration', 'subjectnewestrecord12month',\n",
       "       'subjectrecordtimenewest', 'Race_black', 'Race_hispanic', 'Race_api',\n",
       "       'age_cuts_flag', 'Gender_flag'],\n",
       "      dtype='object', length=149)"
      ]
     },
     "execution_count": 15,
     "metadata": {},
     "output_type": "execute_result"
    }
   ],
   "source": [
    "TTD.columns"
   ]
  },
  {
   "cell_type": "code",
   "execution_count": 22,
   "id": "dcc9eab8",
   "metadata": {
    "tags": []
   },
   "outputs": [
    {
     "data": {
      "text/plain": [
       "(0.49343740415225645, 0.49219493622691796)"
      ]
     },
     "execution_count": 22,
     "metadata": {},
     "output_type": "execute_result"
    }
   ],
   "source": [
    "from sklearn.model_selection import train_test_split\n",
    "\n",
    "TTD_train,TTD_test = train_test_split(TTD, test_size=0.10,random_state= 4127)\n",
    "\n",
    "TTD_train['approve_flag'].mean(), TTD_test['approve_flag'].mean()"
   ]
  },
  {
   "cell_type": "code",
   "execution_count": 23,
   "id": "3c3d6516-11dc-4a0b-a679-7e86b9e73793",
   "metadata": {
    "tags": []
   },
   "outputs": [
    {
     "data": {
      "text/plain": [
       "130"
      ]
     },
     "execution_count": 23,
     "metadata": {},
     "output_type": "execute_result"
    }
   ],
   "source": [
    "req_cols= ['assetpropevercount', 'sourcenonderogcount06month', 'addronfilecount', 'addrinputcountyratio', 'assetpropnewestsaleprice', 'addrcurrenttaxvalue', 'addrinputavmvalue', 'addrinputavmvalue60month', 'addrinputlastsaleprice', 'addrinputtaxmarketvalue', 'sourcecredheadertimeoldest', 'addrinputphonecount', 'assetpropcurrenttaxtotal', 'addrcurrentavmvalue', 'assetproppurchasetimeoldest', 'addrpreviouslengthofres', 'addrinputlengthofres', 'addrcurrenttaxmarketvalue', 'addrprevioustimenewest', 'addrcurrenttractratio', 'sourcenonderogcount12month', 'assetpropcurrentcount', 'addrinputsubjectcount', 'sourcenonderogcount', 'addrinputtaxvalue', 'assetpropeversoldcount', 'businessassociationtimeoldest', 'addrinputtractratio', 'derogtimenewest', 'addrchangecount24month', 'addrinputtimelastsale', 'educationinstitutionprivate', 'addrinputblockratio', 'businesstitleleadership', 'addrcurrentlengthofres', 'addrcurrentavmratio12monthprior', 'addrcurrentblockratio', 'derogcount', 'profliccount', 'addrinputavmratio60monthprior', 'addrcurrentcountyratio', 'assetpropsaletimeoldest', 'subjectrecordtimeoldest', 'addrcurrenttimenewest', 'proflictypecategory', 'criminalnonfelonytimenewest', 'lienjudgmentdollartotal', 'addrcurrentlastsalesprice', 'addrinputtimenewest', 'evictiontimenewest', 'bankruptcycount', 'addrcurrenttimelastsale', 'addrinputtimeoldest', 'addrlastmovetaxratiodiff', 'criminalnonfelonycount', 'sourcenonderogcount03month', 'addrchangecount03month', 'addrchangecount06month', 'addrchangecount12month', 'addrchangecount60month', 'addrcurrentavmratio60monthprior', 'addrcurrentavmvalue12month', 'addrcurrentavmvalue60month', 'addrcurrentcorrectional', 'addrcurrentdeedmailing', 'addrcurrentphoneservice', 'addrcurrentsubjectowned', 'addrcurrenttimeoldest', 'addrinputavmratio12monthprior', 'addrinputavmvalue12month', 'addrinputdeedmailing', 'addrinputphoneservice', 'addrinputproblems', 'addrinputsubjectowned', 'addrlastmoveecontrajectory', 'addronfilecollege', 'addronfilecorrectional', 'addronfilehighrisk', 'addrpreviouscorrectional', 'addrprevioussubjectowned', 'addrprevioustimeoldest', 'alertregulatorycondition', 'assetownership', 'assetpersonal', 'assetpersonalcount', 'assetprop', 'assetpropnewestmortgagetype', 'assetproppurchasecount12month', 'assetproppurchasetimenewest', 'assetpropsalepurchaseratio', 'assetpropsaletimenewest', 'assetpropsoldcount12month', 'bankruptcychapter', 'bankruptcycount24month', 'bankruptcydismissed24month', 'bankruptcystatus', 'bankruptcytimenewest', 'businessassociation', 'criminalfelonycount', 'criminalfelonycount12month', 'criminalfelonytimenewest', 'criminalnonfelonycount12month', 'derogcount12month', 'educationattendance', 'educationevidence', 'educationinstitutionrating', 'educationprogramattended', 'evictioncount', 'evictioncount12month', 'inquiryauto12month', 'inquirybanking12month', 'inquirycollections12month', 'inquirynonshortterm12month', 'inquiryshortterm12month', 'inquirytelcom12month', 'lienjudgmentcount', 'lienjudgmentcount12month', 'lienjudgmentcourtcount', 'lienjudgmentforeclosurecount', 'lienjudgmentothercount', 'lienjudgmentsmallclaimscount', 'lienjudgmenttaxcount', 'lienjudgmenttimenewest', 'shorttermloanrequest', 'shorttermloanrequest12month', 'shorttermloanrequest24month', 'sourcecredheadertimenewest', 'sourcevoterregistration', 'subjectnewestrecord12month', 'subjectrecordtimenewest']\n",
    "len(req_cols)"
   ]
  },
  {
   "cell_type": "code",
   "execution_count": 24,
   "id": "1de8580c-a3a5-4524-b0b5-ea2d150b4d1f",
   "metadata": {
    "tags": []
   },
   "outputs": [
    {
     "data": {
      "text/plain": [
       "((189102, 149), (21012, 149))"
      ]
     },
     "execution_count": 24,
     "metadata": {},
     "output_type": "execute_result"
    }
   ],
   "source": [
    "TTD_train.shape, TTD_test.shape"
   ]
  },
  {
   "cell_type": "code",
   "execution_count": 25,
   "id": "e6cf095c-d23b-4951-a0ee-0db195dea9b4",
   "metadata": {
    "tags": []
   },
   "outputs": [
    {
     "data": {
      "text/plain": [
       "bankruptcystatus\n",
       "[0]     199155\n",
       "[1]       8680\n",
       "[2]       1857\n",
       "[-1]       422\n",
       "Name: count, dtype: int64"
      ]
     },
     "execution_count": 25,
     "metadata": {},
     "output_type": "execute_result"
    }
   ],
   "source": [
    "TTD['bankruptcystatus'].value_counts(dropna= False)"
   ]
  },
  {
   "cell_type": "code",
   "execution_count": 26,
   "id": "eb158212-0c2c-4a65-8c8d-a1298616c16f",
   "metadata": {
    "tags": []
   },
   "outputs": [
    {
     "data": {
      "text/plain": [
       "dtype('O')"
      ]
     },
     "execution_count": 26,
     "metadata": {},
     "output_type": "execute_result"
    }
   ],
   "source": [
    "TTD['bankruptcystatus'].dtypes"
   ]
  },
  {
   "cell_type": "code",
   "execution_count": 27,
   "id": "a4f7acf0",
   "metadata": {
    "tags": []
   },
   "outputs": [
    {
     "name": "stdout",
     "output_type": "stream",
     "text": [
      "Parse progress: |████████████████████████████████████████████████████████████████| (done) 100%\n",
      "Parse progress: |████████████████████████████████████████████████████████████████| (done) 100%\n",
      "(189102, 149) (21012, 149)\n"
     ]
    }
   ],
   "source": [
    "ttd_train_h2o = h2o.H2OFrame(TTD_train)\n",
    "ttd_test_h2o = h2o.H2OFrame(TTD_test)\n",
    "print(ttd_train_h2o.shape,ttd_test_h2o.shape)"
   ]
  },
  {
   "cell_type": "code",
   "execution_count": 28,
   "id": "4e7748c3-35c0-4ba4-a4b8-80aaafcaf5a5",
   "metadata": {
    "tags": []
   },
   "outputs": [
    {
     "name": "stdout",
     "output_type": "stream",
     "text": [
      "[0] (179252, 149)\n",
      "[1] (6005, 149)\n",
      "[2] (3845, 149)\n",
      "[-1] (0, 149)\n"
     ]
    }
   ],
   "source": [
    "for k in TTD['bankruptcychapter'].unique():\n",
    "    print(k, ttd_train_h2o[ttd_train_h2o['bankruptcychapter']== k].shape)"
   ]
  },
  {
   "cell_type": "code",
   "execution_count": 32,
   "id": "0b3b6b18-7091-4533-b26b-08d41604b4c8",
   "metadata": {
    "tags": []
   },
   "outputs": [],
   "source": [
    "path_to_save= '/root/Unified_LN_V2/LN_Unsec_V2/Model_Data/Protected_Class_Data/'"
   ]
  },
  {
   "cell_type": "code",
   "execution_count": 33,
   "id": "cbb188e9",
   "metadata": {
    "tags": []
   },
   "outputs": [],
   "source": [
    "def recall_cal(data_h2o,data,name,dep):\n",
    "    predict = xgbm_FL.predict(data_h2o)\n",
    "    p =predict.as_data_frame()\n",
    "    dd = data.loc[:,unique_cols + [dep_var]]\n",
    "    dd = pd.DataFrame(dd)\n",
    "    dd = dd.reset_index()\n",
    "    dd['RECWGT'] = 1\n",
    "    dd['conwt'] = 1\n",
    "    pred = pd.concat([dd.loc[:,(dep_var,\"RECWGT\",\"conwt\")],p],axis=1)\n",
    "    dep_flag_rate = (pred[\"RECWGT\"]*pred[dep_var]).sum()/pred[\"RECWGT\"].sum()\n",
    "    pred = pred.sort_values(by=[\"p1\"],ascending=False).reset_index()\n",
    "    pred[\"cum_wgt\"] = pred[\"RECWGT\"].cumsum()\n",
    "    pred[\"cum_wgt_nor\"] = pred[\"cum_wgt\"]/pred[\"RECWGT\"].sum()\n",
    "    pred[\"scorecut\"] = np.where(pred[\"cum_wgt_nor\"]<=dep_flag_rate,1,0)\n",
    "    pred[\"TP\"] = np.where((pred[\"scorecut\"]==1) & (pred[dep_var]==1),1,0)\n",
    "    recall = pred[\"TP\"].sum()/pred[dep_var].sum()\n",
    "    print( pred[\"TP\"].sum(),pred[dep_var].sum())\n",
    "    pred.to_csv(path_to_save+name+dep_var +\"_dataset.csv\")\n",
    "    return recall, dep_flag_rate"
   ]
  },
  {
   "cell_type": "code",
   "execution_count": 34,
   "id": "771a8d6e",
   "metadata": {
    "tags": []
   },
   "outputs": [
    {
     "name": "stdout",
     "output_type": "stream",
     "text": [
      "(189102, 137)\n",
      "130\n"
     ]
    }
   ],
   "source": [
    "unique_cols = ['unique_id', 'client']\n",
    "wt_col = \"wt2\"\n",
    "folds = 10\n",
    "predictors = ttd_train_h2o.columns\n",
    "req_cols = req_cols# config.dropna().Feature_Name.to_list()\n",
    "model_cols = unique_cols + req_cols\n",
    "ttd_train_h2o=ttd_train_h2o[model_cols+['Race_black','Race_hispanic','Race_api','age_cuts_flag','Gender_flag']]#,'mmct_tag']]\n",
    "\n",
    "\n",
    "print(ttd_train_h2o.shape)\n",
    "print(len(req_cols))"
   ]
  },
  {
   "cell_type": "code",
   "execution_count": 35,
   "id": "69e5736f",
   "metadata": {
    "tags": []
   },
   "outputs": [
    {
     "name": "stdout",
     "output_type": "stream",
     "text": [
      "Race_black\n",
      "xgboost Model Build progress: |██████████████████████████████████████████████████| (done) 100%\n",
      "xgboost prediction progress: |███████████████████████████████████████████████████| (done) 100%\n",
      "9870 22817\n",
      "0.43257220493491694 0.12065974976467726\n",
      "xgboost prediction progress: |███████████████████████████████████████████████████| (done) 100%\n",
      "1065 2504\n",
      "0.4253194888178914 0.1191699980963259\n",
      "Race_hispanic\n",
      "xgboost Model Build progress: |██████████████████████████████████████████████████| (done) 100%\n",
      "xgboost prediction progress: |███████████████████████████████████████████████████| (done) 100%\n",
      "6955 18753\n",
      "0.3708739934943742 0.09916870260494337\n",
      "xgboost prediction progress: |███████████████████████████████████████████████████| (done) 100%\n",
      "739 2059\n",
      "0.3589120932491501 0.09799162383399962\n",
      "Race_api\n",
      "xgboost Model Build progress: |██████████████████████████████████████████████████| (done) 100%\n",
      "xgboost prediction progress: |███████████████████████████████████████████████████| (done) 100%\n",
      "491 2595\n",
      "0.18921001926782274 0.013722752800076149\n",
      "xgboost prediction progress: |███████████████████████████████████████████████████| (done) 100%\n",
      "47 286\n",
      "0.16433566433566432 0.013611269750618694\n",
      "age_cuts_flag\n",
      "xgboost Model Build progress: |██████████████████████████████████████████████████| (done) 100%\n",
      "xgboost prediction progress: |███████████████████████████████████████████████████| (done) 100%\n",
      "13090 18931\n",
      "0.6914584543869843 0.10010999354845533\n",
      "xgboost prediction progress: |███████████████████████████████████████████████████| (done) 100%\n",
      "1458 2142\n",
      "0.680672268907563 0.10194174757281553\n",
      "Gender_flag\n",
      "xgboost Model Build progress: |██████████████████████████████████████████████████| (done) 100%\n",
      "xgboost prediction progress: |███████████████████████████████████████████████████| (done) 100%\n",
      "45797 83534\n",
      "0.5482438288601049 0.4417404363782509\n",
      "xgboost prediction progress: |███████████████████████████████████████████████████| (done) 100%\n",
      "4883 9112\n",
      "0.5358867427568043 0.4336569579288026\n",
      "CPU times: user 25.3 s, sys: 1.63 s, total: 26.9 s\n",
      "Wall time: 1h 20min 4s\n"
     ]
    }
   ],
   "source": [
    "%%time\n",
    "#dep_var = \"Race_black\"\n",
    "data_recall = pd.DataFrame()\n",
    "for dep_var in ['Race_black','Race_hispanic','Race_api','age_cuts_flag','Gender_flag']:\n",
    "    print(dep_var)\n",
    "\n",
    "    xgbm_FL = H2OXGBoostEstimator(\n",
    "        ntrees=2000,    learn_rate=0.01,\n",
    "        max_depth=3,    model_id=dep_var,\n",
    "        distribution = \"bernoulli\",    seed=42,\n",
    "        nfolds = 0,    ignored_columns = unique_cols)\n",
    "    model_cols = unique_cols + [dep_var]+ req_cols\n",
    "    ttd_train_h2o[dep_var] = ttd_train_h2o[dep_var].asfactor()\n",
    "    xgbm_FL.train(y=dep_var, training_frame=ttd_train_h2o[model_cols])\n",
    "    xgbm_FL.download_mojo(path = path_to_save+dep_var+\".zip\")\n",
    "    recall,dep_flag_rate = recall_cal(ttd_train_h2o,TTD_train,\"Train\",dep_var)\n",
    "    print(recall, dep_flag_rate)\n",
    "    recall1,dep_flag_rate1 = recall_cal(ttd_test_h2o,TTD_test,\"Test\",dep_var)\n",
    "    print(recall1,dep_flag_rate1)\n",
    "    var_imp = xgbm_FL._model_json['output']['variable_importances'].as_data_frame()\n",
    "    var_imp['Var_unique'] = var_imp['variable'].str.split('.', expand=True)[0]\n",
    "    var_imp.to_csv(path_to_save+dep_var +\"_var_im.csv\")\n",
    "    df = pd.DataFrame([[dep_var,recall,recall1,dep_flag_rate,dep_flag_rate1]], columns=['Dep', 'recall',\"test_recall\",\"dep_flag_rate\",\"dep_flag_rate1\"])\n",
    "    data_recall = pd.concat([data_recall, df])#data_recall.append(df)\n",
    "    data_recall.to_csv(path_to_save +\"recall.csv\")"
   ]
  },
  {
   "cell_type": "code",
   "execution_count": 36,
   "id": "33bc9d28-4e24-45c7-8e52-c3e278df57a7",
   "metadata": {
    "tags": []
   },
   "outputs": [
    {
     "data": {
      "text/html": [
       "<div>\n",
       "<style scoped>\n",
       "    .dataframe tbody tr th:only-of-type {\n",
       "        vertical-align: middle;\n",
       "    }\n",
       "\n",
       "    .dataframe tbody tr th {\n",
       "        vertical-align: top;\n",
       "    }\n",
       "\n",
       "    .dataframe thead th {\n",
       "        text-align: right;\n",
       "    }\n",
       "</style>\n",
       "<table border=\"1\" class=\"dataframe\">\n",
       "  <thead>\n",
       "    <tr style=\"text-align: right;\">\n",
       "      <th></th>\n",
       "      <th>Dep</th>\n",
       "      <th>recall</th>\n",
       "      <th>test_recall</th>\n",
       "      <th>dep_flag_rate</th>\n",
       "      <th>dep_flag_rate1</th>\n",
       "    </tr>\n",
       "  </thead>\n",
       "  <tbody>\n",
       "    <tr>\n",
       "      <th>0</th>\n",
       "      <td>Gender_flag</td>\n",
       "      <td>0.548244</td>\n",
       "      <td>0.535887</td>\n",
       "      <td>0.44174</td>\n",
       "      <td>0.433657</td>\n",
       "    </tr>\n",
       "  </tbody>\n",
       "</table>\n",
       "</div>"
      ],
      "text/plain": [
       "           Dep    recall  test_recall  dep_flag_rate  dep_flag_rate1\n",
       "0  Gender_flag  0.548244     0.535887        0.44174        0.433657"
      ]
     },
     "execution_count": 36,
     "metadata": {},
     "output_type": "execute_result"
    }
   ],
   "source": [
    "df"
   ]
  },
  {
   "cell_type": "code",
   "execution_count": 37,
   "id": "b411f071-5b05-480f-87c6-cb28b17ffbd1",
   "metadata": {
    "tags": []
   },
   "outputs": [
    {
     "data": {
      "text/html": [
       "<div>\n",
       "<style scoped>\n",
       "    .dataframe tbody tr th:only-of-type {\n",
       "        vertical-align: middle;\n",
       "    }\n",
       "\n",
       "    .dataframe tbody tr th {\n",
       "        vertical-align: top;\n",
       "    }\n",
       "\n",
       "    .dataframe thead th {\n",
       "        text-align: right;\n",
       "    }\n",
       "</style>\n",
       "<table border=\"1\" class=\"dataframe\">\n",
       "  <thead>\n",
       "    <tr style=\"text-align: right;\">\n",
       "      <th></th>\n",
       "      <th>Dep</th>\n",
       "      <th>recall</th>\n",
       "      <th>test_recall</th>\n",
       "      <th>dep_flag_rate</th>\n",
       "      <th>dep_flag_rate1</th>\n",
       "    </tr>\n",
       "  </thead>\n",
       "  <tbody>\n",
       "    <tr>\n",
       "      <th>0</th>\n",
       "      <td>Race_black</td>\n",
       "      <td>0.432572</td>\n",
       "      <td>0.425319</td>\n",
       "      <td>0.120660</td>\n",
       "      <td>0.119170</td>\n",
       "    </tr>\n",
       "    <tr>\n",
       "      <th>0</th>\n",
       "      <td>Race_hispanic</td>\n",
       "      <td>0.370874</td>\n",
       "      <td>0.358912</td>\n",
       "      <td>0.099169</td>\n",
       "      <td>0.097992</td>\n",
       "    </tr>\n",
       "    <tr>\n",
       "      <th>0</th>\n",
       "      <td>Race_api</td>\n",
       "      <td>0.189210</td>\n",
       "      <td>0.164336</td>\n",
       "      <td>0.013723</td>\n",
       "      <td>0.013611</td>\n",
       "    </tr>\n",
       "    <tr>\n",
       "      <th>0</th>\n",
       "      <td>age_cuts_flag</td>\n",
       "      <td>0.691458</td>\n",
       "      <td>0.680672</td>\n",
       "      <td>0.100110</td>\n",
       "      <td>0.101942</td>\n",
       "    </tr>\n",
       "    <tr>\n",
       "      <th>0</th>\n",
       "      <td>Gender_flag</td>\n",
       "      <td>0.548244</td>\n",
       "      <td>0.535887</td>\n",
       "      <td>0.441740</td>\n",
       "      <td>0.433657</td>\n",
       "    </tr>\n",
       "  </tbody>\n",
       "</table>\n",
       "</div>"
      ],
      "text/plain": [
       "             Dep    recall  test_recall  dep_flag_rate  dep_flag_rate1\n",
       "0     Race_black  0.432572     0.425319       0.120660        0.119170\n",
       "0  Race_hispanic  0.370874     0.358912       0.099169        0.097992\n",
       "0       Race_api  0.189210     0.164336       0.013723        0.013611\n",
       "0  age_cuts_flag  0.691458     0.680672       0.100110        0.101942\n",
       "0    Gender_flag  0.548244     0.535887       0.441740        0.433657"
      ]
     },
     "execution_count": 37,
     "metadata": {},
     "output_type": "execute_result"
    }
   ],
   "source": [
    "data_recall"
   ]
  },
  {
   "cell_type": "code",
   "execution_count": 38,
   "id": "d0a083d8",
   "metadata": {
    "tags": []
   },
   "outputs": [],
   "source": [
    "# predict = xgbm_black.predict(ttd_test_h2o)\n",
    "# p =predict.as_data_frame()\n",
    "# dd = TTD_test.loc[:,unique_cols + [dep_var]]\n",
    "# dd = pd.DataFrame(dd)\n",
    "# dd = dd.reset_index()\n",
    "# dd['RECWGT'] = 1\n",
    "# dd['conwt'] = 1\n",
    "# pred = pd.concat([dd.loc[:,(dep_var,\"RECWGT\",\"conwt\")],p],axis=1)\n",
    "# print(pred[\"RECWGT\"].sum(),((pred[\"RECWGT\"]*pred[dep_var]).sum()),pred[\"RECWGT\"].max())\n",
    "# dep_flag_rate = (pred[\"RECWGT\"]*pred[dep_var]).sum()/pred[\"RECWGT\"].sum()\n",
    "# pred = pred.sort_values(by=[\"p1\"],ascending=False).reset_index()\n",
    "# pred[\"cum_wgt\"] = pred[\"RECWGT\"].cumsum()\n",
    "# pred[\"cum_wgt_nor\"] = pred[\"cum_wgt\"]/pred[\"RECWGT\"].sum()\n",
    "# pred[\"scorecut\"] = np.where(pred[\"cum_wgt_nor\"]<=dep_flag_rate,1,0)\n",
    "# pred[\"TP\"] = np.where((pred[\"scorecut\"]==1) & (pred[dep_var]==1),1,0)\n",
    "# recall_test = pred[\"TP\"].sum()/pred[dep_var].sum()\n",
    "# print(recall_test) "
   ]
  },
  {
   "cell_type": "code",
   "execution_count": 39,
   "id": "72963ae2",
   "metadata": {
    "tags": []
   },
   "outputs": [],
   "source": [
    "# var_imp = xgbm_black._model_json['output']['variable_importances'].as_data_frame()\n",
    "# var_imp['Var_unique'] = var_imp['variable'].str.split('.', expand=True)[0]\n",
    "# var_imp.head(2)"
   ]
  },
  {
   "cell_type": "code",
   "execution_count": 40,
   "id": "c195300d",
   "metadata": {
    "tags": []
   },
   "outputs": [],
   "source": [
    "# var_imp.to_csv(path_to_save+dep_var +\"_var_im.csv\")"
   ]
  },
  {
   "cell_type": "code",
   "execution_count": 41,
   "id": "a99bd66a-5dd6-438f-8ac3-e5aa5aacd736",
   "metadata": {
    "tags": []
   },
   "outputs": [
    {
     "data": {
      "text/html": [
       "<div>\n",
       "<style scoped>\n",
       "    .dataframe tbody tr th:only-of-type {\n",
       "        vertical-align: middle;\n",
       "    }\n",
       "\n",
       "    .dataframe tbody tr th {\n",
       "        vertical-align: top;\n",
       "    }\n",
       "\n",
       "    .dataframe thead th {\n",
       "        text-align: right;\n",
       "    }\n",
       "</style>\n",
       "<table border=\"1\" class=\"dataframe\">\n",
       "  <thead>\n",
       "    <tr style=\"text-align: right;\">\n",
       "      <th></th>\n",
       "      <th>Unnamed: 0</th>\n",
       "      <th>Dep</th>\n",
       "      <th>recall</th>\n",
       "      <th>test_recall</th>\n",
       "      <th>dep_flag_rate</th>\n",
       "      <th>dep_flag_rate1</th>\n",
       "    </tr>\n",
       "  </thead>\n",
       "  <tbody>\n",
       "    <tr>\n",
       "      <th>0</th>\n",
       "      <td>0</td>\n",
       "      <td>Race_black</td>\n",
       "      <td>0.432572</td>\n",
       "      <td>0.425319</td>\n",
       "      <td>0.120660</td>\n",
       "      <td>0.119170</td>\n",
       "    </tr>\n",
       "    <tr>\n",
       "      <th>1</th>\n",
       "      <td>0</td>\n",
       "      <td>Race_hispanic</td>\n",
       "      <td>0.370874</td>\n",
       "      <td>0.358912</td>\n",
       "      <td>0.099169</td>\n",
       "      <td>0.097992</td>\n",
       "    </tr>\n",
       "    <tr>\n",
       "      <th>2</th>\n",
       "      <td>0</td>\n",
       "      <td>Race_api</td>\n",
       "      <td>0.189210</td>\n",
       "      <td>0.164336</td>\n",
       "      <td>0.013723</td>\n",
       "      <td>0.013611</td>\n",
       "    </tr>\n",
       "    <tr>\n",
       "      <th>3</th>\n",
       "      <td>0</td>\n",
       "      <td>age_cuts_flag</td>\n",
       "      <td>0.691458</td>\n",
       "      <td>0.680672</td>\n",
       "      <td>0.100110</td>\n",
       "      <td>0.101942</td>\n",
       "    </tr>\n",
       "    <tr>\n",
       "      <th>4</th>\n",
       "      <td>0</td>\n",
       "      <td>Gender_flag</td>\n",
       "      <td>0.548244</td>\n",
       "      <td>0.535887</td>\n",
       "      <td>0.441740</td>\n",
       "      <td>0.433657</td>\n",
       "    </tr>\n",
       "  </tbody>\n",
       "</table>\n",
       "</div>"
      ],
      "text/plain": [
       "   Unnamed: 0            Dep    recall  test_recall  dep_flag_rate  \\\n",
       "0           0     Race_black  0.432572     0.425319       0.120660   \n",
       "1           0  Race_hispanic  0.370874     0.358912       0.099169   \n",
       "2           0       Race_api  0.189210     0.164336       0.013723   \n",
       "3           0  age_cuts_flag  0.691458     0.680672       0.100110   \n",
       "4           0    Gender_flag  0.548244     0.535887       0.441740   \n",
       "\n",
       "   dep_flag_rate1  \n",
       "0        0.119170  \n",
       "1        0.097992  \n",
       "2        0.013611  \n",
       "3        0.101942  \n",
       "4        0.433657  "
      ]
     },
     "execution_count": 41,
     "metadata": {},
     "output_type": "execute_result"
    }
   ],
   "source": [
    "data_recall= pd.read_csv(path_to_save +\"recall.csv\")\n",
    "data_recall"
   ]
  },
  {
   "cell_type": "code",
   "execution_count": null,
   "id": "1a26da62-acb3-4988-af74-7940d162194e",
   "metadata": {},
   "outputs": [],
   "source": []
  },
  {
   "cell_type": "code",
   "execution_count": null,
   "id": "60da4150-899c-481e-9026-a171df10a282",
   "metadata": {},
   "outputs": [],
   "source": []
  },
  {
   "cell_type": "code",
   "execution_count": null,
   "id": "dd621de7-7d26-4bf5-82c5-5787c422709f",
   "metadata": {},
   "outputs": [],
   "source": []
  },
  {
   "cell_type": "code",
   "execution_count": null,
   "id": "ae05184d-d8b7-4c81-8782-e8af73e0f8ad",
   "metadata": {},
   "outputs": [],
   "source": []
  },
  {
   "cell_type": "code",
   "execution_count": null,
   "id": "8e5a8dfe",
   "metadata": {
    "tags": []
   },
   "outputs": [
    {
     "name": "stdout",
     "output_type": "stream",
     "text": [
      "Gender_flag\n",
      "xgboost Model Build progress: |██████████████████████████████████████████████████| (done) 100%\n",
      "xgboost prediction progress: |███████████████████████████████████████████████████| (done) 100%\n",
      "117041 234238\n",
      "0.4996670053535293 0.3798291856726118\n",
      "xgboost prediction progress: |███████████████████████████████████████████████████| (done) 100%\n",
      "13122 26023\n",
      "0.5042462437074895 0.3797758384168588\n",
      "CPU times: user 20.8 s, sys: 1.14 s, total: 21.9 s\n",
      "Wall time: 1h 3min 16s\n"
     ]
    }
   ],
   "source": [
    "%%time\n",
    "#dep_var = \"Race_black\"\n",
    "# data_recall = pd.DataFrame()\n",
    "for dep_var in ['Gender_flag']:#['Race_black','Race_hispanic','Race_api','age_cuts_flag','Gender_flag']:\n",
    "    print(dep_var)\n",
    "\n",
    "    xgbm_FL = H2OXGBoostEstimator(\n",
    "        ntrees=2000,    learn_rate=0.01,\n",
    "        max_depth=3,    model_id=dep_var,\n",
    "        distribution = \"bernoulli\",    seed=42,\n",
    "        nfolds = 0,    ignored_columns = unique_cols)\n",
    "    model_cols = unique_cols + [dep_var]+ req_cols\n",
    "    ttd_train_h2o[dep_var] = ttd_train_h2o[dep_var].asfactor()\n",
    "    xgbm_FL.train(y=dep_var, training_frame=ttd_train_h2o[model_cols])\n",
    "    xgbm_FL.download_mojo(path = path_to_save+dep_var+\".zip\")\n",
    "    recall,dep_flag_rate = recall_cal(ttd_train_h2o,TTD_train,\"Train\",dep_var)\n",
    "    print(recall, dep_flag_rate)\n",
    "    recall1,dep_flag_rate1 = recall_cal(ttd_test_h2o,TTD_test,\"Test\",dep_var)\n",
    "    print(recall1,dep_flag_rate1)\n",
    "    var_imp = xgbm_FL._model_json['output']['variable_importances'].as_data_frame()\n",
    "    var_imp['Var_unique'] = var_imp['variable'].str.split('.', expand=True)[0]\n",
    "    var_imp.to_csv(path_to_save+dep_var +\"_var_im.csv\")\n",
    "    df = pd.DataFrame([[dep_var,recall,recall1,dep_flag_rate,dep_flag_rate1]], columns=['Dep', 'recall',\"test_recall\",\"dep_flag_rate\",\"dep_flag_rate1\"])\n",
    "    data_recall = pd.concat([data_recall, df])#data_recall.append(df)\n",
    "    data_recall.to_csv(path_to_save +\"recall.csv\")"
   ]
  },
  {
   "cell_type": "code",
   "execution_count": 25,
   "id": "ee1bf963-ea1e-44da-8514-d01cc7d286c6",
   "metadata": {
    "tags": []
   },
   "outputs": [
    {
     "data": {
      "text/html": [
       "<div>\n",
       "<style scoped>\n",
       "    .dataframe tbody tr th:only-of-type {\n",
       "        vertical-align: middle;\n",
       "    }\n",
       "\n",
       "    .dataframe tbody tr th {\n",
       "        vertical-align: top;\n",
       "    }\n",
       "\n",
       "    .dataframe thead th {\n",
       "        text-align: right;\n",
       "    }\n",
       "</style>\n",
       "<table border=\"1\" class=\"dataframe\">\n",
       "  <thead>\n",
       "    <tr style=\"text-align: right;\">\n",
       "      <th></th>\n",
       "      <th>Unnamed: 0</th>\n",
       "      <th>Dep</th>\n",
       "      <th>recall</th>\n",
       "      <th>test_recall</th>\n",
       "      <th>dep_flag_rate</th>\n",
       "      <th>dep_flag_rate1</th>\n",
       "    </tr>\n",
       "  </thead>\n",
       "  <tbody>\n",
       "    <tr>\n",
       "      <th>0</th>\n",
       "      <td>0.0</td>\n",
       "      <td>Race_black</td>\n",
       "      <td>0.362138</td>\n",
       "      <td>0.366661</td>\n",
       "      <td>0.088963</td>\n",
       "      <td>0.088599</td>\n",
       "    </tr>\n",
       "    <tr>\n",
       "      <th>1</th>\n",
       "      <td>0.0</td>\n",
       "      <td>Race_hispanic</td>\n",
       "      <td>0.317410</td>\n",
       "      <td>0.306727</td>\n",
       "      <td>0.080314</td>\n",
       "      <td>0.080266</td>\n",
       "    </tr>\n",
       "    <tr>\n",
       "      <th>2</th>\n",
       "      <td>0.0</td>\n",
       "      <td>Race_api</td>\n",
       "      <td>0.153269</td>\n",
       "      <td>0.150715</td>\n",
       "      <td>0.012749</td>\n",
       "      <td>0.013266</td>\n",
       "    </tr>\n",
       "    <tr>\n",
       "      <th>3</th>\n",
       "      <td>0.0</td>\n",
       "      <td>age_cuts_flag</td>\n",
       "      <td>0.689225</td>\n",
       "      <td>0.687966</td>\n",
       "      <td>0.109834</td>\n",
       "      <td>0.111453</td>\n",
       "    </tr>\n",
       "    <tr>\n",
       "      <th>0</th>\n",
       "      <td>NaN</td>\n",
       "      <td>Gender_flag</td>\n",
       "      <td>0.499667</td>\n",
       "      <td>0.504246</td>\n",
       "      <td>0.379829</td>\n",
       "      <td>0.379776</td>\n",
       "    </tr>\n",
       "  </tbody>\n",
       "</table>\n",
       "</div>"
      ],
      "text/plain": [
       "   Unnamed: 0            Dep    recall  test_recall  dep_flag_rate  \\\n",
       "0         0.0     Race_black  0.362138     0.366661       0.088963   \n",
       "1         0.0  Race_hispanic  0.317410     0.306727       0.080314   \n",
       "2         0.0       Race_api  0.153269     0.150715       0.012749   \n",
       "3         0.0  age_cuts_flag  0.689225     0.687966       0.109834   \n",
       "0         NaN    Gender_flag  0.499667     0.504246       0.379829   \n",
       "\n",
       "   dep_flag_rate1  \n",
       "0        0.088599  \n",
       "1        0.080266  \n",
       "2        0.013266  \n",
       "3        0.111453  \n",
       "0        0.379776  "
      ]
     },
     "execution_count": 25,
     "metadata": {},
     "output_type": "execute_result"
    }
   ],
   "source": [
    "data_recall"
   ]
  },
  {
   "cell_type": "code",
   "execution_count": 32,
   "id": "efea6d45-33d6-4836-98f4-2b75fd0160be",
   "metadata": {
    "tags": []
   },
   "outputs": [
    {
     "data": {
      "text/plain": [
       "(60934, 685215)"
      ]
     },
     "execution_count": 32,
     "metadata": {},
     "output_type": "execute_result"
    }
   ],
   "source": [
    "TTD['Race_black'].sum(), len(TTD)"
   ]
  },
  {
   "cell_type": "code",
   "execution_count": 33,
   "id": "c65a4ccc-cef3-4ba3-aa57-e6b832f70c0b",
   "metadata": {
    "tags": []
   },
   "outputs": [
    {
     "data": {
      "text/plain": [
       "(55029, 685215)"
      ]
     },
     "execution_count": 33,
     "metadata": {},
     "output_type": "execute_result"
    }
   ],
   "source": [
    "TTD['Race_hispanic'].sum(), len(TTD)"
   ]
  },
  {
   "cell_type": "code",
   "execution_count": 34,
   "id": "8eca8969-f419-4aca-8ad8-164e3ff7d20b",
   "metadata": {
    "tags": []
   },
   "outputs": [
    {
     "data": {
      "text/plain": [
       "(8771, 685215)"
      ]
     },
     "execution_count": 34,
     "metadata": {},
     "output_type": "execute_result"
    }
   ],
   "source": [
    "TTD['Race_api'].sum(), len(TTD)"
   ]
  },
  {
   "cell_type": "code",
   "execution_count": 35,
   "id": "0700a7fa-6aa3-44dd-85cc-c0c2996b2dc3",
   "metadata": {
    "tags": []
   },
   "outputs": [
    {
     "data": {
      "text/plain": [
       "(75371, 685215)"
      ]
     },
     "execution_count": 35,
     "metadata": {},
     "output_type": "execute_result"
    }
   ],
   "source": [
    "TTD['age_cuts_flag'].sum(), len(TTD)"
   ]
  },
  {
   "cell_type": "code",
   "execution_count": 36,
   "id": "dd2fc670-4a73-4ad9-96e0-aa43e5cca556",
   "metadata": {
    "tags": []
   },
   "outputs": [
    {
     "data": {
      "text/plain": [
       "(260261, 685215)"
      ]
     },
     "execution_count": 36,
     "metadata": {},
     "output_type": "execute_result"
    }
   ],
   "source": [
    "TTD['Gender_flag'].sum(), len(TTD)"
   ]
  },
  {
   "cell_type": "code",
   "execution_count": 7,
   "id": "cfd0ac69-9af7-43a2-9b75-daec47f85b79",
   "metadata": {
    "tags": []
   },
   "outputs": [
    {
     "data": {
      "text/plain": [
       "((146855, 145), (62938, 145), (37121, 144))"
      ]
     },
     "execution_count": 7,
     "metadata": {},
     "output_type": "execute_result"
    }
   ],
   "source": [
    "train= pd.read_csv('/root/Unified_LN_V2/LN_Auto_V2/Model_Data/Without_LDA_Auto_LN_V2/Mono_Data/3_Auto_Train_Binned_Data_260324.csv')\n",
    "test= pd.read_csv('/root/Unified_LN_V2/LN_Auto_V2/Model_Data/Without_LDA_Auto_LN_V2/Mono_Data/3_Auto_Test_Binned_Data_260324.csv')\n",
    "oot= pd.read_csv('/root/Unified_LN_V2/LN_Auto_V2/Model_Data/Without_LDA_Auto_LN_V2/Mono_Data/3_Auto_Oot_Binned_Data_260324.csv')\n",
    "ttd= pd.read_csv('/root/Unified_LN_V2/LN_Auto_V2/Model_Data/Without_LDA_Auto_LN_V2/Mono_Data/3_Auto_Ttd_Binned_Data_260324.csv')\n",
    "train.shape, test.shape, oot.shape"
   ]
  },
  {
   "cell_type": "code",
   "execution_count": 8,
   "id": "99e37189-67b2-4508-b45d-c77deae61ac3",
   "metadata": {
    "tags": []
   },
   "outputs": [
    {
     "data": {
      "text/plain": [
       "(685215, 144)"
      ]
     },
     "execution_count": 8,
     "metadata": {},
     "output_type": "execute_result"
    }
   ],
   "source": [
    "ttd.shape"
   ]
  },
  {
   "cell_type": "code",
   "execution_count": 5,
   "id": "8da6b072-bbfc-4369-b964-85f0318257fb",
   "metadata": {
    "tags": []
   },
   "outputs": [
    {
     "data": {
      "text/plain": [
       "client\n",
       "Arkansas      0\n",
       "Bethpage     84\n",
       "CPM           0\n",
       "GESA          3\n",
       "Guardian    100\n",
       "HFCU          7\n",
       "Hawaii        0\n",
       "NCU           0\n",
       "Numerica      0\n",
       "SECU          0\n",
       "Tower         0\n",
       "Name: fico_pb, dtype: int64"
      ]
     },
     "execution_count": 5,
     "metadata": {},
     "output_type": "execute_result"
    }
   ],
   "source": [
    "train.groupby('client')['fico_pb'].apply(lambda x: x.isnull().sum())"
   ]
  },
  {
   "cell_type": "code",
   "execution_count": 6,
   "id": "44d0ae81-2dab-4f66-a29e-a5ac3b973d81",
   "metadata": {
    "tags": []
   },
   "outputs": [
    {
     "data": {
      "text/plain": [
       "client\n",
       "Arkansas     0\n",
       "Bethpage    30\n",
       "CPM          0\n",
       "GESA         1\n",
       "Guardian    45\n",
       "HFCU         0\n",
       "Hawaii       0\n",
       "NCU          0\n",
       "Numerica     0\n",
       "SECU         0\n",
       "Tower        0\n",
       "Name: fico_pb, dtype: int64"
      ]
     },
     "execution_count": 6,
     "metadata": {},
     "output_type": "execute_result"
    }
   ],
   "source": [
    "test.groupby('client')['fico_pb'].apply(lambda x: x.isnull().sum())"
   ]
  },
  {
   "cell_type": "code",
   "execution_count": 7,
   "id": "81329608-3b4f-42bd-8a4f-e38afa36d265",
   "metadata": {
    "tags": []
   },
   "outputs": [
    {
     "data": {
      "text/plain": [
       "client\n",
       "Arkansas     0\n",
       "Bethpage    18\n",
       "CPM          0\n",
       "GESA         2\n",
       "Guardian    21\n",
       "HFCU         0\n",
       "Hawaii       0\n",
       "NCU          0\n",
       "Numerica     0\n",
       "SECU         0\n",
       "Tower        0\n",
       "Name: fico_pb, dtype: int64"
      ]
     },
     "execution_count": 7,
     "metadata": {},
     "output_type": "execute_result"
    }
   ],
   "source": [
    "oot.groupby('client')['fico_pb'].apply(lambda x: x.isnull().sum())"
   ]
  },
  {
   "cell_type": "code",
   "execution_count": 10,
   "id": "e40e0fbd-67a8-4153-a8c2-a165f114ee11",
   "metadata": {
    "tags": []
   },
   "outputs": [
    {
     "data": {
      "text/plain": [
       "client\n",
       "Arkansas       0\n",
       "Bethpage     972\n",
       "GESA         368\n",
       "Guardian    4606\n",
       "HFCU         178\n",
       "Hawaii         0\n",
       "NCU            0\n",
       "Numerica     102\n",
       "SECU           0\n",
       "Tower          0\n",
       "Name: fico_pb, dtype: int64"
      ]
     },
     "execution_count": 10,
     "metadata": {},
     "output_type": "execute_result"
    }
   ],
   "source": [
    "ttd.groupby('client')['fico_pb'].apply(lambda x: x.isnull().sum())"
   ]
  },
  {
   "cell_type": "code",
   "execution_count": 11,
   "id": "11bff781-9422-4b84-9c3c-b43c7ca5df20",
   "metadata": {
    "tags": []
   },
   "outputs": [
    {
     "data": {
      "text/plain": [
       "client\n",
       "Arkansas      0\n",
       "Bethpage    114\n",
       "GESA          4\n",
       "Guardian    145\n",
       "HFCU          7\n",
       "Hawaii        0\n",
       "NCU           0\n",
       "Numerica      0\n",
       "SECU          0\n",
       "Tower         0\n",
       "Name: fico_pb, dtype: int64"
      ]
     },
     "execution_count": 11,
     "metadata": {},
     "output_type": "execute_result"
    }
   ],
   "source": [
    "ttd[ttd['funded_flag']==1].groupby('client')['fico_pb'].apply(lambda x: x.isnull().sum())"
   ]
  },
  {
   "cell_type": "code",
   "execution_count": 6,
   "id": "ea180500-3d38-44ae-893c-63f60e29a677",
   "metadata": {
    "tags": []
   },
   "outputs": [
    {
     "data": {
      "text/html": [
       "<div>\n",
       "<style scoped>\n",
       "    .dataframe tbody tr th:only-of-type {\n",
       "        vertical-align: middle;\n",
       "    }\n",
       "\n",
       "    .dataframe tbody tr th {\n",
       "        vertical-align: top;\n",
       "    }\n",
       "\n",
       "    .dataframe thead th {\n",
       "        text-align: right;\n",
       "    }\n",
       "</style>\n",
       "<table border=\"1\" class=\"dataframe\">\n",
       "  <thead>\n",
       "    <tr style=\"text-align: right;\">\n",
       "      <th></th>\n",
       "      <th>index</th>\n",
       "      <th>0</th>\n",
       "    </tr>\n",
       "  </thead>\n",
       "  <tbody>\n",
       "    <tr>\n",
       "      <th>0</th>\n",
       "      <td>0</td>\n",
       "      <td>addrinputcountyratio</td>\n",
       "    </tr>\n",
       "    <tr>\n",
       "      <th>1</th>\n",
       "      <td>1</td>\n",
       "      <td>addrinputavmvalue12month</td>\n",
       "    </tr>\n",
       "    <tr>\n",
       "      <th>2</th>\n",
       "      <td>2</td>\n",
       "      <td>addrinputavmvalue60month</td>\n",
       "    </tr>\n",
       "    <tr>\n",
       "      <th>3</th>\n",
       "      <td>3</td>\n",
       "      <td>addrcurrentavmvalue12month</td>\n",
       "    </tr>\n",
       "    <tr>\n",
       "      <th>4</th>\n",
       "      <td>4</td>\n",
       "      <td>addrinputavmvalue</td>\n",
       "    </tr>\n",
       "    <tr>\n",
       "      <th>5</th>\n",
       "      <td>5</td>\n",
       "      <td>sourcevoterregistration</td>\n",
       "    </tr>\n",
       "    <tr>\n",
       "      <th>6</th>\n",
       "      <td>6</td>\n",
       "      <td>addrinputavmratio60monthprior</td>\n",
       "    </tr>\n",
       "    <tr>\n",
       "      <th>7</th>\n",
       "      <td>7</td>\n",
       "      <td>addrcurrentcountyratio</td>\n",
       "    </tr>\n",
       "    <tr>\n",
       "      <th>8</th>\n",
       "      <td>8</td>\n",
       "      <td>addrcurrentphoneservice</td>\n",
       "    </tr>\n",
       "    <tr>\n",
       "      <th>9</th>\n",
       "      <td>9</td>\n",
       "      <td>addrinputsubjectcount</td>\n",
       "    </tr>\n",
       "    <tr>\n",
       "      <th>10</th>\n",
       "      <td>10</td>\n",
       "      <td>proflictypecategory</td>\n",
       "    </tr>\n",
       "    <tr>\n",
       "      <th>11</th>\n",
       "      <td>11</td>\n",
       "      <td>assetpersonal</td>\n",
       "    </tr>\n",
       "    <tr>\n",
       "      <th>12</th>\n",
       "      <td>12</td>\n",
       "      <td>educationevidence</td>\n",
       "    </tr>\n",
       "  </tbody>\n",
       "</table>\n",
       "</div>"
      ],
      "text/plain": [
       "    index                              0\n",
       "0       0           addrinputcountyratio\n",
       "1       1       addrinputavmvalue12month\n",
       "2       2       addrinputavmvalue60month\n",
       "3       3     addrcurrentavmvalue12month\n",
       "4       4              addrinputavmvalue\n",
       "5       5        sourcevoterregistration\n",
       "6       6  addrinputavmratio60monthprior\n",
       "7       7         addrcurrentcountyratio\n",
       "8       8        addrcurrentphoneservice\n",
       "9       9          addrinputsubjectcount\n",
       "10     10            proflictypecategory\n",
       "11     11                  assetpersonal\n",
       "12     12              educationevidence"
      ]
     },
     "execution_count": 6,
     "metadata": {},
     "output_type": "execute_result"
    }
   ],
   "source": [
    "pd.Series(['addrinputcountyratio', \"addrinputavmvalue12month\",\"addrinputavmvalue60month\",\"addrcurrentavmvalue12month\",\"addrinputavmvalue\",\"sourcevoterregistration\",\"addrinputavmratio60monthprior\",\"addrcurrentcountyratio\",\"addrcurrentphoneservice\",\"addrinputsubjectcount\",\"proflictypecategory\",\"assetpersonal\",\"educationevidence\"]).reset_index()"
   ]
  },
  {
   "cell_type": "code",
   "execution_count": null,
   "id": "8b61f369-d779-47fa-9526-fd390390737c",
   "metadata": {},
   "outputs": [],
   "source": []
  }
 ],
 "metadata": {
  "availableInstances": [
   {
    "_defaultOrder": 0,
    "_isFastLaunch": true,
    "category": "General purpose",
    "gpuNum": 0,
    "hideHardwareSpecs": false,
    "memoryGiB": 4,
    "name": "ml.t3.medium",
    "vcpuNum": 2
   },
   {
    "_defaultOrder": 1,
    "_isFastLaunch": false,
    "category": "General purpose",
    "gpuNum": 0,
    "hideHardwareSpecs": false,
    "memoryGiB": 8,
    "name": "ml.t3.large",
    "vcpuNum": 2
   },
   {
    "_defaultOrder": 2,
    "_isFastLaunch": false,
    "category": "General purpose",
    "gpuNum": 0,
    "hideHardwareSpecs": false,
    "memoryGiB": 16,
    "name": "ml.t3.xlarge",
    "vcpuNum": 4
   },
   {
    "_defaultOrder": 3,
    "_isFastLaunch": false,
    "category": "General purpose",
    "gpuNum": 0,
    "hideHardwareSpecs": false,
    "memoryGiB": 32,
    "name": "ml.t3.2xlarge",
    "vcpuNum": 8
   },
   {
    "_defaultOrder": 4,
    "_isFastLaunch": true,
    "category": "General purpose",
    "gpuNum": 0,
    "hideHardwareSpecs": false,
    "memoryGiB": 8,
    "name": "ml.m5.large",
    "vcpuNum": 2
   },
   {
    "_defaultOrder": 5,
    "_isFastLaunch": false,
    "category": "General purpose",
    "gpuNum": 0,
    "hideHardwareSpecs": false,
    "memoryGiB": 16,
    "name": "ml.m5.xlarge",
    "vcpuNum": 4
   },
   {
    "_defaultOrder": 6,
    "_isFastLaunch": false,
    "category": "General purpose",
    "gpuNum": 0,
    "hideHardwareSpecs": false,
    "memoryGiB": 32,
    "name": "ml.m5.2xlarge",
    "vcpuNum": 8
   },
   {
    "_defaultOrder": 7,
    "_isFastLaunch": false,
    "category": "General purpose",
    "gpuNum": 0,
    "hideHardwareSpecs": false,
    "memoryGiB": 64,
    "name": "ml.m5.4xlarge",
    "vcpuNum": 16
   },
   {
    "_defaultOrder": 8,
    "_isFastLaunch": false,
    "category": "General purpose",
    "gpuNum": 0,
    "hideHardwareSpecs": false,
    "memoryGiB": 128,
    "name": "ml.m5.8xlarge",
    "vcpuNum": 32
   },
   {
    "_defaultOrder": 9,
    "_isFastLaunch": false,
    "category": "General purpose",
    "gpuNum": 0,
    "hideHardwareSpecs": false,
    "memoryGiB": 192,
    "name": "ml.m5.12xlarge",
    "vcpuNum": 48
   },
   {
    "_defaultOrder": 10,
    "_isFastLaunch": false,
    "category": "General purpose",
    "gpuNum": 0,
    "hideHardwareSpecs": false,
    "memoryGiB": 256,
    "name": "ml.m5.16xlarge",
    "vcpuNum": 64
   },
   {
    "_defaultOrder": 11,
    "_isFastLaunch": false,
    "category": "General purpose",
    "gpuNum": 0,
    "hideHardwareSpecs": false,
    "memoryGiB": 384,
    "name": "ml.m5.24xlarge",
    "vcpuNum": 96
   },
   {
    "_defaultOrder": 12,
    "_isFastLaunch": false,
    "category": "General purpose",
    "gpuNum": 0,
    "hideHardwareSpecs": false,
    "memoryGiB": 8,
    "name": "ml.m5d.large",
    "vcpuNum": 2
   },
   {
    "_defaultOrder": 13,
    "_isFastLaunch": false,
    "category": "General purpose",
    "gpuNum": 0,
    "hideHardwareSpecs": false,
    "memoryGiB": 16,
    "name": "ml.m5d.xlarge",
    "vcpuNum": 4
   },
   {
    "_defaultOrder": 14,
    "_isFastLaunch": false,
    "category": "General purpose",
    "gpuNum": 0,
    "hideHardwareSpecs": false,
    "memoryGiB": 32,
    "name": "ml.m5d.2xlarge",
    "vcpuNum": 8
   },
   {
    "_defaultOrder": 15,
    "_isFastLaunch": false,
    "category": "General purpose",
    "gpuNum": 0,
    "hideHardwareSpecs": false,
    "memoryGiB": 64,
    "name": "ml.m5d.4xlarge",
    "vcpuNum": 16
   },
   {
    "_defaultOrder": 16,
    "_isFastLaunch": false,
    "category": "General purpose",
    "gpuNum": 0,
    "hideHardwareSpecs": false,
    "memoryGiB": 128,
    "name": "ml.m5d.8xlarge",
    "vcpuNum": 32
   },
   {
    "_defaultOrder": 17,
    "_isFastLaunch": false,
    "category": "General purpose",
    "gpuNum": 0,
    "hideHardwareSpecs": false,
    "memoryGiB": 192,
    "name": "ml.m5d.12xlarge",
    "vcpuNum": 48
   },
   {
    "_defaultOrder": 18,
    "_isFastLaunch": false,
    "category": "General purpose",
    "gpuNum": 0,
    "hideHardwareSpecs": false,
    "memoryGiB": 256,
    "name": "ml.m5d.16xlarge",
    "vcpuNum": 64
   },
   {
    "_defaultOrder": 19,
    "_isFastLaunch": false,
    "category": "General purpose",
    "gpuNum": 0,
    "hideHardwareSpecs": false,
    "memoryGiB": 384,
    "name": "ml.m5d.24xlarge",
    "vcpuNum": 96
   },
   {
    "_defaultOrder": 20,
    "_isFastLaunch": false,
    "category": "General purpose",
    "gpuNum": 0,
    "hideHardwareSpecs": true,
    "memoryGiB": 0,
    "name": "ml.geospatial.interactive",
    "supportedImageNames": [
     "sagemaker-geospatial-v1-0"
    ],
    "vcpuNum": 0
   },
   {
    "_defaultOrder": 21,
    "_isFastLaunch": true,
    "category": "Compute optimized",
    "gpuNum": 0,
    "hideHardwareSpecs": false,
    "memoryGiB": 4,
    "name": "ml.c5.large",
    "vcpuNum": 2
   },
   {
    "_defaultOrder": 22,
    "_isFastLaunch": false,
    "category": "Compute optimized",
    "gpuNum": 0,
    "hideHardwareSpecs": false,
    "memoryGiB": 8,
    "name": "ml.c5.xlarge",
    "vcpuNum": 4
   },
   {
    "_defaultOrder": 23,
    "_isFastLaunch": false,
    "category": "Compute optimized",
    "gpuNum": 0,
    "hideHardwareSpecs": false,
    "memoryGiB": 16,
    "name": "ml.c5.2xlarge",
    "vcpuNum": 8
   },
   {
    "_defaultOrder": 24,
    "_isFastLaunch": false,
    "category": "Compute optimized",
    "gpuNum": 0,
    "hideHardwareSpecs": false,
    "memoryGiB": 32,
    "name": "ml.c5.4xlarge",
    "vcpuNum": 16
   },
   {
    "_defaultOrder": 25,
    "_isFastLaunch": false,
    "category": "Compute optimized",
    "gpuNum": 0,
    "hideHardwareSpecs": false,
    "memoryGiB": 72,
    "name": "ml.c5.9xlarge",
    "vcpuNum": 36
   },
   {
    "_defaultOrder": 26,
    "_isFastLaunch": false,
    "category": "Compute optimized",
    "gpuNum": 0,
    "hideHardwareSpecs": false,
    "memoryGiB": 96,
    "name": "ml.c5.12xlarge",
    "vcpuNum": 48
   },
   {
    "_defaultOrder": 27,
    "_isFastLaunch": false,
    "category": "Compute optimized",
    "gpuNum": 0,
    "hideHardwareSpecs": false,
    "memoryGiB": 144,
    "name": "ml.c5.18xlarge",
    "vcpuNum": 72
   },
   {
    "_defaultOrder": 28,
    "_isFastLaunch": false,
    "category": "Compute optimized",
    "gpuNum": 0,
    "hideHardwareSpecs": false,
    "memoryGiB": 192,
    "name": "ml.c5.24xlarge",
    "vcpuNum": 96
   },
   {
    "_defaultOrder": 29,
    "_isFastLaunch": true,
    "category": "Accelerated computing",
    "gpuNum": 1,
    "hideHardwareSpecs": false,
    "memoryGiB": 16,
    "name": "ml.g4dn.xlarge",
    "vcpuNum": 4
   },
   {
    "_defaultOrder": 30,
    "_isFastLaunch": false,
    "category": "Accelerated computing",
    "gpuNum": 1,
    "hideHardwareSpecs": false,
    "memoryGiB": 32,
    "name": "ml.g4dn.2xlarge",
    "vcpuNum": 8
   },
   {
    "_defaultOrder": 31,
    "_isFastLaunch": false,
    "category": "Accelerated computing",
    "gpuNum": 1,
    "hideHardwareSpecs": false,
    "memoryGiB": 64,
    "name": "ml.g4dn.4xlarge",
    "vcpuNum": 16
   },
   {
    "_defaultOrder": 32,
    "_isFastLaunch": false,
    "category": "Accelerated computing",
    "gpuNum": 1,
    "hideHardwareSpecs": false,
    "memoryGiB": 128,
    "name": "ml.g4dn.8xlarge",
    "vcpuNum": 32
   },
   {
    "_defaultOrder": 33,
    "_isFastLaunch": false,
    "category": "Accelerated computing",
    "gpuNum": 4,
    "hideHardwareSpecs": false,
    "memoryGiB": 192,
    "name": "ml.g4dn.12xlarge",
    "vcpuNum": 48
   },
   {
    "_defaultOrder": 34,
    "_isFastLaunch": false,
    "category": "Accelerated computing",
    "gpuNum": 1,
    "hideHardwareSpecs": false,
    "memoryGiB": 256,
    "name": "ml.g4dn.16xlarge",
    "vcpuNum": 64
   },
   {
    "_defaultOrder": 35,
    "_isFastLaunch": false,
    "category": "Accelerated computing",
    "gpuNum": 1,
    "hideHardwareSpecs": false,
    "memoryGiB": 61,
    "name": "ml.p3.2xlarge",
    "vcpuNum": 8
   },
   {
    "_defaultOrder": 36,
    "_isFastLaunch": false,
    "category": "Accelerated computing",
    "gpuNum": 4,
    "hideHardwareSpecs": false,
    "memoryGiB": 244,
    "name": "ml.p3.8xlarge",
    "vcpuNum": 32
   },
   {
    "_defaultOrder": 37,
    "_isFastLaunch": false,
    "category": "Accelerated computing",
    "gpuNum": 8,
    "hideHardwareSpecs": false,
    "memoryGiB": 488,
    "name": "ml.p3.16xlarge",
    "vcpuNum": 64
   },
   {
    "_defaultOrder": 38,
    "_isFastLaunch": false,
    "category": "Accelerated computing",
    "gpuNum": 8,
    "hideHardwareSpecs": false,
    "memoryGiB": 768,
    "name": "ml.p3dn.24xlarge",
    "vcpuNum": 96
   },
   {
    "_defaultOrder": 39,
    "_isFastLaunch": false,
    "category": "Memory Optimized",
    "gpuNum": 0,
    "hideHardwareSpecs": false,
    "memoryGiB": 16,
    "name": "ml.r5.large",
    "vcpuNum": 2
   },
   {
    "_defaultOrder": 40,
    "_isFastLaunch": false,
    "category": "Memory Optimized",
    "gpuNum": 0,
    "hideHardwareSpecs": false,
    "memoryGiB": 32,
    "name": "ml.r5.xlarge",
    "vcpuNum": 4
   },
   {
    "_defaultOrder": 41,
    "_isFastLaunch": false,
    "category": "Memory Optimized",
    "gpuNum": 0,
    "hideHardwareSpecs": false,
    "memoryGiB": 64,
    "name": "ml.r5.2xlarge",
    "vcpuNum": 8
   },
   {
    "_defaultOrder": 42,
    "_isFastLaunch": false,
    "category": "Memory Optimized",
    "gpuNum": 0,
    "hideHardwareSpecs": false,
    "memoryGiB": 128,
    "name": "ml.r5.4xlarge",
    "vcpuNum": 16
   },
   {
    "_defaultOrder": 43,
    "_isFastLaunch": false,
    "category": "Memory Optimized",
    "gpuNum": 0,
    "hideHardwareSpecs": false,
    "memoryGiB": 256,
    "name": "ml.r5.8xlarge",
    "vcpuNum": 32
   },
   {
    "_defaultOrder": 44,
    "_isFastLaunch": false,
    "category": "Memory Optimized",
    "gpuNum": 0,
    "hideHardwareSpecs": false,
    "memoryGiB": 384,
    "name": "ml.r5.12xlarge",
    "vcpuNum": 48
   },
   {
    "_defaultOrder": 45,
    "_isFastLaunch": false,
    "category": "Memory Optimized",
    "gpuNum": 0,
    "hideHardwareSpecs": false,
    "memoryGiB": 512,
    "name": "ml.r5.16xlarge",
    "vcpuNum": 64
   },
   {
    "_defaultOrder": 46,
    "_isFastLaunch": false,
    "category": "Memory Optimized",
    "gpuNum": 0,
    "hideHardwareSpecs": false,
    "memoryGiB": 768,
    "name": "ml.r5.24xlarge",
    "vcpuNum": 96
   },
   {
    "_defaultOrder": 47,
    "_isFastLaunch": false,
    "category": "Accelerated computing",
    "gpuNum": 1,
    "hideHardwareSpecs": false,
    "memoryGiB": 16,
    "name": "ml.g5.xlarge",
    "vcpuNum": 4
   },
   {
    "_defaultOrder": 48,
    "_isFastLaunch": false,
    "category": "Accelerated computing",
    "gpuNum": 1,
    "hideHardwareSpecs": false,
    "memoryGiB": 32,
    "name": "ml.g5.2xlarge",
    "vcpuNum": 8
   },
   {
    "_defaultOrder": 49,
    "_isFastLaunch": false,
    "category": "Accelerated computing",
    "gpuNum": 1,
    "hideHardwareSpecs": false,
    "memoryGiB": 64,
    "name": "ml.g5.4xlarge",
    "vcpuNum": 16
   },
   {
    "_defaultOrder": 50,
    "_isFastLaunch": false,
    "category": "Accelerated computing",
    "gpuNum": 1,
    "hideHardwareSpecs": false,
    "memoryGiB": 128,
    "name": "ml.g5.8xlarge",
    "vcpuNum": 32
   },
   {
    "_defaultOrder": 51,
    "_isFastLaunch": false,
    "category": "Accelerated computing",
    "gpuNum": 1,
    "hideHardwareSpecs": false,
    "memoryGiB": 256,
    "name": "ml.g5.16xlarge",
    "vcpuNum": 64
   },
   {
    "_defaultOrder": 52,
    "_isFastLaunch": false,
    "category": "Accelerated computing",
    "gpuNum": 4,
    "hideHardwareSpecs": false,
    "memoryGiB": 192,
    "name": "ml.g5.12xlarge",
    "vcpuNum": 48
   },
   {
    "_defaultOrder": 53,
    "_isFastLaunch": false,
    "category": "Accelerated computing",
    "gpuNum": 4,
    "hideHardwareSpecs": false,
    "memoryGiB": 384,
    "name": "ml.g5.24xlarge",
    "vcpuNum": 96
   },
   {
    "_defaultOrder": 54,
    "_isFastLaunch": false,
    "category": "Accelerated computing",
    "gpuNum": 8,
    "hideHardwareSpecs": false,
    "memoryGiB": 768,
    "name": "ml.g5.48xlarge",
    "vcpuNum": 192
   },
   {
    "_defaultOrder": 55,
    "_isFastLaunch": false,
    "category": "Accelerated computing",
    "gpuNum": 8,
    "hideHardwareSpecs": false,
    "memoryGiB": 1152,
    "name": "ml.p4d.24xlarge",
    "vcpuNum": 96
   },
   {
    "_defaultOrder": 56,
    "_isFastLaunch": false,
    "category": "Accelerated computing",
    "gpuNum": 8,
    "hideHardwareSpecs": false,
    "memoryGiB": 1152,
    "name": "ml.p4de.24xlarge",
    "vcpuNum": 96
   },
   {
    "_defaultOrder": 57,
    "_isFastLaunch": false,
    "category": "Accelerated computing",
    "gpuNum": 0,
    "hideHardwareSpecs": false,
    "memoryGiB": 32,
    "name": "ml.trn1.2xlarge",
    "vcpuNum": 8
   },
   {
    "_defaultOrder": 58,
    "_isFastLaunch": false,
    "category": "Accelerated computing",
    "gpuNum": 0,
    "hideHardwareSpecs": false,
    "memoryGiB": 512,
    "name": "ml.trn1.32xlarge",
    "vcpuNum": 128
   },
   {
    "_defaultOrder": 59,
    "_isFastLaunch": false,
    "category": "Accelerated computing",
    "gpuNum": 0,
    "hideHardwareSpecs": false,
    "memoryGiB": 512,
    "name": "ml.trn1n.32xlarge",
    "vcpuNum": 128
   }
  ],
  "kernelspec": {
   "display_name": "Python 3 (Data Science 3.0)",
   "language": "python",
   "name": "python3__SAGEMAKER_INTERNAL__arn:aws:sagemaker:us-west-2:236514542706:image/sagemaker-data-science-310-v1"
  },
  "language_info": {
   "codemirror_mode": {
    "name": "ipython",
    "version": 3
   },
   "file_extension": ".py",
   "mimetype": "text/x-python",
   "name": "python",
   "nbconvert_exporter": "python",
   "pygments_lexer": "ipython3",
   "version": "3.10.6"
  },
  "lcc_arn": "arn:aws:sagemaker:us-west-2:087022704862:studio-lifecycle-config/install-h2o-java-new"
 },
 "nbformat": 4,
 "nbformat_minor": 5
}
