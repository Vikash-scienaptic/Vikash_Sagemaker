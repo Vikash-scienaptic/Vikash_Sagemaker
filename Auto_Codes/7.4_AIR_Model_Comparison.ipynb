{
 "cells": [
  {
   "cell_type": "markdown",
   "id": "33e14e95-5b40-493a-87c9-c386e328f4ce",
   "metadata": {},
   "source": [
    "### Final Results With Comparison to Different Model Performance"
   ]
  },
  {
   "cell_type": "code",
   "execution_count": 2,
   "id": "1da66cfe-494d-429f-93d0-cbc7ff894e68",
   "metadata": {
    "tags": []
   },
   "outputs": [
    {
     "name": "stdout",
     "output_type": "stream",
     "text": [
      "Requirement already satisfied: xgboost in /opt/conda/lib/python3.10/site-packages (2.0.3)\n",
      "Requirement already satisfied: numpy in /opt/conda/lib/python3.10/site-packages (from xgboost) (1.26.4)\n",
      "Requirement already satisfied: scipy in /opt/conda/lib/python3.10/site-packages (from xgboost) (1.12.0)\n",
      "\u001b[33mWARNING: Running pip as the 'root' user can result in broken permissions and conflicting behaviour with the system package manager. It is recommended to use a virtual environment instead: https://pip.pypa.io/warnings/venv\u001b[0m\u001b[33m\n",
      "\u001b[0m"
     ]
    }
   ],
   "source": [
    "!pip install xgboost"
   ]
  },
  {
   "cell_type": "code",
   "execution_count": 3,
   "id": "cf4a6236-d33d-4fc1-bc04-343500bd5543",
   "metadata": {
    "tags": []
   },
   "outputs": [
    {
     "name": "stdout",
     "output_type": "stream",
     "text": [
      "2.2.1\n"
     ]
    }
   ],
   "source": [
    "import warnings\n",
    "warnings.filterwarnings('ignore')\n",
    "import pandas as pd\n",
    "print(pd.__version__)\n",
    "import numpy as np\n",
    "import json\n",
    "import logging\n",
    "import xgboost as xgb\n",
    "import ast\n",
    "import itertools\n",
    "import scipy.stats as ss\n",
    "from sklearn.preprocessing import MinMaxScaler\n",
    "from scipy.stats import chi2\n",
    "import os\n",
    "import sys\n",
    "\n",
    "pd.set_option('display.max_rows',None)\n",
    "pd.set_option('display.max_columns',None)\n",
    "pd.set_option('display.max_colwidth', None)"
   ]
  },
  {
   "cell_type": "code",
   "execution_count": 4,
   "id": "56d0704b-9824-4450-948a-fd4fb63d177e",
   "metadata": {
    "tags": []
   },
   "outputs": [],
   "source": [
    "sys.path.append('/root/Unified_LN_V2/')\n",
    "from Utilities import *"
   ]
  },
  {
   "cell_type": "code",
   "execution_count": 5,
   "id": "5a303f71-dbf9-470f-9813-4fe49728b885",
   "metadata": {
    "tags": []
   },
   "outputs": [],
   "source": [
    "def air_calc_new(pred,prefix):\n",
    "    air = {}\n",
    "    target_control_dict = [\n",
    "            {'age_cuts': {\n",
    "                'target': ['Age 62 and over'],\n",
    "                'control': ['Age below 62']\n",
    "            }},\n",
    "            {'Race': {\n",
    "                'target': ['black', 'hispanic'],\n",
    "                'control': ['white']\n",
    "            }},\n",
    "            {'Race': {\n",
    "                'target': ['black'],\n",
    "                'control': ['white']\n",
    "            }},\n",
    "            {'Race': {\n",
    "                'target': ['hispanic'],\n",
    "                'control': ['white']\n",
    "            }},\n",
    "            {'Gender': {\n",
    "                'target': ['F'],\n",
    "                'control': ['M']\n",
    "            }},\n",
    "            # 'mmct_tag': {\n",
    "            #     'target': ['mmct'],\n",
    "            #     'control': ['non-mmct']\n",
    "            # }\n",
    "    ]\n",
    "\n",
    "    for var in target_control_dict:\n",
    "        for i in var:\n",
    "            target_list = var[i]['target']\n",
    "            control_list = var[i]['control']\n",
    "            p_target_list= ','.join(target_list) if (\n",
    "                (len(target_list)<= 1) and (('black' in target_list) or ('hispanic' in target_list))\n",
    "            ) else ''\n",
    "            \n",
    "            ttd_target= pred[pred[i].isin(target_list)]['con_wt'].sum()\n",
    "            approved_target= pred[pred[i].isin(target_list)]['approved'].multiply(pred[pred[i].isin(target_list)]['con_wt']).sum()\n",
    "            ttd_control= pred[pred[i].isin(control_list)]['con_wt'].sum()\n",
    "            approved_control= pred[pred[i].isin(control_list)]['approved'].multiply(pred[pred[i].isin(control_list)]['con_wt']).sum()\n",
    "            app_pct_target= round(approved_target/ttd_target, 4)\n",
    "            app_pct_control= round(approved_control/ttd_control, 4)\n",
    "            air[prefix+i+p_target_list]= [round(app_pct_target/app_pct_control, 4)]\n",
    "        \n",
    "            # print({'variable': i, 'target_list': p_target_list, 'ttd_target': ttd_target, 'ttd_control': ttd_control, \n",
    "                   # 'approved_target': approved_target, 'approved_control': approved_control})\n",
    "            \n",
    "    # print(air)\n",
    "        \n",
    "    return air"
   ]
  },
  {
   "cell_type": "code",
   "execution_count": 6,
   "id": "72544047-fb3f-45c3-b3ce-e6db94b51b27",
   "metadata": {
    "tags": []
   },
   "outputs": [],
   "source": [
    "col_tuple_pass= [\"unique_id\", 'client', \"wt2\", 'fico_pb', 'auto_score', 'approve_flag', 'funded_flag', 'bad_flag', 'Race', 'Gender', 'age_cuts']"
   ]
  },
  {
   "cell_type": "code",
   "execution_count": 7,
   "id": "7e94cfdb-f9d4-4fa3-bc76-2e9fc3b1b55d",
   "metadata": {
    "tags": []
   },
   "outputs": [],
   "source": [
    "def get_risk_rank(data, target, cols_tuple, score_col= 'p1', weight= 'RECWGT', asc= False):\n",
    "    dd = data.loc[:, cols_tuple + [score_col]]\n",
    "    # dd = pd.DataFrame(dd)\n",
    "    # dd = dd.reset_index()\n",
    "    dd['RECWGT'] = dd[\"wt2\"]\n",
    "    dd['conwt'] = 1\n",
    "    dd[target] = dd[target] \n",
    "    # pred = pd.concat([dd.loc[:, cols_tuple + ['RECWGT', 'conwt']],p],axis=1)\n",
    "    pred= dd.copy()\n",
    "    # display(pred.head())\n",
    "    print(pred[weight].sum(),((pred[weight]*pred[target]).sum()),pred[weight].max())\n",
    "\n",
    "    data_ks_cap5= rnkOrderingN(pred, target, weight, score_col, 5, asc)\n",
    "    # display(data_ks_cap5[0])\n",
    "    # print(data_ks_cap5[1])\n",
    "    # data_ks_cap10= rnkOrderingN(pred, target, weight, score_col, 10, asc)\n",
    "    # display(data_ks_cap10[0])\n",
    "    # print(data_ks_cap10[1])\n",
    "    return data_ks_cap5"
   ]
  },
  {
   "cell_type": "code",
   "execution_count": 8,
   "id": "0c176119-d996-48ed-8cad-a28fe28b0c63",
   "metadata": {
    "tags": []
   },
   "outputs": [],
   "source": [
    "def get_segment(d):\n",
    "    if (d['derogcount']> 0):\n",
    "        return 'Derog'\n",
    "    elif ((d['derogcount']== 0) and (d['assetprop']> 0)):\n",
    "        return 'Property Owner'\n",
    "    elif ((d['derogcount']== 0) and (d['assetprop']== 0)):\n",
    "        return 'Non Property Owner'\n",
    "    else:\n",
    "        return 'Missing'"
   ]
  },
  {
   "cell_type": "code",
   "execution_count": 9,
   "id": "ee0bc135-3e3d-4f6d-abec-b1e232d19b52",
   "metadata": {
    "tags": []
   },
   "outputs": [],
   "source": [
    "def Equal_Approval_Cutoff_Barsath(pred, target, score_col, asc= True):\n",
    "    pred= pred.copy()\n",
    "    actual_approved_count= pred[target].sum()\n",
    "    pred= pred.sort_values(by= [score_col], ascending= asc)\n",
    "    pred['con_wt']= 1\n",
    "    pred['cumsum']= pred['con_wt'].cumsum()\n",
    "    pred['approved']= np.where(pred['cumsum']<= actual_approved_count, 1, 0)\n",
    "    return pred #cutoff, original_dataset"
   ]
  },
  {
   "cell_type": "markdown",
   "id": "a81615f3-9438-4472-aa2f-ebdc527bddeb",
   "metadata": {},
   "source": [
    "## Reading Scored Data - Overall LDA"
   ]
  },
  {
   "cell_type": "code",
   "execution_count": 10,
   "id": "36e3c425-42cf-4a49-a444-6d3db1ed6576",
   "metadata": {
    "tags": []
   },
   "outputs": [
    {
     "data": {
      "text/plain": [
       "['With_LDA_Train_Auto_LN_V2_Scored_Data_2024-04-08.csv',\n",
       " '050424_LN_Auto_KGB_LDA_No_Segment_Hopt_4.csv',\n",
       " 'With_LDA_Oot_Auto_LN_V2_Scored_Data_2024-04-08.csv',\n",
       " 'xgbm_ln_auto_v2_hpt_best_with_lda_3.zip',\n",
       " 'With_LDA_Test_Auto_LN_V2_Scored_Data_2024-04-08.csv',\n",
       " 'With_LDA_TTD_Auto_LN_V2_Scored_Data_2024-04-08.csv']"
      ]
     },
     "execution_count": 10,
     "metadata": {},
     "output_type": "execute_result"
    }
   ],
   "source": [
    "path_overall= '/root/Unified_LN_V2/LN_Auto_V2/Model_Data/Without_LDA_Auto_LN_V2/With_LDA/Iteration_3/' #/root/Unified_LN_V2/LN_Auto_V2/Model_Data/Without_LDA_Auto_LN_V2/With_LDA/\n",
    "os.listdir(path_overall)"
   ]
  },
  {
   "cell_type": "code",
   "execution_count": 11,
   "id": "8084ef7f-3b51-4b9b-8e37-1797165a95a2",
   "metadata": {
    "tags": []
   },
   "outputs": [
    {
     "data": {
      "text/plain": [
       "((146855, 12), (62938, 12), (37121, 12), (685215, 12))"
      ]
     },
     "execution_count": 11,
     "metadata": {},
     "output_type": "execute_result"
    }
   ],
   "source": [
    "# train_scored_all= pd.read_csv(f\"{path_overall}With_LDA_Train_Auto_LN_V2_Scored_Data_2024-03-29.csv\")\n",
    "# test_scored_all= pd.read_csv(f\"{path_overall}With_LDA_Test_Auto_LN_V2_Scored_Data_2024-03-29.csv\")\n",
    "# oot_scored_all= pd.read_csv(f\"{path_overall}With_LDA_Oot_Auto_LN_V2_Scored_Data_2024-03-29.csv\")\n",
    "# ttd_scored_all= pd.read_csv(f\"{path_overall}With_LDA_TTD_Auto_LN_V2_Scored_Data_2024-03-29.csv\")\n",
    "\n",
    "# train_scored_all= pd.read_csv(f\"{path_overall}With_LDA_Train_Auto_LN_V2_Scored_Data_2024-04-02.csv\")\n",
    "# test_scored_all= pd.read_csv(f\"{path_overall}With_LDA_Test_Auto_LN_V2_Scored_Data_2024-04-02.csv\")\n",
    "# oot_scored_all= pd.read_csv(f\"{path_overall}With_LDA_Oot_Auto_LN_V2_Scored_Data_2024-04-02.csv\")\n",
    "# ttd_scored_all= pd.read_csv(f\"{path_overall}With_LDA_TTD_Auto_LN_V2_Scored_Data_2024-04-02.csv\")\n",
    "\n",
    "train_scored_all= pd.read_csv(f\"{path_overall}With_LDA_Train_Auto_LN_V2_Scored_Data_2024-04-08.csv\")\n",
    "test_scored_all= pd.read_csv(f\"{path_overall}With_LDA_Test_Auto_LN_V2_Scored_Data_2024-04-08.csv\")\n",
    "oot_scored_all= pd.read_csv(f\"{path_overall}With_LDA_Oot_Auto_LN_V2_Scored_Data_2024-04-08.csv\")\n",
    "ttd_scored_all= pd.read_csv(f\"{path_overall}With_LDA_TTD_Auto_LN_V2_Scored_Data_2024-04-08.csv\")\n",
    "\n",
    "train_scored_all.shape, test_scored_all.shape, oot_scored_all.shape, ttd_scored_all.shape"
   ]
  },
  {
   "cell_type": "code",
   "execution_count": 12,
   "id": "8c65f0ad-5611-4db2-8938-e193f011a480",
   "metadata": {
    "tags": []
   },
   "outputs": [
    {
     "data": {
      "text/plain": [
       "((246914, 12), (685215, 12), 200148.0)"
      ]
     },
     "execution_count": 12,
     "metadata": {},
     "output_type": "execute_result"
    }
   ],
   "source": [
    "funded_scored_all= pd.concat([train_scored_all, test_scored_all, oot_scored_all]).reset_index(drop= True)\n",
    "funded_scored_all.shape, ttd_scored_all.shape, ttd_scored_all['funded_flag'].sum()"
   ]
  },
  {
   "cell_type": "code",
   "execution_count": 13,
   "id": "a6852559-8d7a-49ca-b8db-47c8d9cc90df",
   "metadata": {
    "tags": []
   },
   "outputs": [],
   "source": [
    "funded_scored_all['unique_id']= funded_scored_all['unique_id'].astype(str)\n",
    "ttd_scored_all['unique_id']= ttd_scored_all['unique_id'].astype(str)"
   ]
  },
  {
   "cell_type": "code",
   "execution_count": 14,
   "id": "7bf90a97-d409-40eb-836f-d08a542e455b",
   "metadata": {
    "tags": []
   },
   "outputs": [],
   "source": [
    "funded_scored_all.rename(columns= {'p1': 'p1_overall_lda'}, inplace= True)\n",
    "ttd_scored_all.rename(columns= {'p1': 'p1_overall_lda'}, inplace= True)"
   ]
  },
  {
   "cell_type": "markdown",
   "id": "84278a3e-5234-4dbb-83e7-1aa1a21ef33e",
   "metadata": {},
   "source": [
    "### Reading V 1.5 Scored Data"
   ]
  },
  {
   "cell_type": "code",
   "execution_count": 15,
   "id": "86f12cff-9b15-4071-a42c-3832ce50a6a5",
   "metadata": {
    "tags": []
   },
   "outputs": [
    {
     "data": {
      "text/html": [
       "<div>\n",
       "<style scoped>\n",
       "    .dataframe tbody tr th:only-of-type {\n",
       "        vertical-align: middle;\n",
       "    }\n",
       "\n",
       "    .dataframe tbody tr th {\n",
       "        vertical-align: top;\n",
       "    }\n",
       "\n",
       "    .dataframe thead th {\n",
       "        text-align: right;\n",
       "    }\n",
       "</style>\n",
       "<table border=\"1\" class=\"dataframe\">\n",
       "  <thead>\n",
       "    <tr style=\"text-align: right;\">\n",
       "      <th></th>\n",
       "      <th>unique_id</th>\n",
       "      <th>client</th>\n",
       "      <th>p1_v1_5</th>\n",
       "      <th>fico_pb</th>\n",
       "      <th>dataset</th>\n",
       "    </tr>\n",
       "  </thead>\n",
       "  <tbody>\n",
       "    <tr>\n",
       "      <th>0</th>\n",
       "      <td>453208</td>\n",
       "      <td>SECU</td>\n",
       "      <td>0.053346</td>\n",
       "      <td>624.0</td>\n",
       "      <td>fico_lt_660</td>\n",
       "    </tr>\n",
       "    <tr>\n",
       "      <th>1</th>\n",
       "      <td>453394</td>\n",
       "      <td>SECU</td>\n",
       "      <td>0.064319</td>\n",
       "      <td>0.0</td>\n",
       "      <td>fico_lt_660</td>\n",
       "    </tr>\n",
       "    <tr>\n",
       "      <th>2</th>\n",
       "      <td>453515</td>\n",
       "      <td>SECU</td>\n",
       "      <td>0.086988</td>\n",
       "      <td>614.0</td>\n",
       "      <td>fico_lt_660</td>\n",
       "    </tr>\n",
       "    <tr>\n",
       "      <th>3</th>\n",
       "      <td>453555</td>\n",
       "      <td>SECU</td>\n",
       "      <td>0.035332</td>\n",
       "      <td>637.0</td>\n",
       "      <td>fico_lt_660</td>\n",
       "    </tr>\n",
       "    <tr>\n",
       "      <th>4</th>\n",
       "      <td>453594</td>\n",
       "      <td>SECU</td>\n",
       "      <td>0.094630</td>\n",
       "      <td>587.0</td>\n",
       "      <td>fico_lt_660</td>\n",
       "    </tr>\n",
       "  </tbody>\n",
       "</table>\n",
       "</div>"
      ],
      "text/plain": [
       "  unique_id client   p1_v1_5  fico_pb      dataset\n",
       "0    453208   SECU  0.053346    624.0  fico_lt_660\n",
       "1    453394   SECU  0.064319      0.0  fico_lt_660\n",
       "2    453515   SECU  0.086988    614.0  fico_lt_660\n",
       "3    453555   SECU  0.035332    637.0  fico_lt_660\n",
       "4    453594   SECU  0.094630    587.0  fico_lt_660"
      ]
     },
     "execution_count": 15,
     "metadata": {},
     "output_type": "execute_result"
    }
   ],
   "source": [
    "v15= pd.read_csv('/root/Unified_LN_V2/LN_Auto_V2/Data/040424_Auto_LN_V1_5_Scored_Data.csv')\n",
    "v15.head()"
   ]
  },
  {
   "cell_type": "code",
   "execution_count": 16,
   "id": "3999d51c-ea64-4153-8b39-f1f3002f0e00",
   "metadata": {
    "tags": []
   },
   "outputs": [
    {
     "data": {
      "text/plain": [
       "((824212, 5), (685215, 12), (246914, 12))"
      ]
     },
     "execution_count": 16,
     "metadata": {},
     "output_type": "execute_result"
    }
   ],
   "source": [
    "v15.shape, ttd_scored_all.shape, funded_scored_all.shape"
   ]
  },
  {
   "cell_type": "code",
   "execution_count": 17,
   "id": "87838280-11a7-4080-b0ce-621bcd942883",
   "metadata": {
    "tags": []
   },
   "outputs": [],
   "source": [
    "v15['unique_id']= v15['unique_id'].astype(str)"
   ]
  },
  {
   "cell_type": "code",
   "execution_count": 18,
   "id": "c73aaf8c-7b55-4356-abe5-de5b6d872ac4",
   "metadata": {
    "tags": []
   },
   "outputs": [
    {
     "name": "stdout",
     "output_type": "stream",
     "text": [
      "(685215, 12)\n"
     ]
    },
    {
     "data": {
      "text/plain": [
       "(685215, 13)"
      ]
     },
     "execution_count": 18,
     "metadata": {},
     "output_type": "execute_result"
    }
   ],
   "source": [
    "print(ttd_scored_all.shape)\n",
    "ttd_scored_all= ttd_scored_all.merge(v15[['unique_id', 'client', 'p1_v1_5']], on= ['unique_id', 'client'], how= 'left')\n",
    "ttd_scored_all.shape"
   ]
  },
  {
   "cell_type": "code",
   "execution_count": 19,
   "id": "d28f6bc7-d7e8-4942-b14e-7133112bd71d",
   "metadata": {
    "tags": []
   },
   "outputs": [
    {
     "data": {
      "text/plain": [
       "0"
      ]
     },
     "execution_count": 19,
     "metadata": {},
     "output_type": "execute_result"
    }
   ],
   "source": [
    "ttd_scored_all['p1_v1_5'].isnull().sum()"
   ]
  },
  {
   "cell_type": "code",
   "execution_count": 20,
   "id": "9168e6b1-9e06-41f1-919c-df9ff8974669",
   "metadata": {
    "tags": []
   },
   "outputs": [
    {
     "data": {
      "text/html": [
       "<div>\n",
       "<style scoped>\n",
       "    .dataframe tbody tr th:only-of-type {\n",
       "        vertical-align: middle;\n",
       "    }\n",
       "\n",
       "    .dataframe tbody tr th {\n",
       "        vertical-align: top;\n",
       "    }\n",
       "\n",
       "    .dataframe thead th {\n",
       "        text-align: right;\n",
       "    }\n",
       "</style>\n",
       "<table border=\"1\" class=\"dataframe\">\n",
       "  <thead>\n",
       "    <tr style=\"text-align: right;\">\n",
       "      <th></th>\n",
       "      <th>p1_v1_5</th>\n",
       "      <th>p1_overall_lda</th>\n",
       "    </tr>\n",
       "  </thead>\n",
       "  <tbody>\n",
       "    <tr>\n",
       "      <th>count</th>\n",
       "      <td>685215.000000</td>\n",
       "      <td>685215.000000</td>\n",
       "    </tr>\n",
       "    <tr>\n",
       "      <th>mean</th>\n",
       "      <td>0.038407</td>\n",
       "      <td>0.021863</td>\n",
       "    </tr>\n",
       "    <tr>\n",
       "      <th>std</th>\n",
       "      <td>0.032355</td>\n",
       "      <td>0.022076</td>\n",
       "    </tr>\n",
       "    <tr>\n",
       "      <th>min</th>\n",
       "      <td>0.007456</td>\n",
       "      <td>0.005289</td>\n",
       "    </tr>\n",
       "    <tr>\n",
       "      <th>25%</th>\n",
       "      <td>0.014268</td>\n",
       "      <td>0.007273</td>\n",
       "    </tr>\n",
       "    <tr>\n",
       "      <th>50%</th>\n",
       "      <td>0.025966</td>\n",
       "      <td>0.015229</td>\n",
       "    </tr>\n",
       "    <tr>\n",
       "      <th>75%</th>\n",
       "      <td>0.052640</td>\n",
       "      <td>0.024805</td>\n",
       "    </tr>\n",
       "    <tr>\n",
       "      <th>max</th>\n",
       "      <td>0.190158</td>\n",
       "      <td>0.114281</td>\n",
       "    </tr>\n",
       "  </tbody>\n",
       "</table>\n",
       "</div>"
      ],
      "text/plain": [
       "             p1_v1_5  p1_overall_lda\n",
       "count  685215.000000   685215.000000\n",
       "mean        0.038407        0.021863\n",
       "std         0.032355        0.022076\n",
       "min         0.007456        0.005289\n",
       "25%         0.014268        0.007273\n",
       "50%         0.025966        0.015229\n",
       "75%         0.052640        0.024805\n",
       "max         0.190158        0.114281"
      ]
     },
     "execution_count": 20,
     "metadata": {},
     "output_type": "execute_result"
    }
   ],
   "source": [
    "ttd_scored_all[['p1_v1_5', 'p1_overall_lda']].describe()"
   ]
  },
  {
   "cell_type": "code",
   "execution_count": 21,
   "id": "fead327c-437f-456b-b35b-5920e716f294",
   "metadata": {
    "tags": []
   },
   "outputs": [
    {
     "name": "stdout",
     "output_type": "stream",
     "text": [
      "(246914, 12)\n"
     ]
    },
    {
     "data": {
      "text/plain": [
       "((246914, 13), 0)"
      ]
     },
     "execution_count": 21,
     "metadata": {},
     "output_type": "execute_result"
    }
   ],
   "source": [
    "print(funded_scored_all.shape)\n",
    "funded_scored_all= funded_scored_all.merge(v15[['unique_id', 'client', 'p1_v1_5']], on= ['unique_id', 'client'], how= 'left')\n",
    "funded_scored_all.shape, funded_scored_all['p1_v1_5'].isnull().sum()"
   ]
  },
  {
   "cell_type": "code",
   "execution_count": 22,
   "id": "5ebc04e3-e16f-4249-8d38-e96c33e34772",
   "metadata": {
    "tags": []
   },
   "outputs": [],
   "source": [
    "# rnkOrderingN(funded_scored_all[~(funded_scored_all['fico_pb']>= 740)], 'bad_flag', None, 'p1_overall_lda', 5)"
   ]
  },
  {
   "cell_type": "code",
   "execution_count": 23,
   "id": "0b71d2ea-4f14-485f-ac59-97df0bc753ef",
   "metadata": {
    "tags": []
   },
   "outputs": [],
   "source": [
    "# rnkOrderingN(funded_scored_all[~(funded_scored_all['fico_pb']>= 740)], 'bad_flag', None, 'p1_v1_5', 5)"
   ]
  },
  {
   "cell_type": "code",
   "execution_count": 24,
   "id": "52881b91-eea6-44db-8758-30eae710bc90",
   "metadata": {
    "tags": []
   },
   "outputs": [],
   "source": [
    "def get_model_comparison_segment(train_d, test_d, oot_d, ttd_d, segment, pref, d):\n",
    "    train_d= train_d.copy()\n",
    "    test_d= test_d.copy()\n",
    "    oot_d= oot_d.copy()\n",
    "    ttd_d= ttd_d.copy()\n",
    "    print({'segment': segment})#, 'overall shape': data.shape, 'segmented shape': data[data['dataset'].isin(segment)].shape})\n",
    "    \n",
    "    a= {'Model': pref, 'Dataset': d}\n",
    "    \n",
    "    a[f'KS Weighted Train Model']= rnkOrderingN(train_d[train_d['dataset'].isin(segment)], 'bad_flag', 'wt2', 'p1', n_bkts= 5, asc= False)[1]['KS']\n",
    "    a[f'KS Weighted Test Model']= rnkOrderingN(test_d[test_d['dataset'].isin(segment)], 'bad_flag', 'wt2', 'p1', n_bkts= 5, asc= False)[1]['KS']\n",
    "    \n",
    "    a[f'KS Non Weighted Train Model']= rnkOrderingN(train_d[train_d['dataset'].isin(segment)], 'bad_flag', None, 'p1', n_bkts= 5, asc= False)[1]['KS']\n",
    "    a[f'KS Non Weighted Test Model']= rnkOrderingN(test_d[test_d['dataset'].isin(segment)], 'bad_flag', None, 'p1', n_bkts= 5, asc= False)[1]['KS']\n",
    "    a[f'KS Non Weighted Oot Model']= rnkOrderingN(oot_d[oot_d['dataset'].isin(segment)], 'bad_flag', None, 'p1', n_bkts= 5, asc= False)[1]['KS']\n",
    "    \n",
    "    a[f'KS Non Weighted Oot FICO']= rnkOrderingN(test_d[test_d['dataset'].isin(segment)], 'bad_flag', None, 'fico_pb', n_bkts= 5, asc= True)[1]['KS']\n",
    "    a[f'KS Non Weighted Oot Auto Score']= rnkOrderingN(test_d[test_d['dataset'].isin(segment)], 'bad_flag', None, 'auto_score', n_bkts= 5, asc= True)[1]['KS']\n",
    "    \n",
    "    a['Bad Rate Train']= train_d[train_d['dataset'].isin(segment)]['bad_flag'].mean()\n",
    "    a['Bad Rate Test']= test_d[test_d['dataset'].isin(segment)]['bad_flag'].mean()\n",
    "    a['Bad Rate Oot']= oot_d[oot_d['dataset'].isin(segment)]['bad_flag'].mean()\n",
    "    \n",
    "    air_sgement_model= air_calc_new(Equal_Approval_Cutoff_Barsath(ttd_d[ttd_d['dataset'].isin(segment)], 'approve_flag', 'p1'), 'AIR TTD')\n",
    "    a[f'AIR Age Model']= air_sgement_model['AIR TTDage_cuts']\n",
    "    a[f'AIR Race Model']= air_sgement_model['AIR TTDRace']\n",
    "    a[f'AIR Race Black Model']= air_sgement_model['AIR TTDRaceblack']\n",
    "    a[f'AIR Race Hispanic Model']= air_sgement_model['AIR TTDRacehispanic']\n",
    "    a[f'AIR Gender Model']= air_sgement_model['AIR TTDGender']\n",
    "    \n",
    "    air_fico_model= air_calc_new(Equal_Approval_Cutoff_Barsath(ttd_d[ttd_d['dataset'].isin(segment)], 'approve_flag', 'fico_pb', asc= False), 'AIR TTD')\n",
    "    a[f'AIR Age FICO']= air_fico_model['AIR TTDage_cuts']\n",
    "    a[f'AIR Race FICO']= air_fico_model['AIR TTDRace']\n",
    "    a[f'AIR Race Black FICO']= air_fico_model['AIR TTDRaceblack']\n",
    "    a[f'AIR Race Hispanic FICO']= air_fico_model['AIR TTDRacehispanic']\n",
    "    a[f'AIR Gender FICO']= air_fico_model['AIR TTDGender']\n",
    "    \n",
    "    return a"
   ]
  },
  {
   "cell_type": "code",
   "execution_count": 25,
   "id": "01131838-df7a-4295-b0ae-34f6559edcbb",
   "metadata": {
    "tags": []
   },
   "outputs": [],
   "source": [
    "def get_model_comparison_overall(train_d, test_d, oot_d, ttd_d, segment, pref, d):\n",
    "    train_d= train_d.copy()\n",
    "    test_d= test_d.copy()\n",
    "    oot_d= oot_d.copy()\n",
    "    ttd_d= ttd_d.copy()\n",
    "    print({'segment': segment})#, 'overall shape': data.shape, 'segmented shape': data[data['dataset'].isin(segment)].shape})\n",
    "    \n",
    "    a= {'Model': pref, 'Dataset': d}\n",
    "    \n",
    "    a[f'KS Weighted Train Model']= rnkOrderingN(train_d[train_d['dataset'].isin(segment)], 'bad_flag', 'wt2', 'p1_overall_lda', n_bkts= 5, asc= False)[1]['KS']\n",
    "    a[f'KS Weighted Test Model']= rnkOrderingN(test_d[test_d['dataset'].isin(segment)], 'bad_flag', 'wt2', 'p1_overall_lda', n_bkts= 5, asc= False)[1]['KS']\n",
    "    \n",
    "    a[f'KS Non Weighted Train Model']= rnkOrderingN(train_d[train_d['dataset'].isin(segment)], 'bad_flag', None, 'p1_overall_lda', n_bkts= 5, asc= False)[1]['KS']\n",
    "    a[f'KS Non Weighted Test Model']= rnkOrderingN(test_d[test_d['dataset'].isin(segment)], 'bad_flag', None, 'p1_overall_lda', n_bkts= 5, asc= False)[1]['KS']\n",
    "    a[f'KS Non Weighted Oot Model']= rnkOrderingN(oot_d[oot_d['dataset'].isin(segment)], 'bad_flag', None, 'p1_overall_lda', n_bkts= 5, asc= False)[1]['KS']\n",
    "    \n",
    "    a[f'KS Non Weighted Oot FICO']= rnkOrderingN(test_d[test_d['dataset'].isin(segment)], 'bad_flag', None, 'fico_pb', n_bkts= 5, asc= True)[1]['KS']\n",
    "    a[f'KS Non Weighted Oot Auto Score']= rnkOrderingN(test_d[test_d['dataset'].isin(segment)], 'bad_flag', None, 'auto_score', n_bkts= 5, asc= True)[1]['KS']\n",
    "    \n",
    "    a['Bad Rate Train']= train_d[train_d['dataset'].isin(segment)]['bad_flag'].mean()\n",
    "    a['Bad Rate Test']= test_d[test_d['dataset'].isin(segment)]['bad_flag'].mean()\n",
    "    a['Bad Rate Oot']= oot_d[oot_d['dataset'].isin(segment)]['bad_flag'].mean()\n",
    "    \n",
    "    air_sgement_model= air_calc_new(Equal_Approval_Cutoff_Barsath(ttd_d[ttd_d['dataset'].isin(segment)], 'approve_flag', 'p1_overall_lda'), 'AIR TTD')\n",
    "    a[f'AIR Age Model']= air_sgement_model['AIR TTDage_cuts']\n",
    "    a[f'AIR Race Model']= air_sgement_model['AIR TTDRace']\n",
    "    a[f'AIR Race Black Model']= air_sgement_model['AIR TTDRaceblack']\n",
    "    a[f'AIR Race Hispanic Model']= air_sgement_model['AIR TTDRacehispanic']\n",
    "    a[f'AIR Gender Model']= air_sgement_model['AIR TTDGender']\n",
    "    \n",
    "    air_fico_model= air_calc_new(Equal_Approval_Cutoff_Barsath(ttd_d[ttd_d['dataset'].isin(segment)], 'approve_flag', 'fico_pb', asc= False), 'AIR TTD')\n",
    "    a[f'AIR Age FICO']= air_fico_model['AIR TTDage_cuts']\n",
    "    a[f'AIR Race FICO']= air_fico_model['AIR TTDRace']\n",
    "    a[f'AIR Race Black FICO']= air_fico_model['AIR TTDRaceblack']\n",
    "    a[f'AIR Race Hispanic FICO']= air_fico_model['AIR TTDRacehispanic']\n",
    "    a[f'AIR Gender FICO']= air_fico_model['AIR TTDGender']\n",
    "    \n",
    "    return a\n",
    "    "
   ]
  },
  {
   "cell_type": "code",
   "execution_count": 26,
   "id": "f1fedd22-6cd6-470a-adf0-b7a4344b8239",
   "metadata": {
    "tags": []
   },
   "outputs": [],
   "source": [
    "def get_model_comparison_v15(train_d, test_d, oot_d, ttd_d, segment, pref, d):\n",
    "    train_d= train_d.copy()\n",
    "    test_d= test_d.copy()\n",
    "    oot_d= oot_d.copy()\n",
    "    ttd_d= ttd_d.copy()\n",
    "    print({'segment': segment})#, 'overall shape': data.shape, 'segmented shape': data[data['dataset'].isin(segment)].shape})\n",
    "    \n",
    "    a= {'Model': pref, 'Dataset': d}\n",
    "    \n",
    "    a[f'KS Weighted Train Model']= rnkOrderingN(train_d[train_d['dataset'].isin(segment)], 'bad_flag', 'wt2', 'p1_v1_5', n_bkts= 5, asc= False)[1]['KS']\n",
    "    a[f'KS Weighted Test Model']= rnkOrderingN(test_d[test_d['dataset'].isin(segment)], 'bad_flag', 'wt2', 'p1_v1_5', n_bkts= 5, asc= False)[1]['KS']\n",
    "    \n",
    "    a[f'KS Non Weighted Train Model']= rnkOrderingN(train_d[train_d['dataset'].isin(segment)], 'bad_flag', None, 'p1_v1_5', n_bkts= 5, asc= False)[1]['KS']\n",
    "    a[f'KS Non Weighted Test Model']= rnkOrderingN(test_d[test_d['dataset'].isin(segment)], 'bad_flag', None, 'p1_v1_5', n_bkts= 5, asc= False)[1]['KS']\n",
    "    a[f'KS Non Weighted Oot Model']= rnkOrderingN(oot_d[oot_d['dataset'].isin(segment)], 'bad_flag', None, 'p1_v1_5', n_bkts= 5, asc= False)[1]['KS']\n",
    "    \n",
    "    a[f'KS Non Weighted Oot FICO']= rnkOrderingN(test_d[test_d['dataset'].isin(segment)], 'bad_flag', None, 'fico_pb', n_bkts= 5, asc= True)[1]['KS']\n",
    "    a[f'KS Non Weighted Oot Auto Score']= rnkOrderingN(test_d[test_d['dataset'].isin(segment)], 'bad_flag', None, 'auto_score', n_bkts= 5, asc= True)[1]['KS']\n",
    "    \n",
    "    a['Bad Rate Train']= train_d[train_d['dataset'].isin(segment)]['bad_flag'].mean()\n",
    "    a['Bad Rate Test']= test_d[test_d['dataset'].isin(segment)]['bad_flag'].mean()\n",
    "    a['Bad Rate Oot']= oot_d[oot_d['dataset'].isin(segment)]['bad_flag'].mean()\n",
    "    \n",
    "    air_sgement_model= air_calc_new(Equal_Approval_Cutoff_Barsath(ttd_d[ttd_d['dataset'].isin(segment)], 'approve_flag', 'p1_v1_5'), 'AIR TTD')\n",
    "    a[f'AIR Age Model']= air_sgement_model['AIR TTDage_cuts']\n",
    "    a[f'AIR Race Model']= air_sgement_model['AIR TTDRace']\n",
    "    a[f'AIR Race Black Model']= air_sgement_model['AIR TTDRaceblack']\n",
    "    a[f'AIR Race Hispanic Model']= air_sgement_model['AIR TTDRacehispanic']\n",
    "    a[f'AIR Gender Model']= air_sgement_model['AIR TTDGender']\n",
    "    \n",
    "    air_fico_model= air_calc_new(Equal_Approval_Cutoff_Barsath(ttd_d[ttd_d['dataset'].isin(segment)], 'approve_flag', 'fico_pb', asc= False), 'AIR TTD')\n",
    "    a[f'AIR Age FICO']= air_fico_model['AIR TTDage_cuts']\n",
    "    a[f'AIR Race FICO']= air_fico_model['AIR TTDRace']\n",
    "    a[f'AIR Race Black FICO']= air_fico_model['AIR TTDRaceblack']\n",
    "    a[f'AIR Race Hispanic FICO']= air_fico_model['AIR TTDRacehispanic']\n",
    "    a[f'AIR Gender FICO']= air_fico_model['AIR TTDGender']\n",
    "    \n",
    "    return a"
   ]
  },
  {
   "cell_type": "code",
   "execution_count": 27,
   "id": "dd3ad4cd-c289-45b2-b939-661401cf799c",
   "metadata": {
    "tags": []
   },
   "outputs": [],
   "source": [
    "train_scored_all['dataset']= 'all'\n",
    "test_scored_all['dataset']= 'all'\n",
    "oot_scored_all['dataset']= 'all'\n",
    "ttd_scored_all['dataset']= 'all'"
   ]
  },
  {
   "cell_type": "code",
   "execution_count": 28,
   "id": "4f7788c4-861b-4c4d-99f5-14bd5fd92727",
   "metadata": {
    "tags": []
   },
   "outputs": [
    {
     "name": "stdout",
     "output_type": "stream",
     "text": [
      "(146855, 13)\n",
      "(146855, 15)\n",
      "p1                0\n",
      "p1_overall_lda    0\n",
      "p1_v1_5           0\n",
      "dtype: int64\n",
      "(62938, 13)\n",
      "(62938, 15)\n",
      "p1                0\n",
      "p1_overall_lda    0\n",
      "p1_v1_5           0\n",
      "dtype: int64\n",
      "(37121, 13)\n",
      "(37121, 15)\n",
      "p1                0\n",
      "p1_overall_lda    0\n",
      "p1_v1_5           0\n",
      "dtype: int64\n"
     ]
    }
   ],
   "source": [
    "print(train_scored_all.shape)\n",
    "train_scored_all= train_scored_all.merge(funded_scored_all[['unique_id', 'client', 'p1_overall_lda', 'p1_v1_5']], on= ['unique_id', 'client'], how= 'left')\n",
    "print(train_scored_all.shape)\n",
    "print(train_scored_all[['p1', 'p1_overall_lda', 'p1_v1_5']].isnull().sum())\n",
    "\n",
    "print(test_scored_all.shape)\n",
    "test_scored_all= test_scored_all.merge(funded_scored_all[['unique_id', 'client', 'p1_overall_lda', 'p1_v1_5']], on= ['unique_id', 'client'], how= 'left')\n",
    "print(test_scored_all.shape)\n",
    "print(test_scored_all[['p1', 'p1_overall_lda', 'p1_v1_5']].isnull().sum())\n",
    "\n",
    "print(oot_scored_all.shape)\n",
    "oot_scored_all= oot_scored_all.merge(funded_scored_all[['unique_id', 'client', 'p1_overall_lda', 'p1_v1_5']], on= ['unique_id', 'client'], how= 'left')\n",
    "print(oot_scored_all.shape)\n",
    "print(oot_scored_all[['p1', 'p1_overall_lda', 'p1_v1_5']].isnull().sum())"
   ]
  },
  {
   "cell_type": "code",
   "execution_count": 29,
   "id": "3c34a395-64a5-4c9c-bb73-6aa33feaccf3",
   "metadata": {
    "tags": []
   },
   "outputs": [
    {
     "name": "stdout",
     "output_type": "stream",
     "text": [
      "{'segment': ['all']}\n",
      "{'segment': ['all']}\n"
     ]
    },
    {
     "data": {
      "text/html": [
       "<div>\n",
       "<style scoped>\n",
       "    .dataframe tbody tr th:only-of-type {\n",
       "        vertical-align: middle;\n",
       "    }\n",
       "\n",
       "    .dataframe tbody tr th {\n",
       "        vertical-align: top;\n",
       "    }\n",
       "\n",
       "    .dataframe thead th {\n",
       "        text-align: right;\n",
       "    }\n",
       "</style>\n",
       "<table border=\"1\" class=\"dataframe\">\n",
       "  <thead>\n",
       "    <tr style=\"text-align: right;\">\n",
       "      <th></th>\n",
       "      <th>Model</th>\n",
       "      <th>Dataset</th>\n",
       "      <th>KS Weighted Train Model</th>\n",
       "      <th>KS Weighted Test Model</th>\n",
       "      <th>KS Non Weighted Train Model</th>\n",
       "      <th>KS Non Weighted Test Model</th>\n",
       "      <th>KS Non Weighted Oot Model</th>\n",
       "      <th>KS Non Weighted Oot FICO</th>\n",
       "      <th>KS Non Weighted Oot Auto Score</th>\n",
       "      <th>Bad Rate Train</th>\n",
       "      <th>Bad Rate Test</th>\n",
       "      <th>Bad Rate Oot</th>\n",
       "      <th>AIR Age Model</th>\n",
       "      <th>AIR Race Model</th>\n",
       "      <th>AIR Race Black Model</th>\n",
       "      <th>AIR Race Hispanic Model</th>\n",
       "      <th>AIR Gender Model</th>\n",
       "      <th>AIR Age FICO</th>\n",
       "      <th>AIR Race FICO</th>\n",
       "      <th>AIR Race Black FICO</th>\n",
       "      <th>AIR Race Hispanic FICO</th>\n",
       "      <th>AIR Gender FICO</th>\n",
       "    </tr>\n",
       "  </thead>\n",
       "  <tbody>\n",
       "    <tr>\n",
       "      <th>0</th>\n",
       "      <td>Overall</td>\n",
       "      <td>all</td>\n",
       "      <td>37.42</td>\n",
       "      <td>39.07</td>\n",
       "      <td>38.63</td>\n",
       "      <td>38.06</td>\n",
       "      <td>38.74</td>\n",
       "      <td>44.62</td>\n",
       "      <td>39.01</td>\n",
       "      <td>0.015165</td>\n",
       "      <td>0.015237</td>\n",
       "      <td>0.014682</td>\n",
       "      <td>1.4450</td>\n",
       "      <td>0.7644</td>\n",
       "      <td>0.7497</td>\n",
       "      <td>0.7804</td>\n",
       "      <td>0.9215</td>\n",
       "      <td>1.286</td>\n",
       "      <td>0.7384</td>\n",
       "      <td>0.6168</td>\n",
       "      <td>0.8728</td>\n",
       "      <td>0.9247</td>\n",
       "    </tr>\n",
       "    <tr>\n",
       "      <th>0</th>\n",
       "      <td>V1.5</td>\n",
       "      <td>all</td>\n",
       "      <td>44.74</td>\n",
       "      <td>44.22</td>\n",
       "      <td>45.67</td>\n",
       "      <td>45.13</td>\n",
       "      <td>44.14</td>\n",
       "      <td>44.62</td>\n",
       "      <td>39.01</td>\n",
       "      <td>0.015165</td>\n",
       "      <td>0.015237</td>\n",
       "      <td>0.014682</td>\n",
       "      <td>1.4141</td>\n",
       "      <td>0.7115</td>\n",
       "      <td>0.6549</td>\n",
       "      <td>0.7740</td>\n",
       "      <td>0.9355</td>\n",
       "      <td>1.286</td>\n",
       "      <td>0.7384</td>\n",
       "      <td>0.6168</td>\n",
       "      <td>0.8728</td>\n",
       "      <td>0.9247</td>\n",
       "    </tr>\n",
       "  </tbody>\n",
       "</table>\n",
       "</div>"
      ],
      "text/plain": [
       "     Model Dataset  KS Weighted Train Model  KS Weighted Test Model  \\\n",
       "0  Overall     all                    37.42                   39.07   \n",
       "0     V1.5     all                    44.74                   44.22   \n",
       "\n",
       "   KS Non Weighted Train Model  KS Non Weighted Test Model  \\\n",
       "0                        38.63                       38.06   \n",
       "0                        45.67                       45.13   \n",
       "\n",
       "   KS Non Weighted Oot Model  KS Non Weighted Oot FICO  \\\n",
       "0                      38.74                     44.62   \n",
       "0                      44.14                     44.62   \n",
       "\n",
       "   KS Non Weighted Oot Auto Score  Bad Rate Train  Bad Rate Test  \\\n",
       "0                           39.01        0.015165       0.015237   \n",
       "0                           39.01        0.015165       0.015237   \n",
       "\n",
       "   Bad Rate Oot  AIR Age Model  AIR Race Model  AIR Race Black Model  \\\n",
       "0      0.014682         1.4450          0.7644                0.7497   \n",
       "0      0.014682         1.4141          0.7115                0.6549   \n",
       "\n",
       "   AIR Race Hispanic Model  AIR Gender Model  AIR Age FICO  AIR Race FICO  \\\n",
       "0                   0.7804            0.9215         1.286         0.7384   \n",
       "0                   0.7740            0.9355         1.286         0.7384   \n",
       "\n",
       "   AIR Race Black FICO  AIR Race Hispanic FICO  AIR Gender FICO  \n",
       "0               0.6168                  0.8728           0.9247  \n",
       "0               0.6168                  0.8728           0.9247  "
      ]
     },
     "execution_count": 29,
     "metadata": {},
     "output_type": "execute_result"
    }
   ],
   "source": [
    "pd.concat(\n",
    "    [\n",
    "     pd.DataFrame(get_model_comparison_overall(train_scored_all, test_scored_all, oot_scored_all, ttd_scored_all, ['all'], 'Overall', 'all')),\n",
    "     pd.DataFrame(get_model_comparison_v15(train_scored_all, test_scored_all, oot_scored_all, ttd_scored_all, ['all'], 'V1.5', 'all'))]\n",
    ")"
   ]
  },
  {
   "cell_type": "markdown",
   "id": "4f38ead2-1b7b-4554-87aa-c2554ff7e6de",
   "metadata": {},
   "source": [
    "### AIR Continum"
   ]
  },
  {
   "cell_type": "code",
   "execution_count": 30,
   "id": "1cc5c089-b1d6-45af-8901-f041e3bf3d74",
   "metadata": {
    "tags": []
   },
   "outputs": [
    {
     "data": {
      "text/html": [
       "<div>\n",
       "<style scoped>\n",
       "    .dataframe tbody tr th:only-of-type {\n",
       "        vertical-align: middle;\n",
       "    }\n",
       "\n",
       "    .dataframe tbody tr th {\n",
       "        vertical-align: top;\n",
       "    }\n",
       "\n",
       "    .dataframe thead th {\n",
       "        text-align: right;\n",
       "    }\n",
       "</style>\n",
       "<table border=\"1\" class=\"dataframe\">\n",
       "  <thead>\n",
       "    <tr style=\"text-align: right;\">\n",
       "      <th></th>\n",
       "      <th>wt2</th>\n",
       "      <th>fico_pb</th>\n",
       "      <th>auto_score</th>\n",
       "      <th>approve_flag</th>\n",
       "      <th>funded_flag</th>\n",
       "      <th>bad_flag</th>\n",
       "      <th>p1_overall_lda</th>\n",
       "      <th>p1_v1_5</th>\n",
       "    </tr>\n",
       "  </thead>\n",
       "  <tbody>\n",
       "    <tr>\n",
       "      <th>count</th>\n",
       "      <td>685215.0</td>\n",
       "      <td>678989.000000</td>\n",
       "      <td>685215.000000</td>\n",
       "      <td>685215.000000</td>\n",
       "      <td>401605.000000</td>\n",
       "      <td>200148.000000</td>\n",
       "      <td>685215.000000</td>\n",
       "      <td>685215.000000</td>\n",
       "    </tr>\n",
       "    <tr>\n",
       "      <th>mean</th>\n",
       "      <td>1.0</td>\n",
       "      <td>663.072047</td>\n",
       "      <td>716.564983</td>\n",
       "      <td>0.586101</td>\n",
       "      <td>0.498370</td>\n",
       "      <td>0.015224</td>\n",
       "      <td>0.021863</td>\n",
       "      <td>0.038407</td>\n",
       "    </tr>\n",
       "    <tr>\n",
       "      <th>std</th>\n",
       "      <td>0.0</td>\n",
       "      <td>165.346145</td>\n",
       "      <td>45.649687</td>\n",
       "      <td>0.492531</td>\n",
       "      <td>0.499998</td>\n",
       "      <td>0.122442</td>\n",
       "      <td>0.022076</td>\n",
       "      <td>0.032355</td>\n",
       "    </tr>\n",
       "    <tr>\n",
       "      <th>min</th>\n",
       "      <td>1.0</td>\n",
       "      <td>0.000000</td>\n",
       "      <td>548.000000</td>\n",
       "      <td>0.000000</td>\n",
       "      <td>0.000000</td>\n",
       "      <td>0.000000</td>\n",
       "      <td>0.005289</td>\n",
       "      <td>0.007456</td>\n",
       "    </tr>\n",
       "    <tr>\n",
       "      <th>25%</th>\n",
       "      <td>1.0</td>\n",
       "      <td>627.000000</td>\n",
       "      <td>686.000000</td>\n",
       "      <td>0.000000</td>\n",
       "      <td>0.000000</td>\n",
       "      <td>0.000000</td>\n",
       "      <td>0.007273</td>\n",
       "      <td>0.014268</td>\n",
       "    </tr>\n",
       "    <tr>\n",
       "      <th>50%</th>\n",
       "      <td>1.0</td>\n",
       "      <td>688.000000</td>\n",
       "      <td>715.000000</td>\n",
       "      <td>1.000000</td>\n",
       "      <td>0.000000</td>\n",
       "      <td>0.000000</td>\n",
       "      <td>0.015229</td>\n",
       "      <td>0.025966</td>\n",
       "    </tr>\n",
       "    <tr>\n",
       "      <th>75%</th>\n",
       "      <td>1.0</td>\n",
       "      <td>752.000000</td>\n",
       "      <td>748.000000</td>\n",
       "      <td>1.000000</td>\n",
       "      <td>1.000000</td>\n",
       "      <td>0.000000</td>\n",
       "      <td>0.024805</td>\n",
       "      <td>0.052640</td>\n",
       "    </tr>\n",
       "    <tr>\n",
       "      <th>max</th>\n",
       "      <td>1.0</td>\n",
       "      <td>9999.000000</td>\n",
       "      <td>827.000000</td>\n",
       "      <td>1.000000</td>\n",
       "      <td>1.000000</td>\n",
       "      <td>1.000000</td>\n",
       "      <td>0.114281</td>\n",
       "      <td>0.190158</td>\n",
       "    </tr>\n",
       "  </tbody>\n",
       "</table>\n",
       "</div>"
      ],
      "text/plain": [
       "            wt2        fico_pb     auto_score   approve_flag    funded_flag  \\\n",
       "count  685215.0  678989.000000  685215.000000  685215.000000  401605.000000   \n",
       "mean        1.0     663.072047     716.564983       0.586101       0.498370   \n",
       "std         0.0     165.346145      45.649687       0.492531       0.499998   \n",
       "min         1.0       0.000000     548.000000       0.000000       0.000000   \n",
       "25%         1.0     627.000000     686.000000       0.000000       0.000000   \n",
       "50%         1.0     688.000000     715.000000       1.000000       0.000000   \n",
       "75%         1.0     752.000000     748.000000       1.000000       1.000000   \n",
       "max         1.0    9999.000000     827.000000       1.000000       1.000000   \n",
       "\n",
       "            bad_flag  p1_overall_lda        p1_v1_5  \n",
       "count  200148.000000   685215.000000  685215.000000  \n",
       "mean        0.015224        0.021863       0.038407  \n",
       "std         0.122442        0.022076       0.032355  \n",
       "min         0.000000        0.005289       0.007456  \n",
       "25%         0.000000        0.007273       0.014268  \n",
       "50%         0.000000        0.015229       0.025966  \n",
       "75%         0.000000        0.024805       0.052640  \n",
       "max         1.000000        0.114281       0.190158  "
      ]
     },
     "execution_count": 30,
     "metadata": {},
     "output_type": "execute_result"
    }
   ],
   "source": [
    "ttd_scored_all.describe()"
   ]
  },
  {
   "cell_type": "code",
   "execution_count": 31,
   "id": "f095720a-145f-4d3a-be1b-7ec65173a381",
   "metadata": {
    "tags": []
   },
   "outputs": [],
   "source": [
    "## Creating 20-Decile\n",
    "def get_data_cuts(data, q, score, asc= True):\n",
    "    data= data.copy()\n",
    "    data= data.sort_values(by= [score], ascending= asc).reset_index(drop= True)\n",
    "    data['counter']= 1\n",
    "    data['cumsum']= data['counter'].cumsum()\n",
    "    \n",
    "    bins= [-np.inf] + [int(round((len(data)/q)*i)) for i in range(1, q)] + [np.inf]\n",
    "    labels= [i for i in range(1, q+1)]\n",
    "    print(bins)\n",
    "    print(labels)\n",
    "    \n",
    "    data['decile']= pd.cut(x= data['cumsum'], bins= bins, labels= labels)\n",
    "    \n",
    "    return data"
   ]
  },
  {
   "cell_type": "code",
   "execution_count": 32,
   "id": "de1e3e41-5f2d-4300-81a5-2a6d2ea87549",
   "metadata": {
    "tags": []
   },
   "outputs": [],
   "source": [
    "# ttd_scored_all_lda= get_data_cuts(ttd_scored_all, q= 20, score= 'p1_overall_lda')\n",
    "# ttd_scored_all.shape, ttd_scored_all_lda.shape"
   ]
  },
  {
   "cell_type": "code",
   "execution_count": 33,
   "id": "6eca2423-46f4-4522-a41f-798e8c15b12e",
   "metadata": {
    "tags": []
   },
   "outputs": [],
   "source": [
    "# %%time\n",
    "# air_cont_lda= []\n",
    "\n",
    "# for d in sorted(list(ttd_scored_all_lda['decile'].unique())):\n",
    "#     a= {}\n",
    "#     temp= ttd_scored_all_lda[ttd_scored_all_lda['decile']== d]\n",
    "#     print(d, temp.shape)\n",
    "#     a['decile']= d\n",
    "#     a['apps']= len(temp)\n",
    "#     a['min_pd']= temp['p1_overall_lda'].min()\n",
    "#     a['mean_pd']= temp['p1_overall_lda'].mean()\n",
    "#     a['max_pd']= temp['p1_overall_lda'].max()\n",
    "    \n",
    "#     air_temp= air_calc_new(Equal_Approval_Cutoff_Barsath(temp, 'approve_flag', 'p1_overall_lda'), 'AIR TTD')\n",
    "#     # print(air_temp)\n",
    "#     a[f'AIR Age']= air_temp['AIR TTDage_cuts'][0]\n",
    "#     a[f'AIR Race']= air_temp['AIR TTDRace'][0]\n",
    "#     a[f'AIR Race Black']= air_temp['AIR TTDRaceblack'][0]\n",
    "#     a[f'AIR Race Hispanic']= air_temp['AIR TTDRacehispanic'][0]\n",
    "#     a[f'AIR Gender']= air_temp['AIR TTDGender'][0]\n",
    "    \n",
    "#     air_cont_lda.append(a)\n",
    "#     print(a)\n",
    "#     del a"
   ]
  },
  {
   "cell_type": "code",
   "execution_count": 34,
   "id": "0d0e69f9-bc11-4092-923f-cd38271005db",
   "metadata": {
    "tags": []
   },
   "outputs": [],
   "source": [
    "# air_cont_lda= pd.DataFrame(air_cont_lda)\n",
    "# air_cont_lda"
   ]
  },
  {
   "cell_type": "code",
   "execution_count": 35,
   "id": "9202b9b5-7d24-4ca5-a06d-1e40c7c30b44",
   "metadata": {
    "tags": []
   },
   "outputs": [],
   "source": [
    "# ttd_scored_all_v15= get_data_cuts(ttd_scored_all, q= 20, score= 'p1_v1_5')\n",
    "# print(ttd_scored_all.shape, ttd_scored_all_v15.shape)\n",
    "\n",
    "# air_cont_v15= []\n",
    "\n",
    "# for d in sorted(list(ttd_scored_all_v15['decile'].unique())):\n",
    "#     a= {}\n",
    "#     temp= ttd_scored_all_v15[ttd_scored_all_v15['decile']== d]\n",
    "#     print(d, temp.shape)\n",
    "#     a['decile']= d\n",
    "#     a['apps']= len(temp)\n",
    "#     a['min_pd']= temp['p1_v1_5'].min()\n",
    "#     a['mean_pd']= temp['p1_v1_5'].mean()\n",
    "#     a['max_pd']= temp['p1_v1_5'].max()\n",
    "    \n",
    "#     air_temp= air_calc_new(Equal_Approval_Cutoff_Barsath(temp, 'approve_flag', 'p1_v1_5'), 'AIR TTD')\n",
    "#     # print(air_temp)\n",
    "#     a[f'AIR Age']= air_temp['AIR TTDage_cuts'][0]\n",
    "#     a[f'AIR Race']= air_temp['AIR TTDRace'][0]\n",
    "#     a[f'AIR Race Black']= air_temp['AIR TTDRaceblack'][0]\n",
    "#     a[f'AIR Race Hispanic']= air_temp['AIR TTDRacehispanic'][0]\n",
    "#     a[f'AIR Gender']= air_temp['AIR TTDGender'][0]\n",
    "    \n",
    "#     air_cont_v15.append(a)\n",
    "#     print(a)\n",
    "#     del a, temp"
   ]
  },
  {
   "cell_type": "code",
   "execution_count": 36,
   "id": "d9ffc9d3-18e0-4a22-97ef-34eab7922913",
   "metadata": {
    "tags": []
   },
   "outputs": [],
   "source": [
    "# air_cont_v15= pd.DataFrame(air_cont_v15)\n",
    "# air_cont_v15"
   ]
  },
  {
   "cell_type": "markdown",
   "id": "db012936-720b-478b-966c-562da5108380",
   "metadata": {},
   "source": [
    "### Ashwin Approach"
   ]
  },
  {
   "cell_type": "code",
   "execution_count": 37,
   "id": "040af020-61fc-4bce-a8b5-12a406d93160",
   "metadata": {
    "tags": []
   },
   "outputs": [],
   "source": [
    "def percentage_approval_cutoff(pred, score_col, percentage, asc= True):\n",
    "    pred= pred.copy()\n",
    "    approved_count= int(len(pred)*percentage)\n",
    "    pred= pred.sort_values(by= [score_col], ascending= asc)\n",
    "    pred['con_wt']= 1\n",
    "    pred['cumsum']= pred['con_wt'].cumsum()\n",
    "    pred['approved']= np.where(pred['cumsum']<= approved_count, 1, 0)\n",
    "    return pred #cutoff, original_dataset"
   ]
  },
  {
   "cell_type": "code",
   "execution_count": 38,
   "id": "5e17edf8-5a48-4d2e-91c4-bcc9f2b824b7",
   "metadata": {
    "tags": []
   },
   "outputs": [],
   "source": [
    "def get_cutoffs_air(data, score, n_bkts= 20, asc= True):\n",
    "    data= data.copy()\n",
    "    # asc= asc.copy()\n",
    "    \n",
    "    air_details= []\n",
    "    for i in [0.10, 0.15, 0.20, 0.25, 0.30, 0.35, 0.40, 0.45, 0.50, 0.55, 0.60, 0.65, 0.70, 0.75, 0.80, 0.85, 0.90]:\n",
    "        perc= i #i*0.05\n",
    "        a= {}\n",
    "        a['cutoff']= perc\n",
    "        temp= percentage_approval_cutoff(data, score, perc, asc= asc)\n",
    "        a['min_pd']= temp[temp['approved']== 1][score].min()\n",
    "        a['max_pd']= temp[temp['approved']== 1][score].max()\n",
    "        a['ttd']= len(temp)\n",
    "        a['approved_client']= temp['approve_flag'].sum()\n",
    "        a['approved_scienaptic']= temp['approved'].sum()\n",
    "        temp_air= air_calc_new(temp, 'AIR TTD')\n",
    "        a[f'AIR Age']= temp_air['AIR TTDage_cuts'][0]\n",
    "        a[f'AIR Race']= temp_air['AIR TTDRace'][0]\n",
    "        a[f'AIR Race Black']= temp_air['AIR TTDRaceblack'][0]\n",
    "        a[f'AIR Race Hispanic']= temp_air['AIR TTDRacehispanic'][0]\n",
    "        a[f'AIR Gender']= temp_air['AIR TTDGender'][0]\n",
    "\n",
    "        air_details.append(a)\n",
    "        # print(a)\n",
    "        del a, temp, temp_air\n",
    "        \n",
    "    return pd.DataFrame(air_details)"
   ]
  },
  {
   "cell_type": "code",
   "execution_count": 39,
   "id": "f6526900-aa62-4ba3-b7ae-0d5e4d3d59fd",
   "metadata": {
    "tags": []
   },
   "outputs": [
    {
     "data": {
      "text/plain": [
       "0.5861007129149245"
      ]
     },
     "execution_count": 39,
     "metadata": {},
     "output_type": "execute_result"
    }
   ],
   "source": [
    "ttd_scored_all['approve_flag'].mean()"
   ]
  },
  {
   "cell_type": "code",
   "execution_count": 40,
   "id": "15b955ba-1404-48fa-a6cc-1a21295fedbd",
   "metadata": {
    "tags": []
   },
   "outputs": [
    {
     "data": {
      "text/plain": [
       "[0.5861007129149245, 4, 5, 6, 7, 8, 9, 10, 11, 12, 13, 14, 15]"
      ]
     },
     "execution_count": 40,
     "metadata": {},
     "output_type": "execute_result"
    }
   ],
   "source": [
    "[0.5861007129149245] + list(range(4, 16))"
   ]
  },
  {
   "cell_type": "code",
   "execution_count": 41,
   "id": "037b3127-ba15-4840-a9f1-b0def6ee5b92",
   "metadata": {
    "tags": []
   },
   "outputs": [
    {
     "data": {
      "text/html": [
       "<div>\n",
       "<style scoped>\n",
       "    .dataframe tbody tr th:only-of-type {\n",
       "        vertical-align: middle;\n",
       "    }\n",
       "\n",
       "    .dataframe tbody tr th {\n",
       "        vertical-align: top;\n",
       "    }\n",
       "\n",
       "    .dataframe thead th {\n",
       "        text-align: right;\n",
       "    }\n",
       "</style>\n",
       "<table border=\"1\" class=\"dataframe\">\n",
       "  <thead>\n",
       "    <tr style=\"text-align: right;\">\n",
       "      <th></th>\n",
       "      <th>cutoff</th>\n",
       "      <th>min_pd</th>\n",
       "      <th>max_pd</th>\n",
       "      <th>ttd</th>\n",
       "      <th>approved_client</th>\n",
       "      <th>approved_scienaptic</th>\n",
       "      <th>AIR Age</th>\n",
       "      <th>AIR Race</th>\n",
       "      <th>AIR Race Black</th>\n",
       "      <th>AIR Race Hispanic</th>\n",
       "      <th>AIR Gender</th>\n",
       "    </tr>\n",
       "  </thead>\n",
       "  <tbody>\n",
       "    <tr>\n",
       "      <th>0</th>\n",
       "      <td>0.10</td>\n",
       "      <td>0.005289</td>\n",
       "      <td>0.005875</td>\n",
       "      <td>685215</td>\n",
       "      <td>401605.0</td>\n",
       "      <td>68521</td>\n",
       "      <td>1.5913</td>\n",
       "      <td>0.4966</td>\n",
       "      <td>0.5794</td>\n",
       "      <td>0.4046</td>\n",
       "      <td>0.8231</td>\n",
       "    </tr>\n",
       "    <tr>\n",
       "      <th>1</th>\n",
       "      <td>0.15</td>\n",
       "      <td>0.005289</td>\n",
       "      <td>0.006468</td>\n",
       "      <td>685215</td>\n",
       "      <td>401605.0</td>\n",
       "      <td>102782</td>\n",
       "      <td>1.7104</td>\n",
       "      <td>0.5720</td>\n",
       "      <td>0.6334</td>\n",
       "      <td>0.5043</td>\n",
       "      <td>0.8225</td>\n",
       "    </tr>\n",
       "    <tr>\n",
       "      <th>2</th>\n",
       "      <td>0.20</td>\n",
       "      <td>0.005289</td>\n",
       "      <td>0.006586</td>\n",
       "      <td>685215</td>\n",
       "      <td>401605.0</td>\n",
       "      <td>137043</td>\n",
       "      <td>1.8580</td>\n",
       "      <td>0.6315</td>\n",
       "      <td>0.6963</td>\n",
       "      <td>0.5597</td>\n",
       "      <td>0.8361</td>\n",
       "    </tr>\n",
       "    <tr>\n",
       "      <th>3</th>\n",
       "      <td>0.25</td>\n",
       "      <td>0.005289</td>\n",
       "      <td>0.007273</td>\n",
       "      <td>685215</td>\n",
       "      <td>401605.0</td>\n",
       "      <td>171303</td>\n",
       "      <td>1.8425</td>\n",
       "      <td>0.6224</td>\n",
       "      <td>0.6843</td>\n",
       "      <td>0.5538</td>\n",
       "      <td>0.8393</td>\n",
       "    </tr>\n",
       "    <tr>\n",
       "      <th>4</th>\n",
       "      <td>0.30</td>\n",
       "      <td>0.005289</td>\n",
       "      <td>0.008012</td>\n",
       "      <td>685215</td>\n",
       "      <td>401605.0</td>\n",
       "      <td>205564</td>\n",
       "      <td>1.8447</td>\n",
       "      <td>0.6317</td>\n",
       "      <td>0.6906</td>\n",
       "      <td>0.5667</td>\n",
       "      <td>0.8493</td>\n",
       "    </tr>\n",
       "    <tr>\n",
       "      <th>5</th>\n",
       "      <td>0.35</td>\n",
       "      <td>0.005289</td>\n",
       "      <td>0.008979</td>\n",
       "      <td>685215</td>\n",
       "      <td>401605.0</td>\n",
       "      <td>239825</td>\n",
       "      <td>1.8279</td>\n",
       "      <td>0.6428</td>\n",
       "      <td>0.6839</td>\n",
       "      <td>0.5971</td>\n",
       "      <td>0.8505</td>\n",
       "    </tr>\n",
       "    <tr>\n",
       "      <th>6</th>\n",
       "      <td>0.40</td>\n",
       "      <td>0.005289</td>\n",
       "      <td>0.010209</td>\n",
       "      <td>685215</td>\n",
       "      <td>401605.0</td>\n",
       "      <td>274086</td>\n",
       "      <td>1.7429</td>\n",
       "      <td>0.6478</td>\n",
       "      <td>0.6715</td>\n",
       "      <td>0.6219</td>\n",
       "      <td>0.8529</td>\n",
       "    </tr>\n",
       "    <tr>\n",
       "      <th>7</th>\n",
       "      <td>0.45</td>\n",
       "      <td>0.005289</td>\n",
       "      <td>0.013283</td>\n",
       "      <td>685215</td>\n",
       "      <td>401605.0</td>\n",
       "      <td>308346</td>\n",
       "      <td>1.6349</td>\n",
       "      <td>0.6516</td>\n",
       "      <td>0.6646</td>\n",
       "      <td>0.6374</td>\n",
       "      <td>0.8693</td>\n",
       "    </tr>\n",
       "    <tr>\n",
       "      <th>8</th>\n",
       "      <td>0.50</td>\n",
       "      <td>0.005289</td>\n",
       "      <td>0.015229</td>\n",
       "      <td>685215</td>\n",
       "      <td>401605.0</td>\n",
       "      <td>342607</td>\n",
       "      <td>1.5429</td>\n",
       "      <td>0.6914</td>\n",
       "      <td>0.6897</td>\n",
       "      <td>0.6933</td>\n",
       "      <td>0.8893</td>\n",
       "    </tr>\n",
       "    <tr>\n",
       "      <th>9</th>\n",
       "      <td>0.55</td>\n",
       "      <td>0.005289</td>\n",
       "      <td>0.016803</td>\n",
       "      <td>685215</td>\n",
       "      <td>401605.0</td>\n",
       "      <td>376868</td>\n",
       "      <td>1.4688</td>\n",
       "      <td>0.7347</td>\n",
       "      <td>0.7324</td>\n",
       "      <td>0.7372</td>\n",
       "      <td>0.9136</td>\n",
       "    </tr>\n",
       "    <tr>\n",
       "      <th>10</th>\n",
       "      <td>0.60</td>\n",
       "      <td>0.005289</td>\n",
       "      <td>0.018214</td>\n",
       "      <td>685215</td>\n",
       "      <td>401605.0</td>\n",
       "      <td>411129</td>\n",
       "      <td>1.4238</td>\n",
       "      <td>0.7728</td>\n",
       "      <td>0.7629</td>\n",
       "      <td>0.7836</td>\n",
       "      <td>0.9289</td>\n",
       "    </tr>\n",
       "    <tr>\n",
       "      <th>11</th>\n",
       "      <td>0.65</td>\n",
       "      <td>0.005289</td>\n",
       "      <td>0.020237</td>\n",
       "      <td>685215</td>\n",
       "      <td>401605.0</td>\n",
       "      <td>445389</td>\n",
       "      <td>1.3765</td>\n",
       "      <td>0.8009</td>\n",
       "      <td>0.7922</td>\n",
       "      <td>0.8103</td>\n",
       "      <td>0.9412</td>\n",
       "    </tr>\n",
       "    <tr>\n",
       "      <th>12</th>\n",
       "      <td>0.70</td>\n",
       "      <td>0.005289</td>\n",
       "      <td>0.022375</td>\n",
       "      <td>685215</td>\n",
       "      <td>401605.0</td>\n",
       "      <td>479650</td>\n",
       "      <td>1.3169</td>\n",
       "      <td>0.8352</td>\n",
       "      <td>0.8215</td>\n",
       "      <td>0.8504</td>\n",
       "      <td>0.9513</td>\n",
       "    </tr>\n",
       "    <tr>\n",
       "      <th>13</th>\n",
       "      <td>0.75</td>\n",
       "      <td>0.005289</td>\n",
       "      <td>0.024805</td>\n",
       "      <td>685215</td>\n",
       "      <td>401605.0</td>\n",
       "      <td>513911</td>\n",
       "      <td>1.2578</td>\n",
       "      <td>0.8655</td>\n",
       "      <td>0.8440</td>\n",
       "      <td>0.8893</td>\n",
       "      <td>0.9617</td>\n",
       "    </tr>\n",
       "    <tr>\n",
       "      <th>14</th>\n",
       "      <td>0.80</td>\n",
       "      <td>0.005289</td>\n",
       "      <td>0.027743</td>\n",
       "      <td>685215</td>\n",
       "      <td>401605.0</td>\n",
       "      <td>548172</td>\n",
       "      <td>1.1961</td>\n",
       "      <td>0.8840</td>\n",
       "      <td>0.8522</td>\n",
       "      <td>0.9193</td>\n",
       "      <td>0.9723</td>\n",
       "    </tr>\n",
       "    <tr>\n",
       "      <th>15</th>\n",
       "      <td>0.85</td>\n",
       "      <td>0.005289</td>\n",
       "      <td>0.032983</td>\n",
       "      <td>685215</td>\n",
       "      <td>401605.0</td>\n",
       "      <td>582432</td>\n",
       "      <td>1.1387</td>\n",
       "      <td>0.9021</td>\n",
       "      <td>0.8604</td>\n",
       "      <td>0.9483</td>\n",
       "      <td>0.9811</td>\n",
       "    </tr>\n",
       "    <tr>\n",
       "      <th>16</th>\n",
       "      <td>0.90</td>\n",
       "      <td>0.005289</td>\n",
       "      <td>0.052705</td>\n",
       "      <td>685215</td>\n",
       "      <td>401605.0</td>\n",
       "      <td>616693</td>\n",
       "      <td>1.0868</td>\n",
       "      <td>0.9232</td>\n",
       "      <td>0.8840</td>\n",
       "      <td>0.9666</td>\n",
       "      <td>0.9898</td>\n",
       "    </tr>\n",
       "  </tbody>\n",
       "</table>\n",
       "</div>"
      ],
      "text/plain": [
       "    cutoff    min_pd    max_pd     ttd  approved_client  approved_scienaptic  \\\n",
       "0     0.10  0.005289  0.005875  685215         401605.0                68521   \n",
       "1     0.15  0.005289  0.006468  685215         401605.0               102782   \n",
       "2     0.20  0.005289  0.006586  685215         401605.0               137043   \n",
       "3     0.25  0.005289  0.007273  685215         401605.0               171303   \n",
       "4     0.30  0.005289  0.008012  685215         401605.0               205564   \n",
       "5     0.35  0.005289  0.008979  685215         401605.0               239825   \n",
       "6     0.40  0.005289  0.010209  685215         401605.0               274086   \n",
       "7     0.45  0.005289  0.013283  685215         401605.0               308346   \n",
       "8     0.50  0.005289  0.015229  685215         401605.0               342607   \n",
       "9     0.55  0.005289  0.016803  685215         401605.0               376868   \n",
       "10    0.60  0.005289  0.018214  685215         401605.0               411129   \n",
       "11    0.65  0.005289  0.020237  685215         401605.0               445389   \n",
       "12    0.70  0.005289  0.022375  685215         401605.0               479650   \n",
       "13    0.75  0.005289  0.024805  685215         401605.0               513911   \n",
       "14    0.80  0.005289  0.027743  685215         401605.0               548172   \n",
       "15    0.85  0.005289  0.032983  685215         401605.0               582432   \n",
       "16    0.90  0.005289  0.052705  685215         401605.0               616693   \n",
       "\n",
       "    AIR Age  AIR Race  AIR Race Black  AIR Race Hispanic  AIR Gender  \n",
       "0    1.5913    0.4966          0.5794             0.4046      0.8231  \n",
       "1    1.7104    0.5720          0.6334             0.5043      0.8225  \n",
       "2    1.8580    0.6315          0.6963             0.5597      0.8361  \n",
       "3    1.8425    0.6224          0.6843             0.5538      0.8393  \n",
       "4    1.8447    0.6317          0.6906             0.5667      0.8493  \n",
       "5    1.8279    0.6428          0.6839             0.5971      0.8505  \n",
       "6    1.7429    0.6478          0.6715             0.6219      0.8529  \n",
       "7    1.6349    0.6516          0.6646             0.6374      0.8693  \n",
       "8    1.5429    0.6914          0.6897             0.6933      0.8893  \n",
       "9    1.4688    0.7347          0.7324             0.7372      0.9136  \n",
       "10   1.4238    0.7728          0.7629             0.7836      0.9289  \n",
       "11   1.3765    0.8009          0.7922             0.8103      0.9412  \n",
       "12   1.3169    0.8352          0.8215             0.8504      0.9513  \n",
       "13   1.2578    0.8655          0.8440             0.8893      0.9617  \n",
       "14   1.1961    0.8840          0.8522             0.9193      0.9723  \n",
       "15   1.1387    0.9021          0.8604             0.9483      0.9811  \n",
       "16   1.0868    0.9232          0.8840             0.9666      0.9898  "
      ]
     },
     "execution_count": 41,
     "metadata": {},
     "output_type": "execute_result"
    }
   ],
   "source": [
    "air_cont_lda_ashwin= get_cutoffs_air(ttd_scored_all, 'p1_overall_lda')\n",
    "air_cont_lda_ashwin"
   ]
  },
  {
   "cell_type": "code",
   "execution_count": null,
   "id": "ea9a2e2b-f7c4-485d-ad60-5d0ecccfb70a",
   "metadata": {},
   "outputs": [],
   "source": []
  },
  {
   "cell_type": "code",
   "execution_count": null,
   "id": "bcf649c6-d893-4c75-8820-d338be7154bd",
   "metadata": {},
   "outputs": [],
   "source": []
  },
  {
   "cell_type": "code",
   "execution_count": 43,
   "id": "52d16431-1162-45d2-8fa6-3f025ef59a1a",
   "metadata": {
    "tags": []
   },
   "outputs": [
    {
     "name": "stdout",
     "output_type": "stream",
     "text": [
      "{'cutoff': 0.2, 'min_pd': 0.0052891406230628, 'max_pd': 0.0065857898443937, 'ttd': 685215, 'approved_client': 401605.0, 'approved_scienaptic': 137043, 'AIR Age': 1.858, 'AIR Race': 0.6315, 'AIR Race Black': 0.6963, 'AIR Race Hispanic': 0.5597, 'AIR Gender': 0.8361}\n",
      "{'cutoff': 0.25, 'min_pd': 0.0052891406230628, 'max_pd': 0.0072728926315903, 'ttd': 685215, 'approved_client': 401605.0, 'approved_scienaptic': 171303, 'AIR Age': 1.8425, 'AIR Race': 0.6224, 'AIR Race Black': 0.6843, 'AIR Race Hispanic': 0.5538, 'AIR Gender': 0.8393}\n",
      "{'cutoff': 0.3, 'min_pd': 0.0052891406230628, 'max_pd': 0.0080122668296098, 'ttd': 685215, 'approved_client': 401605.0, 'approved_scienaptic': 205564, 'AIR Age': 1.8447, 'AIR Race': 0.6317, 'AIR Race Black': 0.6906, 'AIR Race Hispanic': 0.5667, 'AIR Gender': 0.8493}\n",
      "{'cutoff': 0.35, 'min_pd': 0.0052891406230628, 'max_pd': 0.0089786034077405, 'ttd': 685215, 'approved_client': 401605.0, 'approved_scienaptic': 239825, 'AIR Age': 1.8279, 'AIR Race': 0.6428, 'AIR Race Black': 0.6839, 'AIR Race Hispanic': 0.5971, 'AIR Gender': 0.8505}\n",
      "{'cutoff': 0.4, 'min_pd': 0.0052891406230628, 'max_pd': 0.0102086691185832, 'ttd': 685215, 'approved_client': 401605.0, 'approved_scienaptic': 274086, 'AIR Age': 1.7429, 'AIR Race': 0.6478, 'AIR Race Black': 0.6715, 'AIR Race Hispanic': 0.6219, 'AIR Gender': 0.8529}\n",
      "{'cutoff': 0.45, 'min_pd': 0.0052891406230628, 'max_pd': 0.0132826464250683, 'ttd': 685215, 'approved_client': 401605.0, 'approved_scienaptic': 308346, 'AIR Age': 1.6349, 'AIR Race': 0.6516, 'AIR Race Black': 0.6646, 'AIR Race Hispanic': 0.6374, 'AIR Gender': 0.8693}\n",
      "{'cutoff': 0.5, 'min_pd': 0.0052891406230628, 'max_pd': 0.0152291860431432, 'ttd': 685215, 'approved_client': 401605.0, 'approved_scienaptic': 342607, 'AIR Age': 1.5429, 'AIR Race': 0.6914, 'AIR Race Black': 0.6897, 'AIR Race Hispanic': 0.6933, 'AIR Gender': 0.8893}\n",
      "{'cutoff': 0.55, 'min_pd': 0.0052891406230628, 'max_pd': 0.0168028585612773, 'ttd': 685215, 'approved_client': 401605.0, 'approved_scienaptic': 376868, 'AIR Age': 1.4688, 'AIR Race': 0.7347, 'AIR Race Black': 0.7324, 'AIR Race Hispanic': 0.7372, 'AIR Gender': 0.9136}\n",
      "{'cutoff': 0.5861007129149245, 'min_pd': 0.0052891406230628, 'max_pd': 0.018113387748599, 'ttd': 685215, 'approved_client': 401605.0, 'approved_scienaptic': 401605, 'AIR Age': 1.445, 'AIR Race': 0.7644, 'AIR Race Black': 0.7497, 'AIR Race Hispanic': 0.7804, 'AIR Gender': 0.9215}\n",
      "{'cutoff': 0.6, 'min_pd': 0.0052891406230628, 'max_pd': 0.0182144977152347, 'ttd': 685215, 'approved_client': 401605.0, 'approved_scienaptic': 411129, 'AIR Age': 1.4238, 'AIR Race': 0.7728, 'AIR Race Black': 0.7629, 'AIR Race Hispanic': 0.7836, 'AIR Gender': 0.9289}\n",
      "{'cutoff': 0.65, 'min_pd': 0.0052891406230628, 'max_pd': 0.020237186923623, 'ttd': 685215, 'approved_client': 401605.0, 'approved_scienaptic': 445389, 'AIR Age': 1.3765, 'AIR Race': 0.8009, 'AIR Race Black': 0.7922, 'AIR Race Hispanic': 0.8103, 'AIR Gender': 0.9412}\n",
      "{'cutoff': 0.7, 'min_pd': 0.0052891406230628, 'max_pd': 0.022374989464879, 'ttd': 685215, 'approved_client': 401605.0, 'approved_scienaptic': 479650, 'AIR Age': 1.3169, 'AIR Race': 0.8352, 'AIR Race Black': 0.8215, 'AIR Race Hispanic': 0.8504, 'AIR Gender': 0.9513}\n",
      "{'cutoff': 0.75, 'min_pd': 0.0052891406230628, 'max_pd': 0.024805225431919, 'ttd': 685215, 'approved_client': 401605.0, 'approved_scienaptic': 513911, 'AIR Age': 1.2578, 'AIR Race': 0.8655, 'AIR Race Black': 0.844, 'AIR Race Hispanic': 0.8893, 'AIR Gender': 0.9617}\n",
      "{'cutoff': 0.8, 'min_pd': 0.0052891406230628, 'max_pd': 0.0277434904128313, 'ttd': 685215, 'approved_client': 401605.0, 'approved_scienaptic': 548172, 'AIR Age': 1.1961, 'AIR Race': 0.884, 'AIR Race Black': 0.8522, 'AIR Race Hispanic': 0.9193, 'AIR Gender': 0.9723}\n",
      "{'cutoff': 0.85, 'min_pd': 0.0052891406230628, 'max_pd': 0.0329829566180706, 'ttd': 685215, 'approved_client': 401605.0, 'approved_scienaptic': 582432, 'AIR Age': 1.1387, 'AIR Race': 0.9021, 'AIR Race Black': 0.8604, 'AIR Race Hispanic': 0.9483, 'AIR Gender': 0.9811}\n"
     ]
    }
   ],
   "source": [
    "air_cont_lda_ashwin= []\n",
    "for i in [0.20, 0.25, 0.30, 0.35, 0.40, 0.45, 0.50, 0.55, 0.5861007129149245, 0.60, 0.65, 0.70, 0.75, 0.80, 0.85]:\n",
    "    perc= i #i*0.05\n",
    "    a= {}\n",
    "    a['cutoff']= perc\n",
    "    temp= percentage_approval_cutoff(ttd_scored_all, 'p1_overall_lda', perc)\n",
    "    a['min_pd']= temp[temp['approved']== 1]['p1_overall_lda'].min()\n",
    "    a['max_pd']= temp[temp['approved']== 1]['p1_overall_lda'].max()\n",
    "    a['ttd']= len(temp)\n",
    "    a['approved_client']= temp['approve_flag'].sum()\n",
    "    a['approved_scienaptic']= temp['approved'].sum()\n",
    "    temp_air= air_calc_new(temp, 'AIR TTD')\n",
    "    a[f'AIR Age']= temp_air['AIR TTDage_cuts'][0]\n",
    "    a[f'AIR Race']= temp_air['AIR TTDRace'][0]\n",
    "    a[f'AIR Race Black']= temp_air['AIR TTDRaceblack'][0]\n",
    "    a[f'AIR Race Hispanic']= temp_air['AIR TTDRacehispanic'][0]\n",
    "    a[f'AIR Gender']= temp_air['AIR TTDGender'][0]\n",
    "    \n",
    "    air_cont_lda_ashwin.append(a)\n",
    "    print(a)\n",
    "    del a, temp, temp_air"
   ]
  },
  {
   "cell_type": "code",
   "execution_count": 44,
   "id": "60247b0b-1ba8-46d9-b936-4ff1c24354c6",
   "metadata": {
    "tags": []
   },
   "outputs": [
    {
     "data": {
      "text/html": [
       "<div>\n",
       "<style scoped>\n",
       "    .dataframe tbody tr th:only-of-type {\n",
       "        vertical-align: middle;\n",
       "    }\n",
       "\n",
       "    .dataframe tbody tr th {\n",
       "        vertical-align: top;\n",
       "    }\n",
       "\n",
       "    .dataframe thead th {\n",
       "        text-align: right;\n",
       "    }\n",
       "</style>\n",
       "<table border=\"1\" class=\"dataframe\">\n",
       "  <thead>\n",
       "    <tr style=\"text-align: right;\">\n",
       "      <th></th>\n",
       "      <th>p1_overall_lda</th>\n",
       "      <th>p1_v1_5</th>\n",
       "    </tr>\n",
       "  </thead>\n",
       "  <tbody>\n",
       "    <tr>\n",
       "      <th>count</th>\n",
       "      <td>685215.000000</td>\n",
       "      <td>685215.000000</td>\n",
       "    </tr>\n",
       "    <tr>\n",
       "      <th>mean</th>\n",
       "      <td>0.021863</td>\n",
       "      <td>0.038407</td>\n",
       "    </tr>\n",
       "    <tr>\n",
       "      <th>std</th>\n",
       "      <td>0.022076</td>\n",
       "      <td>0.032355</td>\n",
       "    </tr>\n",
       "    <tr>\n",
       "      <th>min</th>\n",
       "      <td>0.005289</td>\n",
       "      <td>0.007456</td>\n",
       "    </tr>\n",
       "    <tr>\n",
       "      <th>25%</th>\n",
       "      <td>0.007273</td>\n",
       "      <td>0.014268</td>\n",
       "    </tr>\n",
       "    <tr>\n",
       "      <th>50%</th>\n",
       "      <td>0.015229</td>\n",
       "      <td>0.025966</td>\n",
       "    </tr>\n",
       "    <tr>\n",
       "      <th>75%</th>\n",
       "      <td>0.024805</td>\n",
       "      <td>0.052640</td>\n",
       "    </tr>\n",
       "    <tr>\n",
       "      <th>max</th>\n",
       "      <td>0.114281</td>\n",
       "      <td>0.190158</td>\n",
       "    </tr>\n",
       "  </tbody>\n",
       "</table>\n",
       "</div>"
      ],
      "text/plain": [
       "       p1_overall_lda        p1_v1_5\n",
       "count   685215.000000  685215.000000\n",
       "mean         0.021863       0.038407\n",
       "std          0.022076       0.032355\n",
       "min          0.005289       0.007456\n",
       "25%          0.007273       0.014268\n",
       "50%          0.015229       0.025966\n",
       "75%          0.024805       0.052640\n",
       "max          0.114281       0.190158"
      ]
     },
     "execution_count": 44,
     "metadata": {},
     "output_type": "execute_result"
    }
   ],
   "source": [
    "ttd_scored_all[['p1_overall_lda', 'p1_v1_5']].describe()"
   ]
  },
  {
   "cell_type": "code",
   "execution_count": 45,
   "id": "f074e8ad-b7a0-4a15-be8a-ea6a5360aad0",
   "metadata": {
    "tags": []
   },
   "outputs": [
    {
     "data": {
      "text/html": [
       "<div>\n",
       "<style scoped>\n",
       "    .dataframe tbody tr th:only-of-type {\n",
       "        vertical-align: middle;\n",
       "    }\n",
       "\n",
       "    .dataframe tbody tr th {\n",
       "        vertical-align: top;\n",
       "    }\n",
       "\n",
       "    .dataframe thead th {\n",
       "        text-align: right;\n",
       "    }\n",
       "</style>\n",
       "<table border=\"1\" class=\"dataframe\">\n",
       "  <thead>\n",
       "    <tr style=\"text-align: right;\">\n",
       "      <th></th>\n",
       "      <th>cutoff</th>\n",
       "      <th>min_pd</th>\n",
       "      <th>max_pd</th>\n",
       "      <th>ttd</th>\n",
       "      <th>approved_client</th>\n",
       "      <th>approved_scienaptic</th>\n",
       "      <th>AIR Age</th>\n",
       "      <th>AIR Race</th>\n",
       "      <th>AIR Race Black</th>\n",
       "      <th>AIR Race Hispanic</th>\n",
       "      <th>AIR Gender</th>\n",
       "    </tr>\n",
       "  </thead>\n",
       "  <tbody>\n",
       "    <tr>\n",
       "      <th>0</th>\n",
       "      <td>0.200000</td>\n",
       "      <td>0.005289</td>\n",
       "      <td>0.006586</td>\n",
       "      <td>685215</td>\n",
       "      <td>401605.0</td>\n",
       "      <td>137043</td>\n",
       "      <td>1.8580</td>\n",
       "      <td>0.6315</td>\n",
       "      <td>0.6963</td>\n",
       "      <td>0.5597</td>\n",
       "      <td>0.8361</td>\n",
       "    </tr>\n",
       "    <tr>\n",
       "      <th>1</th>\n",
       "      <td>0.250000</td>\n",
       "      <td>0.005289</td>\n",
       "      <td>0.007273</td>\n",
       "      <td>685215</td>\n",
       "      <td>401605.0</td>\n",
       "      <td>171303</td>\n",
       "      <td>1.8425</td>\n",
       "      <td>0.6224</td>\n",
       "      <td>0.6843</td>\n",
       "      <td>0.5538</td>\n",
       "      <td>0.8393</td>\n",
       "    </tr>\n",
       "    <tr>\n",
       "      <th>2</th>\n",
       "      <td>0.300000</td>\n",
       "      <td>0.005289</td>\n",
       "      <td>0.008012</td>\n",
       "      <td>685215</td>\n",
       "      <td>401605.0</td>\n",
       "      <td>205564</td>\n",
       "      <td>1.8447</td>\n",
       "      <td>0.6317</td>\n",
       "      <td>0.6906</td>\n",
       "      <td>0.5667</td>\n",
       "      <td>0.8493</td>\n",
       "    </tr>\n",
       "    <tr>\n",
       "      <th>3</th>\n",
       "      <td>0.350000</td>\n",
       "      <td>0.005289</td>\n",
       "      <td>0.008979</td>\n",
       "      <td>685215</td>\n",
       "      <td>401605.0</td>\n",
       "      <td>239825</td>\n",
       "      <td>1.8279</td>\n",
       "      <td>0.6428</td>\n",
       "      <td>0.6839</td>\n",
       "      <td>0.5971</td>\n",
       "      <td>0.8505</td>\n",
       "    </tr>\n",
       "    <tr>\n",
       "      <th>4</th>\n",
       "      <td>0.400000</td>\n",
       "      <td>0.005289</td>\n",
       "      <td>0.010209</td>\n",
       "      <td>685215</td>\n",
       "      <td>401605.0</td>\n",
       "      <td>274086</td>\n",
       "      <td>1.7429</td>\n",
       "      <td>0.6478</td>\n",
       "      <td>0.6715</td>\n",
       "      <td>0.6219</td>\n",
       "      <td>0.8529</td>\n",
       "    </tr>\n",
       "    <tr>\n",
       "      <th>5</th>\n",
       "      <td>0.450000</td>\n",
       "      <td>0.005289</td>\n",
       "      <td>0.013283</td>\n",
       "      <td>685215</td>\n",
       "      <td>401605.0</td>\n",
       "      <td>308346</td>\n",
       "      <td>1.6349</td>\n",
       "      <td>0.6516</td>\n",
       "      <td>0.6646</td>\n",
       "      <td>0.6374</td>\n",
       "      <td>0.8693</td>\n",
       "    </tr>\n",
       "    <tr>\n",
       "      <th>6</th>\n",
       "      <td>0.500000</td>\n",
       "      <td>0.005289</td>\n",
       "      <td>0.015229</td>\n",
       "      <td>685215</td>\n",
       "      <td>401605.0</td>\n",
       "      <td>342607</td>\n",
       "      <td>1.5429</td>\n",
       "      <td>0.6914</td>\n",
       "      <td>0.6897</td>\n",
       "      <td>0.6933</td>\n",
       "      <td>0.8893</td>\n",
       "    </tr>\n",
       "    <tr>\n",
       "      <th>7</th>\n",
       "      <td>0.550000</td>\n",
       "      <td>0.005289</td>\n",
       "      <td>0.016803</td>\n",
       "      <td>685215</td>\n",
       "      <td>401605.0</td>\n",
       "      <td>376868</td>\n",
       "      <td>1.4688</td>\n",
       "      <td>0.7347</td>\n",
       "      <td>0.7324</td>\n",
       "      <td>0.7372</td>\n",
       "      <td>0.9136</td>\n",
       "    </tr>\n",
       "    <tr>\n",
       "      <th>8</th>\n",
       "      <td>0.586101</td>\n",
       "      <td>0.005289</td>\n",
       "      <td>0.018113</td>\n",
       "      <td>685215</td>\n",
       "      <td>401605.0</td>\n",
       "      <td>401605</td>\n",
       "      <td>1.4450</td>\n",
       "      <td>0.7644</td>\n",
       "      <td>0.7497</td>\n",
       "      <td>0.7804</td>\n",
       "      <td>0.9215</td>\n",
       "    </tr>\n",
       "    <tr>\n",
       "      <th>9</th>\n",
       "      <td>0.600000</td>\n",
       "      <td>0.005289</td>\n",
       "      <td>0.018214</td>\n",
       "      <td>685215</td>\n",
       "      <td>401605.0</td>\n",
       "      <td>411129</td>\n",
       "      <td>1.4238</td>\n",
       "      <td>0.7728</td>\n",
       "      <td>0.7629</td>\n",
       "      <td>0.7836</td>\n",
       "      <td>0.9289</td>\n",
       "    </tr>\n",
       "    <tr>\n",
       "      <th>10</th>\n",
       "      <td>0.650000</td>\n",
       "      <td>0.005289</td>\n",
       "      <td>0.020237</td>\n",
       "      <td>685215</td>\n",
       "      <td>401605.0</td>\n",
       "      <td>445389</td>\n",
       "      <td>1.3765</td>\n",
       "      <td>0.8009</td>\n",
       "      <td>0.7922</td>\n",
       "      <td>0.8103</td>\n",
       "      <td>0.9412</td>\n",
       "    </tr>\n",
       "    <tr>\n",
       "      <th>11</th>\n",
       "      <td>0.700000</td>\n",
       "      <td>0.005289</td>\n",
       "      <td>0.022375</td>\n",
       "      <td>685215</td>\n",
       "      <td>401605.0</td>\n",
       "      <td>479650</td>\n",
       "      <td>1.3169</td>\n",
       "      <td>0.8352</td>\n",
       "      <td>0.8215</td>\n",
       "      <td>0.8504</td>\n",
       "      <td>0.9513</td>\n",
       "    </tr>\n",
       "    <tr>\n",
       "      <th>12</th>\n",
       "      <td>0.750000</td>\n",
       "      <td>0.005289</td>\n",
       "      <td>0.024805</td>\n",
       "      <td>685215</td>\n",
       "      <td>401605.0</td>\n",
       "      <td>513911</td>\n",
       "      <td>1.2578</td>\n",
       "      <td>0.8655</td>\n",
       "      <td>0.8440</td>\n",
       "      <td>0.8893</td>\n",
       "      <td>0.9617</td>\n",
       "    </tr>\n",
       "    <tr>\n",
       "      <th>13</th>\n",
       "      <td>0.800000</td>\n",
       "      <td>0.005289</td>\n",
       "      <td>0.027743</td>\n",
       "      <td>685215</td>\n",
       "      <td>401605.0</td>\n",
       "      <td>548172</td>\n",
       "      <td>1.1961</td>\n",
       "      <td>0.8840</td>\n",
       "      <td>0.8522</td>\n",
       "      <td>0.9193</td>\n",
       "      <td>0.9723</td>\n",
       "    </tr>\n",
       "    <tr>\n",
       "      <th>14</th>\n",
       "      <td>0.850000</td>\n",
       "      <td>0.005289</td>\n",
       "      <td>0.032983</td>\n",
       "      <td>685215</td>\n",
       "      <td>401605.0</td>\n",
       "      <td>582432</td>\n",
       "      <td>1.1387</td>\n",
       "      <td>0.9021</td>\n",
       "      <td>0.8604</td>\n",
       "      <td>0.9483</td>\n",
       "      <td>0.9811</td>\n",
       "    </tr>\n",
       "  </tbody>\n",
       "</table>\n",
       "</div>"
      ],
      "text/plain": [
       "      cutoff    min_pd    max_pd     ttd  approved_client  \\\n",
       "0   0.200000  0.005289  0.006586  685215         401605.0   \n",
       "1   0.250000  0.005289  0.007273  685215         401605.0   \n",
       "2   0.300000  0.005289  0.008012  685215         401605.0   \n",
       "3   0.350000  0.005289  0.008979  685215         401605.0   \n",
       "4   0.400000  0.005289  0.010209  685215         401605.0   \n",
       "5   0.450000  0.005289  0.013283  685215         401605.0   \n",
       "6   0.500000  0.005289  0.015229  685215         401605.0   \n",
       "7   0.550000  0.005289  0.016803  685215         401605.0   \n",
       "8   0.586101  0.005289  0.018113  685215         401605.0   \n",
       "9   0.600000  0.005289  0.018214  685215         401605.0   \n",
       "10  0.650000  0.005289  0.020237  685215         401605.0   \n",
       "11  0.700000  0.005289  0.022375  685215         401605.0   \n",
       "12  0.750000  0.005289  0.024805  685215         401605.0   \n",
       "13  0.800000  0.005289  0.027743  685215         401605.0   \n",
       "14  0.850000  0.005289  0.032983  685215         401605.0   \n",
       "\n",
       "    approved_scienaptic  AIR Age  AIR Race  AIR Race Black  AIR Race Hispanic  \\\n",
       "0                137043   1.8580    0.6315          0.6963             0.5597   \n",
       "1                171303   1.8425    0.6224          0.6843             0.5538   \n",
       "2                205564   1.8447    0.6317          0.6906             0.5667   \n",
       "3                239825   1.8279    0.6428          0.6839             0.5971   \n",
       "4                274086   1.7429    0.6478          0.6715             0.6219   \n",
       "5                308346   1.6349    0.6516          0.6646             0.6374   \n",
       "6                342607   1.5429    0.6914          0.6897             0.6933   \n",
       "7                376868   1.4688    0.7347          0.7324             0.7372   \n",
       "8                401605   1.4450    0.7644          0.7497             0.7804   \n",
       "9                411129   1.4238    0.7728          0.7629             0.7836   \n",
       "10               445389   1.3765    0.8009          0.7922             0.8103   \n",
       "11               479650   1.3169    0.8352          0.8215             0.8504   \n",
       "12               513911   1.2578    0.8655          0.8440             0.8893   \n",
       "13               548172   1.1961    0.8840          0.8522             0.9193   \n",
       "14               582432   1.1387    0.9021          0.8604             0.9483   \n",
       "\n",
       "    AIR Gender  \n",
       "0       0.8361  \n",
       "1       0.8393  \n",
       "2       0.8493  \n",
       "3       0.8505  \n",
       "4       0.8529  \n",
       "5       0.8693  \n",
       "6       0.8893  \n",
       "7       0.9136  \n",
       "8       0.9215  \n",
       "9       0.9289  \n",
       "10      0.9412  \n",
       "11      0.9513  \n",
       "12      0.9617  \n",
       "13      0.9723  \n",
       "14      0.9811  "
      ]
     },
     "execution_count": 45,
     "metadata": {},
     "output_type": "execute_result"
    }
   ],
   "source": [
    "air_cont_lda_ashwin= pd.DataFrame(air_cont_lda_ashwin)\n",
    "air_cont_lda_ashwin"
   ]
  },
  {
   "cell_type": "code",
   "execution_count": 50,
   "id": "ab3d5810-2a24-4d26-bca4-e89c0508fa20",
   "metadata": {
    "tags": []
   },
   "outputs": [],
   "source": [
    "air_cont_v15_ashwin= []\n",
    "for i in [0.20, 0.25, 0.30, 0.35, 0.40, 0.45, 0.50, 0.55, 0.5861007129149245, 0.60, 0.65, 0.70, 0.75, 0.80, 0.85]:\n",
    "    perc= i #i*0.05\n",
    "    a= {}\n",
    "    a['cutoff']= perc\n",
    "    temp= percentage_approval_cutoff(ttd_scored_all, 'p1_v1_5', perc)\n",
    "    a['min_pd']= temp[temp['approved']== 1]['p1_v1_5'].min()\n",
    "    a['max_pd']= temp[temp['approved']== 1]['p1_v1_5'].max()\n",
    "    a['ttd']= len(temp)\n",
    "    a['approved_client']= temp['approve_flag'].sum()\n",
    "    a['approved_scienaptic']= temp['approved'].sum()\n",
    "    temp_air= air_calc_new(temp, 'AIR TTD')\n",
    "    a[f'AIR Age']= temp_air['AIR TTDage_cuts'][0]\n",
    "    a[f'AIR Race']= temp_air['AIR TTDRace'][0]\n",
    "    a[f'AIR Race Black']= temp_air['AIR TTDRaceblack'][0]\n",
    "    a[f'AIR Race Hispanic']= temp_air['AIR TTDRacehispanic'][0]\n",
    "    a[f'AIR Gender']= temp_air['AIR TTDGender'][0]\n",
    "    \n",
    "    air_cont_v15_ashwin.append(a)\n",
    "    del a, temp_air"
   ]
  },
  {
   "cell_type": "code",
   "execution_count": 51,
   "id": "5b8e9614-a6d0-4ae2-a49d-2a0195320a3c",
   "metadata": {},
   "outputs": [
    {
     "data": {
      "text/html": [
       "<div>\n",
       "<style scoped>\n",
       "    .dataframe tbody tr th:only-of-type {\n",
       "        vertical-align: middle;\n",
       "    }\n",
       "\n",
       "    .dataframe tbody tr th {\n",
       "        vertical-align: top;\n",
       "    }\n",
       "\n",
       "    .dataframe thead th {\n",
       "        text-align: right;\n",
       "    }\n",
       "</style>\n",
       "<table border=\"1\" class=\"dataframe\">\n",
       "  <thead>\n",
       "    <tr style=\"text-align: right;\">\n",
       "      <th></th>\n",
       "      <th>cutoff</th>\n",
       "      <th>min_pd</th>\n",
       "      <th>max_pd</th>\n",
       "      <th>ttd</th>\n",
       "      <th>approved_client</th>\n",
       "      <th>approved_scienaptic</th>\n",
       "      <th>AIR Age</th>\n",
       "      <th>AIR Race</th>\n",
       "      <th>AIR Race Black</th>\n",
       "      <th>AIR Race Hispanic</th>\n",
       "      <th>AIR Gender</th>\n",
       "    </tr>\n",
       "  </thead>\n",
       "  <tbody>\n",
       "    <tr>\n",
       "      <th>0</th>\n",
       "      <td>0.200000</td>\n",
       "      <td>0.007456</td>\n",
       "      <td>0.013025</td>\n",
       "      <td>685215</td>\n",
       "      <td>401605.0</td>\n",
       "      <td>137043</td>\n",
       "      <td>1.6096</td>\n",
       "      <td>0.4638</td>\n",
       "      <td>0.4981</td>\n",
       "      <td>0.4257</td>\n",
       "      <td>0.8418</td>\n",
       "    </tr>\n",
       "    <tr>\n",
       "      <th>1</th>\n",
       "      <td>0.250000</td>\n",
       "      <td>0.007456</td>\n",
       "      <td>0.014268</td>\n",
       "      <td>685215</td>\n",
       "      <td>401605.0</td>\n",
       "      <td>171303</td>\n",
       "      <td>1.6072</td>\n",
       "      <td>0.4964</td>\n",
       "      <td>0.5161</td>\n",
       "      <td>0.4751</td>\n",
       "      <td>0.8533</td>\n",
       "    </tr>\n",
       "    <tr>\n",
       "      <th>2</th>\n",
       "      <td>0.300000</td>\n",
       "      <td>0.007456</td>\n",
       "      <td>0.015816</td>\n",
       "      <td>685215</td>\n",
       "      <td>401605.0</td>\n",
       "      <td>205564</td>\n",
       "      <td>1.6373</td>\n",
       "      <td>0.5276</td>\n",
       "      <td>0.5339</td>\n",
       "      <td>0.5202</td>\n",
       "      <td>0.8629</td>\n",
       "    </tr>\n",
       "    <tr>\n",
       "      <th>3</th>\n",
       "      <td>0.350000</td>\n",
       "      <td>0.007456</td>\n",
       "      <td>0.017901</td>\n",
       "      <td>685215</td>\n",
       "      <td>401605.0</td>\n",
       "      <td>239825</td>\n",
       "      <td>1.6328</td>\n",
       "      <td>0.5497</td>\n",
       "      <td>0.5465</td>\n",
       "      <td>0.5534</td>\n",
       "      <td>0.8714</td>\n",
       "    </tr>\n",
       "    <tr>\n",
       "      <th>4</th>\n",
       "      <td>0.400000</td>\n",
       "      <td>0.007456</td>\n",
       "      <td>0.020287</td>\n",
       "      <td>685215</td>\n",
       "      <td>401605.0</td>\n",
       "      <td>274086</td>\n",
       "      <td>1.5932</td>\n",
       "      <td>0.5732</td>\n",
       "      <td>0.5624</td>\n",
       "      <td>0.5852</td>\n",
       "      <td>0.8850</td>\n",
       "    </tr>\n",
       "    <tr>\n",
       "      <th>5</th>\n",
       "      <td>0.450000</td>\n",
       "      <td>0.007456</td>\n",
       "      <td>0.022776</td>\n",
       "      <td>685215</td>\n",
       "      <td>401605.0</td>\n",
       "      <td>308346</td>\n",
       "      <td>1.5381</td>\n",
       "      <td>0.6101</td>\n",
       "      <td>0.5891</td>\n",
       "      <td>0.6332</td>\n",
       "      <td>0.9013</td>\n",
       "    </tr>\n",
       "    <tr>\n",
       "      <th>6</th>\n",
       "      <td>0.500000</td>\n",
       "      <td>0.007456</td>\n",
       "      <td>0.025966</td>\n",
       "      <td>685215</td>\n",
       "      <td>401605.0</td>\n",
       "      <td>342607</td>\n",
       "      <td>1.4902</td>\n",
       "      <td>0.6424</td>\n",
       "      <td>0.6131</td>\n",
       "      <td>0.6746</td>\n",
       "      <td>0.9168</td>\n",
       "    </tr>\n",
       "    <tr>\n",
       "      <th>7</th>\n",
       "      <td>0.550000</td>\n",
       "      <td>0.007456</td>\n",
       "      <td>0.029316</td>\n",
       "      <td>685215</td>\n",
       "      <td>401605.0</td>\n",
       "      <td>376868</td>\n",
       "      <td>1.4479</td>\n",
       "      <td>0.6844</td>\n",
       "      <td>0.6420</td>\n",
       "      <td>0.7314</td>\n",
       "      <td>0.9295</td>\n",
       "    </tr>\n",
       "    <tr>\n",
       "      <th>8</th>\n",
       "      <td>0.586101</td>\n",
       "      <td>0.007456</td>\n",
       "      <td>0.032332</td>\n",
       "      <td>685215</td>\n",
       "      <td>401605.0</td>\n",
       "      <td>401605</td>\n",
       "      <td>1.4141</td>\n",
       "      <td>0.7115</td>\n",
       "      <td>0.6549</td>\n",
       "      <td>0.7740</td>\n",
       "      <td>0.9355</td>\n",
       "    </tr>\n",
       "    <tr>\n",
       "      <th>9</th>\n",
       "      <td>0.600000</td>\n",
       "      <td>0.007456</td>\n",
       "      <td>0.033842</td>\n",
       "      <td>685215</td>\n",
       "      <td>401605.0</td>\n",
       "      <td>411129</td>\n",
       "      <td>1.3975</td>\n",
       "      <td>0.7167</td>\n",
       "      <td>0.6580</td>\n",
       "      <td>0.7817</td>\n",
       "      <td>0.9385</td>\n",
       "    </tr>\n",
       "    <tr>\n",
       "      <th>10</th>\n",
       "      <td>0.650000</td>\n",
       "      <td>0.007456</td>\n",
       "      <td>0.039297</td>\n",
       "      <td>685215</td>\n",
       "      <td>401605.0</td>\n",
       "      <td>445389</td>\n",
       "      <td>1.3349</td>\n",
       "      <td>0.7525</td>\n",
       "      <td>0.6810</td>\n",
       "      <td>0.8318</td>\n",
       "      <td>0.9470</td>\n",
       "    </tr>\n",
       "    <tr>\n",
       "      <th>11</th>\n",
       "      <td>0.700000</td>\n",
       "      <td>0.007456</td>\n",
       "      <td>0.045917</td>\n",
       "      <td>685215</td>\n",
       "      <td>401605.0</td>\n",
       "      <td>479650</td>\n",
       "      <td>1.2874</td>\n",
       "      <td>0.7854</td>\n",
       "      <td>0.7279</td>\n",
       "      <td>0.8491</td>\n",
       "      <td>0.9582</td>\n",
       "    </tr>\n",
       "    <tr>\n",
       "      <th>12</th>\n",
       "      <td>0.750000</td>\n",
       "      <td>0.007456</td>\n",
       "      <td>0.052640</td>\n",
       "      <td>685215</td>\n",
       "      <td>401605.0</td>\n",
       "      <td>513911</td>\n",
       "      <td>1.2427</td>\n",
       "      <td>0.8203</td>\n",
       "      <td>0.7720</td>\n",
       "      <td>0.8738</td>\n",
       "      <td>0.9644</td>\n",
       "    </tr>\n",
       "    <tr>\n",
       "      <th>13</th>\n",
       "      <td>0.800000</td>\n",
       "      <td>0.007456</td>\n",
       "      <td>0.060346</td>\n",
       "      <td>685215</td>\n",
       "      <td>401605.0</td>\n",
       "      <td>548172</td>\n",
       "      <td>1.1931</td>\n",
       "      <td>0.8530</td>\n",
       "      <td>0.8059</td>\n",
       "      <td>0.9052</td>\n",
       "      <td>0.9712</td>\n",
       "    </tr>\n",
       "    <tr>\n",
       "      <th>14</th>\n",
       "      <td>0.850000</td>\n",
       "      <td>0.007456</td>\n",
       "      <td>0.070411</td>\n",
       "      <td>685215</td>\n",
       "      <td>401605.0</td>\n",
       "      <td>582432</td>\n",
       "      <td>1.1429</td>\n",
       "      <td>0.8829</td>\n",
       "      <td>0.8365</td>\n",
       "      <td>0.9341</td>\n",
       "      <td>0.9781</td>\n",
       "    </tr>\n",
       "  </tbody>\n",
       "</table>\n",
       "</div>"
      ],
      "text/plain": [
       "      cutoff    min_pd    max_pd     ttd  approved_client  \\\n",
       "0   0.200000  0.007456  0.013025  685215         401605.0   \n",
       "1   0.250000  0.007456  0.014268  685215         401605.0   \n",
       "2   0.300000  0.007456  0.015816  685215         401605.0   \n",
       "3   0.350000  0.007456  0.017901  685215         401605.0   \n",
       "4   0.400000  0.007456  0.020287  685215         401605.0   \n",
       "5   0.450000  0.007456  0.022776  685215         401605.0   \n",
       "6   0.500000  0.007456  0.025966  685215         401605.0   \n",
       "7   0.550000  0.007456  0.029316  685215         401605.0   \n",
       "8   0.586101  0.007456  0.032332  685215         401605.0   \n",
       "9   0.600000  0.007456  0.033842  685215         401605.0   \n",
       "10  0.650000  0.007456  0.039297  685215         401605.0   \n",
       "11  0.700000  0.007456  0.045917  685215         401605.0   \n",
       "12  0.750000  0.007456  0.052640  685215         401605.0   \n",
       "13  0.800000  0.007456  0.060346  685215         401605.0   \n",
       "14  0.850000  0.007456  0.070411  685215         401605.0   \n",
       "\n",
       "    approved_scienaptic  AIR Age  AIR Race  AIR Race Black  AIR Race Hispanic  \\\n",
       "0                137043   1.6096    0.4638          0.4981             0.4257   \n",
       "1                171303   1.6072    0.4964          0.5161             0.4751   \n",
       "2                205564   1.6373    0.5276          0.5339             0.5202   \n",
       "3                239825   1.6328    0.5497          0.5465             0.5534   \n",
       "4                274086   1.5932    0.5732          0.5624             0.5852   \n",
       "5                308346   1.5381    0.6101          0.5891             0.6332   \n",
       "6                342607   1.4902    0.6424          0.6131             0.6746   \n",
       "7                376868   1.4479    0.6844          0.6420             0.7314   \n",
       "8                401605   1.4141    0.7115          0.6549             0.7740   \n",
       "9                411129   1.3975    0.7167          0.6580             0.7817   \n",
       "10               445389   1.3349    0.7525          0.6810             0.8318   \n",
       "11               479650   1.2874    0.7854          0.7279             0.8491   \n",
       "12               513911   1.2427    0.8203          0.7720             0.8738   \n",
       "13               548172   1.1931    0.8530          0.8059             0.9052   \n",
       "14               582432   1.1429    0.8829          0.8365             0.9341   \n",
       "\n",
       "    AIR Gender  \n",
       "0       0.8418  \n",
       "1       0.8533  \n",
       "2       0.8629  \n",
       "3       0.8714  \n",
       "4       0.8850  \n",
       "5       0.9013  \n",
       "6       0.9168  \n",
       "7       0.9295  \n",
       "8       0.9355  \n",
       "9       0.9385  \n",
       "10      0.9470  \n",
       "11      0.9582  \n",
       "12      0.9644  \n",
       "13      0.9712  \n",
       "14      0.9781  "
      ]
     },
     "execution_count": 51,
     "metadata": {},
     "output_type": "execute_result"
    }
   ],
   "source": [
    "air_cont_v15_ashwin= pd.DataFrame(air_cont_v15_ashwin)\n",
    "air_cont_v15_ashwin"
   ]
  },
  {
   "cell_type": "code",
   "execution_count": 52,
   "id": "eff76a33-ad4b-45be-b8fc-7c763f43bed5",
   "metadata": {
    "tags": []
   },
   "outputs": [
    {
     "data": {
      "text/plain": [
       "(685215, 17)"
      ]
     },
     "execution_count": 52,
     "metadata": {},
     "output_type": "execute_result"
    }
   ],
   "source": [
    "temp.shape"
   ]
  },
  {
   "cell_type": "code",
   "execution_count": 53,
   "id": "15aaa243-d7a2-4660-bef7-cfbf39a6537a",
   "metadata": {
    "tags": []
   },
   "outputs": [
    {
     "data": {
      "text/plain": [
       "approve_flag    401605.0\n",
       "approved        582432.0\n",
       "dtype: float64"
      ]
     },
     "execution_count": 53,
     "metadata": {},
     "output_type": "execute_result"
    }
   ],
   "source": [
    "temp[['approve_flag', 'approved']].sum()"
   ]
  },
  {
   "cell_type": "code",
   "execution_count": 54,
   "id": "3d9ab9c3-c5f0-4b46-be09-69bc99ae5dcb",
   "metadata": {
    "tags": []
   },
   "outputs": [
    {
     "data": {
      "text/html": [
       "<div>\n",
       "<style scoped>\n",
       "    .dataframe tbody tr th:only-of-type {\n",
       "        vertical-align: middle;\n",
       "    }\n",
       "\n",
       "    .dataframe tbody tr th {\n",
       "        vertical-align: top;\n",
       "    }\n",
       "\n",
       "    .dataframe thead th {\n",
       "        text-align: right;\n",
       "    }\n",
       "</style>\n",
       "<table border=\"1\" class=\"dataframe\">\n",
       "  <thead>\n",
       "    <tr style=\"text-align: right;\">\n",
       "      <th></th>\n",
       "      <th>ttd</th>\n",
       "      <th>approved</th>\n",
       "    </tr>\n",
       "    <tr>\n",
       "      <th>Gender</th>\n",
       "      <th></th>\n",
       "      <th></th>\n",
       "    </tr>\n",
       "  </thead>\n",
       "  <tbody>\n",
       "    <tr>\n",
       "      <th>F</th>\n",
       "      <td>260261</td>\n",
       "      <td>219820</td>\n",
       "    </tr>\n",
       "    <tr>\n",
       "      <th>I</th>\n",
       "      <td>51041</td>\n",
       "      <td>39738</td>\n",
       "    </tr>\n",
       "    <tr>\n",
       "      <th>M</th>\n",
       "      <td>373913</td>\n",
       "      <td>322874</td>\n",
       "    </tr>\n",
       "  </tbody>\n",
       "</table>\n",
       "</div>"
      ],
      "text/plain": [
       "           ttd  approved\n",
       "Gender                  \n",
       "F       260261    219820\n",
       "I        51041     39738\n",
       "M       373913    322874"
      ]
     },
     "execution_count": 54,
     "metadata": {},
     "output_type": "execute_result"
    }
   ],
   "source": [
    "temp.groupby('Gender').agg(\n",
    "    ttd= ('unique_id', 'count'),\n",
    "    approved= ('approved', 'sum')\n",
    ")"
   ]
  },
  {
   "cell_type": "code",
   "execution_count": 55,
   "id": "52c745e7-92e4-4d74-ad02-66e3cacab9cd",
   "metadata": {
    "tags": []
   },
   "outputs": [
    {
     "data": {
      "text/plain": [
       "(   min_score  max_score  mean_score         total         Goods         Bads  \\\n",
       " 0   0.050637   0.188945    0.079493  49036.601375  45764.793618  3271.807758   \n",
       " 1   0.026892   0.050637    0.036356  49033.880827  47919.076067  1114.804760   \n",
       " 2   0.017259   0.026892    0.021436  49033.372583  48537.475651   495.896932   \n",
       " 3   0.012215   0.017259    0.014430  49034.536000  48778.201661   256.334340   \n",
       " 4   0.007456   0.012215    0.010070  49034.263867  48937.865601    96.398266   \n",
       " \n",
       "    Bad_Rate  Cum_Total  Cum_Good  Cum_Bad     KS  \n",
       " 0      6.67       20.0     19.07    62.50  43.43  \n",
       " 1      2.27       40.0     39.05    83.79  44.74  \n",
       " 2      1.01       60.0     59.27    93.26  33.99  \n",
       " 3      0.52       80.0     79.60    98.16  18.56  \n",
       " 4      0.20      100.0    100.00   100.00   0.00  ,\n",
       " {'Gini': 56.28999999999999, 'KS': 44.74})"
      ]
     },
     "execution_count": 55,
     "metadata": {},
     "output_type": "execute_result"
    }
   ],
   "source": [
    "rnkOrderingN(train_scored_all, 'bad_flag', 'wt2', 'p1_v1_5', 5)"
   ]
  },
  {
   "cell_type": "code",
   "execution_count": 56,
   "id": "4dd8e5f0-d508-4e69-b1ae-c548c09d5db8",
   "metadata": {
    "tags": []
   },
   "outputs": [
    {
     "data": {
      "text/plain": [
       "(   min_score  max_score  mean_score  total    Goods    Bads  Bad_Rate  \\\n",
       " 0   0.037367   0.188945    0.066938  29372  27925.0  1447.0      4.93   \n",
       " 1   0.021351   0.037367    0.027660  29370  28948.0   422.0      1.44   \n",
       " 2   0.014759   0.021351    0.017651  29372  29179.0   193.0      0.66   \n",
       " 3   0.011293   0.014759    0.012917  29371  29253.0   118.0      0.40   \n",
       " 4   0.007456   0.011293    0.009593  29370  29323.0    47.0      0.16   \n",
       " \n",
       "    Cum_Total  Cum_Good  Cum_Bad     KS  \n",
       " 0       20.0     19.31    64.98  45.67  \n",
       " 1       40.0     39.32    83.92  44.60  \n",
       " 2       60.0     59.50    92.59  33.09  \n",
       " 3       80.0     79.73    97.89  18.16  \n",
       " 4      100.0    100.00   100.00   0.00  ,\n",
       " {'Gini': 56.61000000000001, 'KS': 45.67})"
      ]
     },
     "execution_count": 56,
     "metadata": {},
     "output_type": "execute_result"
    }
   ],
   "source": [
    "rnkOrderingN(train_scored_all, 'bad_flag', None, 'p1_v1_5', 5)"
   ]
  },
  {
   "cell_type": "code",
   "execution_count": null,
   "id": "32f532fd-a859-43e3-874c-04507a82f42c",
   "metadata": {},
   "outputs": [],
   "source": []
  },
  {
   "cell_type": "markdown",
   "id": "c86330ac-b0b0-4f6b-9a01-4e6ae81dd221",
   "metadata": {},
   "source": [
    "### Non-LDA TTD Scored"
   ]
  },
  {
   "cell_type": "code",
   "execution_count": 57,
   "id": "519f8cdd-0a3e-4770-91a8-fe457b403d4f",
   "metadata": {},
   "outputs": [
    {
     "data": {
      "text/plain": [
       "(685215, 12)"
      ]
     },
     "execution_count": 57,
     "metadata": {},
     "output_type": "execute_result"
    }
   ],
   "source": [
    "df_non_lda_ttd= pd.read_csv('/root/Unified_LN_V2/LN_Auto_V2/Model_Data/Without_LDA_Auto_LN_V2/Without_LDA/Without_LDA_TTD_Auto_LN_V2_Scored_Data_2024-04-01.csv')\n",
    "df_non_lda_ttd.shape"
   ]
  },
  {
   "cell_type": "code",
   "execution_count": 58,
   "id": "2d66d1f5-b265-47b8-a498-a974c080109a",
   "metadata": {},
   "outputs": [
    {
     "data": {
      "text/plain": [
       "571239"
      ]
     },
     "execution_count": 58,
     "metadata": {},
     "output_type": "execute_result"
    }
   ],
   "source": [
    "df_non_lda_ttd['p1'].nunique()"
   ]
  },
  {
   "cell_type": "code",
   "execution_count": 59,
   "id": "678793fc-556f-47b8-9320-cd92233e8444",
   "metadata": {
    "tags": []
   },
   "outputs": [
    {
     "data": {
      "text/plain": [
       "309"
      ]
     },
     "execution_count": 59,
     "metadata": {},
     "output_type": "execute_result"
    }
   ],
   "source": [
    "df_non_lda_ttd['3_digit_score']= df_non_lda_ttd['p1'].apply(lambda x: convert_to_3_digit(x))\n",
    "df_non_lda_ttd['3_digit_score'].nunique()"
   ]
  },
  {
   "cell_type": "code",
   "execution_count": 60,
   "id": "48de2643-2470-442f-8ca6-383920dedaa0",
   "metadata": {
    "tags": []
   },
   "outputs": [
    {
     "data": {
      "text/plain": [
       "count    685215.000000\n",
       "mean        737.619089\n",
       "std          47.272061\n",
       "min         544.000000\n",
       "25%         704.000000\n",
       "50%         739.000000\n",
       "75%         774.000000\n",
       "max         860.000000\n",
       "Name: 3_digit_score, dtype: float64"
      ]
     },
     "execution_count": 60,
     "metadata": {},
     "output_type": "execute_result"
    }
   ],
   "source": [
    "df_non_lda_ttd['3_digit_score'].describe()"
   ]
  },
  {
   "cell_type": "code",
   "execution_count": 61,
   "id": "fae61a43-1540-483f-9291-151c20c381e6",
   "metadata": {
    "tags": []
   },
   "outputs": [],
   "source": [
    "air_cont_v15_ashwin= []\n",
    "for i in [0.20, 0.25, 0.30, 0.35, 0.40, 0.45, 0.50, 0.55, 0.5861007129149245, 0.60, 0.65, 0.70, 0.75, 0.80, 0.85]:\n",
    "    perc= i #i*0.05\n",
    "    a= {}\n",
    "    a['cutoff']= perc\n",
    "    temp= percentage_approval_cutoff(df_non_lda_ttd, 'p1', perc)\n",
    "    a['min_pd']= temp[temp['approved']== 1]['p1'].min()\n",
    "    a['max_pd']= temp[temp['approved']== 1]['p1'].max()\n",
    "    a['ttd']= len(temp)\n",
    "    a['approved_client']= temp['approve_flag'].sum()\n",
    "    a['approved_scienaptic']= temp['approved'].sum()\n",
    "    temp_air= air_calc_new(temp, 'AIR TTD')\n",
    "    a[f'AIR Age']= temp_air['AIR TTDage_cuts'][0]\n",
    "    a[f'AIR Race']= temp_air['AIR TTDRace'][0]\n",
    "    a[f'AIR Race Black']= temp_air['AIR TTDRaceblack'][0]\n",
    "    a[f'AIR Race Hispanic']= temp_air['AIR TTDRacehispanic'][0]\n",
    "    a[f'AIR Gender']= temp_air['AIR TTDGender'][0]\n",
    "    \n",
    "    air_cont_v15_ashwin.append(a)\n",
    "    del a, temp_air"
   ]
  },
  {
   "cell_type": "code",
   "execution_count": 62,
   "id": "c60e6d31-8b45-4471-ad9b-233e79bb03ee",
   "metadata": {
    "tags": []
   },
   "outputs": [
    {
     "data": {
      "text/html": [
       "<div>\n",
       "<style scoped>\n",
       "    .dataframe tbody tr th:only-of-type {\n",
       "        vertical-align: middle;\n",
       "    }\n",
       "\n",
       "    .dataframe tbody tr th {\n",
       "        vertical-align: top;\n",
       "    }\n",
       "\n",
       "    .dataframe thead th {\n",
       "        text-align: right;\n",
       "    }\n",
       "</style>\n",
       "<table border=\"1\" class=\"dataframe\">\n",
       "  <thead>\n",
       "    <tr style=\"text-align: right;\">\n",
       "      <th></th>\n",
       "      <th>cutoff</th>\n",
       "      <th>min_pd</th>\n",
       "      <th>max_pd</th>\n",
       "      <th>ttd</th>\n",
       "      <th>approved_client</th>\n",
       "      <th>approved_scienaptic</th>\n",
       "      <th>AIR Age</th>\n",
       "      <th>AIR Race</th>\n",
       "      <th>AIR Race Black</th>\n",
       "      <th>AIR Race Hispanic</th>\n",
       "      <th>AIR Gender</th>\n",
       "    </tr>\n",
       "  </thead>\n",
       "  <tbody>\n",
       "    <tr>\n",
       "      <th>0</th>\n",
       "      <td>0.200000</td>\n",
       "      <td>0.000761</td>\n",
       "      <td>0.004658</td>\n",
       "      <td>685215</td>\n",
       "      <td>401605.0</td>\n",
       "      <td>137043</td>\n",
       "      <td>1.6385</td>\n",
       "      <td>0.3882</td>\n",
       "      <td>0.4910</td>\n",
       "      <td>0.2749</td>\n",
       "      <td>0.8478</td>\n",
       "    </tr>\n",
       "    <tr>\n",
       "      <th>1</th>\n",
       "      <td>0.250000</td>\n",
       "      <td>0.000761</td>\n",
       "      <td>0.005487</td>\n",
       "      <td>685215</td>\n",
       "      <td>401605.0</td>\n",
       "      <td>171303</td>\n",
       "      <td>1.6612</td>\n",
       "      <td>0.4260</td>\n",
       "      <td>0.5208</td>\n",
       "      <td>0.3208</td>\n",
       "      <td>0.8609</td>\n",
       "    </tr>\n",
       "    <tr>\n",
       "      <th>2</th>\n",
       "      <td>0.300000</td>\n",
       "      <td>0.000761</td>\n",
       "      <td>0.006428</td>\n",
       "      <td>685215</td>\n",
       "      <td>401605.0</td>\n",
       "      <td>205564</td>\n",
       "      <td>1.6679</td>\n",
       "      <td>0.4631</td>\n",
       "      <td>0.5534</td>\n",
       "      <td>0.3630</td>\n",
       "      <td>0.8725</td>\n",
       "    </tr>\n",
       "    <tr>\n",
       "      <th>3</th>\n",
       "      <td>0.350000</td>\n",
       "      <td>0.000761</td>\n",
       "      <td>0.007518</td>\n",
       "      <td>685215</td>\n",
       "      <td>401605.0</td>\n",
       "      <td>239825</td>\n",
       "      <td>1.6563</td>\n",
       "      <td>0.4962</td>\n",
       "      <td>0.5755</td>\n",
       "      <td>0.4085</td>\n",
       "      <td>0.8845</td>\n",
       "    </tr>\n",
       "    <tr>\n",
       "      <th>4</th>\n",
       "      <td>0.400000</td>\n",
       "      <td>0.000761</td>\n",
       "      <td>0.008828</td>\n",
       "      <td>685215</td>\n",
       "      <td>401605.0</td>\n",
       "      <td>274086</td>\n",
       "      <td>1.6314</td>\n",
       "      <td>0.5287</td>\n",
       "      <td>0.5981</td>\n",
       "      <td>0.4518</td>\n",
       "      <td>0.8975</td>\n",
       "    </tr>\n",
       "    <tr>\n",
       "      <th>5</th>\n",
       "      <td>0.450000</td>\n",
       "      <td>0.000761</td>\n",
       "      <td>0.010400</td>\n",
       "      <td>685215</td>\n",
       "      <td>401605.0</td>\n",
       "      <td>308346</td>\n",
       "      <td>1.5980</td>\n",
       "      <td>0.5642</td>\n",
       "      <td>0.6264</td>\n",
       "      <td>0.4952</td>\n",
       "      <td>0.9119</td>\n",
       "    </tr>\n",
       "    <tr>\n",
       "      <th>6</th>\n",
       "      <td>0.500000</td>\n",
       "      <td>0.000761</td>\n",
       "      <td>0.012298</td>\n",
       "      <td>685215</td>\n",
       "      <td>401605.0</td>\n",
       "      <td>342607</td>\n",
       "      <td>1.5528</td>\n",
       "      <td>0.6006</td>\n",
       "      <td>0.6575</td>\n",
       "      <td>0.5378</td>\n",
       "      <td>0.9268</td>\n",
       "    </tr>\n",
       "    <tr>\n",
       "      <th>7</th>\n",
       "      <td>0.550000</td>\n",
       "      <td>0.000761</td>\n",
       "      <td>0.014531</td>\n",
       "      <td>685215</td>\n",
       "      <td>401605.0</td>\n",
       "      <td>376868</td>\n",
       "      <td>1.5019</td>\n",
       "      <td>0.6365</td>\n",
       "      <td>0.6880</td>\n",
       "      <td>0.5796</td>\n",
       "      <td>0.9406</td>\n",
       "    </tr>\n",
       "    <tr>\n",
       "      <th>8</th>\n",
       "      <td>0.586101</td>\n",
       "      <td>0.000761</td>\n",
       "      <td>0.016341</td>\n",
       "      <td>685215</td>\n",
       "      <td>401605.0</td>\n",
       "      <td>401605</td>\n",
       "      <td>1.4596</td>\n",
       "      <td>0.6601</td>\n",
       "      <td>0.7071</td>\n",
       "      <td>0.6082</td>\n",
       "      <td>0.9478</td>\n",
       "    </tr>\n",
       "    <tr>\n",
       "      <th>9</th>\n",
       "      <td>0.600000</td>\n",
       "      <td>0.000761</td>\n",
       "      <td>0.017092</td>\n",
       "      <td>685215</td>\n",
       "      <td>401605.0</td>\n",
       "      <td>411129</td>\n",
       "      <td>1.4431</td>\n",
       "      <td>0.6702</td>\n",
       "      <td>0.7153</td>\n",
       "      <td>0.6202</td>\n",
       "      <td>0.9518</td>\n",
       "    </tr>\n",
       "    <tr>\n",
       "      <th>10</th>\n",
       "      <td>0.650000</td>\n",
       "      <td>0.000761</td>\n",
       "      <td>0.020009</td>\n",
       "      <td>685215</td>\n",
       "      <td>401605.0</td>\n",
       "      <td>445389</td>\n",
       "      <td>1.3845</td>\n",
       "      <td>0.7059</td>\n",
       "      <td>0.7397</td>\n",
       "      <td>0.6685</td>\n",
       "      <td>0.9639</td>\n",
       "    </tr>\n",
       "    <tr>\n",
       "      <th>11</th>\n",
       "      <td>0.700000</td>\n",
       "      <td>0.000761</td>\n",
       "      <td>0.023275</td>\n",
       "      <td>685215</td>\n",
       "      <td>401605.0</td>\n",
       "      <td>479650</td>\n",
       "      <td>1.3248</td>\n",
       "      <td>0.7484</td>\n",
       "      <td>0.7669</td>\n",
       "      <td>0.7278</td>\n",
       "      <td>0.9743</td>\n",
       "    </tr>\n",
       "    <tr>\n",
       "      <th>12</th>\n",
       "      <td>0.750000</td>\n",
       "      <td>0.000761</td>\n",
       "      <td>0.027022</td>\n",
       "      <td>685215</td>\n",
       "      <td>401605.0</td>\n",
       "      <td>513911</td>\n",
       "      <td>1.2624</td>\n",
       "      <td>0.7925</td>\n",
       "      <td>0.7930</td>\n",
       "      <td>0.7919</td>\n",
       "      <td>0.9812</td>\n",
       "    </tr>\n",
       "    <tr>\n",
       "      <th>13</th>\n",
       "      <td>0.800000</td>\n",
       "      <td>0.000761</td>\n",
       "      <td>0.031750</td>\n",
       "      <td>685215</td>\n",
       "      <td>401605.0</td>\n",
       "      <td>548172</td>\n",
       "      <td>1.2030</td>\n",
       "      <td>0.8349</td>\n",
       "      <td>0.8186</td>\n",
       "      <td>0.8529</td>\n",
       "      <td>0.9873</td>\n",
       "    </tr>\n",
       "    <tr>\n",
       "      <th>14</th>\n",
       "      <td>0.850000</td>\n",
       "      <td>0.000761</td>\n",
       "      <td>0.038831</td>\n",
       "      <td>685215</td>\n",
       "      <td>401605.0</td>\n",
       "      <td>582432</td>\n",
       "      <td>1.1453</td>\n",
       "      <td>0.8731</td>\n",
       "      <td>0.8452</td>\n",
       "      <td>0.9040</td>\n",
       "      <td>0.9925</td>\n",
       "    </tr>\n",
       "  </tbody>\n",
       "</table>\n",
       "</div>"
      ],
      "text/plain": [
       "      cutoff    min_pd    max_pd     ttd  approved_client  \\\n",
       "0   0.200000  0.000761  0.004658  685215         401605.0   \n",
       "1   0.250000  0.000761  0.005487  685215         401605.0   \n",
       "2   0.300000  0.000761  0.006428  685215         401605.0   \n",
       "3   0.350000  0.000761  0.007518  685215         401605.0   \n",
       "4   0.400000  0.000761  0.008828  685215         401605.0   \n",
       "5   0.450000  0.000761  0.010400  685215         401605.0   \n",
       "6   0.500000  0.000761  0.012298  685215         401605.0   \n",
       "7   0.550000  0.000761  0.014531  685215         401605.0   \n",
       "8   0.586101  0.000761  0.016341  685215         401605.0   \n",
       "9   0.600000  0.000761  0.017092  685215         401605.0   \n",
       "10  0.650000  0.000761  0.020009  685215         401605.0   \n",
       "11  0.700000  0.000761  0.023275  685215         401605.0   \n",
       "12  0.750000  0.000761  0.027022  685215         401605.0   \n",
       "13  0.800000  0.000761  0.031750  685215         401605.0   \n",
       "14  0.850000  0.000761  0.038831  685215         401605.0   \n",
       "\n",
       "    approved_scienaptic  AIR Age  AIR Race  AIR Race Black  AIR Race Hispanic  \\\n",
       "0                137043   1.6385    0.3882          0.4910             0.2749   \n",
       "1                171303   1.6612    0.4260          0.5208             0.3208   \n",
       "2                205564   1.6679    0.4631          0.5534             0.3630   \n",
       "3                239825   1.6563    0.4962          0.5755             0.4085   \n",
       "4                274086   1.6314    0.5287          0.5981             0.4518   \n",
       "5                308346   1.5980    0.5642          0.6264             0.4952   \n",
       "6                342607   1.5528    0.6006          0.6575             0.5378   \n",
       "7                376868   1.5019    0.6365          0.6880             0.5796   \n",
       "8                401605   1.4596    0.6601          0.7071             0.6082   \n",
       "9                411129   1.4431    0.6702          0.7153             0.6202   \n",
       "10               445389   1.3845    0.7059          0.7397             0.6685   \n",
       "11               479650   1.3248    0.7484          0.7669             0.7278   \n",
       "12               513911   1.2624    0.7925          0.7930             0.7919   \n",
       "13               548172   1.2030    0.8349          0.8186             0.8529   \n",
       "14               582432   1.1453    0.8731          0.8452             0.9040   \n",
       "\n",
       "    AIR Gender  \n",
       "0       0.8478  \n",
       "1       0.8609  \n",
       "2       0.8725  \n",
       "3       0.8845  \n",
       "4       0.8975  \n",
       "5       0.9119  \n",
       "6       0.9268  \n",
       "7       0.9406  \n",
       "8       0.9478  \n",
       "9       0.9518  \n",
       "10      0.9639  \n",
       "11      0.9743  \n",
       "12      0.9812  \n",
       "13      0.9873  \n",
       "14      0.9925  "
      ]
     },
     "execution_count": 62,
     "metadata": {},
     "output_type": "execute_result"
    }
   ],
   "source": [
    "air_cont_v15_ashwin= pd.DataFrame(air_cont_v15_ashwin)\n",
    "air_cont_v15_ashwin"
   ]
  },
  {
   "cell_type": "code",
   "execution_count": null,
   "id": "96c0df2c-d979-4518-92dc-b3ed4d331d1c",
   "metadata": {},
   "outputs": [],
   "source": []
  },
  {
   "cell_type": "code",
   "execution_count": null,
   "id": "d57d39c4-cb5c-4331-a32a-5c2b351dacf0",
   "metadata": {},
   "outputs": [],
   "source": []
  },
  {
   "cell_type": "code",
   "execution_count": null,
   "id": "e5dc3ccd-fe87-4563-9750-3a01122b7968",
   "metadata": {},
   "outputs": [],
   "source": []
  },
  {
   "cell_type": "markdown",
   "id": "aef92e06-9501-44fa-b3ff-1e5fa1ee2f80",
   "metadata": {},
   "source": [
    "### Plot ROC AUC Score"
   ]
  },
  {
   "cell_type": "code",
   "execution_count": 57,
   "id": "a0847030-b949-4edf-a4d1-b7ccbdbdc63f",
   "metadata": {
    "tags": []
   },
   "outputs": [],
   "source": [
    "import matplotlib.pyplot as plt\n",
    "import seaborn as sns\n",
    "\n",
    "from sklearn.metrics import auc, roc_auc_score, roc_curve#, plot_roc_curve\n",
    "\n",
    "### Plot ROC Curve\n",
    "def plot_roc_auc(y, y_, model):\n",
    "    plt.figure(figsize= (10, 4))\n",
    "    lr_fpr, lr_tpr, _= roc_curve(y, y_)\n",
    "    \n",
    "    y__= np.zeros((len(y), 1))\n",
    "    ns_fpr, ns_tpr, _= roc_curve(y, y__)\n",
    "    \n",
    "    # plot the roc curve for the model\n",
    "    plt.plot(ns_fpr, ns_tpr, linestyle='--', label='No Skill')\n",
    "    plt.plot(lr_fpr, lr_tpr, marker='.', label= model)\n",
    "    # axis labels\n",
    "    plt.xlabel('False Positive Rate')\n",
    "    plt.ylabel('True Positive Rate')\n",
    "    plt.title(f'{model}, AUC Score: {round(auc(lr_fpr, lr_tpr), 4)}')\n",
    "    # show the legend\n",
    "#     plt.legend()\n",
    "    # show the plot\n",
    "    plt.show()"
   ]
  },
  {
   "cell_type": "code",
   "execution_count": 58,
   "id": "7354ee77-880d-4fbc-8b33-1b9eb2503765",
   "metadata": {
    "tags": []
   },
   "outputs": [
    {
     "data": {
      "image/png": "[encoded data removed]",
      "text/plain": [
       "<Figure size 1000x400 with 1 Axes>"
      ]
     },
     "metadata": {},
     "output_type": "display_data"
    }
   ],
   "source": [
    "plot_roc_auc(\n",
    "    ttd_scored_all['approve_flag'],\n",
    "    1-ttd_scored_all['p1_overall_lda'],\n",
    "    'LDA PD'\n",
    ")"
   ]
  },
  {
   "cell_type": "code",
   "execution_count": 59,
   "id": "a7cb147a-cbe6-49c9-bc69-8f1a20650408",
   "metadata": {
    "jupyter": {
     "source_hidden": true
    },
    "tags": []
   },
   "outputs": [
    {
     "data": {
      "image/png": "[encoded data removed]",
      "text/plain": [
       "<Figure size 1000x400 with 1 Axes>"
      ]
     },
     "metadata": {},
     "output_type": "display_data"
    }
   ],
   "source": [
    "plot_roc_auc(\n",
    "    ttd_scored_all['approve_flag'],\n",
    "    1-ttd_scored_all['p1_v1_5'],\n",
    "    'LDA PD'\n",
    ")"
   ]
  },
  {
   "cell_type": "code",
   "execution_count": 60,
   "id": "1bf3e4e4-1989-4249-8c45-963a45df3c46",
   "metadata": {
    "tags": []
   },
   "outputs": [
    {
     "data": {
      "image/png": "[encoded data removed]",
      "text/plain": [
       "<Figure size 640x480 with 1 Axes>"
      ]
     },
     "metadata": {},
     "output_type": "display_data"
    }
   ],
   "source": [
    "import matplotlib.pyplot as plt\n",
    "from sklearn.metrics import precision_recall_curve\n",
    "from sklearn.metrics import average_precision_score\n",
    "\n",
    "# Assuming you have your true labels (y_true) and predicted scores (y_score):\n",
    "y_true = ttd_scored_all['approve_flag']\n",
    "y_score = ttd_scored_all['p1_overall_lda']\n",
    "\n",
    "# Calculate precision, recall, and thresholds\n",
    "precision, recall, thresholds = precision_recall_curve(y_true, y_score)\n",
    "\n",
    "# Calculate average precision score\n",
    "average_precision = average_precision_score(y_true, y_score)\n",
    "\n",
    "# Plot the precision-recall curve\n",
    "plt.plot(recall, precision, label='Precision-Recall Curve')\n",
    "plt.xlabel('Recall')\n",
    "plt.ylabel('Precision')\n",
    "\n",
    "# Plot the average precision score\n",
    "plt.plot([0, 1], [average_precision, average_precision], linestyle='--', label='Average Precision = {0:0.2f}'.format(average_precision))\n",
    "\n",
    "# Add plot labels and title\n",
    "plt.xlim([0.0, 1.0])\n",
    "plt.ylim([0.0, 1.05])\n",
    "plt.title('Precision-Recall Curve')\n",
    "plt.legend()\n",
    "plt.show()"
   ]
  },
  {
   "cell_type": "code",
   "execution_count": 61,
   "id": "79f718e8-9968-4c50-ba1e-1404540d8458",
   "metadata": {
    "tags": []
   },
   "outputs": [
    {
     "data": {
      "image/png": "[encoded data removed]",
      "text/plain": [
       "<Figure size 640x480 with 1 Axes>"
      ]
     },
     "metadata": {},
     "output_type": "display_data"
    }
   ],
   "source": [
    "import matplotlib.pyplot as plt\n",
    "from sklearn.metrics import precision_recall_curve\n",
    "from sklearn.metrics import average_precision_score\n",
    "\n",
    "# Assuming you have your true labels (y_true) and predicted scores (y_score):\n",
    "y_true = ttd_scored_all['approve_flag']\n",
    "y_score = ttd_scored_all['p1_v1_5']\n",
    "\n",
    "# Calculate precision, recall, and thresholds\n",
    "precision, recall, thresholds = precision_recall_curve(y_true, y_score)\n",
    "\n",
    "# Calculate average precision score\n",
    "average_precision = average_precision_score(y_true, y_score)\n",
    "\n",
    "# Plot the precision-recall curve\n",
    "plt.plot(recall, precision, label='Precision-Recall Curve')\n",
    "plt.xlabel('Recall')\n",
    "plt.ylabel('Precision')\n",
    "\n",
    "# Plot the average precision score\n",
    "plt.plot([0, 1], [average_precision, average_precision], linestyle='--', label='Average Precision = {0:0.2f}'.format(average_precision))\n",
    "\n",
    "# Add plot labels and title\n",
    "plt.xlim([0.0, 1.0])\n",
    "plt.ylim([0.0, 1.05])\n",
    "plt.title('Precision-Recall Curve')\n",
    "plt.legend()\n",
    "plt.show()"
   ]
  },
  {
   "cell_type": "code",
   "execution_count": 63,
   "id": "03a92c97-5171-46c1-89fe-1b45e587cb70",
   "metadata": {
    "tags": []
   },
   "outputs": [
    {
     "data": {
      "text/html": [
       "<div>\n",
       "<style scoped>\n",
       "    .dataframe tbody tr th:only-of-type {\n",
       "        vertical-align: middle;\n",
       "    }\n",
       "\n",
       "    .dataframe tbody tr th {\n",
       "        vertical-align: top;\n",
       "    }\n",
       "\n",
       "    .dataframe thead th {\n",
       "        text-align: right;\n",
       "    }\n",
       "</style>\n",
       "<table border=\"1\" class=\"dataframe\">\n",
       "  <thead>\n",
       "    <tr style=\"text-align: right;\">\n",
       "      <th></th>\n",
       "      <th>cumsum_pd</th>\n",
       "      <th>cumsum</th>\n",
       "    </tr>\n",
       "  </thead>\n",
       "  <tbody>\n",
       "    <tr>\n",
       "      <th>count</th>\n",
       "      <td>685215.000000</td>\n",
       "      <td>685215.000000</td>\n",
       "    </tr>\n",
       "    <tr>\n",
       "      <th>mean</th>\n",
       "      <td>4013.725837</td>\n",
       "      <td>342608.000000</td>\n",
       "    </tr>\n",
       "    <tr>\n",
       "      <th>std</th>\n",
       "      <td>3645.994429</td>\n",
       "      <td>197804.676689</td>\n",
       "    </tr>\n",
       "    <tr>\n",
       "      <th>min</th>\n",
       "      <td>0.005289</td>\n",
       "      <td>1.000000</td>\n",
       "    </tr>\n",
       "    <tr>\n",
       "      <th>25%</th>\n",
       "      <td>1045.429865</td>\n",
       "      <td>171304.500000</td>\n",
       "    </tr>\n",
       "    <tr>\n",
       "      <th>50%</th>\n",
       "      <td>2824.731354</td>\n",
       "      <td>342608.000000</td>\n",
       "    </tr>\n",
       "    <tr>\n",
       "      <th>75%</th>\n",
       "      <td>6198.147887</td>\n",
       "      <td>513911.500000</td>\n",
       "    </tr>\n",
       "    <tr>\n",
       "      <th>max</th>\n",
       "      <td>14980.727381</td>\n",
       "      <td>685215.000000</td>\n",
       "    </tr>\n",
       "  </tbody>\n",
       "</table>\n",
       "</div>"
      ],
      "text/plain": [
       "           cumsum_pd         cumsum\n",
       "count  685215.000000  685215.000000\n",
       "mean     4013.725837  342608.000000\n",
       "std      3645.994429  197804.676689\n",
       "min         0.005289       1.000000\n",
       "25%      1045.429865  171304.500000\n",
       "50%      2824.731354  342608.000000\n",
       "75%      6198.147887  513911.500000\n",
       "max     14980.727381  685215.000000"
      ]
     },
     "execution_count": 63,
     "metadata": {},
     "output_type": "execute_result"
    }
   ],
   "source": [
    "ttd_scored_all_lda['cumsum_pd']= ttd_scored_all_lda['p1_overall_lda'].cumsum()\n",
    "ttd_scored_all_lda[['cumsum_pd', 'cumsum']].describe()"
   ]
  },
  {
   "cell_type": "code",
   "execution_count": 65,
   "id": "93702296-e731-4cb8-981d-a667afca03ee",
   "metadata": {
    "tags": []
   },
   "outputs": [],
   "source": [
    "ttd_scored_all_lda['cumsum_bad']= ttd_scored_all_lda['bad_flag'].cumsum()"
   ]
  },
  {
   "cell_type": "code",
   "execution_count": 68,
   "id": "fa90a478-6f09-4cb5-a3c0-81129a817c30",
   "metadata": {
    "tags": []
   },
   "outputs": [
    {
     "data": {
      "text/plain": [
       "<Axes: >"
      ]
     },
     "execution_count": 68,
     "metadata": {},
     "output_type": "execute_result"
    },
    {
     "data": {
      "image/png": "[encoded data removed]",
      "text/plain": [
       "<Figure size 1000x400 with 2 Axes>"
      ]
     },
     "metadata": {},
     "output_type": "display_data"
    }
   ],
   "source": [
    "ttd_scored_all_lda[['cumsum_bad', 'cumsum_pd']].plot(secondary_y= 'cumsum_pd', figsize= (10, 4))"
   ]
  },
  {
   "cell_type": "code",
   "execution_count": null,
   "id": "b3951d51-aaa1-4137-95f9-c3723eedfdd9",
   "metadata": {},
   "outputs": [],
   "source": []
  }
 ],
 "metadata": {
  "availableInstances": [
   {
    "_defaultOrder": 0,
    "_isFastLaunch": true,
    "category": "General purpose",
    "gpuNum": 0,
    "hideHardwareSpecs": false,
    "memoryGiB": 4,
    "name": "ml.t3.medium",
    "vcpuNum": 2
   },
   {
    "_defaultOrder": 1,
    "_isFastLaunch": false,
    "category": "General purpose",
    "gpuNum": 0,
    "hideHardwareSpecs": false,
    "memoryGiB": 8,
    "name": "ml.t3.large",
    "vcpuNum": 2
   },
   {
    "_defaultOrder": 2,
    "_isFastLaunch": false,
    "category": "General purpose",
    "gpuNum": 0,
    "hideHardwareSpecs": false,
    "memoryGiB": 16,
    "name": "ml.t3.xlarge",
    "vcpuNum": 4
   },
   {
    "_defaultOrder": 3,
    "_isFastLaunch": false,
    "category": "General purpose",
    "gpuNum": 0,
    "hideHardwareSpecs": false,
    "memoryGiB": 32,
    "name": "ml.t3.2xlarge",
    "vcpuNum": 8
   },
   {
    "_defaultOrder": 4,
    "_isFastLaunch": true,
    "category": "General purpose",
    "gpuNum": 0,
    "hideHardwareSpecs": false,
    "memoryGiB": 8,
    "name": "ml.m5.large",
    "vcpuNum": 2
   },
   {
    "_defaultOrder": 5,
    "_isFastLaunch": false,
    "category": "General purpose",
    "gpuNum": 0,
    "hideHardwareSpecs": false,
    "memoryGiB": 16,
    "name": "ml.m5.xlarge",
    "vcpuNum": 4
   },
   {
    "_defaultOrder": 6,
    "_isFastLaunch": false,
    "category": "General purpose",
    "gpuNum": 0,
    "hideHardwareSpecs": false,
    "memoryGiB": 32,
    "name": "ml.m5.2xlarge",
    "vcpuNum": 8
   },
   {
    "_defaultOrder": 7,
    "_isFastLaunch": false,
    "category": "General purpose",
    "gpuNum": 0,
    "hideHardwareSpecs": false,
    "memoryGiB": 64,
    "name": "ml.m5.4xlarge",
    "vcpuNum": 16
   },
   {
    "_defaultOrder": 8,
    "_isFastLaunch": false,
    "category": "General purpose",
    "gpuNum": 0,
    "hideHardwareSpecs": false,
    "memoryGiB": 128,
    "name": "ml.m5.8xlarge",
    "vcpuNum": 32
   },
   {
    "_defaultOrder": 9,
    "_isFastLaunch": false,
    "category": "General purpose",
    "gpuNum": 0,
    "hideHardwareSpecs": false,
    "memoryGiB": 192,
    "name": "ml.m5.12xlarge",
    "vcpuNum": 48
   },
   {
    "_defaultOrder": 10,
    "_isFastLaunch": false,
    "category": "General purpose",
    "gpuNum": 0,
    "hideHardwareSpecs": false,
    "memoryGiB": 256,
    "name": "ml.m5.16xlarge",
    "vcpuNum": 64
   },
   {
    "_defaultOrder": 11,
    "_isFastLaunch": false,
    "category": "General purpose",
    "gpuNum": 0,
    "hideHardwareSpecs": false,
    "memoryGiB": 384,
    "name": "ml.m5.24xlarge",
    "vcpuNum": 96
   },
   {
    "_defaultOrder": 12,
    "_isFastLaunch": false,
    "category": "General purpose",
    "gpuNum": 0,
    "hideHardwareSpecs": false,
    "memoryGiB": 8,
    "name": "ml.m5d.large",
    "vcpuNum": 2
   },
   {
    "_defaultOrder": 13,
    "_isFastLaunch": false,
    "category": "General purpose",
    "gpuNum": 0,
    "hideHardwareSpecs": false,
    "memoryGiB": 16,
    "name": "ml.m5d.xlarge",
    "vcpuNum": 4
   },
   {
    "_defaultOrder": 14,
    "_isFastLaunch": false,
    "category": "General purpose",
    "gpuNum": 0,
    "hideHardwareSpecs": false,
    "memoryGiB": 32,
    "name": "ml.m5d.2xlarge",
    "vcpuNum": 8
   },
   {
    "_defaultOrder": 15,
    "_isFastLaunch": false,
    "category": "General purpose",
    "gpuNum": 0,
    "hideHardwareSpecs": false,
    "memoryGiB": 64,
    "name": "ml.m5d.4xlarge",
    "vcpuNum": 16
   },
   {
    "_defaultOrder": 16,
    "_isFastLaunch": false,
    "category": "General purpose",
    "gpuNum": 0,
    "hideHardwareSpecs": false,
    "memoryGiB": 128,
    "name": "ml.m5d.8xlarge",
    "vcpuNum": 32
   },
   {
    "_defaultOrder": 17,
    "_isFastLaunch": false,
    "category": "General purpose",
    "gpuNum": 0,
    "hideHardwareSpecs": false,
    "memoryGiB": 192,
    "name": "ml.m5d.12xlarge",
    "vcpuNum": 48
   },
   {
    "_defaultOrder": 18,
    "_isFastLaunch": false,
    "category": "General purpose",
    "gpuNum": 0,
    "hideHardwareSpecs": false,
    "memoryGiB": 256,
    "name": "ml.m5d.16xlarge",
    "vcpuNum": 64
   },
   {
    "_defaultOrder": 19,
    "_isFastLaunch": false,
    "category": "General purpose",
    "gpuNum": 0,
    "hideHardwareSpecs": false,
    "memoryGiB": 384,
    "name": "ml.m5d.24xlarge",
    "vcpuNum": 96
   },
   {
    "_defaultOrder": 20,
    "_isFastLaunch": false,
    "category": "General purpose",
    "gpuNum": 0,
    "hideHardwareSpecs": true,
    "memoryGiB": 0,
    "name": "ml.geospatial.interactive",
    "supportedImageNames": [
     "sagemaker-geospatial-v1-0"
    ],
    "vcpuNum": 0
   },
   {
    "_defaultOrder": 21,
    "_isFastLaunch": true,
    "category": "Compute optimized",
    "gpuNum": 0,
    "hideHardwareSpecs": false,
    "memoryGiB": 4,
    "name": "ml.c5.large",
    "vcpuNum": 2
   },
   {
    "_defaultOrder": 22,
    "_isFastLaunch": false,
    "category": "Compute optimized",
    "gpuNum": 0,
    "hideHardwareSpecs": false,
    "memoryGiB": 8,
    "name": "ml.c5.xlarge",
    "vcpuNum": 4
   },
   {
    "_defaultOrder": 23,
    "_isFastLaunch": false,
    "category": "Compute optimized",
    "gpuNum": 0,
    "hideHardwareSpecs": false,
    "memoryGiB": 16,
    "name": "ml.c5.2xlarge",
    "vcpuNum": 8
   },
   {
    "_defaultOrder": 24,
    "_isFastLaunch": false,
    "category": "Compute optimized",
    "gpuNum": 0,
    "hideHardwareSpecs": false,
    "memoryGiB": 32,
    "name": "ml.c5.4xlarge",
    "vcpuNum": 16
   },
   {
    "_defaultOrder": 25,
    "_isFastLaunch": false,
    "category": "Compute optimized",
    "gpuNum": 0,
    "hideHardwareSpecs": false,
    "memoryGiB": 72,
    "name": "ml.c5.9xlarge",
    "vcpuNum": 36
   },
   {
    "_defaultOrder": 26,
    "_isFastLaunch": false,
    "category": "Compute optimized",
    "gpuNum": 0,
    "hideHardwareSpecs": false,
    "memoryGiB": 96,
    "name": "ml.c5.12xlarge",
    "vcpuNum": 48
   },
   {
    "_defaultOrder": 27,
    "_isFastLaunch": false,
    "category": "Compute optimized",
    "gpuNum": 0,
    "hideHardwareSpecs": false,
    "memoryGiB": 144,
    "name": "ml.c5.18xlarge",
    "vcpuNum": 72
   },
   {
    "_defaultOrder": 28,
    "_isFastLaunch": false,
    "category": "Compute optimized",
    "gpuNum": 0,
    "hideHardwareSpecs": false,
    "memoryGiB": 192,
    "name": "ml.c5.24xlarge",
    "vcpuNum": 96
   },
   {
    "_defaultOrder": 29,
    "_isFastLaunch": true,
    "category": "Accelerated computing",
    "gpuNum": 1,
    "hideHardwareSpecs": false,
    "memoryGiB": 16,
    "name": "ml.g4dn.xlarge",
    "vcpuNum": 4
   },
   {
    "_defaultOrder": 30,
    "_isFastLaunch": false,
    "category": "Accelerated computing",
    "gpuNum": 1,
    "hideHardwareSpecs": false,
    "memoryGiB": 32,
    "name": "ml.g4dn.2xlarge",
    "vcpuNum": 8
   },
   {
    "_defaultOrder": 31,
    "_isFastLaunch": false,
    "category": "Accelerated computing",
    "gpuNum": 1,
    "hideHardwareSpecs": false,
    "memoryGiB": 64,
    "name": "ml.g4dn.4xlarge",
    "vcpuNum": 16
   },
   {
    "_defaultOrder": 32,
    "_isFastLaunch": false,
    "category": "Accelerated computing",
    "gpuNum": 1,
    "hideHardwareSpecs": false,
    "memoryGiB": 128,
    "name": "ml.g4dn.8xlarge",
    "vcpuNum": 32
   },
   {
    "_defaultOrder": 33,
    "_isFastLaunch": false,
    "category": "Accelerated computing",
    "gpuNum": 4,
    "hideHardwareSpecs": false,
    "memoryGiB": 192,
    "name": "ml.g4dn.12xlarge",
    "vcpuNum": 48
   },
   {
    "_defaultOrder": 34,
    "_isFastLaunch": false,
    "category": "Accelerated computing",
    "gpuNum": 1,
    "hideHardwareSpecs": false,
    "memoryGiB": 256,
    "name": "ml.g4dn.16xlarge",
    "vcpuNum": 64
   },
   {
    "_defaultOrder": 35,
    "_isFastLaunch": false,
    "category": "Accelerated computing",
    "gpuNum": 1,
    "hideHardwareSpecs": false,
    "memoryGiB": 61,
    "name": "ml.p3.2xlarge",
    "vcpuNum": 8
   },
   {
    "_defaultOrder": 36,
    "_isFastLaunch": false,
    "category": "Accelerated computing",
    "gpuNum": 4,
    "hideHardwareSpecs": false,
    "memoryGiB": 244,
    "name": "ml.p3.8xlarge",
    "vcpuNum": 32
   },
   {
    "_defaultOrder": 37,
    "_isFastLaunch": false,
    "category": "Accelerated computing",
    "gpuNum": 8,
    "hideHardwareSpecs": false,
    "memoryGiB": 488,
    "name": "ml.p3.16xlarge",
    "vcpuNum": 64
   },
   {
    "_defaultOrder": 38,
    "_isFastLaunch": false,
    "category": "Accelerated computing",
    "gpuNum": 8,
    "hideHardwareSpecs": false,
    "memoryGiB": 768,
    "name": "ml.p3dn.24xlarge",
    "vcpuNum": 96
   },
   {
    "_defaultOrder": 39,
    "_isFastLaunch": false,
    "category": "Memory Optimized",
    "gpuNum": 0,
    "hideHardwareSpecs": false,
    "memoryGiB": 16,
    "name": "ml.r5.large",
    "vcpuNum": 2
   },
   {
    "_defaultOrder": 40,
    "_isFastLaunch": false,
    "category": "Memory Optimized",
    "gpuNum": 0,
    "hideHardwareSpecs": false,
    "memoryGiB": 32,
    "name": "ml.r5.xlarge",
    "vcpuNum": 4
   },
   {
    "_defaultOrder": 41,
    "_isFastLaunch": false,
    "category": "Memory Optimized",
    "gpuNum": 0,
    "hideHardwareSpecs": false,
    "memoryGiB": 64,
    "name": "ml.r5.2xlarge",
    "vcpuNum": 8
   },
   {
    "_defaultOrder": 42,
    "_isFastLaunch": false,
    "category": "Memory Optimized",
    "gpuNum": 0,
    "hideHardwareSpecs": false,
    "memoryGiB": 128,
    "name": "ml.r5.4xlarge",
    "vcpuNum": 16
   },
   {
    "_defaultOrder": 43,
    "_isFastLaunch": false,
    "category": "Memory Optimized",
    "gpuNum": 0,
    "hideHardwareSpecs": false,
    "memoryGiB": 256,
    "name": "ml.r5.8xlarge",
    "vcpuNum": 32
   },
   {
    "_defaultOrder": 44,
    "_isFastLaunch": false,
    "category": "Memory Optimized",
    "gpuNum": 0,
    "hideHardwareSpecs": false,
    "memoryGiB": 384,
    "name": "ml.r5.12xlarge",
    "vcpuNum": 48
   },
   {
    "_defaultOrder": 45,
    "_isFastLaunch": false,
    "category": "Memory Optimized",
    "gpuNum": 0,
    "hideHardwareSpecs": false,
    "memoryGiB": 512,
    "name": "ml.r5.16xlarge",
    "vcpuNum": 64
   },
   {
    "_defaultOrder": 46,
    "_isFastLaunch": false,
    "category": "Memory Optimized",
    "gpuNum": 0,
    "hideHardwareSpecs": false,
    "memoryGiB": 768,
    "name": "ml.r5.24xlarge",
    "vcpuNum": 96
   },
   {
    "_defaultOrder": 47,
    "_isFastLaunch": false,
    "category": "Accelerated computing",
    "gpuNum": 1,
    "hideHardwareSpecs": false,
    "memoryGiB": 16,
    "name": "ml.g5.xlarge",
    "vcpuNum": 4
   },
   {
    "_defaultOrder": 48,
    "_isFastLaunch": false,
    "category": "Accelerated computing",
    "gpuNum": 1,
    "hideHardwareSpecs": false,
    "memoryGiB": 32,
    "name": "ml.g5.2xlarge",
    "vcpuNum": 8
   },
   {
    "_defaultOrder": 49,
    "_isFastLaunch": false,
    "category": "Accelerated computing",
    "gpuNum": 1,
    "hideHardwareSpecs": false,
    "memoryGiB": 64,
    "name": "ml.g5.4xlarge",
    "vcpuNum": 16
   },
   {
    "_defaultOrder": 50,
    "_isFastLaunch": false,
    "category": "Accelerated computing",
    "gpuNum": 1,
    "hideHardwareSpecs": false,
    "memoryGiB": 128,
    "name": "ml.g5.8xlarge",
    "vcpuNum": 32
   },
   {
    "_defaultOrder": 51,
    "_isFastLaunch": false,
    "category": "Accelerated computing",
    "gpuNum": 1,
    "hideHardwareSpecs": false,
    "memoryGiB": 256,
    "name": "ml.g5.16xlarge",
    "vcpuNum": 64
   },
   {
    "_defaultOrder": 52,
    "_isFastLaunch": false,
    "category": "Accelerated computing",
    "gpuNum": 4,
    "hideHardwareSpecs": false,
    "memoryGiB": 192,
    "name": "ml.g5.12xlarge",
    "vcpuNum": 48
   },
   {
    "_defaultOrder": 53,
    "_isFastLaunch": false,
    "category": "Accelerated computing",
    "gpuNum": 4,
    "hideHardwareSpecs": false,
    "memoryGiB": 384,
    "name": "ml.g5.24xlarge",
    "vcpuNum": 96
   },
   {
    "_defaultOrder": 54,
    "_isFastLaunch": false,
    "category": "Accelerated computing",
    "gpuNum": 8,
    "hideHardwareSpecs": false,
    "memoryGiB": 768,
    "name": "ml.g5.48xlarge",
    "vcpuNum": 192
   },
   {
    "_defaultOrder": 55,
    "_isFastLaunch": false,
    "category": "Accelerated computing",
    "gpuNum": 8,
    "hideHardwareSpecs": false,
    "memoryGiB": 1152,
    "name": "ml.p4d.24xlarge",
    "vcpuNum": 96
   },
   {
    "_defaultOrder": 56,
    "_isFastLaunch": false,
    "category": "Accelerated computing",
    "gpuNum": 8,
    "hideHardwareSpecs": false,
    "memoryGiB": 1152,
    "name": "ml.p4de.24xlarge",
    "vcpuNum": 96
   },
   {
    "_defaultOrder": 57,
    "_isFastLaunch": false,
    "category": "Accelerated computing",
    "gpuNum": 0,
    "hideHardwareSpecs": false,
    "memoryGiB": 32,
    "name": "ml.trn1.2xlarge",
    "vcpuNum": 8
   },
   {
    "_defaultOrder": 58,
    "_isFastLaunch": false,
    "category": "Accelerated computing",
    "gpuNum": 0,
    "hideHardwareSpecs": false,
    "memoryGiB": 512,
    "name": "ml.trn1.32xlarge",
    "vcpuNum": 128
   },
   {
    "_defaultOrder": 59,
    "_isFastLaunch": false,
    "category": "Accelerated computing",
    "gpuNum": 0,
    "hideHardwareSpecs": false,
    "memoryGiB": 512,
    "name": "ml.trn1n.32xlarge",
    "vcpuNum": 128
   }
  ],
  "kernelspec": {
   "display_name": "Python 3 (Data Science 3.0)",
   "language": "python",
   "name": "python3__SAGEMAKER_INTERNAL__arn:aws:sagemaker:us-west-2:236514542706:image/sagemaker-data-science-310-v1"
  },
  "language_info": {
   "codemirror_mode": {
    "name": "ipython",
    "version": 3
   },
   "file_extension": ".py",
   "mimetype": "text/x-python",
   "name": "python",
   "nbconvert_exporter": "python",
   "pygments_lexer": "ipython3",
   "version": "3.10.6"
  },
  "lcc_arn": "arn:aws:sagemaker:us-west-2:087022704862:studio-lifecycle-config/install-h2o-java-new"
 },
 "nbformat": 4,
 "nbformat_minor": 5
}
