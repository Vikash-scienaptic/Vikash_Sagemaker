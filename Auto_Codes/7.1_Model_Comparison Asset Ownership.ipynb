{
 "cells": [
  {
   "cell_type": "markdown",
   "id": "33e14e95-5b40-493a-87c9-c386e328f4ce",
   "metadata": {},
   "source": [
    "### Final Results With Comparison to Different Model Performance"
   ]
  },
  {
   "cell_type": "code",
   "execution_count": 1,
   "id": "1da66cfe-494d-429f-93d0-cbc7ff894e68",
   "metadata": {
    "tags": []
   },
   "outputs": [
    {
     "name": "stdout",
     "output_type": "stream",
     "text": [
      "Requirement already satisfied: xgboost in /opt/conda/lib/python3.10/site-packages (2.0.3)\n",
      "Requirement already satisfied: numpy in /opt/conda/lib/python3.10/site-packages (from xgboost) (1.26.2)\n",
      "Requirement already satisfied: scipy in /opt/conda/lib/python3.10/site-packages (from xgboost) (1.11.4)\n",
      "\u001b[33mWARNING: Running pip as the 'root' user can result in broken permissions and conflicting behaviour with the system package manager. It is recommended to use a virtual environment instead: https://pip.pypa.io/warnings/venv\u001b[0m\u001b[33m\n",
      "\u001b[0m\n",
      "\u001b[1m[\u001b[0m\u001b[34;49mnotice\u001b[0m\u001b[1;39;49m]\u001b[0m\u001b[39;49m A new release of pip is available: \u001b[0m\u001b[31;49m23.3.1\u001b[0m\u001b[39;49m -> \u001b[0m\u001b[32;49m24.0\u001b[0m\n",
      "\u001b[1m[\u001b[0m\u001b[34;49mnotice\u001b[0m\u001b[1;39;49m]\u001b[0m\u001b[39;49m To update, run: \u001b[0m\u001b[32;49mpip install --upgrade pip\u001b[0m\n"
     ]
    }
   ],
   "source": [
    "!pip install xgboost"
   ]
  },
  {
   "cell_type": "code",
   "execution_count": 2,
   "id": "cf4a6236-d33d-4fc1-bc04-343500bd5543",
   "metadata": {
    "tags": []
   },
   "outputs": [
    {
     "name": "stdout",
     "output_type": "stream",
     "text": [
      "2.1.3\n"
     ]
    }
   ],
   "source": [
    "import warnings\n",
    "warnings.filterwarnings('ignore')\n",
    "import pandas as pd\n",
    "print(pd.__version__)\n",
    "import numpy as np\n",
    "import json\n",
    "import logging\n",
    "import xgboost as xgb\n",
    "import ast\n",
    "import itertools\n",
    "import scipy.stats as ss\n",
    "from sklearn.preprocessing import MinMaxScaler\n",
    "from scipy.stats import chi2\n",
    "import os\n",
    "import sys\n",
    "\n",
    "pd.set_option('display.max_rows',None)\n",
    "pd.set_option('display.max_columns',None)\n",
    "pd.set_option('display.max_colwidth', None)"
   ]
  },
  {
   "cell_type": "code",
   "execution_count": 3,
   "id": "56d0704b-9824-4450-948a-fd4fb63d177e",
   "metadata": {
    "tags": []
   },
   "outputs": [],
   "source": [
    "sys.path.append('/root/Unified_LN_V2/')\n",
    "from Utilities import *"
   ]
  },
  {
   "cell_type": "code",
   "execution_count": 4,
   "id": "5a303f71-dbf9-470f-9813-4fe49728b885",
   "metadata": {
    "tags": []
   },
   "outputs": [],
   "source": [
    "def air_calc_new(pred,prefix):\n",
    "    air = {}\n",
    "    target_control_dict = [\n",
    "            {'age_cuts': {\n",
    "                'target': ['Age 62 and over'],\n",
    "                'control': ['Age below 62']\n",
    "            }},\n",
    "            {'Race': {\n",
    "                'target': ['black', 'hispanic'],\n",
    "                'control': ['white']\n",
    "            }},\n",
    "            {'Race': {\n",
    "                'target': ['black'],\n",
    "                'control': ['white']\n",
    "            }},\n",
    "            {'Race': {\n",
    "                'target': ['hispanic'],\n",
    "                'control': ['white']\n",
    "            }},\n",
    "            {'Gender': {\n",
    "                'target': ['F'],\n",
    "                'control': ['M']\n",
    "            }},\n",
    "            # 'mmct_tag': {\n",
    "            #     'target': ['mmct'],\n",
    "            #     'control': ['non-mmct']\n",
    "            # }\n",
    "    ]\n",
    "\n",
    "    for var in target_control_dict:\n",
    "        for i in var:\n",
    "            target_list = var[i]['target']\n",
    "            control_list = var[i]['control']\n",
    "            p_target_list= ','.join(target_list) if (\n",
    "                (len(target_list)<= 1) and (('black' in target_list) or ('hispanic' in target_list))\n",
    "            ) else ''\n",
    "            \n",
    "            ttd_target= pred[pred[i].isin(target_list)]['con_wt'].sum()\n",
    "            approved_target= pred[pred[i].isin(target_list)]['approved'].multiply(pred[pred[i].isin(target_list)]['con_wt']).sum()\n",
    "            ttd_control= pred[pred[i].isin(control_list)]['con_wt'].sum()\n",
    "            approved_control= pred[pred[i].isin(control_list)]['approved'].multiply(pred[pred[i].isin(control_list)]['con_wt']).sum()\n",
    "            app_pct_target= round(approved_target/ttd_target, 4)\n",
    "            app_pct_control= round(approved_control/ttd_control, 4)\n",
    "            air[prefix+i+p_target_list]= [round(app_pct_target/app_pct_control, 4)]\n",
    "        \n",
    "            # print({'variable': i, 'target_list': p_target_list, 'ttd_target': ttd_target, 'ttd_control': ttd_control, \n",
    "                   # 'approved_target': approved_target, 'approved_control': approved_control})\n",
    "            \n",
    "    # print(air)\n",
    "        \n",
    "    return air"
   ]
  },
  {
   "cell_type": "code",
   "execution_count": 5,
   "id": "72544047-fb3f-45c3-b3ce-e6db94b51b27",
   "metadata": {
    "tags": []
   },
   "outputs": [],
   "source": [
    "col_tuple_pass= [\"unique_id\", 'client', \"wt2\", 'fico_pb', 'auto_score', 'approve_flag', 'funded_flag', 'bad_flag', 'Race', 'Gender', 'age_cuts']"
   ]
  },
  {
   "cell_type": "code",
   "execution_count": 7,
   "id": "7e94cfdb-f9d4-4fa3-bc76-2e9fc3b1b55d",
   "metadata": {
    "tags": []
   },
   "outputs": [],
   "source": [
    "def get_risk_rank(data, target, cols_tuple, score_col= 'p1', weight= 'RECWGT', asc= False):\n",
    "    dd = data.loc[:, cols_tuple + [score_col]]\n",
    "    # dd = pd.DataFrame(dd)\n",
    "    # dd = dd.reset_index()\n",
    "    dd['RECWGT'] = dd[\"wt2\"]\n",
    "    dd['conwt'] = 1\n",
    "    dd[target] = dd[target] \n",
    "    # pred = pd.concat([dd.loc[:, cols_tuple + ['RECWGT', 'conwt']],p],axis=1)\n",
    "    pred= dd.copy()\n",
    "    # display(pred.head())\n",
    "    print(pred[weight].sum(),((pred[weight]*pred[target]).sum()),pred[weight].max())\n",
    "\n",
    "    data_ks_cap5= rnkOrderingN(pred, target, weight, score_col, 5, asc)\n",
    "    # display(data_ks_cap5[0])\n",
    "    # print(data_ks_cap5[1])\n",
    "    # data_ks_cap10= rnkOrderingN(pred, target, weight, score_col, 10, asc)\n",
    "    # display(data_ks_cap10[0])\n",
    "    # print(data_ks_cap10[1])\n",
    "    return data_ks_cap5"
   ]
  },
  {
   "cell_type": "code",
   "execution_count": 8,
   "id": "0c176119-d996-48ed-8cad-a28fe28b0c63",
   "metadata": {
    "tags": []
   },
   "outputs": [],
   "source": [
    "def get_segment(d):\n",
    "    if (d['derogcount']> 0):\n",
    "        return 'Derog'\n",
    "    elif ((d['derogcount']== 0) and (d['assetprop']> 0)):\n",
    "        return 'Property Owner'\n",
    "    elif ((d['derogcount']== 0) and (d['assetprop']== 0)):\n",
    "        return 'Non Property Owner'\n",
    "    else:\n",
    "        return 'Missing'"
   ]
  },
  {
   "cell_type": "code",
   "execution_count": 9,
   "id": "ee0bc135-3e3d-4f6d-abec-b1e232d19b52",
   "metadata": {
    "tags": []
   },
   "outputs": [],
   "source": [
    "def Equal_Approval_Cutoff_Barsath(pred, target, score_col, asc= True):\n",
    "    pred= pred.copy()\n",
    "    actual_approved_count= pred[target].sum()\n",
    "    pred= pred.sort_values(by= [score_col], ascending= asc)\n",
    "    pred['con_wt']= 1\n",
    "    pred['cumsum']= pred['con_wt'].cumsum()\n",
    "    pred['approved']= np.where(pred['cumsum']<= actual_approved_count, 1, 0)\n",
    "    return pred #cutoff, original_dataset"
   ]
  },
  {
   "cell_type": "markdown",
   "id": "a81615f3-9438-4472-aa2f-ebdc527bddeb",
   "metadata": {},
   "source": [
    "## Reading Scored Data - Overall LDA"
   ]
  },
  {
   "cell_type": "code",
   "execution_count": 10,
   "id": "36e3c425-42cf-4a49-a444-6d3db1ed6576",
   "metadata": {
    "tags": []
   },
   "outputs": [
    {
     "data": {
      "text/plain": [
       "['With_LDA_Train_Auto_LN_V2_Scored_Data_2024-04-08.csv',\n",
       " '050424_LN_Auto_KGB_LDA_No_Segment_Hopt_4.csv',\n",
       " 'With_LDA_Oot_Auto_LN_V2_Scored_Data_2024-04-08.csv',\n",
       " 'xgbm_ln_auto_v2_hpt_best_with_lda_3.zip',\n",
       " 'With_LDA_Test_Auto_LN_V2_Scored_Data_2024-04-08.csv',\n",
       " 'With_LDA_TTD_Auto_LN_V2_Scored_Data_2024-04-08.csv']"
      ]
     },
     "execution_count": 10,
     "metadata": {},
     "output_type": "execute_result"
    }
   ],
   "source": [
    "path_overall= '/root/Unified_LN_V2/LN_Auto_V2/Model_Data/Without_LDA_Auto_LN_V2/With_LDA/Iteration_3/' #/root/Unified_LN_V2/LN_Auto_V2/Model_Data/Without_LDA_Auto_LN_V2/With_LDA/\n",
    "os.listdir(path_overall)"
   ]
  },
  {
   "cell_type": "code",
   "execution_count": 11,
   "id": "8084ef7f-3b51-4b9b-8e37-1797165a95a2",
   "metadata": {
    "tags": []
   },
   "outputs": [
    {
     "data": {
      "text/plain": [
       "((146855, 12), (62938, 12), (37121, 12), (685215, 12))"
      ]
     },
     "execution_count": 11,
     "metadata": {},
     "output_type": "execute_result"
    }
   ],
   "source": [
    "# train_scored_all= pd.read_csv(f\"{path_overall}With_LDA_Train_Auto_LN_V2_Scored_Data_2024-03-29.csv\")\n",
    "# test_scored_all= pd.read_csv(f\"{path_overall}With_LDA_Test_Auto_LN_V2_Scored_Data_2024-03-29.csv\")\n",
    "# oot_scored_all= pd.read_csv(f\"{path_overall}With_LDA_Oot_Auto_LN_V2_Scored_Data_2024-03-29.csv\")\n",
    "# ttd_scored_all= pd.read_csv(f\"{path_overall}With_LDA_TTD_Auto_LN_V2_Scored_Data_2024-03-29.csv\")\n",
    "\n",
    "# train_scored_all= pd.read_csv(f\"{path_overall}With_LDA_Train_Auto_LN_V2_Scored_Data_2024-04-02.csv\")\n",
    "# test_scored_all= pd.read_csv(f\"{path_overall}With_LDA_Test_Auto_LN_V2_Scored_Data_2024-04-02.csv\")\n",
    "# oot_scored_all= pd.read_csv(f\"{path_overall}With_LDA_Oot_Auto_LN_V2_Scored_Data_2024-04-02.csv\")\n",
    "# ttd_scored_all= pd.read_csv(f\"{path_overall}With_LDA_TTD_Auto_LN_V2_Scored_Data_2024-04-02.csv\")\n",
    "\n",
    "train_scored_all= pd.read_csv(f\"{path_overall}With_LDA_Train_Auto_LN_V2_Scored_Data_2024-04-08.csv\")\n",
    "test_scored_all= pd.read_csv(f\"{path_overall}With_LDA_Test_Auto_LN_V2_Scored_Data_2024-04-08.csv\")\n",
    "oot_scored_all= pd.read_csv(f\"{path_overall}With_LDA_Oot_Auto_LN_V2_Scored_Data_2024-04-08.csv\")\n",
    "ttd_scored_all= pd.read_csv(f\"{path_overall}With_LDA_TTD_Auto_LN_V2_Scored_Data_2024-04-08.csv\")\n",
    "\n",
    "train_scored_all.shape, test_scored_all.shape, oot_scored_all.shape, ttd_scored_all.shape"
   ]
  },
  {
   "cell_type": "code",
   "execution_count": 12,
   "id": "8c65f0ad-5611-4db2-8938-e193f011a480",
   "metadata": {
    "tags": []
   },
   "outputs": [
    {
     "data": {
      "text/plain": [
       "((246914, 12), (685215, 12), 200148.0)"
      ]
     },
     "execution_count": 12,
     "metadata": {},
     "output_type": "execute_result"
    }
   ],
   "source": [
    "funded_scored_all= pd.concat([train_scored_all, test_scored_all, oot_scored_all]).reset_index(drop= True)\n",
    "funded_scored_all.shape, ttd_scored_all.shape, ttd_scored_all['funded_flag'].sum()"
   ]
  },
  {
   "cell_type": "code",
   "execution_count": 13,
   "id": "a6852559-8d7a-49ca-b8db-47c8d9cc90df",
   "metadata": {
    "tags": []
   },
   "outputs": [],
   "source": [
    "funded_scored_all['unique_id']= funded_scored_all['unique_id'].astype(str)\n",
    "ttd_scored_all['unique_id']= ttd_scored_all['unique_id'].astype(str)"
   ]
  },
  {
   "cell_type": "code",
   "execution_count": 14,
   "id": "7bf90a97-d409-40eb-836f-d08a542e455b",
   "metadata": {
    "tags": []
   },
   "outputs": [],
   "source": [
    "funded_scored_all.rename(columns= {'p1': 'p1_overall_lda'}, inplace= True)\n",
    "ttd_scored_all.rename(columns= {'p1': 'p1_overall_lda'}, inplace= True)"
   ]
  },
  {
   "cell_type": "markdown",
   "id": "84278a3e-5234-4dbb-83e7-1aa1a21ef33e",
   "metadata": {},
   "source": [
    "### Reading V 1.5 Scored Data"
   ]
  },
  {
   "cell_type": "code",
   "execution_count": 15,
   "id": "86f12cff-9b15-4071-a42c-3832ce50a6a5",
   "metadata": {
    "tags": []
   },
   "outputs": [
    {
     "data": {
      "text/html": [
       "<div>\n",
       "<style scoped>\n",
       "    .dataframe tbody tr th:only-of-type {\n",
       "        vertical-align: middle;\n",
       "    }\n",
       "\n",
       "    .dataframe tbody tr th {\n",
       "        vertical-align: top;\n",
       "    }\n",
       "\n",
       "    .dataframe thead th {\n",
       "        text-align: right;\n",
       "    }\n",
       "</style>\n",
       "<table border=\"1\" class=\"dataframe\">\n",
       "  <thead>\n",
       "    <tr style=\"text-align: right;\">\n",
       "      <th></th>\n",
       "      <th>unique_id</th>\n",
       "      <th>client</th>\n",
       "      <th>p1_v1_5</th>\n",
       "      <th>fico_pb</th>\n",
       "      <th>dataset</th>\n",
       "    </tr>\n",
       "  </thead>\n",
       "  <tbody>\n",
       "    <tr>\n",
       "      <th>0</th>\n",
       "      <td>453208</td>\n",
       "      <td>SECU</td>\n",
       "      <td>0.053346</td>\n",
       "      <td>624.0</td>\n",
       "      <td>fico_lt_660</td>\n",
       "    </tr>\n",
       "    <tr>\n",
       "      <th>1</th>\n",
       "      <td>453394</td>\n",
       "      <td>SECU</td>\n",
       "      <td>0.064319</td>\n",
       "      <td>0.0</td>\n",
       "      <td>fico_lt_660</td>\n",
       "    </tr>\n",
       "    <tr>\n",
       "      <th>2</th>\n",
       "      <td>453515</td>\n",
       "      <td>SECU</td>\n",
       "      <td>0.086988</td>\n",
       "      <td>614.0</td>\n",
       "      <td>fico_lt_660</td>\n",
       "    </tr>\n",
       "    <tr>\n",
       "      <th>3</th>\n",
       "      <td>453555</td>\n",
       "      <td>SECU</td>\n",
       "      <td>0.035332</td>\n",
       "      <td>637.0</td>\n",
       "      <td>fico_lt_660</td>\n",
       "    </tr>\n",
       "    <tr>\n",
       "      <th>4</th>\n",
       "      <td>453594</td>\n",
       "      <td>SECU</td>\n",
       "      <td>0.094630</td>\n",
       "      <td>587.0</td>\n",
       "      <td>fico_lt_660</td>\n",
       "    </tr>\n",
       "  </tbody>\n",
       "</table>\n",
       "</div>"
      ],
      "text/plain": [
       "  unique_id client   p1_v1_5  fico_pb      dataset\n",
       "0    453208   SECU  0.053346    624.0  fico_lt_660\n",
       "1    453394   SECU  0.064319      0.0  fico_lt_660\n",
       "2    453515   SECU  0.086988    614.0  fico_lt_660\n",
       "3    453555   SECU  0.035332    637.0  fico_lt_660\n",
       "4    453594   SECU  0.094630    587.0  fico_lt_660"
      ]
     },
     "execution_count": 15,
     "metadata": {},
     "output_type": "execute_result"
    }
   ],
   "source": [
    "v15= pd.read_csv('/root/Unified_LN_V2/LN_Auto_V2/Data/040424_Auto_LN_V1_5_Scored_Data.csv')\n",
    "v15.head()"
   ]
  },
  {
   "cell_type": "code",
   "execution_count": 16,
   "id": "3999d51c-ea64-4153-8b39-f1f3002f0e00",
   "metadata": {
    "tags": []
   },
   "outputs": [
    {
     "data": {
      "text/plain": [
       "((824212, 5), (685215, 12), (246914, 12))"
      ]
     },
     "execution_count": 16,
     "metadata": {},
     "output_type": "execute_result"
    }
   ],
   "source": [
    "v15.shape, ttd_scored_all.shape, funded_scored_all.shape"
   ]
  },
  {
   "cell_type": "code",
   "execution_count": 17,
   "id": "87838280-11a7-4080-b0ce-621bcd942883",
   "metadata": {
    "tags": []
   },
   "outputs": [],
   "source": [
    "v15['unique_id']= v15['unique_id'].astype(str)"
   ]
  },
  {
   "cell_type": "code",
   "execution_count": 18,
   "id": "c73aaf8c-7b55-4356-abe5-de5b6d872ac4",
   "metadata": {
    "tags": []
   },
   "outputs": [
    {
     "name": "stdout",
     "output_type": "stream",
     "text": [
      "(685215, 12)\n"
     ]
    },
    {
     "data": {
      "text/plain": [
       "(685215, 13)"
      ]
     },
     "execution_count": 18,
     "metadata": {},
     "output_type": "execute_result"
    }
   ],
   "source": [
    "print(ttd_scored_all.shape)\n",
    "ttd_scored_all= ttd_scored_all.merge(v15[['unique_id', 'client', 'p1_v1_5']], on= ['unique_id', 'client'], how= 'left')\n",
    "ttd_scored_all.shape"
   ]
  },
  {
   "cell_type": "code",
   "execution_count": 19,
   "id": "d28f6bc7-d7e8-4942-b14e-7133112bd71d",
   "metadata": {
    "tags": []
   },
   "outputs": [
    {
     "data": {
      "text/plain": [
       "0"
      ]
     },
     "execution_count": 19,
     "metadata": {},
     "output_type": "execute_result"
    }
   ],
   "source": [
    "ttd_scored_all['p1_v1_5'].isnull().sum()"
   ]
  },
  {
   "cell_type": "code",
   "execution_count": 20,
   "id": "9168e6b1-9e06-41f1-919c-df9ff8974669",
   "metadata": {
    "tags": []
   },
   "outputs": [
    {
     "data": {
      "text/html": [
       "<div>\n",
       "<style scoped>\n",
       "    .dataframe tbody tr th:only-of-type {\n",
       "        vertical-align: middle;\n",
       "    }\n",
       "\n",
       "    .dataframe tbody tr th {\n",
       "        vertical-align: top;\n",
       "    }\n",
       "\n",
       "    .dataframe thead th {\n",
       "        text-align: right;\n",
       "    }\n",
       "</style>\n",
       "<table border=\"1\" class=\"dataframe\">\n",
       "  <thead>\n",
       "    <tr style=\"text-align: right;\">\n",
       "      <th></th>\n",
       "      <th>p1_v1_5</th>\n",
       "      <th>p1_overall_lda</th>\n",
       "    </tr>\n",
       "  </thead>\n",
       "  <tbody>\n",
       "    <tr>\n",
       "      <th>count</th>\n",
       "      <td>685215.000000</td>\n",
       "      <td>685215.000000</td>\n",
       "    </tr>\n",
       "    <tr>\n",
       "      <th>mean</th>\n",
       "      <td>0.038407</td>\n",
       "      <td>0.021863</td>\n",
       "    </tr>\n",
       "    <tr>\n",
       "      <th>std</th>\n",
       "      <td>0.032355</td>\n",
       "      <td>0.022076</td>\n",
       "    </tr>\n",
       "    <tr>\n",
       "      <th>min</th>\n",
       "      <td>0.007456</td>\n",
       "      <td>0.005289</td>\n",
       "    </tr>\n",
       "    <tr>\n",
       "      <th>25%</th>\n",
       "      <td>0.014268</td>\n",
       "      <td>0.007273</td>\n",
       "    </tr>\n",
       "    <tr>\n",
       "      <th>50%</th>\n",
       "      <td>0.025966</td>\n",
       "      <td>0.015229</td>\n",
       "    </tr>\n",
       "    <tr>\n",
       "      <th>75%</th>\n",
       "      <td>0.052640</td>\n",
       "      <td>0.024805</td>\n",
       "    </tr>\n",
       "    <tr>\n",
       "      <th>max</th>\n",
       "      <td>0.190158</td>\n",
       "      <td>0.114281</td>\n",
       "    </tr>\n",
       "  </tbody>\n",
       "</table>\n",
       "</div>"
      ],
      "text/plain": [
       "             p1_v1_5  p1_overall_lda\n",
       "count  685215.000000   685215.000000\n",
       "mean        0.038407        0.021863\n",
       "std         0.032355        0.022076\n",
       "min         0.007456        0.005289\n",
       "25%         0.014268        0.007273\n",
       "50%         0.025966        0.015229\n",
       "75%         0.052640        0.024805\n",
       "max         0.190158        0.114281"
      ]
     },
     "execution_count": 20,
     "metadata": {},
     "output_type": "execute_result"
    }
   ],
   "source": [
    "ttd_scored_all[['p1_v1_5', 'p1_overall_lda']].describe()"
   ]
  },
  {
   "cell_type": "code",
   "execution_count": 21,
   "id": "fead327c-437f-456b-b35b-5920e716f294",
   "metadata": {
    "tags": []
   },
   "outputs": [
    {
     "name": "stdout",
     "output_type": "stream",
     "text": [
      "(246914, 12)\n"
     ]
    },
    {
     "data": {
      "text/plain": [
       "((246914, 13), 0)"
      ]
     },
     "execution_count": 21,
     "metadata": {},
     "output_type": "execute_result"
    }
   ],
   "source": [
    "print(funded_scored_all.shape)\n",
    "funded_scored_all= funded_scored_all.merge(v15[['unique_id', 'client', 'p1_v1_5']], on= ['unique_id', 'client'], how= 'left')\n",
    "funded_scored_all.shape, funded_scored_all['p1_v1_5'].isnull().sum()"
   ]
  },
  {
   "cell_type": "code",
   "execution_count": 22,
   "id": "5ebc04e3-e16f-4249-8d38-e96c33e34772",
   "metadata": {
    "tags": []
   },
   "outputs": [],
   "source": [
    "# rnkOrderingN(funded_scored_all[~(funded_scored_all['fico_pb']>= 740)], 'bad_flag', None, 'p1_overall_lda', 5)"
   ]
  },
  {
   "cell_type": "code",
   "execution_count": 23,
   "id": "0b71d2ea-4f14-485f-ac59-97df0bc753ef",
   "metadata": {
    "tags": []
   },
   "outputs": [],
   "source": [
    "# rnkOrderingN(funded_scored_all[~(funded_scored_all['fico_pb']>= 740)], 'bad_flag', None, 'p1_v1_5', 5)"
   ]
  },
  {
   "cell_type": "markdown",
   "id": "57ccee4b-ac85-4dab-bc08-35599f08a35b",
   "metadata": {},
   "source": [
    "#### Reading Property Owner Dataset"
   ]
  },
  {
   "cell_type": "code",
   "execution_count": 24,
   "id": "ccb3f8e3-d06a-4d1b-9e04-3679b57b7463",
   "metadata": {
    "tags": []
   },
   "outputs": [
    {
     "data": {
      "text/plain": [
       "['Mono_Data',\n",
       " 'Data',\n",
       " 'Property_Owner_Oot_Auto_LN_V2_Scored_Data_2024-03-29.csv',\n",
       " 'Property_Owner_280324_LN_Auto_KGB_LDA_Hopt_1.csv',\n",
       " 'Property_Owner_Train_Auto_LN_V2_Scored_Data_2024-03-29.csv',\n",
       " 'xgbm_ln_auto_v2_hpt_best_1_Property_Owner.zip',\n",
       " 'Property_Owner_TTD_Auto_LN_V2_Scored_Data_2024-03-29.csv',\n",
       " 'Property_Owner_Test_Auto_LN_V2_Scored_Data_2024-03-29.csv']"
      ]
     },
     "execution_count": 24,
     "metadata": {},
     "output_type": "execute_result"
    }
   ],
   "source": [
    "path_owner= '/root/Unified_LN_V2/LN_Auto_V2/Model_Data/Property_Owner_Model/'\n",
    "os.listdir(path_owner)"
   ]
  },
  {
   "cell_type": "code",
   "execution_count": 25,
   "id": "086901b0-234a-4e89-82f6-bf6b48a10764",
   "metadata": {
    "tags": []
   },
   "outputs": [
    {
     "data": {
      "text/plain": [
       "((82033, 12), (35158, 12), (20750, 12), (303020, 12))"
      ]
     },
     "execution_count": 25,
     "metadata": {},
     "output_type": "execute_result"
    }
   ],
   "source": [
    "train_scored_owner= pd.read_csv(f'{path_owner}Property_Owner_Train_Auto_LN_V2_Scored_Data_2024-03-29.csv')\n",
    "test_scored_owner= pd.read_csv(f'{path_owner}Property_Owner_Test_Auto_LN_V2_Scored_Data_2024-03-29.csv')\n",
    "oot_scored_owner= pd.read_csv(f'{path_owner}Property_Owner_Oot_Auto_LN_V2_Scored_Data_2024-03-29.csv')\n",
    "ttd_scored_owner= pd.read_csv(f'{path_owner}Property_Owner_TTD_Auto_LN_V2_Scored_Data_2024-03-29.csv')\n",
    "train_scored_owner.shape, test_scored_owner.shape, oot_scored_owner.shape, ttd_scored_owner.shape"
   ]
  },
  {
   "cell_type": "code",
   "execution_count": 26,
   "id": "4019e213-5183-45de-b5bb-e259a39964e9",
   "metadata": {
    "tags": []
   },
   "outputs": [],
   "source": [
    "train_scored_owner['unique_id']= train_scored_owner['unique_id'].astype(str)\n",
    "test_scored_owner['unique_id']= test_scored_owner['unique_id'].astype(str)\n",
    "oot_scored_owner['unique_id']= oot_scored_owner['unique_id'].astype(str)\n",
    "ttd_scored_owner['unique_id']= ttd_scored_owner['unique_id'].astype(str)"
   ]
  },
  {
   "cell_type": "code",
   "execution_count": 27,
   "id": "85c4294e-6b1d-4fea-aef9-614538c5c9ac",
   "metadata": {
    "tags": []
   },
   "outputs": [],
   "source": [
    "train_scored_owner['dataset']= 'Property Owner'\n",
    "test_scored_owner['dataset']= 'Property Owner'\n",
    "oot_scored_owner['dataset']= 'Property Owner'\n",
    "ttd_scored_owner['dataset']= 'Property Owner'"
   ]
  },
  {
   "cell_type": "markdown",
   "id": "3a2e2aa6-a61f-4a24-9aa1-7109613a019f",
   "metadata": {},
   "source": [
    "#### Reading Non Property Owner Dataset"
   ]
  },
  {
   "cell_type": "code",
   "execution_count": 28,
   "id": "e2db9ed8-e127-47e6-acc5-e2c9cf6758d5",
   "metadata": {
    "tags": []
   },
   "outputs": [
    {
     "data": {
      "text/plain": [
       "['Non_Property_Owner_290324_LN_Auto_KGB_LDA_Hopt_1.csv',\n",
       " 'Mono_Data',\n",
       " 'Data',\n",
       " 'Non_Property_Owner_Test_Auto_LN_V2_Scored_Data_2024-03-29.csv',\n",
       " 'Non_Property_Owner_TTD_Auto_LN_V2_Scored_Data_2024-03-29.csv',\n",
       " 'Non_Property_Owner_Oot_Auto_LN_V2_Scored_Data_2024-03-29.csv',\n",
       " 'xgbm_ln_auto_v2_hpt_best_1_Non_Property_Owner.zip',\n",
       " 'Non_Property_Owner_Train_Auto_LN_V2_Scored_Data_2024-03-29.csv']"
      ]
     },
     "execution_count": 28,
     "metadata": {},
     "output_type": "execute_result"
    }
   ],
   "source": [
    "path_non_owner= '/root/Unified_LN_V2/LN_Auto_V2/Model_Data/Non_Property_Owner_Model/'\n",
    "os.listdir(path_non_owner)"
   ]
  },
  {
   "cell_type": "code",
   "execution_count": 29,
   "id": "637b9d50-75b3-44ff-9aca-f33172794cbb",
   "metadata": {
    "tags": []
   },
   "outputs": [
    {
     "data": {
      "text/plain": [
       "((48949, 12), (20979, 12), (12460, 12), (275182, 12))"
      ]
     },
     "execution_count": 29,
     "metadata": {},
     "output_type": "execute_result"
    }
   ],
   "source": [
    "train_scored_nonowner= pd.read_csv(f'{path_non_owner}Non_Property_Owner_Train_Auto_LN_V2_Scored_Data_2024-03-29.csv')\n",
    "test_scored_nonowner= pd.read_csv(f'{path_non_owner}Non_Property_Owner_Test_Auto_LN_V2_Scored_Data_2024-03-29.csv')\n",
    "oot_scored_nonowner= pd.read_csv(f'{path_non_owner}Non_Property_Owner_Oot_Auto_LN_V2_Scored_Data_2024-03-29.csv')\n",
    "ttd_scored_nonowner= pd.read_csv(f'{path_non_owner}Non_Property_Owner_TTD_Auto_LN_V2_Scored_Data_2024-03-29.csv')\n",
    "train_scored_nonowner.shape, test_scored_nonowner.shape, oot_scored_nonowner.shape, ttd_scored_nonowner.shape"
   ]
  },
  {
   "cell_type": "code",
   "execution_count": 30,
   "id": "58553dd8-37a1-4b8a-bbac-abc09679613c",
   "metadata": {
    "tags": []
   },
   "outputs": [],
   "source": [
    "train_scored_nonowner['unique_id']= train_scored_nonowner['unique_id'].astype(str)\n",
    "test_scored_nonowner['unique_id']= test_scored_nonowner['unique_id'].astype(str)\n",
    "oot_scored_nonowner['unique_id']= oot_scored_nonowner['unique_id'].astype(str)\n",
    "ttd_scored_nonowner['unique_id']= ttd_scored_nonowner['unique_id'].astype(str)"
   ]
  },
  {
   "cell_type": "code",
   "execution_count": 31,
   "id": "e57c5649-574c-47b9-ad2b-39a2a4f10e62",
   "metadata": {
    "tags": []
   },
   "outputs": [],
   "source": [
    "train_scored_nonowner['dataset']= 'Non Property Owner'\n",
    "test_scored_nonowner['dataset']= 'Non Property Owner'\n",
    "oot_scored_nonowner['dataset']= 'Non Property Owner'\n",
    "ttd_scored_nonowner['dataset']= 'Non Property Owner'"
   ]
  },
  {
   "cell_type": "code",
   "execution_count": 32,
   "id": "0af0c17e-da6d-4d9f-9497-b9e40b33ac35",
   "metadata": {
    "tags": []
   },
   "outputs": [
    {
     "data": {
      "text/plain": [
       "((130982, 13), (56137, 13), (33210, 13), (578202, 13))"
      ]
     },
     "execution_count": 32,
     "metadata": {},
     "output_type": "execute_result"
    }
   ],
   "source": [
    "train_ono= pd.concat([train_scored_owner, train_scored_nonowner]).reset_index(drop= True)\n",
    "test_ono= pd.concat([test_scored_owner, test_scored_nonowner]).reset_index(drop= True)\n",
    "oot_ono= pd.concat([oot_scored_owner, oot_scored_nonowner]).reset_index(drop= True)\n",
    "ttd_ono= pd.concat([ttd_scored_owner, ttd_scored_nonowner]).reset_index(drop= True)\n",
    "train_ono.shape, test_ono.shape, oot_ono.shape, ttd_ono.shape"
   ]
  },
  {
   "cell_type": "code",
   "execution_count": 33,
   "id": "002cbaae-1f45-49ce-8145-836ccd5d8085",
   "metadata": {
    "tags": []
   },
   "outputs": [
    {
     "name": "stdout",
     "output_type": "stream",
     "text": [
      "dataset\n",
      "Property Owner        82033\n",
      "Non Property Owner    48949\n",
      "Name: count, dtype: int64 (82033, 13) (48949, 13)\n",
      "dataset\n",
      "Property Owner        35158\n",
      "Non Property Owner    20979\n",
      "Name: count, dtype: int64 (35158, 13) (20979, 13)\n",
      "dataset\n",
      "Property Owner        20750\n",
      "Non Property Owner    12460\n",
      "Name: count, dtype: int64 (20750, 13) (12460, 13)\n",
      "dataset\n",
      "Property Owner        303020\n",
      "Non Property Owner    275182\n",
      "Name: count, dtype: int64 (303020, 13) (275182, 13)\n"
     ]
    }
   ],
   "source": [
    "print(train_ono['dataset'].value_counts(dropna= False), train_scored_owner.shape, train_scored_nonowner.shape)\n",
    "print(test_ono['dataset'].value_counts(dropna= False), test_scored_owner.shape, test_scored_nonowner.shape)\n",
    "print(oot_ono['dataset'].value_counts(dropna= False), oot_scored_owner.shape, oot_scored_nonowner.shape)\n",
    "print(ttd_ono['dataset'].value_counts(dropna= False), ttd_scored_owner.shape, ttd_scored_nonowner.shape)"
   ]
  },
  {
   "cell_type": "code",
   "execution_count": 34,
   "id": "55018515-76d7-462f-8a1c-a36a5a938269",
   "metadata": {
    "tags": []
   },
   "outputs": [],
   "source": [
    "del train_scored_all, train_scored_nonowner, train_scored_owner\n",
    "del test_scored_all, test_scored_nonowner, test_scored_owner\n",
    "del oot_scored_all, oot_scored_nonowner, oot_scored_owner\n",
    "del ttd_scored_nonowner, ttd_scored_owner"
   ]
  },
  {
   "cell_type": "code",
   "execution_count": 35,
   "id": "d892c395-2c1f-45c5-9ccb-84b3fd8beb94",
   "metadata": {
    "tags": []
   },
   "outputs": [
    {
     "data": {
      "text/plain": [
       "0"
      ]
     },
     "execution_count": 35,
     "metadata": {},
     "output_type": "execute_result"
    }
   ],
   "source": [
    "import gc\n",
    "gc.collect()"
   ]
  },
  {
   "cell_type": "markdown",
   "id": "3ec51ca2-c17e-4ab0-8dab-b9847469aaaa",
   "metadata": {},
   "source": [
    "### Merging p1-overall"
   ]
  },
  {
   "cell_type": "code",
   "execution_count": 36,
   "id": "a6160e1e-4689-4f5a-bd80-aa41132cce00",
   "metadata": {
    "tags": []
   },
   "outputs": [
    {
     "name": "stdout",
     "output_type": "stream",
     "text": [
      "(130982, 13)\n",
      "(130982, 15)\n",
      "p1                0\n",
      "p1_overall_lda    0\n",
      "p1_v1_5           0\n",
      "dtype: int64\n",
      "(56137, 13)\n",
      "(56137, 15)\n",
      "p1                0\n",
      "p1_overall_lda    0\n",
      "p1_v1_5           0\n",
      "dtype: int64\n",
      "(33210, 13)\n",
      "(33210, 15)\n",
      "p1                0\n",
      "p1_overall_lda    0\n",
      "p1_v1_5           0\n",
      "dtype: int64\n",
      "(578202, 13)\n",
      "(578202, 15)\n",
      "p1                0\n",
      "p1_overall_lda    0\n",
      "p1_v1_5           0\n",
      "dtype: int64\n"
     ]
    }
   ],
   "source": [
    "print(train_ono.shape)\n",
    "train_ono= train_ono.merge(funded_scored_all[['unique_id', 'client', 'p1_overall_lda', 'p1_v1_5']], on= ['unique_id', 'client'], how= 'left')\n",
    "print(train_ono.shape)\n",
    "print(train_ono[['p1', 'p1_overall_lda', 'p1_v1_5']].isnull().sum())\n",
    "\n",
    "print(test_ono.shape)\n",
    "test_ono= test_ono.merge(funded_scored_all[['unique_id', 'client', 'p1_overall_lda', 'p1_v1_5']], on= ['unique_id', 'client'], how= 'left')\n",
    "print(test_ono.shape)\n",
    "print(test_ono[['p1', 'p1_overall_lda', 'p1_v1_5']].isnull().sum())\n",
    "\n",
    "print(oot_ono.shape)\n",
    "oot_ono= oot_ono.merge(funded_scored_all[['unique_id', 'client', 'p1_overall_lda', 'p1_v1_5']], on= ['unique_id', 'client'], how= 'left')\n",
    "print(oot_ono.shape)\n",
    "print(oot_ono[['p1', 'p1_overall_lda', 'p1_v1_5']].isnull().sum())\n",
    "\n",
    "print(ttd_ono.shape)\n",
    "ttd_ono= ttd_ono.merge(ttd_scored_all[['unique_id', 'client', 'p1_overall_lda', 'p1_v1_5']], on= ['unique_id', 'client'], how= 'left')\n",
    "print(ttd_ono.shape)\n",
    "print(ttd_ono[['p1', 'p1_overall_lda', 'p1_v1_5']].isnull().sum())"
   ]
  },
  {
   "cell_type": "code",
   "execution_count": 37,
   "id": "52e0909b-591e-4bc2-8b68-32a10accdf7e",
   "metadata": {
    "tags": []
   },
   "outputs": [
    {
     "data": {
      "text/plain": [
       "(                  p1  p1_overall_lda        p1_v1_5\n",
       " count  578202.000000   578202.000000  578202.000000\n",
       " mean        0.019049        0.020840       0.035851\n",
       " std         0.021964        0.021242       0.031272\n",
       " min         0.002785        0.005289       0.007533\n",
       " 25%         0.005432        0.007184       0.013489\n",
       " 50%         0.010780        0.014842       0.023367\n",
       " 75%         0.023258        0.024273       0.048259\n",
       " max         0.241591        0.114281       0.189014,\n",
       "                   p1  p1_overall_lda        p1_v1_5\n",
       " count  130982.000000   130982.000000  130982.000000\n",
       " mean        0.014259        0.016182       0.025513\n",
       " std         0.017073        0.016741       0.023222\n",
       " min         0.002785        0.005289       0.007533\n",
       " 25%         0.004748        0.006554       0.011764\n",
       " 50%         0.007869        0.009230       0.016667\n",
       " 75%         0.017256        0.019551       0.028584\n",
       " max         0.231375        0.114281       0.188945,\n",
       "                  p1  p1_overall_lda       p1_v1_5\n",
       " count  56137.000000    56137.000000  56137.000000\n",
       " mean       0.014196        0.016209      0.025472\n",
       " std        0.016819        0.016778      0.023104\n",
       " min        0.002785        0.005289      0.007533\n",
       " 25%        0.004748        0.006554      0.011710\n",
       " 50%        0.007878        0.009610      0.016664\n",
       " 75%        0.017181        0.019801      0.028754\n",
       " max        0.231375        0.114281      0.188945,\n",
       "                  p1  p1_overall_lda       p1_v1_5\n",
       " count  33210.000000    33210.000000  33210.000000\n",
       " mean       0.014260        0.016307      0.025681\n",
       " std        0.017018        0.017002      0.023532\n",
       " min        0.002785        0.005289      0.007533\n",
       " 25%        0.004748        0.006554      0.011703\n",
       " 50%        0.007922        0.009698      0.016708\n",
       " 75%        0.017208        0.019563      0.028708\n",
       " max        0.194089        0.114281      0.185110)"
      ]
     },
     "execution_count": 37,
     "metadata": {},
     "output_type": "execute_result"
    }
   ],
   "source": [
    "ttd_ono[['p1', 'p1_overall_lda', 'p1_v1_5']].describe(), train_ono[['p1', 'p1_overall_lda', 'p1_v1_5']].describe(), test_ono[['p1', 'p1_overall_lda', 'p1_v1_5']].describe(), oot_ono[['p1', 'p1_overall_lda', 'p1_v1_5']].describe()"
   ]
  },
  {
   "cell_type": "code",
   "execution_count": 38,
   "id": "859b31d5-fc92-4fd7-be76-4ee791bc82ec",
   "metadata": {
    "tags": []
   },
   "outputs": [
    {
     "data": {
      "text/html": [
       "<div>\n",
       "<style scoped>\n",
       "    .dataframe tbody tr th:only-of-type {\n",
       "        vertical-align: middle;\n",
       "    }\n",
       "\n",
       "    .dataframe tbody tr th {\n",
       "        vertical-align: top;\n",
       "    }\n",
       "\n",
       "    .dataframe thead tr th {\n",
       "        text-align: left;\n",
       "    }\n",
       "</style>\n",
       "<table border=\"1\" class=\"dataframe\">\n",
       "  <thead>\n",
       "    <tr>\n",
       "      <th>dataset</th>\n",
       "      <th colspan=\"8\" halign=\"left\">Non Property Owner</th>\n",
       "      <th colspan=\"8\" halign=\"left\">Property Owner</th>\n",
       "    </tr>\n",
       "    <tr>\n",
       "      <th></th>\n",
       "      <th>count</th>\n",
       "      <th>mean</th>\n",
       "      <th>std</th>\n",
       "      <th>min</th>\n",
       "      <th>25%</th>\n",
       "      <th>50%</th>\n",
       "      <th>75%</th>\n",
       "      <th>max</th>\n",
       "      <th>count</th>\n",
       "      <th>mean</th>\n",
       "      <th>std</th>\n",
       "      <th>min</th>\n",
       "      <th>25%</th>\n",
       "      <th>50%</th>\n",
       "      <th>75%</th>\n",
       "      <th>max</th>\n",
       "    </tr>\n",
       "  </thead>\n",
       "  <tbody>\n",
       "    <tr>\n",
       "      <th>p1</th>\n",
       "      <td>48949.0</td>\n",
       "      <td>0.027368</td>\n",
       "      <td>0.021877</td>\n",
       "      <td>0.006297</td>\n",
       "      <td>0.014157</td>\n",
       "      <td>0.020486</td>\n",
       "      <td>0.031677</td>\n",
       "      <td>0.231375</td>\n",
       "      <td>82033.0</td>\n",
       "      <td>0.006437</td>\n",
       "      <td>0.004016</td>\n",
       "      <td>0.002785</td>\n",
       "      <td>0.003810</td>\n",
       "      <td>0.005333</td>\n",
       "      <td>0.007432</td>\n",
       "      <td>0.056321</td>\n",
       "    </tr>\n",
       "    <tr>\n",
       "      <th>p1_overall_lda</th>\n",
       "      <td>48949.0</td>\n",
       "      <td>0.028912</td>\n",
       "      <td>0.021202</td>\n",
       "      <td>0.005857</td>\n",
       "      <td>0.016469</td>\n",
       "      <td>0.021575</td>\n",
       "      <td>0.030206</td>\n",
       "      <td>0.114281</td>\n",
       "      <td>82033.0</td>\n",
       "      <td>0.008587</td>\n",
       "      <td>0.004991</td>\n",
       "      <td>0.005289</td>\n",
       "      <td>0.005875</td>\n",
       "      <td>0.007080</td>\n",
       "      <td>0.008980</td>\n",
       "      <td>0.048399</td>\n",
       "    </tr>\n",
       "    <tr>\n",
       "      <th>p1_v1_5</th>\n",
       "      <td>48949.0</td>\n",
       "      <td>0.042286</td>\n",
       "      <td>0.029202</td>\n",
       "      <td>0.008874</td>\n",
       "      <td>0.021910</td>\n",
       "      <td>0.031416</td>\n",
       "      <td>0.054241</td>\n",
       "      <td>0.188945</td>\n",
       "      <td>82033.0</td>\n",
       "      <td>0.015505</td>\n",
       "      <td>0.009173</td>\n",
       "      <td>0.007533</td>\n",
       "      <td>0.010352</td>\n",
       "      <td>0.012982</td>\n",
       "      <td>0.016703</td>\n",
       "      <td>0.112125</td>\n",
       "    </tr>\n",
       "  </tbody>\n",
       "</table>\n",
       "</div>"
      ],
      "text/plain": [
       "dataset        Non Property Owner                                          \\\n",
       "                            count      mean       std       min       25%   \n",
       "p1                        48949.0  0.027368  0.021877  0.006297  0.014157   \n",
       "p1_overall_lda            48949.0  0.028912  0.021202  0.005857  0.016469   \n",
       "p1_v1_5                   48949.0  0.042286  0.029202  0.008874  0.021910   \n",
       "\n",
       "dataset                                      Property Owner            \\\n",
       "                     50%       75%       max          count      mean   \n",
       "p1              0.020486  0.031677  0.231375        82033.0  0.006437   \n",
       "p1_overall_lda  0.021575  0.030206  0.114281        82033.0  0.008587   \n",
       "p1_v1_5         0.031416  0.054241  0.188945        82033.0  0.015505   \n",
       "\n",
       "dataset                                                                     \n",
       "                     std       min       25%       50%       75%       max  \n",
       "p1              0.004016  0.002785  0.003810  0.005333  0.007432  0.056321  \n",
       "p1_overall_lda  0.004991  0.005289  0.005875  0.007080  0.008980  0.048399  \n",
       "p1_v1_5         0.009173  0.007533  0.010352  0.012982  0.016703  0.112125  "
      ]
     },
     "execution_count": 38,
     "metadata": {},
     "output_type": "execute_result"
    }
   ],
   "source": [
    "train_ono.groupby(['dataset'])[['p1', 'p1_overall_lda', 'p1_v1_5']].apply(lambda x: x.describe()).T"
   ]
  },
  {
   "cell_type": "code",
   "execution_count": 39,
   "id": "79d4c18a-b1ca-48b6-94fa-8e0b50700d86",
   "metadata": {
    "tags": []
   },
   "outputs": [
    {
     "data": {
      "text/plain": [
       "(82033, 15)"
      ]
     },
     "execution_count": 39,
     "metadata": {},
     "output_type": "execute_result"
    }
   ],
   "source": [
    "train_ono[train_ono['dataset'].isin(['Property Owner'])].shape"
   ]
  },
  {
   "cell_type": "code",
   "execution_count": 40,
   "id": "ee45b562-4598-4155-9d2b-fc255a207deb",
   "metadata": {
    "tags": []
   },
   "outputs": [
    {
     "data": {
      "text/plain": [
       "dataset\n",
       "Property Owner        82033\n",
       "Non Property Owner    48949\n",
       "Name: count, dtype: int64"
      ]
     },
     "execution_count": 40,
     "metadata": {},
     "output_type": "execute_result"
    }
   ],
   "source": [
    "train_ono['dataset'].value_counts(dropna= False)"
   ]
  },
  {
   "cell_type": "code",
   "execution_count": 41,
   "id": "52881b91-eea6-44db-8758-30eae710bc90",
   "metadata": {
    "tags": []
   },
   "outputs": [],
   "source": [
    "def get_model_comparison_segment(train_d, test_d, oot_d, ttd_d, segment, pref, d):\n",
    "    train_d= train_d.copy()\n",
    "    test_d= test_d.copy()\n",
    "    oot_d= oot_d.copy()\n",
    "    ttd_d= ttd_d.copy()\n",
    "    print({'segment': segment})#, 'overall shape': data.shape, 'segmented shape': data[data['dataset'].isin(segment)].shape})\n",
    "    \n",
    "    a= {'Model': pref, 'Dataset': d}\n",
    "    \n",
    "    a[f'KS Weighted Train Model']= rnkOrderingN(train_d[train_d['dataset'].isin(segment)], 'bad_flag', 'wt2', 'p1', n_bkts= 5, asc= False)[1]['KS']\n",
    "    a[f'KS Weighted Test Model']= rnkOrderingN(test_d[test_d['dataset'].isin(segment)], 'bad_flag', 'wt2', 'p1', n_bkts= 5, asc= False)[1]['KS']\n",
    "    \n",
    "    a[f'KS Non Weighted Train Model']= rnkOrderingN(train_d[train_d['dataset'].isin(segment)], 'bad_flag', None, 'p1', n_bkts= 5, asc= False)[1]['KS']\n",
    "    a[f'KS Non Weighted Test Model']= rnkOrderingN(test_d[test_d['dataset'].isin(segment)], 'bad_flag', None, 'p1', n_bkts= 5, asc= False)[1]['KS']\n",
    "    a[f'KS Non Weighted Oot Model']= rnkOrderingN(oot_d[oot_d['dataset'].isin(segment)], 'bad_flag', None, 'p1', n_bkts= 5, asc= False)[1]['KS']\n",
    "    \n",
    "    a[f'KS Non Weighted Oot FICO']= rnkOrderingN(test_d[test_d['dataset'].isin(segment)], 'bad_flag', None, 'fico_pb', n_bkts= 5, asc= True)[1]['KS']\n",
    "    a[f'KS Non Weighted Oot Auto Score']= rnkOrderingN(test_d[test_d['dataset'].isin(segment)], 'bad_flag', None, 'auto_score', n_bkts= 5, asc= True)[1]['KS']\n",
    "    \n",
    "    a['Bad Rate Train']= train_d[train_d['dataset'].isin(segment)]['bad_flag'].mean()\n",
    "    a['Bad Rate Test']= test_d[test_d['dataset'].isin(segment)]['bad_flag'].mean()\n",
    "    a['Bad Rate Oot']= oot_d[oot_d['dataset'].isin(segment)]['bad_flag'].mean()\n",
    "    \n",
    "    air_sgement_model= air_calc_new(Equal_Approval_Cutoff_Barsath(ttd_d[ttd_d['dataset'].isin(segment)], 'approve_flag', 'p1'), 'AIR TTD')\n",
    "    a[f'AIR Age Model']= air_sgement_model['AIR TTDage_cuts']\n",
    "    a[f'AIR Race Model']= air_sgement_model['AIR TTDRace']\n",
    "    a[f'AIR Race Black Model']= air_sgement_model['AIR TTDRaceblack']\n",
    "    a[f'AIR Race Hispanic Model']= air_sgement_model['AIR TTDRacehispanic']\n",
    "    a[f'AIR Gender Model']= air_sgement_model['AIR TTDGender']\n",
    "    \n",
    "    air_fico_model= air_calc_new(Equal_Approval_Cutoff_Barsath(ttd_d[ttd_d['dataset'].isin(segment)], 'approve_flag', 'fico_pb', asc= False), 'AIR TTD')\n",
    "    a[f'AIR Age FICO']= air_fico_model['AIR TTDage_cuts']\n",
    "    a[f'AIR Race FICO']= air_fico_model['AIR TTDRace']\n",
    "    a[f'AIR Race Black FICO']= air_fico_model['AIR TTDRaceblack']\n",
    "    a[f'AIR Race Hispanic FICO']= air_fico_model['AIR TTDRacehispanic']\n",
    "    a[f'AIR Gender FICO']= air_fico_model['AIR TTDGender']\n",
    "    \n",
    "    return a"
   ]
  },
  {
   "cell_type": "code",
   "execution_count": 42,
   "id": "01131838-df7a-4295-b0ae-34f6559edcbb",
   "metadata": {
    "tags": []
   },
   "outputs": [],
   "source": [
    "def get_model_comparison_overall(train_d, test_d, oot_d, ttd_d, segment, pref, d):\n",
    "    train_d= train_d.copy()\n",
    "    test_d= test_d.copy()\n",
    "    oot_d= oot_d.copy()\n",
    "    ttd_d= ttd_d.copy()\n",
    "    print({'segment': segment})#, 'overall shape': data.shape, 'segmented shape': data[data['dataset'].isin(segment)].shape})\n",
    "    \n",
    "    a= {'Model': pref, 'Dataset': d}\n",
    "    \n",
    "    a[f'KS Weighted Train Model']= rnkOrderingN(train_d[train_d['dataset'].isin(segment)], 'bad_flag', 'wt2', 'p1_overall_lda', n_bkts= 5, asc= False)[1]['KS']\n",
    "    a[f'KS Weighted Test Model']= rnkOrderingN(test_d[test_d['dataset'].isin(segment)], 'bad_flag', 'wt2', 'p1_overall_lda', n_bkts= 5, asc= False)[1]['KS']\n",
    "    \n",
    "    a[f'KS Non Weighted Train Model']= rnkOrderingN(train_d[train_d['dataset'].isin(segment)], 'bad_flag', None, 'p1_overall_lda', n_bkts= 5, asc= False)[1]['KS']\n",
    "    a[f'KS Non Weighted Test Model']= rnkOrderingN(test_d[test_d['dataset'].isin(segment)], 'bad_flag', None, 'p1_overall_lda', n_bkts= 5, asc= False)[1]['KS']\n",
    "    a[f'KS Non Weighted Oot Model']= rnkOrderingN(oot_d[oot_d['dataset'].isin(segment)], 'bad_flag', None, 'p1_overall_lda', n_bkts= 5, asc= False)[1]['KS']\n",
    "    \n",
    "    a[f'KS Non Weighted Oot FICO']= rnkOrderingN(test_d[test_d['dataset'].isin(segment)], 'bad_flag', None, 'fico_pb', n_bkts= 5, asc= True)[1]['KS']\n",
    "    a[f'KS Non Weighted Oot Auto Score']= rnkOrderingN(test_d[test_d['dataset'].isin(segment)], 'bad_flag', None, 'auto_score', n_bkts= 5, asc= True)[1]['KS']\n",
    "    \n",
    "    a['Bad Rate Train']= train_d[train_d['dataset'].isin(segment)]['bad_flag'].mean()\n",
    "    a['Bad Rate Test']= test_d[test_d['dataset'].isin(segment)]['bad_flag'].mean()\n",
    "    a['Bad Rate Oot']= oot_d[oot_d['dataset'].isin(segment)]['bad_flag'].mean()\n",
    "    \n",
    "    air_sgement_model= air_calc_new(Equal_Approval_Cutoff_Barsath(ttd_d[ttd_d['dataset'].isin(segment)], 'approve_flag', 'p1_overall_lda'), 'AIR TTD')\n",
    "    a[f'AIR Age Model']= air_sgement_model['AIR TTDage_cuts']\n",
    "    a[f'AIR Race Model']= air_sgement_model['AIR TTDRace']\n",
    "    a[f'AIR Race Black Model']= air_sgement_model['AIR TTDRaceblack']\n",
    "    a[f'AIR Race Hispanic Model']= air_sgement_model['AIR TTDRacehispanic']\n",
    "    a[f'AIR Gender Model']= air_sgement_model['AIR TTDGender']\n",
    "    \n",
    "    air_fico_model= air_calc_new(Equal_Approval_Cutoff_Barsath(ttd_d[ttd_d['dataset'].isin(segment)], 'approve_flag', 'fico_pb', asc= False), 'AIR TTD')\n",
    "    a[f'AIR Age FICO']= air_fico_model['AIR TTDage_cuts']\n",
    "    a[f'AIR Race FICO']= air_fico_model['AIR TTDRace']\n",
    "    a[f'AIR Race Black FICO']= air_fico_model['AIR TTDRaceblack']\n",
    "    a[f'AIR Race Hispanic FICO']= air_fico_model['AIR TTDRacehispanic']\n",
    "    a[f'AIR Gender FICO']= air_fico_model['AIR TTDGender']\n",
    "    \n",
    "    return a\n",
    "    "
   ]
  },
  {
   "cell_type": "code",
   "execution_count": 43,
   "id": "f1fedd22-6cd6-470a-adf0-b7a4344b8239",
   "metadata": {
    "tags": []
   },
   "outputs": [],
   "source": [
    "def get_model_comparison_v15(train_d, test_d, oot_d, ttd_d, segment, pref, d):\n",
    "    train_d= train_d.copy()\n",
    "    test_d= test_d.copy()\n",
    "    oot_d= oot_d.copy()\n",
    "    ttd_d= ttd_d.copy()\n",
    "    print({'segment': segment})#, 'overall shape': data.shape, 'segmented shape': data[data['dataset'].isin(segment)].shape})\n",
    "    \n",
    "    a= {'Model': pref, 'Dataset': d}\n",
    "    \n",
    "    a[f'KS Weighted Train Model']= rnkOrderingN(train_d[train_d['dataset'].isin(segment)], 'bad_flag', 'wt2', 'p1_v1_5', n_bkts= 5, asc= False)[1]['KS']\n",
    "    a[f'KS Weighted Test Model']= rnkOrderingN(test_d[test_d['dataset'].isin(segment)], 'bad_flag', 'wt2', 'p1_v1_5', n_bkts= 5, asc= False)[1]['KS']\n",
    "    \n",
    "    a[f'KS Non Weighted Train Model']= rnkOrderingN(train_d[train_d['dataset'].isin(segment)], 'bad_flag', None, 'p1_v1_5', n_bkts= 5, asc= False)[1]['KS']\n",
    "    a[f'KS Non Weighted Test Model']= rnkOrderingN(test_d[test_d['dataset'].isin(segment)], 'bad_flag', None, 'p1_v1_5', n_bkts= 5, asc= False)[1]['KS']\n",
    "    a[f'KS Non Weighted Oot Model']= rnkOrderingN(oot_d[oot_d['dataset'].isin(segment)], 'bad_flag', None, 'p1_v1_5', n_bkts= 5, asc= False)[1]['KS']\n",
    "    \n",
    "    a[f'KS Non Weighted Oot FICO']= rnkOrderingN(test_d[test_d['dataset'].isin(segment)], 'bad_flag', None, 'fico_pb', n_bkts= 5, asc= True)[1]['KS']\n",
    "    a[f'KS Non Weighted Oot Auto Score']= rnkOrderingN(test_d[test_d['dataset'].isin(segment)], 'bad_flag', None, 'auto_score', n_bkts= 5, asc= True)[1]['KS']\n",
    "    \n",
    "    a['Bad Rate Train']= train_d[train_d['dataset'].isin(segment)]['bad_flag'].mean()\n",
    "    a['Bad Rate Test']= test_d[test_d['dataset'].isin(segment)]['bad_flag'].mean()\n",
    "    a['Bad Rate Oot']= oot_d[oot_d['dataset'].isin(segment)]['bad_flag'].mean()\n",
    "    \n",
    "    air_sgement_model= air_calc_new(Equal_Approval_Cutoff_Barsath(ttd_d[ttd_d['dataset'].isin(segment)], 'approve_flag', 'p1_v1_5'), 'AIR TTD')\n",
    "    a[f'AIR Age Model']= air_sgement_model['AIR TTDage_cuts']\n",
    "    a[f'AIR Race Model']= air_sgement_model['AIR TTDRace']\n",
    "    a[f'AIR Race Black Model']= air_sgement_model['AIR TTDRaceblack']\n",
    "    a[f'AIR Race Hispanic Model']= air_sgement_model['AIR TTDRacehispanic']\n",
    "    a[f'AIR Gender Model']= air_sgement_model['AIR TTDGender']\n",
    "    \n",
    "    air_fico_model= air_calc_new(Equal_Approval_Cutoff_Barsath(ttd_d[ttd_d['dataset'].isin(segment)], 'approve_flag', 'fico_pb', asc= False), 'AIR TTD')\n",
    "    a[f'AIR Age FICO']= air_fico_model['AIR TTDage_cuts']\n",
    "    a[f'AIR Race FICO']= air_fico_model['AIR TTDRace']\n",
    "    a[f'AIR Race Black FICO']= air_fico_model['AIR TTDRaceblack']\n",
    "    a[f'AIR Race Hispanic FICO']= air_fico_model['AIR TTDRacehispanic']\n",
    "    a[f'AIR Gender FICO']= air_fico_model['AIR TTDGender']\n",
    "    \n",
    "    return a"
   ]
  },
  {
   "cell_type": "code",
   "execution_count": 44,
   "id": "81462ea8-b098-4e56-a2cb-6d8c51c519af",
   "metadata": {
    "tags": []
   },
   "outputs": [
    {
     "data": {
      "text/html": [
       "<div>\n",
       "<style scoped>\n",
       "    .dataframe tbody tr th:only-of-type {\n",
       "        vertical-align: middle;\n",
       "    }\n",
       "\n",
       "    .dataframe tbody tr th {\n",
       "        vertical-align: top;\n",
       "    }\n",
       "\n",
       "    .dataframe thead th {\n",
       "        text-align: right;\n",
       "    }\n",
       "</style>\n",
       "<table border=\"1\" class=\"dataframe\">\n",
       "  <thead>\n",
       "    <tr style=\"text-align: right;\">\n",
       "      <th></th>\n",
       "      <th>AIR TTDage_cuts</th>\n",
       "      <th>AIR TTDRace</th>\n",
       "      <th>AIR TTDRaceblack</th>\n",
       "      <th>AIR TTDRacehispanic</th>\n",
       "      <th>AIR TTDGender</th>\n",
       "    </tr>\n",
       "  </thead>\n",
       "  <tbody>\n",
       "    <tr>\n",
       "      <th>0</th>\n",
       "      <td>1.2736</td>\n",
       "      <td>0.7421</td>\n",
       "      <td>0.6415</td>\n",
       "      <td>0.8449</td>\n",
       "      <td>0.9288</td>\n",
       "    </tr>\n",
       "  </tbody>\n",
       "</table>\n",
       "</div>"
      ],
      "text/plain": [
       "   AIR TTDage_cuts  AIR TTDRace  AIR TTDRaceblack  AIR TTDRacehispanic  \\\n",
       "0           1.2736       0.7421            0.6415               0.8449   \n",
       "\n",
       "   AIR TTDGender  \n",
       "0         0.9288  "
      ]
     },
     "execution_count": 44,
     "metadata": {},
     "output_type": "execute_result"
    }
   ],
   "source": [
    "pd.DataFrame(air_calc_new(Equal_Approval_Cutoff_Barsath(ttd_ono, 'approve_flag', 'fico_pb', asc= False), 'AIR TTD'))"
   ]
  },
  {
   "cell_type": "code",
   "execution_count": 45,
   "id": "280baa4e-27dd-461d-b397-8c3ccaebd058",
   "metadata": {
    "tags": []
   },
   "outputs": [
    {
     "data": {
      "text/html": [
       "<div>\n",
       "<style scoped>\n",
       "    .dataframe tbody tr th:only-of-type {\n",
       "        vertical-align: middle;\n",
       "    }\n",
       "\n",
       "    .dataframe tbody tr th {\n",
       "        vertical-align: top;\n",
       "    }\n",
       "\n",
       "    .dataframe thead th {\n",
       "        text-align: right;\n",
       "    }\n",
       "</style>\n",
       "<table border=\"1\" class=\"dataframe\">\n",
       "  <thead>\n",
       "    <tr style=\"text-align: right;\">\n",
       "      <th></th>\n",
       "      <th>AIR TTDage_cuts</th>\n",
       "      <th>AIR TTDRace</th>\n",
       "      <th>AIR TTDRaceblack</th>\n",
       "      <th>AIR TTDRacehispanic</th>\n",
       "      <th>AIR TTDGender</th>\n",
       "    </tr>\n",
       "  </thead>\n",
       "  <tbody>\n",
       "    <tr>\n",
       "      <th>0</th>\n",
       "      <td>1.1012</td>\n",
       "      <td>0.8121</td>\n",
       "      <td>0.7562</td>\n",
       "      <td>0.8751</td>\n",
       "      <td>0.948</td>\n",
       "    </tr>\n",
       "  </tbody>\n",
       "</table>\n",
       "</div>"
      ],
      "text/plain": [
       "   AIR TTDage_cuts  AIR TTDRace  AIR TTDRaceblack  AIR TTDRacehispanic  \\\n",
       "0           1.1012       0.8121            0.7562               0.8751   \n",
       "\n",
       "   AIR TTDGender  \n",
       "0          0.948  "
      ]
     },
     "execution_count": 45,
     "metadata": {},
     "output_type": "execute_result"
    }
   ],
   "source": [
    "pd.DataFrame(air_calc_new(Equal_Approval_Cutoff_Barsath(ttd_ono[ttd_ono['dataset']== 'Property Owner'], 'approve_flag', 'fico_pb', asc= False), 'AIR TTD'))"
   ]
  },
  {
   "cell_type": "code",
   "execution_count": 46,
   "id": "b4de9c70-af5f-4524-9d0a-60bc28105381",
   "metadata": {
    "tags": []
   },
   "outputs": [
    {
     "data": {
      "text/html": [
       "<div>\n",
       "<style scoped>\n",
       "    .dataframe tbody tr th:only-of-type {\n",
       "        vertical-align: middle;\n",
       "    }\n",
       "\n",
       "    .dataframe tbody tr th {\n",
       "        vertical-align: top;\n",
       "    }\n",
       "\n",
       "    .dataframe thead th {\n",
       "        text-align: right;\n",
       "    }\n",
       "</style>\n",
       "<table border=\"1\" class=\"dataframe\">\n",
       "  <thead>\n",
       "    <tr style=\"text-align: right;\">\n",
       "      <th></th>\n",
       "      <th>AIR TTDage_cuts</th>\n",
       "      <th>AIR TTDRace</th>\n",
       "      <th>AIR TTDRaceblack</th>\n",
       "      <th>AIR TTDRacehispanic</th>\n",
       "      <th>AIR TTDGender</th>\n",
       "    </tr>\n",
       "  </thead>\n",
       "  <tbody>\n",
       "    <tr>\n",
       "      <th>0</th>\n",
       "      <td>1.291</td>\n",
       "      <td>0.7927</td>\n",
       "      <td>0.6016</td>\n",
       "      <td>0.9756</td>\n",
       "      <td>0.9857</td>\n",
       "    </tr>\n",
       "  </tbody>\n",
       "</table>\n",
       "</div>"
      ],
      "text/plain": [
       "   AIR TTDage_cuts  AIR TTDRace  AIR TTDRaceblack  AIR TTDRacehispanic  \\\n",
       "0            1.291       0.7927            0.6016               0.9756   \n",
       "\n",
       "   AIR TTDGender  \n",
       "0         0.9857  "
      ]
     },
     "execution_count": 46,
     "metadata": {},
     "output_type": "execute_result"
    }
   ],
   "source": [
    "pd.DataFrame(air_calc_new(Equal_Approval_Cutoff_Barsath(ttd_ono[ttd_ono['dataset']== 'Non Property Owner'], 'approve_flag', 'fico_pb', asc= False), 'AIR TTD'))"
   ]
  },
  {
   "cell_type": "code",
   "execution_count": 47,
   "id": "6d8da075-1110-4a5b-aeb6-9fa2fbc06afd",
   "metadata": {
    "tags": []
   },
   "outputs": [
    {
     "name": "stdout",
     "output_type": "stream",
     "text": [
      "{'segment': ['Property Owner']}\n",
      "{'segment': ['Property Owner']}\n",
      "{'segment': ['Property Owner']}\n"
     ]
    },
    {
     "data": {
      "text/html": [
       "<div>\n",
       "<style scoped>\n",
       "    .dataframe tbody tr th:only-of-type {\n",
       "        vertical-align: middle;\n",
       "    }\n",
       "\n",
       "    .dataframe tbody tr th {\n",
       "        vertical-align: top;\n",
       "    }\n",
       "\n",
       "    .dataframe thead th {\n",
       "        text-align: right;\n",
       "    }\n",
       "</style>\n",
       "<table border=\"1\" class=\"dataframe\">\n",
       "  <thead>\n",
       "    <tr style=\"text-align: right;\">\n",
       "      <th></th>\n",
       "      <th>Model</th>\n",
       "      <th>Dataset</th>\n",
       "      <th>KS Weighted Train Model</th>\n",
       "      <th>KS Weighted Test Model</th>\n",
       "      <th>KS Non Weighted Train Model</th>\n",
       "      <th>KS Non Weighted Test Model</th>\n",
       "      <th>KS Non Weighted Oot Model</th>\n",
       "      <th>KS Non Weighted Oot FICO</th>\n",
       "      <th>KS Non Weighted Oot Auto Score</th>\n",
       "      <th>Bad Rate Train</th>\n",
       "      <th>Bad Rate Test</th>\n",
       "      <th>Bad Rate Oot</th>\n",
       "      <th>AIR Age Model</th>\n",
       "      <th>AIR Race Model</th>\n",
       "      <th>AIR Race Black Model</th>\n",
       "      <th>AIR Race Hispanic Model</th>\n",
       "      <th>AIR Gender Model</th>\n",
       "      <th>AIR Age FICO</th>\n",
       "      <th>AIR Race FICO</th>\n",
       "      <th>AIR Race Black FICO</th>\n",
       "      <th>AIR Race Hispanic FICO</th>\n",
       "      <th>AIR Gender FICO</th>\n",
       "    </tr>\n",
       "  </thead>\n",
       "  <tbody>\n",
       "    <tr>\n",
       "      <th>0</th>\n",
       "      <td>Property Owner</td>\n",
       "      <td>Property Owner</td>\n",
       "      <td>35.14</td>\n",
       "      <td>34.13</td>\n",
       "      <td>33.74</td>\n",
       "      <td>33.36</td>\n",
       "      <td>28.01</td>\n",
       "      <td>40.24</td>\n",
       "      <td>22.57</td>\n",
       "      <td>0.005851</td>\n",
       "      <td>0.005831</td>\n",
       "      <td>0.005398</td>\n",
       "      <td>1.0414</td>\n",
       "      <td>0.8407</td>\n",
       "      <td>0.8785</td>\n",
       "      <td>0.7981</td>\n",
       "      <td>0.9797</td>\n",
       "      <td>1.1012</td>\n",
       "      <td>0.8121</td>\n",
       "      <td>0.7562</td>\n",
       "      <td>0.8751</td>\n",
       "      <td>0.948</td>\n",
       "    </tr>\n",
       "    <tr>\n",
       "      <th>0</th>\n",
       "      <td>Overall</td>\n",
       "      <td>Property Owner</td>\n",
       "      <td>28.68</td>\n",
       "      <td>29.96</td>\n",
       "      <td>27.04</td>\n",
       "      <td>27.96</td>\n",
       "      <td>22.62</td>\n",
       "      <td>40.24</td>\n",
       "      <td>22.57</td>\n",
       "      <td>0.005851</td>\n",
       "      <td>0.005831</td>\n",
       "      <td>0.005398</td>\n",
       "      <td>1.1435</td>\n",
       "      <td>0.9376</td>\n",
       "      <td>0.9724</td>\n",
       "      <td>0.8983</td>\n",
       "      <td>0.9969</td>\n",
       "      <td>1.1012</td>\n",
       "      <td>0.8121</td>\n",
       "      <td>0.7562</td>\n",
       "      <td>0.8751</td>\n",
       "      <td>0.948</td>\n",
       "    </tr>\n",
       "    <tr>\n",
       "      <th>0</th>\n",
       "      <td>V1.5</td>\n",
       "      <td>Property Owner</td>\n",
       "      <td>37.16</td>\n",
       "      <td>41.03</td>\n",
       "      <td>35.63</td>\n",
       "      <td>38.27</td>\n",
       "      <td>31.60</td>\n",
       "      <td>40.24</td>\n",
       "      <td>22.57</td>\n",
       "      <td>0.005851</td>\n",
       "      <td>0.005831</td>\n",
       "      <td>0.005398</td>\n",
       "      <td>1.0680</td>\n",
       "      <td>0.8210</td>\n",
       "      <td>0.7970</td>\n",
       "      <td>0.8479</td>\n",
       "      <td>0.9637</td>\n",
       "      <td>1.1012</td>\n",
       "      <td>0.8121</td>\n",
       "      <td>0.7562</td>\n",
       "      <td>0.8751</td>\n",
       "      <td>0.948</td>\n",
       "    </tr>\n",
       "  </tbody>\n",
       "</table>\n",
       "</div>"
      ],
      "text/plain": [
       "            Model         Dataset  KS Weighted Train Model  \\\n",
       "0  Property Owner  Property Owner                    35.14   \n",
       "0         Overall  Property Owner                    28.68   \n",
       "0            V1.5  Property Owner                    37.16   \n",
       "\n",
       "   KS Weighted Test Model  KS Non Weighted Train Model  \\\n",
       "0                   34.13                        33.74   \n",
       "0                   29.96                        27.04   \n",
       "0                   41.03                        35.63   \n",
       "\n",
       "   KS Non Weighted Test Model  KS Non Weighted Oot Model  \\\n",
       "0                       33.36                      28.01   \n",
       "0                       27.96                      22.62   \n",
       "0                       38.27                      31.60   \n",
       "\n",
       "   KS Non Weighted Oot FICO  KS Non Weighted Oot Auto Score  Bad Rate Train  \\\n",
       "0                     40.24                           22.57        0.005851   \n",
       "0                     40.24                           22.57        0.005851   \n",
       "0                     40.24                           22.57        0.005851   \n",
       "\n",
       "   Bad Rate Test  Bad Rate Oot  AIR Age Model  AIR Race Model  \\\n",
       "0       0.005831      0.005398         1.0414          0.8407   \n",
       "0       0.005831      0.005398         1.1435          0.9376   \n",
       "0       0.005831      0.005398         1.0680          0.8210   \n",
       "\n",
       "   AIR Race Black Model  AIR Race Hispanic Model  AIR Gender Model  \\\n",
       "0                0.8785                   0.7981            0.9797   \n",
       "0                0.9724                   0.8983            0.9969   \n",
       "0                0.7970                   0.8479            0.9637   \n",
       "\n",
       "   AIR Age FICO  AIR Race FICO  AIR Race Black FICO  AIR Race Hispanic FICO  \\\n",
       "0        1.1012         0.8121               0.7562                  0.8751   \n",
       "0        1.1012         0.8121               0.7562                  0.8751   \n",
       "0        1.1012         0.8121               0.7562                  0.8751   \n",
       "\n",
       "   AIR Gender FICO  \n",
       "0            0.948  \n",
       "0            0.948  \n",
       "0            0.948  "
      ]
     },
     "execution_count": 47,
     "metadata": {},
     "output_type": "execute_result"
    }
   ],
   "source": [
    "pd.concat(\n",
    "    [pd.DataFrame(get_model_comparison_segment(train_ono, test_ono, oot_ono, ttd_ono, ['Property Owner'], 'Property Owner', 'Property Owner')),\n",
    "     pd.DataFrame(get_model_comparison_overall(train_ono, test_ono, oot_ono, ttd_ono, ['Property Owner'], 'Overall', 'Property Owner')),\n",
    "     pd.DataFrame(get_model_comparison_v15(train_ono, test_ono, oot_ono, ttd_ono, ['Property Owner'], 'V1.5', 'Property Owner'))]\n",
    ")"
   ]
  },
  {
   "cell_type": "code",
   "execution_count": 48,
   "id": "d0540fa5-4ca0-43e4-a858-d98b0086208d",
   "metadata": {
    "tags": []
   },
   "outputs": [
    {
     "name": "stdout",
     "output_type": "stream",
     "text": [
      "{'segment': ['Non Property Owner']}\n",
      "{'segment': ['Non Property Owner']}\n",
      "{'segment': ['Non Property Owner']}\n"
     ]
    },
    {
     "data": {
      "text/html": [
       "<div>\n",
       "<style scoped>\n",
       "    .dataframe tbody tr th:only-of-type {\n",
       "        vertical-align: middle;\n",
       "    }\n",
       "\n",
       "    .dataframe tbody tr th {\n",
       "        vertical-align: top;\n",
       "    }\n",
       "\n",
       "    .dataframe thead th {\n",
       "        text-align: right;\n",
       "    }\n",
       "</style>\n",
       "<table border=\"1\" class=\"dataframe\">\n",
       "  <thead>\n",
       "    <tr style=\"text-align: right;\">\n",
       "      <th></th>\n",
       "      <th>Model</th>\n",
       "      <th>Dataset</th>\n",
       "      <th>KS Weighted Train Model</th>\n",
       "      <th>KS Weighted Test Model</th>\n",
       "      <th>KS Non Weighted Train Model</th>\n",
       "      <th>KS Non Weighted Test Model</th>\n",
       "      <th>KS Non Weighted Oot Model</th>\n",
       "      <th>KS Non Weighted Oot FICO</th>\n",
       "      <th>KS Non Weighted Oot Auto Score</th>\n",
       "      <th>Bad Rate Train</th>\n",
       "      <th>Bad Rate Test</th>\n",
       "      <th>Bad Rate Oot</th>\n",
       "      <th>AIR Age Model</th>\n",
       "      <th>AIR Race Model</th>\n",
       "      <th>AIR Race Black Model</th>\n",
       "      <th>AIR Race Hispanic Model</th>\n",
       "      <th>AIR Gender Model</th>\n",
       "      <th>AIR Age FICO</th>\n",
       "      <th>AIR Race FICO</th>\n",
       "      <th>AIR Race Black FICO</th>\n",
       "      <th>AIR Race Hispanic FICO</th>\n",
       "      <th>AIR Gender FICO</th>\n",
       "    </tr>\n",
       "  </thead>\n",
       "  <tbody>\n",
       "    <tr>\n",
       "      <th>0</th>\n",
       "      <td>Non Property Owner</td>\n",
       "      <td>Non Property Owner</td>\n",
       "      <td>30.42</td>\n",
       "      <td>28.04</td>\n",
       "      <td>28.64</td>\n",
       "      <td>26.18</td>\n",
       "      <td>26.08</td>\n",
       "      <td>35.69</td>\n",
       "      <td>21.07</td>\n",
       "      <td>0.026538</td>\n",
       "      <td>0.026789</td>\n",
       "      <td>0.025522</td>\n",
       "      <td>1.4264</td>\n",
       "      <td>0.7826</td>\n",
       "      <td>0.7891</td>\n",
       "      <td>0.7762</td>\n",
       "      <td>1.0677</td>\n",
       "      <td>1.291</td>\n",
       "      <td>0.7927</td>\n",
       "      <td>0.6016</td>\n",
       "      <td>0.9756</td>\n",
       "      <td>0.9857</td>\n",
       "    </tr>\n",
       "    <tr>\n",
       "      <th>0</th>\n",
       "      <td>Overall</td>\n",
       "      <td>Non Property Owner</td>\n",
       "      <td>24.85</td>\n",
       "      <td>24.70</td>\n",
       "      <td>24.15</td>\n",
       "      <td>21.42</td>\n",
       "      <td>25.75</td>\n",
       "      <td>35.69</td>\n",
       "      <td>21.07</td>\n",
       "      <td>0.026538</td>\n",
       "      <td>0.026789</td>\n",
       "      <td>0.025522</td>\n",
       "      <td>1.5234</td>\n",
       "      <td>0.8922</td>\n",
       "      <td>0.8531</td>\n",
       "      <td>0.9298</td>\n",
       "      <td>0.9969</td>\n",
       "      <td>1.291</td>\n",
       "      <td>0.7927</td>\n",
       "      <td>0.6016</td>\n",
       "      <td>0.9756</td>\n",
       "      <td>0.9857</td>\n",
       "    </tr>\n",
       "    <tr>\n",
       "      <th>0</th>\n",
       "      <td>V1.5</td>\n",
       "      <td>Non Property Owner</td>\n",
       "      <td>38.09</td>\n",
       "      <td>36.11</td>\n",
       "      <td>37.36</td>\n",
       "      <td>35.14</td>\n",
       "      <td>34.65</td>\n",
       "      <td>35.69</td>\n",
       "      <td>21.07</td>\n",
       "      <td>0.026538</td>\n",
       "      <td>0.026789</td>\n",
       "      <td>0.025522</td>\n",
       "      <td>1.4140</td>\n",
       "      <td>0.7703</td>\n",
       "      <td>0.6504</td>\n",
       "      <td>0.8848</td>\n",
       "      <td>1.0296</td>\n",
       "      <td>1.291</td>\n",
       "      <td>0.7927</td>\n",
       "      <td>0.6016</td>\n",
       "      <td>0.9756</td>\n",
       "      <td>0.9857</td>\n",
       "    </tr>\n",
       "  </tbody>\n",
       "</table>\n",
       "</div>"
      ],
      "text/plain": [
       "                Model             Dataset  KS Weighted Train Model  \\\n",
       "0  Non Property Owner  Non Property Owner                    30.42   \n",
       "0             Overall  Non Property Owner                    24.85   \n",
       "0                V1.5  Non Property Owner                    38.09   \n",
       "\n",
       "   KS Weighted Test Model  KS Non Weighted Train Model  \\\n",
       "0                   28.04                        28.64   \n",
       "0                   24.70                        24.15   \n",
       "0                   36.11                        37.36   \n",
       "\n",
       "   KS Non Weighted Test Model  KS Non Weighted Oot Model  \\\n",
       "0                       26.18                      26.08   \n",
       "0                       21.42                      25.75   \n",
       "0                       35.14                      34.65   \n",
       "\n",
       "   KS Non Weighted Oot FICO  KS Non Weighted Oot Auto Score  Bad Rate Train  \\\n",
       "0                     35.69                           21.07        0.026538   \n",
       "0                     35.69                           21.07        0.026538   \n",
       "0                     35.69                           21.07        0.026538   \n",
       "\n",
       "   Bad Rate Test  Bad Rate Oot  AIR Age Model  AIR Race Model  \\\n",
       "0       0.026789      0.025522         1.4264          0.7826   \n",
       "0       0.026789      0.025522         1.5234          0.8922   \n",
       "0       0.026789      0.025522         1.4140          0.7703   \n",
       "\n",
       "   AIR Race Black Model  AIR Race Hispanic Model  AIR Gender Model  \\\n",
       "0                0.7891                   0.7762            1.0677   \n",
       "0                0.8531                   0.9298            0.9969   \n",
       "0                0.6504                   0.8848            1.0296   \n",
       "\n",
       "   AIR Age FICO  AIR Race FICO  AIR Race Black FICO  AIR Race Hispanic FICO  \\\n",
       "0         1.291         0.7927               0.6016                  0.9756   \n",
       "0         1.291         0.7927               0.6016                  0.9756   \n",
       "0         1.291         0.7927               0.6016                  0.9756   \n",
       "\n",
       "   AIR Gender FICO  \n",
       "0           0.9857  \n",
       "0           0.9857  \n",
       "0           0.9857  "
      ]
     },
     "execution_count": 48,
     "metadata": {},
     "output_type": "execute_result"
    }
   ],
   "source": [
    "pd.concat(\n",
    "    [pd.DataFrame(get_model_comparison_segment(train_ono, test_ono, oot_ono, ttd_ono, ['Non Property Owner'], 'Non Property Owner', 'Non Property Owner')),\n",
    "     pd.DataFrame(get_model_comparison_overall(train_ono, test_ono, oot_ono, ttd_ono, ['Non Property Owner'], 'Overall', 'Non Property Owner')),\n",
    "     pd.DataFrame(get_model_comparison_v15(train_ono, test_ono, oot_ono, ttd_ono, ['Non Property Owner'], 'V1.5', 'Non Property Owner'))]\n",
    ")"
   ]
  },
  {
   "cell_type": "code",
   "execution_count": 49,
   "id": "779a2e72-9287-4162-bcf3-dcaf5d4d8817",
   "metadata": {
    "tags": []
   },
   "outputs": [
    {
     "name": "stdout",
     "output_type": "stream",
     "text": [
      "{'segment': ['Non Property Owner', 'Property Owner']}\n",
      "{'segment': ['Non Property Owner', 'Property Owner']}\n",
      "{'segment': ['Non Property Owner', 'Property Owner']}\n"
     ]
    },
    {
     "data": {
      "text/html": [
       "<div>\n",
       "<style scoped>\n",
       "    .dataframe tbody tr th:only-of-type {\n",
       "        vertical-align: middle;\n",
       "    }\n",
       "\n",
       "    .dataframe tbody tr th {\n",
       "        vertical-align: top;\n",
       "    }\n",
       "\n",
       "    .dataframe thead th {\n",
       "        text-align: right;\n",
       "    }\n",
       "</style>\n",
       "<table border=\"1\" class=\"dataframe\">\n",
       "  <thead>\n",
       "    <tr style=\"text-align: right;\">\n",
       "      <th></th>\n",
       "      <th>Model</th>\n",
       "      <th>Dataset</th>\n",
       "      <th>KS Weighted Train Model</th>\n",
       "      <th>KS Weighted Test Model</th>\n",
       "      <th>KS Non Weighted Train Model</th>\n",
       "      <th>KS Non Weighted Test Model</th>\n",
       "      <th>KS Non Weighted Oot Model</th>\n",
       "      <th>KS Non Weighted Oot FICO</th>\n",
       "      <th>KS Non Weighted Oot Auto Score</th>\n",
       "      <th>Bad Rate Train</th>\n",
       "      <th>Bad Rate Test</th>\n",
       "      <th>Bad Rate Oot</th>\n",
       "      <th>AIR Age Model</th>\n",
       "      <th>AIR Race Model</th>\n",
       "      <th>AIR Race Black Model</th>\n",
       "      <th>AIR Race Hispanic Model</th>\n",
       "      <th>AIR Gender Model</th>\n",
       "      <th>AIR Age FICO</th>\n",
       "      <th>AIR Race FICO</th>\n",
       "      <th>AIR Race Black FICO</th>\n",
       "      <th>AIR Race Hispanic FICO</th>\n",
       "      <th>AIR Gender FICO</th>\n",
       "    </tr>\n",
       "  </thead>\n",
       "  <tbody>\n",
       "    <tr>\n",
       "      <th>0</th>\n",
       "      <td>Both</td>\n",
       "      <td>Both</td>\n",
       "      <td>41.26</td>\n",
       "      <td>40.70</td>\n",
       "      <td>41.28</td>\n",
       "      <td>40.74</td>\n",
       "      <td>40.52</td>\n",
       "      <td>44.83</td>\n",
       "      <td>36.64</td>\n",
       "      <td>0.013582</td>\n",
       "      <td>0.013663</td>\n",
       "      <td>0.012948</td>\n",
       "      <td>1.3914</td>\n",
       "      <td>0.6839</td>\n",
       "      <td>0.7322</td>\n",
       "      <td>0.6345</td>\n",
       "      <td>0.9389</td>\n",
       "      <td>1.2736</td>\n",
       "      <td>0.7421</td>\n",
       "      <td>0.6415</td>\n",
       "      <td>0.8449</td>\n",
       "      <td>0.9288</td>\n",
       "    </tr>\n",
       "    <tr>\n",
       "      <th>0</th>\n",
       "      <td>Overall</td>\n",
       "      <td>Both</td>\n",
       "      <td>38.51</td>\n",
       "      <td>38.61</td>\n",
       "      <td>38.72</td>\n",
       "      <td>39.42</td>\n",
       "      <td>39.35</td>\n",
       "      <td>44.83</td>\n",
       "      <td>36.64</td>\n",
       "      <td>0.013582</td>\n",
       "      <td>0.013663</td>\n",
       "      <td>0.012948</td>\n",
       "      <td>1.4216</td>\n",
       "      <td>0.7682</td>\n",
       "      <td>0.7737</td>\n",
       "      <td>0.7625</td>\n",
       "      <td>0.9275</td>\n",
       "      <td>1.2736</td>\n",
       "      <td>0.7421</td>\n",
       "      <td>0.6415</td>\n",
       "      <td>0.8449</td>\n",
       "      <td>0.9288</td>\n",
       "    </tr>\n",
       "    <tr>\n",
       "      <th>0</th>\n",
       "      <td>V1.5</td>\n",
       "      <td>Both</td>\n",
       "      <td>46.06</td>\n",
       "      <td>45.57</td>\n",
       "      <td>45.54</td>\n",
       "      <td>45.16</td>\n",
       "      <td>43.58</td>\n",
       "      <td>44.83</td>\n",
       "      <td>36.64</td>\n",
       "      <td>0.013582</td>\n",
       "      <td>0.013663</td>\n",
       "      <td>0.012948</td>\n",
       "      <td>1.3940</td>\n",
       "      <td>0.7109</td>\n",
       "      <td>0.6767</td>\n",
       "      <td>0.7460</td>\n",
       "      <td>0.9375</td>\n",
       "      <td>1.2736</td>\n",
       "      <td>0.7421</td>\n",
       "      <td>0.6415</td>\n",
       "      <td>0.8449</td>\n",
       "      <td>0.9288</td>\n",
       "    </tr>\n",
       "  </tbody>\n",
       "</table>\n",
       "</div>"
      ],
      "text/plain": [
       "     Model Dataset  KS Weighted Train Model  KS Weighted Test Model  \\\n",
       "0     Both    Both                    41.26                   40.70   \n",
       "0  Overall    Both                    38.51                   38.61   \n",
       "0     V1.5    Both                    46.06                   45.57   \n",
       "\n",
       "   KS Non Weighted Train Model  KS Non Weighted Test Model  \\\n",
       "0                        41.28                       40.74   \n",
       "0                        38.72                       39.42   \n",
       "0                        45.54                       45.16   \n",
       "\n",
       "   KS Non Weighted Oot Model  KS Non Weighted Oot FICO  \\\n",
       "0                      40.52                     44.83   \n",
       "0                      39.35                     44.83   \n",
       "0                      43.58                     44.83   \n",
       "\n",
       "   KS Non Weighted Oot Auto Score  Bad Rate Train  Bad Rate Test  \\\n",
       "0                           36.64        0.013582       0.013663   \n",
       "0                           36.64        0.013582       0.013663   \n",
       "0                           36.64        0.013582       0.013663   \n",
       "\n",
       "   Bad Rate Oot  AIR Age Model  AIR Race Model  AIR Race Black Model  \\\n",
       "0      0.012948         1.3914          0.6839                0.7322   \n",
       "0      0.012948         1.4216          0.7682                0.7737   \n",
       "0      0.012948         1.3940          0.7109                0.6767   \n",
       "\n",
       "   AIR Race Hispanic Model  AIR Gender Model  AIR Age FICO  AIR Race FICO  \\\n",
       "0                   0.6345            0.9389        1.2736         0.7421   \n",
       "0                   0.7625            0.9275        1.2736         0.7421   \n",
       "0                   0.7460            0.9375        1.2736         0.7421   \n",
       "\n",
       "   AIR Race Black FICO  AIR Race Hispanic FICO  AIR Gender FICO  \n",
       "0               0.6415                  0.8449           0.9288  \n",
       "0               0.6415                  0.8449           0.9288  \n",
       "0               0.6415                  0.8449           0.9288  "
      ]
     },
     "execution_count": 49,
     "metadata": {},
     "output_type": "execute_result"
    }
   ],
   "source": [
    "pd.concat(\n",
    "    [pd.DataFrame(get_model_comparison_segment(train_ono, test_ono, oot_ono, ttd_ono, ['Non Property Owner', 'Property Owner'], 'Both', 'Both')),\n",
    "     pd.DataFrame(get_model_comparison_overall(train_ono, test_ono, oot_ono, ttd_ono, ['Non Property Owner', 'Property Owner'], 'Overall', 'Both')),\n",
    "     pd.DataFrame(get_model_comparison_v15(train_ono, test_ono, oot_ono, ttd_ono, ['Non Property Owner', 'Property Owner'], 'V1.5', 'Both'))]\n",
    ")"
   ]
  },
  {
   "cell_type": "markdown",
   "id": "6ef8e13d-38fd-4ede-ae53-648e13bc05c0",
   "metadata": {},
   "source": [
    "### END"
   ]
  },
  {
   "cell_type": "code",
   "execution_count": null,
   "id": "73160951-b5dc-4e52-948f-7d7cb991f22b",
   "metadata": {},
   "outputs": [],
   "source": []
  },
  {
   "cell_type": "code",
   "execution_count": null,
   "id": "94a0ee39-02af-40b6-b534-2df6fbb1099e",
   "metadata": {},
   "outputs": [],
   "source": []
  },
  {
   "cell_type": "code",
   "execution_count": 29,
   "id": "0f01148e-56ac-4faa-a484-53396b8643c4",
   "metadata": {},
   "outputs": [],
   "source": [
    "def get_results(data, data_ttd, target, score, cols_tuple, weight, dataset, asc= False):\n",
    "    pred= data.copy()\n",
    "    a= {}\n",
    "    \n",
    "    a['dataset']= dataset\n",
    "    a['model']= score\n",
    "    a['weight']= weight\n",
    "    \n",
    "    t= get_risk_rank(data, target, cols_tuple, score, weight, asc)\n",
    "    \n",
    "    a['KS'], a['GINI']= t[1]['KS'], t[1]['Gini']\n",
    "    \n",
    "    pred = Equal_Approval_Cutoff_Barsath(data_ttd, 'approve_flag', score)\n",
    "    air_ttd = air_calc_new(pred,'AIR ttd ')\n",
    "    a.update({k: v[0] for k, v in air_ttd.items()})\n",
    "    # print(a)\n",
    "    \n",
    "    return a"
   ]
  },
  {
   "cell_type": "code",
   "execution_count": 30,
   "id": "c721fbb3-5ed0-47df-8f51-89503eed1a07",
   "metadata": {
    "tags": []
   },
   "outputs": [],
   "source": [
    "# get_results(train_ono[train_ono['dataset']== 'Property Owner'], ttd_ono[ttd_ono['dataset']== 'Property Owner'], 'bad_flag', 'p1', col_tuple_pass, 'conwt')"
   ]
  },
  {
   "cell_type": "code",
   "execution_count": 31,
   "id": "08ec6c89-70b8-4511-b3c2-856c08914cc5",
   "metadata": {
    "tags": []
   },
   "outputs": [
    {
     "data": {
      "text/html": [
       "<div>\n",
       "<style scoped>\n",
       "    .dataframe tbody tr th:only-of-type {\n",
       "        vertical-align: middle;\n",
       "    }\n",
       "\n",
       "    .dataframe tbody tr th {\n",
       "        vertical-align: top;\n",
       "    }\n",
       "\n",
       "    .dataframe thead th {\n",
       "        text-align: right;\n",
       "    }\n",
       "</style>\n",
       "<table border=\"1\" class=\"dataframe\">\n",
       "  <thead>\n",
       "    <tr style=\"text-align: right;\">\n",
       "      <th></th>\n",
       "      <th>unique_id</th>\n",
       "      <th>client</th>\n",
       "      <th>wt2</th>\n",
       "      <th>fico_pb</th>\n",
       "      <th>auto_score</th>\n",
       "      <th>approve_flag</th>\n",
       "      <th>funded_flag</th>\n",
       "      <th>bad_flag</th>\n",
       "      <th>Race</th>\n",
       "      <th>Gender</th>\n",
       "      <th>age_cuts</th>\n",
       "      <th>p1</th>\n",
       "      <th>dataset</th>\n",
       "      <th>p1_overall_lda</th>\n",
       "    </tr>\n",
       "  </thead>\n",
       "  <tbody>\n",
       "    <tr>\n",
       "      <th>0</th>\n",
       "      <td>264031</td>\n",
       "      <td>Arkansas</td>\n",
       "      <td>1.409924</td>\n",
       "      <td>731.0</td>\n",
       "      <td>732.0</td>\n",
       "      <td>1.0</td>\n",
       "      <td>1.0</td>\n",
       "      <td>0.0</td>\n",
       "      <td>missing</td>\n",
       "      <td>M</td>\n",
       "      <td>Age below 62</td>\n",
       "      <td>0.009460</td>\n",
       "      <td>Property Owner</td>\n",
       "      <td>0.017647</td>\n",
       "    </tr>\n",
       "    <tr>\n",
       "      <th>1</th>\n",
       "      <td>2019-07-31 14:42|528-29-0782</td>\n",
       "      <td>GESA</td>\n",
       "      <td>1.328745</td>\n",
       "      <td>811.0</td>\n",
       "      <td>804.0</td>\n",
       "      <td>1.0</td>\n",
       "      <td>1.0</td>\n",
       "      <td>0.0</td>\n",
       "      <td>missing</td>\n",
       "      <td>M</td>\n",
       "      <td>Age below 62</td>\n",
       "      <td>0.002785</td>\n",
       "      <td>Property Owner</td>\n",
       "      <td>0.005781</td>\n",
       "    </tr>\n",
       "    <tr>\n",
       "      <th>2</th>\n",
       "      <td>TCI275526</td>\n",
       "      <td>Numerica</td>\n",
       "      <td>1.194283</td>\n",
       "      <td>782.0</td>\n",
       "      <td>742.0</td>\n",
       "      <td>1.0</td>\n",
       "      <td>1.0</td>\n",
       "      <td>0.0</td>\n",
       "      <td>white</td>\n",
       "      <td>F</td>\n",
       "      <td>Age 62 and over</td>\n",
       "      <td>0.009691</td>\n",
       "      <td>Property Owner</td>\n",
       "      <td>0.006465</td>\n",
       "    </tr>\n",
       "    <tr>\n",
       "      <th>3</th>\n",
       "      <td>366242</td>\n",
       "      <td>Tower</td>\n",
       "      <td>1.290555</td>\n",
       "      <td>681.0</td>\n",
       "      <td>784.0</td>\n",
       "      <td>1.0</td>\n",
       "      <td>1.0</td>\n",
       "      <td>0.0</td>\n",
       "      <td>white</td>\n",
       "      <td>I</td>\n",
       "      <td>Age below 62</td>\n",
       "      <td>0.006195</td>\n",
       "      <td>Property Owner</td>\n",
       "      <td>0.006465</td>\n",
       "    </tr>\n",
       "    <tr>\n",
       "      <th>4</th>\n",
       "      <td>279088</td>\n",
       "      <td>Arkansas</td>\n",
       "      <td>1.281995</td>\n",
       "      <td>725.0</td>\n",
       "      <td>803.0</td>\n",
       "      <td>1.0</td>\n",
       "      <td>1.0</td>\n",
       "      <td>0.0</td>\n",
       "      <td>missing</td>\n",
       "      <td>F</td>\n",
       "      <td>Age below 62</td>\n",
       "      <td>0.004505</td>\n",
       "      <td>Property Owner</td>\n",
       "      <td>0.006115</td>\n",
       "    </tr>\n",
       "  </tbody>\n",
       "</table>\n",
       "</div>"
      ],
      "text/plain": [
       "                      unique_id    client       wt2  fico_pb  auto_score  \\\n",
       "0                        264031  Arkansas  1.409924    731.0       732.0   \n",
       "1  2019-07-31 14:42|528-29-0782      GESA  1.328745    811.0       804.0   \n",
       "2                     TCI275526  Numerica  1.194283    782.0       742.0   \n",
       "3                        366242     Tower  1.290555    681.0       784.0   \n",
       "4                        279088  Arkansas  1.281995    725.0       803.0   \n",
       "\n",
       "   approve_flag  funded_flag  bad_flag     Race Gender         age_cuts  \\\n",
       "0           1.0          1.0       0.0  missing      M     Age below 62   \n",
       "1           1.0          1.0       0.0  missing      M     Age below 62   \n",
       "2           1.0          1.0       0.0    white      F  Age 62 and over   \n",
       "3           1.0          1.0       0.0    white      I     Age below 62   \n",
       "4           1.0          1.0       0.0  missing      F     Age below 62   \n",
       "\n",
       "         p1         dataset  p1_overall_lda  \n",
       "0  0.009460  Property Owner        0.017647  \n",
       "1  0.002785  Property Owner        0.005781  \n",
       "2  0.009691  Property Owner        0.006465  \n",
       "3  0.006195  Property Owner        0.006465  \n",
       "4  0.004505  Property Owner        0.006115  "
      ]
     },
     "execution_count": 31,
     "metadata": {},
     "output_type": "execute_result"
    }
   ],
   "source": [
    "test_ono.head()"
   ]
  },
  {
   "cell_type": "code",
   "execution_count": 54,
   "id": "ad2708e9-c859-40ea-ab06-9a521b8a7ebd",
   "metadata": {
    "tags": []
   },
   "outputs": [
    {
     "name": "stdout",
     "output_type": "stream",
     "text": [
      "Property Owner\n",
      "Bad Rate Train 0.0058513037436153745\n",
      "Bad Rate Test 0.005830820865805791\n",
      "Bad Rate Oot 0.005397590361445783\n",
      "KS Weighted Train p1 35.14\n",
      "KS Weighted Test p1 34.13\n",
      "KS Non Weighted Train p1 33.74\n",
      "KS Non Weighted Test p1 33.36\n",
      "KS Non Weighted Oot p1 28.01\n",
      "KS Non Weighted Test FICO 40.24\n",
      "KS Non Weighted Test Auto Score 22.57\n",
      "AIR Table {'AIR TTDage_cuts': [1.0414], 'AIR TTDRace': [0.8407], 'AIR TTDRaceblack': [0.8785], 'AIR TTDRacehispanic': [0.7981], 'AIR TTDGender': [0.9797]}\n",
      "KS Weighted Train p1 overall 27.15\n",
      "KS Weighted Test p1 overall 32.7\n",
      "KS Non Weighted Train p1 overall 24.93\n",
      "KS Non Weighted Test p1 overall 27.96\n",
      "KS Non Weighted Oot p1 overall 19.93\n",
      "AIR Table {'AIR TTDage_cuts': [1.0992], 'AIR TTDRace': [0.9242], 'AIR TTDRaceblack': [0.9449], 'AIR TTDRacehispanic': [0.901], 'AIR TTDGender': [0.9922]}\n",
      "AIR Table FICO {'AIR TTDage_cuts': [1.1012], 'AIR TTDRace': [0.8121], 'AIR TTDRaceblack': [0.7562], 'AIR TTDRacehispanic': [0.8751], 'AIR TTDGender': [0.948]}\n"
     ]
    }
   ],
   "source": [
    "print('Property Owner')\n",
    "print('Bad Rate Train', train_ono[train_ono['dataset']== 'Property Owner']['bad_flag'].mean())\n",
    "print('Bad Rate Test', test_ono[test_ono['dataset']== 'Property Owner']['bad_flag'].mean())\n",
    "print('Bad Rate Oot', oot_ono[oot_ono['dataset']== 'Property Owner']['bad_flag'].mean())\n",
    "\n",
    "print('KS Weighted Train p1', rnkOrderingN(train_ono[train_ono['dataset']== 'Property Owner'], 'bad_flag', 'wt2', 'p1', n_bkts= 5, asc= False)[1]['KS'])\n",
    "print('KS Weighted Test p1', rnkOrderingN(test_ono[test_ono['dataset']== 'Property Owner'], 'bad_flag', 'wt2', 'p1', n_bkts= 5, asc= False)[1]['KS'])\n",
    "      \n",
    "print('KS Non Weighted Train p1', rnkOrderingN(train_ono[train_ono['dataset']== 'Property Owner'], 'bad_flag', None, 'p1', n_bkts= 5, asc= False)[1]['KS'])\n",
    "print('KS Non Weighted Test p1', rnkOrderingN(test_ono[test_ono['dataset']== 'Property Owner'], 'bad_flag', None, 'p1', n_bkts= 5, asc= False)[1]['KS'])\n",
    "print('KS Non Weighted Oot p1', rnkOrderingN(oot_ono[oot_ono['dataset']== 'Property Owner'], 'bad_flag', None, 'p1', n_bkts= 5, asc= False)[1]['KS'])\n",
    "\n",
    "print('KS Non Weighted Test FICO', rnkOrderingN(test_ono[test_ono['dataset']== 'Property Owner'], 'bad_flag', None, 'fico_pb', n_bkts= 5, asc= True)[1]['KS'])\n",
    "print('KS Non Weighted Test Auto Score', rnkOrderingN(test_ono[test_ono['dataset']== 'Property Owner'], 'bad_flag', None, 'auto_score', n_bkts= 5, asc= True)[1]['KS'])\n",
    "\n",
    "print('AIR Table', air_calc_new(Equal_Approval_Cutoff_Barsath(ttd_ono[ttd_ono['dataset']== 'Property Owner'], 'approve_flag', 'p1'), 'AIR TTD'))\n",
    "\n",
    "print('KS Weighted Train p1 overall', rnkOrderingN(train_ono[train_ono['dataset']== 'Property Owner'], 'bad_flag', 'wt2', 'p1_overall_lda', n_bkts= 5, asc= False)[1]['KS'])\n",
    "print('KS Weighted Test p1 overall', rnkOrderingN(test_ono[test_ono['dataset']== 'Property Owner'], 'bad_flag', 'wt2', 'p1_overall_lda', n_bkts= 5, asc= False)[1]['KS'])\n",
    "      \n",
    "print('KS Non Weighted Train p1 overall', rnkOrderingN(train_ono[train_ono['dataset']== 'Property Owner'], 'bad_flag', None, 'p1_overall_lda', n_bkts= 5, asc= False)[1]['KS'])\n",
    "print('KS Non Weighted Test p1 overall', rnkOrderingN(test_ono[test_ono['dataset']== 'Property Owner'], 'bad_flag', None, 'p1_overall_lda', n_bkts= 5, asc= False)[1]['KS'])\n",
    "print('KS Non Weighted Oot p1 overall', rnkOrderingN(oot_ono[oot_ono['dataset']== 'Property Owner'], 'bad_flag', None, 'p1_overall_lda', n_bkts= 5, asc= False)[1]['KS'])\n",
    "\n",
    "print('AIR Table', air_calc_new(Equal_Approval_Cutoff_Barsath(ttd_ono[ttd_ono['dataset']== 'Property Owner'], 'approve_flag', 'p1_overall_lda'), 'AIR TTD'))\n",
    "print('AIR Table FICO', air_calc_new(Equal_Approval_Cutoff_Barsath(ttd_ono[ttd_ono['dataset']== 'Property Owner'], 'approve_flag', 'fico_pb', False), 'AIR TTD'))"
   ]
  },
  {
   "cell_type": "code",
   "execution_count": 55,
   "id": "6f446248-7e7f-4780-a5e0-9991dbc55db8",
   "metadata": {
    "tags": []
   },
   "outputs": [
    {
     "name": "stdout",
     "output_type": "stream",
     "text": [
      "Non Property Owner\n",
      "Bad Rate Train 0.026537825083249915\n",
      "Bad Rate Test 0.026788693455360123\n",
      "Bad Rate Oot 0.025521669341894062\n",
      "KS Weighted Train p1 30.42\n",
      "KS Weighted Test p1 28.04\n",
      "KS Non Weighted Train p1 28.64\n",
      "KS Non Weighted Test p1 26.18\n",
      "KS Non Weighted Oot p1 26.08\n",
      "KS Non Weighted Test FICO 35.69\n",
      "KS Non Weighted Test Auto Score 21.07\n",
      "AIR Table {'AIR TTDage_cuts': [1.4264], 'AIR TTDRace': [0.7826], 'AIR TTDRaceblack': [0.7891], 'AIR TTDRacehispanic': [0.7762], 'AIR TTDGender': [1.0677]}\n",
      "KS Weighted Train p1 overall 26.12\n",
      "KS Weighted Test p1 overall 23.86\n",
      "KS Non Weighted Train p1 overall 25.09\n",
      "KS Non Weighted Test p1 overall 20.41\n",
      "KS Non Weighted Oot p1 overall 24.65\n",
      "AIR Table {'AIR TTDage_cuts': [1.4657], 'AIR TTDRace': [0.8544], 'AIR TTDRaceblack': [0.7841], 'AIR TTDRacehispanic': [0.9215], 'AIR TTDGender': [1.0017]}\n",
      "AIR Table FICO {'AIR TTDage_cuts': [1.291], 'AIR TTDRace': [0.7927], 'AIR TTDRaceblack': [0.6016], 'AIR TTDRacehispanic': [0.9756], 'AIR TTDGender': [0.9857]}\n"
     ]
    }
   ],
   "source": [
    "print('Non Property Owner')\n",
    "print('Bad Rate Train', train_ono[train_ono['dataset']== 'Non Property Owner']['bad_flag'].mean())\n",
    "print('Bad Rate Test', test_ono[test_ono['dataset']== 'Non Property Owner']['bad_flag'].mean())\n",
    "print('Bad Rate Oot', oot_ono[oot_ono['dataset']== 'Non Property Owner']['bad_flag'].mean())\n",
    "\n",
    "print('KS Weighted Train p1', rnkOrderingN(train_ono[train_ono['dataset']== 'Non Property Owner'], 'bad_flag', 'wt2', 'p1', n_bkts= 5, asc= False)[1]['KS'])\n",
    "print('KS Weighted Test p1', rnkOrderingN(test_ono[test_ono['dataset']== 'Non Property Owner'], 'bad_flag', 'wt2', 'p1', n_bkts= 5, asc= False)[1]['KS'])\n",
    "      \n",
    "print('KS Non Weighted Train p1', rnkOrderingN(train_ono[train_ono['dataset']== 'Non Property Owner'], 'bad_flag', None, 'p1', n_bkts= 5, asc= False)[1]['KS'])\n",
    "print('KS Non Weighted Test p1', rnkOrderingN(test_ono[test_ono['dataset']== 'Non Property Owner'], 'bad_flag', None, 'p1', n_bkts= 5, asc= False)[1]['KS'])\n",
    "print('KS Non Weighted Oot p1', rnkOrderingN(oot_ono[oot_ono['dataset']== 'Non Property Owner'], 'bad_flag', None, 'p1', n_bkts= 5, asc= False)[1]['KS'])\n",
    "\n",
    "print('KS Non Weighted Test FICO', rnkOrderingN(test_ono[test_ono['dataset']== 'Non Property Owner'], 'bad_flag', None, 'fico_pb', n_bkts= 5, asc= True)[1]['KS'])\n",
    "print('KS Non Weighted Test Auto Score', rnkOrderingN(test_ono[test_ono['dataset']== 'Non Property Owner'], 'bad_flag', None, 'auto_score', n_bkts= 5, asc= True)[1]['KS'])\n",
    "\n",
    "print('AIR Table', air_calc_new(Equal_Approval_Cutoff_Barsath(ttd_ono[ttd_ono['dataset']== 'Non Property Owner'], 'approve_flag', 'p1'), 'AIR TTD'))\n",
    "\n",
    "print('KS Weighted Train p1 overall', rnkOrderingN(train_ono[train_ono['dataset']== 'Non Property Owner'], 'bad_flag', 'wt2', 'p1_overall_lda', n_bkts= 5, asc= False)[1]['KS'])\n",
    "print('KS Weighted Test p1 overall', rnkOrderingN(test_ono[test_ono['dataset']== 'Non Property Owner'], 'bad_flag', 'wt2', 'p1_overall_lda', n_bkts= 5, asc= False)[1]['KS'])\n",
    "      \n",
    "print('KS Non Weighted Train p1 overall', rnkOrderingN(train_ono[train_ono['dataset']== 'Non Property Owner'], 'bad_flag', None, 'p1_overall_lda', n_bkts= 5, asc= False)[1]['KS'])\n",
    "print('KS Non Weighted Test p1 overall', rnkOrderingN(test_ono[test_ono['dataset']== 'Non Property Owner'], 'bad_flag', None, 'p1_overall_lda', n_bkts= 5, asc= False)[1]['KS'])\n",
    "print('KS Non Weighted Oot p1 overall', rnkOrderingN(oot_ono[oot_ono['dataset']== 'Non Property Owner'], 'bad_flag', None, 'p1_overall_lda', n_bkts= 5, asc= False)[1]['KS'])\n",
    "\n",
    "print('AIR Table', air_calc_new(Equal_Approval_Cutoff_Barsath(ttd_ono[ttd_ono['dataset']== 'Non Property Owner'], 'approve_flag', 'p1_overall_lda'), 'AIR TTD'))\n",
    "print('AIR Table FICO', air_calc_new(Equal_Approval_Cutoff_Barsath(ttd_ono[ttd_ono['dataset']== 'Non Property Owner'], 'approve_flag', 'fico_pb', False), 'AIR TTD'))"
   ]
  },
  {
   "cell_type": "code",
   "execution_count": 56,
   "id": "a620785e-947d-4e5a-b334-0a5c87fc7bbc",
   "metadata": {
    "tags": []
   },
   "outputs": [
    {
     "data": {
      "text/plain": [
       "dataset\n",
       "Property Owner        82033\n",
       "Non Property Owner    48949\n",
       "Name: count, dtype: int64"
      ]
     },
     "execution_count": 56,
     "metadata": {},
     "output_type": "execute_result"
    }
   ],
   "source": [
    "train_ono['dataset'].value_counts(dropna= False)"
   ]
  },
  {
   "cell_type": "code",
   "execution_count": 57,
   "id": "9465f6c2-08e4-4d4a-bf80-1b7801f910c9",
   "metadata": {
    "tags": []
   },
   "outputs": [
    {
     "name": "stdout",
     "output_type": "stream",
     "text": [
      "Overall\n",
      "Bad Rate Train 0.013582018903360768\n",
      "Bad Rate Test 0.013663003010492189\n",
      "Bad Rate Oot 0.012947907256850346\n",
      "KS Weighted Train p1 41.26\n",
      "KS Weighted Test p1 40.7\n",
      "KS Non Weighted Train p1 41.28\n",
      "KS Non Weighted Test p1 40.74\n",
      "KS Non Weighted Oot p1 40.52\n",
      "KS Non Weighted Test FICO 44.83\n",
      "KS Non Weighted Test Auto Score 36.64\n",
      "AIR Table {'AIR TTDage_cuts': [1.3914], 'AIR TTDRace': [0.6839], 'AIR TTDRaceblack': [0.7322], 'AIR TTDRacehispanic': [0.6345], 'AIR TTDGender': [0.9389]}\n",
      "KS Weighted Train p1 overall 39.78\n",
      "KS Weighted Test p1 overall 40.08\n",
      "KS Non Weighted Train p1 overall 40.02\n",
      "KS Non Weighted Test p1 overall 40.87\n",
      "KS Non Weighted Oot p1 overall 39.11\n",
      "AIR Table {'AIR TTDage_cuts': [1.4272], 'AIR TTDRace': [0.7423], 'AIR TTDRaceblack': [0.7657], 'AIR TTDRacehispanic': [0.7185], 'AIR TTDGender': [0.9194]}\n",
      "AIR Table FICO {'AIR TTDage_cuts': [1.2736], 'AIR TTDRace': [0.7421], 'AIR TTDRaceblack': [0.6415], 'AIR TTDRacehispanic': [0.8449], 'AIR TTDGender': [0.9288]}\n"
     ]
    }
   ],
   "source": [
    "print('Overall')\n",
    "print('Bad Rate Train', train_ono['bad_flag'].mean())\n",
    "print('Bad Rate Test', test_ono['bad_flag'].mean())\n",
    "print('Bad Rate Oot', oot_ono['bad_flag'].mean())\n",
    "\n",
    "print('KS Weighted Train p1', rnkOrderingN(train_ono, 'bad_flag', 'wt2', 'p1', n_bkts= 5, asc= False)[1]['KS'])\n",
    "print('KS Weighted Test p1', rnkOrderingN(test_ono, 'bad_flag', 'wt2', 'p1', n_bkts= 5, asc= False)[1]['KS'])\n",
    "      \n",
    "print('KS Non Weighted Train p1', rnkOrderingN(train_ono, 'bad_flag', None, 'p1', n_bkts= 5, asc= False)[1]['KS'])\n",
    "print('KS Non Weighted Test p1', rnkOrderingN(test_ono, 'bad_flag', None, 'p1', n_bkts= 5, asc= False)[1]['KS'])\n",
    "print('KS Non Weighted Oot p1', rnkOrderingN(oot_ono, 'bad_flag', None, 'p1', n_bkts= 5, asc= False)[1]['KS'])\n",
    "\n",
    "print('KS Non Weighted Test FICO', rnkOrderingN(test_ono, 'bad_flag', None, 'fico_pb', n_bkts= 5, asc= True)[1]['KS'])\n",
    "print('KS Non Weighted Test Auto Score', rnkOrderingN(test_ono, 'bad_flag', None, 'auto_score', n_bkts= 5, asc= True)[1]['KS'])\n",
    "\n",
    "print('AIR Table', air_calc_new(Equal_Approval_Cutoff_Barsath(ttd_ono, 'approve_flag', 'p1'), 'AIR TTD'))\n",
    "\n",
    "print('KS Weighted Train p1 overall', rnkOrderingN(train_ono, 'bad_flag', 'wt2', 'p1_overall_lda', n_bkts= 5, asc= False)[1]['KS'])\n",
    "print('KS Weighted Test p1 overall', rnkOrderingN(test_ono, 'bad_flag', 'wt2', 'p1_overall_lda', n_bkts= 5, asc= False)[1]['KS'])\n",
    "      \n",
    "print('KS Non Weighted Train p1 overall', rnkOrderingN(train_ono, 'bad_flag', None, 'p1_overall_lda', n_bkts= 5, asc= False)[1]['KS'])\n",
    "print('KS Non Weighted Test p1 overall', rnkOrderingN(test_ono, 'bad_flag', None, 'p1_overall_lda', n_bkts= 5, asc= False)[1]['KS'])\n",
    "print('KS Non Weighted Oot p1 overall', rnkOrderingN(oot_ono, 'bad_flag', None, 'p1_overall_lda', n_bkts= 5, asc= False)[1]['KS'])\n",
    "\n",
    "print('AIR Table', air_calc_new(Equal_Approval_Cutoff_Barsath(ttd_ono, 'approve_flag', 'p1_overall_lda'), 'AIR TTD'))\n",
    "print('AIR Table FICO', air_calc_new(Equal_Approval_Cutoff_Barsath(ttd_ono, 'approve_flag', 'fico_pb', False), 'AIR TTD'))"
   ]
  },
  {
   "cell_type": "code",
   "execution_count": null,
   "id": "daeda9b5-1c99-48a5-8da8-bc47d94494eb",
   "metadata": {},
   "outputs": [],
   "source": []
  },
  {
   "cell_type": "code",
   "execution_count": 36,
   "id": "c8ac02c2-51ad-43cc-9017-bdab72aecc55",
   "metadata": {
    "tags": []
   },
   "outputs": [
    {
     "data": {
      "text/plain": [
       "(82033, 15)"
      ]
     },
     "execution_count": 36,
     "metadata": {},
     "output_type": "execute_result"
    }
   ],
   "source": [
    "pw= train_ono[train_ono['dataset']== 'Property Owner'].reset_index(drop= True)\n",
    "pw.shape"
   ]
  },
  {
   "cell_type": "code",
   "execution_count": 37,
   "id": "44ea3264-b8fa-4819-b50c-483196e56d69",
   "metadata": {
    "tags": []
   },
   "outputs": [
    {
     "data": {
      "text/plain": [
       "(48949, 15)"
      ]
     },
     "execution_count": 37,
     "metadata": {},
     "output_type": "execute_result"
    }
   ],
   "source": [
    "npw= train_ono[train_ono['dataset']== 'Non Property Owner'].reset_index(drop= True)\n",
    "npw.shape"
   ]
  },
  {
   "cell_type": "code",
   "execution_count": 50,
   "id": "58f00efa-a754-41a9-ae2c-6266e8f6b6bd",
   "metadata": {
    "tags": []
   },
   "outputs": [
    {
     "data": {
      "text/plain": [
       "(0.5851303743615375, 2.6537825083249915, 1299.0, 480.0)"
      ]
     },
     "execution_count": 50,
     "metadata": {},
     "output_type": "execute_result"
    }
   ],
   "source": [
    "pw['bad_flag'].mean()*100, npw['bad_flag'].mean()*100, npw['bad_flag'].sum(), pw['bad_flag'].sum()"
   ]
  },
  {
   "cell_type": "code",
   "execution_count": 51,
   "id": "55da6cce-1b9d-48ae-ab09-e71d801e4dae",
   "metadata": {
    "tags": []
   },
   "outputs": [
    {
     "name": "stdout",
     "output_type": "stream",
     "text": [
      "(81553, 15) (480, 15)\n",
      "(40776, 15)\n",
      "(41256, 15) 480.0 0.011634671320535195\n"
     ]
    }
   ],
   "source": [
    "pw_good= pw[pw['bad_flag']!= 1]\n",
    "pw_bad= pw[pw['bad_flag']== 1]\n",
    "\n",
    "print(pw_good.shape, pw_bad.shape)\n",
    "\n",
    "pw_good= pw_good.sample(frac= 0.5, random_state= 101)\n",
    "print(pw_good.shape)\n",
    "\n",
    "pw= pd.concat([pw_good, pw_bad]).reset_index(drop= True)\n",
    "print(pw.shape, pw['bad_flag'].sum(), pw['bad_flag'].mean())"
   ]
  },
  {
   "cell_type": "code",
   "execution_count": 52,
   "id": "201d3a3e-2e24-4442-b435-49cdb0ce9333",
   "metadata": {
    "tags": []
   },
   "outputs": [
    {
     "name": "stdout",
     "output_type": "stream",
     "text": [
      "(47650, 15) (1299, 15)\n",
      "(40502, 15)\n",
      "(494, 15)\n",
      "(40996, 15) 494.0 0.012049956093277393\n"
     ]
    }
   ],
   "source": [
    "npw_good= npw[npw['bad_flag']!= 1]\n",
    "npw_bad= npw[npw['bad_flag']== 1]\n",
    "\n",
    "print(npw_good.shape, npw_bad.shape)\n",
    "\n",
    "npw_good= npw_good.sample(frac= 0.85, random_state= 101)\n",
    "print(npw_good.shape)\n",
    "\n",
    "npw_bad= npw_bad.sample(frac= 0.38, random_state= 101)\n",
    "print(npw_bad.shape)\n",
    "\n",
    "npw= pd.concat([npw_good, npw_bad]).reset_index(drop= True)\n",
    "print(npw.shape, npw['bad_flag'].sum(), npw['bad_flag'].mean())"
   ]
  },
  {
   "cell_type": "code",
   "execution_count": 53,
   "id": "940f890c-4d69-4156-b4da-5f31bae01231",
   "metadata": {
    "tags": []
   },
   "outputs": [
    {
     "name": "stdout",
     "output_type": "stream",
     "text": [
      "(130982, 15) 1779.0 0.013582018903360768\n",
      "(82252, 15) 974.0 0.011841657345718038\n"
     ]
    }
   ],
   "source": [
    "print(train_ono.shape, train_ono['bad_flag'].sum(), train_ono['bad_flag'].mean())\n",
    "train_ono= pd.concat([pw, npw]).reset_index(drop= True)\n",
    "print(train_ono.shape, train_ono['bad_flag'].sum(), train_ono['bad_flag'].mean())"
   ]
  },
  {
   "cell_type": "code",
   "execution_count": null,
   "id": "b2dc6622-9d33-460e-8d52-b6dd9cdf7f75",
   "metadata": {},
   "outputs": [],
   "source": []
  }
 ],
 "metadata": {
  "availableInstances": [
   {
    "_defaultOrder": 0,
    "_isFastLaunch": true,
    "category": "General purpose",
    "gpuNum": 0,
    "hideHardwareSpecs": false,
    "memoryGiB": 4,
    "name": "ml.t3.medium",
    "vcpuNum": 2
   },
   {
    "_defaultOrder": 1,
    "_isFastLaunch": false,
    "category": "General purpose",
    "gpuNum": 0,
    "hideHardwareSpecs": false,
    "memoryGiB": 8,
    "name": "ml.t3.large",
    "vcpuNum": 2
   },
   {
    "_defaultOrder": 2,
    "_isFastLaunch": false,
    "category": "General purpose",
    "gpuNum": 0,
    "hideHardwareSpecs": false,
    "memoryGiB": 16,
    "name": "ml.t3.xlarge",
    "vcpuNum": 4
   },
   {
    "_defaultOrder": 3,
    "_isFastLaunch": false,
    "category": "General purpose",
    "gpuNum": 0,
    "hideHardwareSpecs": false,
    "memoryGiB": 32,
    "name": "ml.t3.2xlarge",
    "vcpuNum": 8
   },
   {
    "_defaultOrder": 4,
    "_isFastLaunch": true,
    "category": "General purpose",
    "gpuNum": 0,
    "hideHardwareSpecs": false,
    "memoryGiB": 8,
    "name": "ml.m5.large",
    "vcpuNum": 2
   },
   {
    "_defaultOrder": 5,
    "_isFastLaunch": false,
    "category": "General purpose",
    "gpuNum": 0,
    "hideHardwareSpecs": false,
    "memoryGiB": 16,
    "name": "ml.m5.xlarge",
    "vcpuNum": 4
   },
   {
    "_defaultOrder": 6,
    "_isFastLaunch": false,
    "category": "General purpose",
    "gpuNum": 0,
    "hideHardwareSpecs": false,
    "memoryGiB": 32,
    "name": "ml.m5.2xlarge",
    "vcpuNum": 8
   },
   {
    "_defaultOrder": 7,
    "_isFastLaunch": false,
    "category": "General purpose",
    "gpuNum": 0,
    "hideHardwareSpecs": false,
    "memoryGiB": 64,
    "name": "ml.m5.4xlarge",
    "vcpuNum": 16
   },
   {
    "_defaultOrder": 8,
    "_isFastLaunch": false,
    "category": "General purpose",
    "gpuNum": 0,
    "hideHardwareSpecs": false,
    "memoryGiB": 128,
    "name": "ml.m5.8xlarge",
    "vcpuNum": 32
   },
   {
    "_defaultOrder": 9,
    "_isFastLaunch": false,
    "category": "General purpose",
    "gpuNum": 0,
    "hideHardwareSpecs": false,
    "memoryGiB": 192,
    "name": "ml.m5.12xlarge",
    "vcpuNum": 48
   },
   {
    "_defaultOrder": 10,
    "_isFastLaunch": false,
    "category": "General purpose",
    "gpuNum": 0,
    "hideHardwareSpecs": false,
    "memoryGiB": 256,
    "name": "ml.m5.16xlarge",
    "vcpuNum": 64
   },
   {
    "_defaultOrder": 11,
    "_isFastLaunch": false,
    "category": "General purpose",
    "gpuNum": 0,
    "hideHardwareSpecs": false,
    "memoryGiB": 384,
    "name": "ml.m5.24xlarge",
    "vcpuNum": 96
   },
   {
    "_defaultOrder": 12,
    "_isFastLaunch": false,
    "category": "General purpose",
    "gpuNum": 0,
    "hideHardwareSpecs": false,
    "memoryGiB": 8,
    "name": "ml.m5d.large",
    "vcpuNum": 2
   },
   {
    "_defaultOrder": 13,
    "_isFastLaunch": false,
    "category": "General purpose",
    "gpuNum": 0,
    "hideHardwareSpecs": false,
    "memoryGiB": 16,
    "name": "ml.m5d.xlarge",
    "vcpuNum": 4
   },
   {
    "_defaultOrder": 14,
    "_isFastLaunch": false,
    "category": "General purpose",
    "gpuNum": 0,
    "hideHardwareSpecs": false,
    "memoryGiB": 32,
    "name": "ml.m5d.2xlarge",
    "vcpuNum": 8
   },
   {
    "_defaultOrder": 15,
    "_isFastLaunch": false,
    "category": "General purpose",
    "gpuNum": 0,
    "hideHardwareSpecs": false,
    "memoryGiB": 64,
    "name": "ml.m5d.4xlarge",
    "vcpuNum": 16
   },
   {
    "_defaultOrder": 16,
    "_isFastLaunch": false,
    "category": "General purpose",
    "gpuNum": 0,
    "hideHardwareSpecs": false,
    "memoryGiB": 128,
    "name": "ml.m5d.8xlarge",
    "vcpuNum": 32
   },
   {
    "_defaultOrder": 17,
    "_isFastLaunch": false,
    "category": "General purpose",
    "gpuNum": 0,
    "hideHardwareSpecs": false,
    "memoryGiB": 192,
    "name": "ml.m5d.12xlarge",
    "vcpuNum": 48
   },
   {
    "_defaultOrder": 18,
    "_isFastLaunch": false,
    "category": "General purpose",
    "gpuNum": 0,
    "hideHardwareSpecs": false,
    "memoryGiB": 256,
    "name": "ml.m5d.16xlarge",
    "vcpuNum": 64
   },
   {
    "_defaultOrder": 19,
    "_isFastLaunch": false,
    "category": "General purpose",
    "gpuNum": 0,
    "hideHardwareSpecs": false,
    "memoryGiB": 384,
    "name": "ml.m5d.24xlarge",
    "vcpuNum": 96
   },
   {
    "_defaultOrder": 20,
    "_isFastLaunch": false,
    "category": "General purpose",
    "gpuNum": 0,
    "hideHardwareSpecs": true,
    "memoryGiB": 0,
    "name": "ml.geospatial.interactive",
    "supportedImageNames": [
     "sagemaker-geospatial-v1-0"
    ],
    "vcpuNum": 0
   },
   {
    "_defaultOrder": 21,
    "_isFastLaunch": true,
    "category": "Compute optimized",
    "gpuNum": 0,
    "hideHardwareSpecs": false,
    "memoryGiB": 4,
    "name": "ml.c5.large",
    "vcpuNum": 2
   },
   {
    "_defaultOrder": 22,
    "_isFastLaunch": false,
    "category": "Compute optimized",
    "gpuNum": 0,
    "hideHardwareSpecs": false,
    "memoryGiB": 8,
    "name": "ml.c5.xlarge",
    "vcpuNum": 4
   },
   {
    "_defaultOrder": 23,
    "_isFastLaunch": false,
    "category": "Compute optimized",
    "gpuNum": 0,
    "hideHardwareSpecs": false,
    "memoryGiB": 16,
    "name": "ml.c5.2xlarge",
    "vcpuNum": 8
   },
   {
    "_defaultOrder": 24,
    "_isFastLaunch": false,
    "category": "Compute optimized",
    "gpuNum": 0,
    "hideHardwareSpecs": false,
    "memoryGiB": 32,
    "name": "ml.c5.4xlarge",
    "vcpuNum": 16
   },
   {
    "_defaultOrder": 25,
    "_isFastLaunch": false,
    "category": "Compute optimized",
    "gpuNum": 0,
    "hideHardwareSpecs": false,
    "memoryGiB": 72,
    "name": "ml.c5.9xlarge",
    "vcpuNum": 36
   },
   {
    "_defaultOrder": 26,
    "_isFastLaunch": false,
    "category": "Compute optimized",
    "gpuNum": 0,
    "hideHardwareSpecs": false,
    "memoryGiB": 96,
    "name": "ml.c5.12xlarge",
    "vcpuNum": 48
   },
   {
    "_defaultOrder": 27,
    "_isFastLaunch": false,
    "category": "Compute optimized",
    "gpuNum": 0,
    "hideHardwareSpecs": false,
    "memoryGiB": 144,
    "name": "ml.c5.18xlarge",
    "vcpuNum": 72
   },
   {
    "_defaultOrder": 28,
    "_isFastLaunch": false,
    "category": "Compute optimized",
    "gpuNum": 0,
    "hideHardwareSpecs": false,
    "memoryGiB": 192,
    "name": "ml.c5.24xlarge",
    "vcpuNum": 96
   },
   {
    "_defaultOrder": 29,
    "_isFastLaunch": true,
    "category": "Accelerated computing",
    "gpuNum": 1,
    "hideHardwareSpecs": false,
    "memoryGiB": 16,
    "name": "ml.g4dn.xlarge",
    "vcpuNum": 4
   },
   {
    "_defaultOrder": 30,
    "_isFastLaunch": false,
    "category": "Accelerated computing",
    "gpuNum": 1,
    "hideHardwareSpecs": false,
    "memoryGiB": 32,
    "name": "ml.g4dn.2xlarge",
    "vcpuNum": 8
   },
   {
    "_defaultOrder": 31,
    "_isFastLaunch": false,
    "category": "Accelerated computing",
    "gpuNum": 1,
    "hideHardwareSpecs": false,
    "memoryGiB": 64,
    "name": "ml.g4dn.4xlarge",
    "vcpuNum": 16
   },
   {
    "_defaultOrder": 32,
    "_isFastLaunch": false,
    "category": "Accelerated computing",
    "gpuNum": 1,
    "hideHardwareSpecs": false,
    "memoryGiB": 128,
    "name": "ml.g4dn.8xlarge",
    "vcpuNum": 32
   },
   {
    "_defaultOrder": 33,
    "_isFastLaunch": false,
    "category": "Accelerated computing",
    "gpuNum": 4,
    "hideHardwareSpecs": false,
    "memoryGiB": 192,
    "name": "ml.g4dn.12xlarge",
    "vcpuNum": 48
   },
   {
    "_defaultOrder": 34,
    "_isFastLaunch": false,
    "category": "Accelerated computing",
    "gpuNum": 1,
    "hideHardwareSpecs": false,
    "memoryGiB": 256,
    "name": "ml.g4dn.16xlarge",
    "vcpuNum": 64
   },
   {
    "_defaultOrder": 35,
    "_isFastLaunch": false,
    "category": "Accelerated computing",
    "gpuNum": 1,
    "hideHardwareSpecs": false,
    "memoryGiB": 61,
    "name": "ml.p3.2xlarge",
    "vcpuNum": 8
   },
   {
    "_defaultOrder": 36,
    "_isFastLaunch": false,
    "category": "Accelerated computing",
    "gpuNum": 4,
    "hideHardwareSpecs": false,
    "memoryGiB": 244,
    "name": "ml.p3.8xlarge",
    "vcpuNum": 32
   },
   {
    "_defaultOrder": 37,
    "_isFastLaunch": false,
    "category": "Accelerated computing",
    "gpuNum": 8,
    "hideHardwareSpecs": false,
    "memoryGiB": 488,
    "name": "ml.p3.16xlarge",
    "vcpuNum": 64
   },
   {
    "_defaultOrder": 38,
    "_isFastLaunch": false,
    "category": "Accelerated computing",
    "gpuNum": 8,
    "hideHardwareSpecs": false,
    "memoryGiB": 768,
    "name": "ml.p3dn.24xlarge",
    "vcpuNum": 96
   },
   {
    "_defaultOrder": 39,
    "_isFastLaunch": false,
    "category": "Memory Optimized",
    "gpuNum": 0,
    "hideHardwareSpecs": false,
    "memoryGiB": 16,
    "name": "ml.r5.large",
    "vcpuNum": 2
   },
   {
    "_defaultOrder": 40,
    "_isFastLaunch": false,
    "category": "Memory Optimized",
    "gpuNum": 0,
    "hideHardwareSpecs": false,
    "memoryGiB": 32,
    "name": "ml.r5.xlarge",
    "vcpuNum": 4
   },
   {
    "_defaultOrder": 41,
    "_isFastLaunch": false,
    "category": "Memory Optimized",
    "gpuNum": 0,
    "hideHardwareSpecs": false,
    "memoryGiB": 64,
    "name": "ml.r5.2xlarge",
    "vcpuNum": 8
   },
   {
    "_defaultOrder": 42,
    "_isFastLaunch": false,
    "category": "Memory Optimized",
    "gpuNum": 0,
    "hideHardwareSpecs": false,
    "memoryGiB": 128,
    "name": "ml.r5.4xlarge",
    "vcpuNum": 16
   },
   {
    "_defaultOrder": 43,
    "_isFastLaunch": false,
    "category": "Memory Optimized",
    "gpuNum": 0,
    "hideHardwareSpecs": false,
    "memoryGiB": 256,
    "name": "ml.r5.8xlarge",
    "vcpuNum": 32
   },
   {
    "_defaultOrder": 44,
    "_isFastLaunch": false,
    "category": "Memory Optimized",
    "gpuNum": 0,
    "hideHardwareSpecs": false,
    "memoryGiB": 384,
    "name": "ml.r5.12xlarge",
    "vcpuNum": 48
   },
   {
    "_defaultOrder": 45,
    "_isFastLaunch": false,
    "category": "Memory Optimized",
    "gpuNum": 0,
    "hideHardwareSpecs": false,
    "memoryGiB": 512,
    "name": "ml.r5.16xlarge",
    "vcpuNum": 64
   },
   {
    "_defaultOrder": 46,
    "_isFastLaunch": false,
    "category": "Memory Optimized",
    "gpuNum": 0,
    "hideHardwareSpecs": false,
    "memoryGiB": 768,
    "name": "ml.r5.24xlarge",
    "vcpuNum": 96
   },
   {
    "_defaultOrder": 47,
    "_isFastLaunch": false,
    "category": "Accelerated computing",
    "gpuNum": 1,
    "hideHardwareSpecs": false,
    "memoryGiB": 16,
    "name": "ml.g5.xlarge",
    "vcpuNum": 4
   },
   {
    "_defaultOrder": 48,
    "_isFastLaunch": false,
    "category": "Accelerated computing",
    "gpuNum": 1,
    "hideHardwareSpecs": false,
    "memoryGiB": 32,
    "name": "ml.g5.2xlarge",
    "vcpuNum": 8
   },
   {
    "_defaultOrder": 49,
    "_isFastLaunch": false,
    "category": "Accelerated computing",
    "gpuNum": 1,
    "hideHardwareSpecs": false,
    "memoryGiB": 64,
    "name": "ml.g5.4xlarge",
    "vcpuNum": 16
   },
   {
    "_defaultOrder": 50,
    "_isFastLaunch": false,
    "category": "Accelerated computing",
    "gpuNum": 1,
    "hideHardwareSpecs": false,
    "memoryGiB": 128,
    "name": "ml.g5.8xlarge",
    "vcpuNum": 32
   },
   {
    "_defaultOrder": 51,
    "_isFastLaunch": false,
    "category": "Accelerated computing",
    "gpuNum": 1,
    "hideHardwareSpecs": false,
    "memoryGiB": 256,
    "name": "ml.g5.16xlarge",
    "vcpuNum": 64
   },
   {
    "_defaultOrder": 52,
    "_isFastLaunch": false,
    "category": "Accelerated computing",
    "gpuNum": 4,
    "hideHardwareSpecs": false,
    "memoryGiB": 192,
    "name": "ml.g5.12xlarge",
    "vcpuNum": 48
   },
   {
    "_defaultOrder": 53,
    "_isFastLaunch": false,
    "category": "Accelerated computing",
    "gpuNum": 4,
    "hideHardwareSpecs": false,
    "memoryGiB": 384,
    "name": "ml.g5.24xlarge",
    "vcpuNum": 96
   },
   {
    "_defaultOrder": 54,
    "_isFastLaunch": false,
    "category": "Accelerated computing",
    "gpuNum": 8,
    "hideHardwareSpecs": false,
    "memoryGiB": 768,
    "name": "ml.g5.48xlarge",
    "vcpuNum": 192
   },
   {
    "_defaultOrder": 55,
    "_isFastLaunch": false,
    "category": "Accelerated computing",
    "gpuNum": 8,
    "hideHardwareSpecs": false,
    "memoryGiB": 1152,
    "name": "ml.p4d.24xlarge",
    "vcpuNum": 96
   },
   {
    "_defaultOrder": 56,
    "_isFastLaunch": false,
    "category": "Accelerated computing",
    "gpuNum": 8,
    "hideHardwareSpecs": false,
    "memoryGiB": 1152,
    "name": "ml.p4de.24xlarge",
    "vcpuNum": 96
   },
   {
    "_defaultOrder": 57,
    "_isFastLaunch": false,
    "category": "Accelerated computing",
    "gpuNum": 0,
    "hideHardwareSpecs": false,
    "memoryGiB": 32,
    "name": "ml.trn1.2xlarge",
    "vcpuNum": 8
   },
   {
    "_defaultOrder": 58,
    "_isFastLaunch": false,
    "category": "Accelerated computing",
    "gpuNum": 0,
    "hideHardwareSpecs": false,
    "memoryGiB": 512,
    "name": "ml.trn1.32xlarge",
    "vcpuNum": 128
   },
   {
    "_defaultOrder": 59,
    "_isFastLaunch": false,
    "category": "Accelerated computing",
    "gpuNum": 0,
    "hideHardwareSpecs": false,
    "memoryGiB": 512,
    "name": "ml.trn1n.32xlarge",
    "vcpuNum": 128
   }
  ],
  "kernelspec": {
   "display_name": "Python 3 (Data Science 3.0)",
   "language": "python",
   "name": "python3__SAGEMAKER_INTERNAL__arn:aws:sagemaker:us-west-2:236514542706:image/sagemaker-data-science-310-v1"
  },
  "language_info": {
   "codemirror_mode": {
    "name": "ipython",
    "version": 3
   },
   "file_extension": ".py",
   "mimetype": "text/x-python",
   "name": "python",
   "nbconvert_exporter": "python",
   "pygments_lexer": "ipython3",
   "version": "3.10.6"
  },
  "lcc_arn": "arn:aws:sagemaker:us-west-2:087022704862:studio-lifecycle-config/install-h2o-java-new"
 },
 "nbformat": 4,
 "nbformat_minor": 5
}
