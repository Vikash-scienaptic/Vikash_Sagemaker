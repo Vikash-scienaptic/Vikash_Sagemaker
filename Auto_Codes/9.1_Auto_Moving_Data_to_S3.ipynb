{
 "cells": [
  {
   "cell_type": "code",
   "execution_count": 2,
   "id": "b6135855-5f4a-4d16-a7a7-d0aa9a14e01c",
   "metadata": {
    "tags": []
   },
   "outputs": [
    {
     "name": "stdout",
     "output_type": "stream",
     "text": [
      "Collecting orjson\n",
      "  Downloading orjson-3.10.1-cp310-cp310-manylinux_2_17_x86_64.manylinux2014_x86_64.whl.metadata (49 kB)\n",
      "\u001b[2K     \u001b[90m━━━━━━━━━━━━━━━━━━━━━━━━━━━━━━━━━━━━━━━\u001b[0m \u001b[32m49.7/49.7 kB\u001b[0m \u001b[31m720.8 kB/s\u001b[0m eta \u001b[36m0:00:00\u001b[0ma \u001b[36m0:00:01\u001b[0m\n",
      "\u001b[?25hDownloading orjson-3.10.1-cp310-cp310-manylinux_2_17_x86_64.manylinux2014_x86_64.whl (141 kB)\n",
      "\u001b[2K   \u001b[90m━━━━━━━━━━━━━━━━━━━━━━━━━━━━━━━━━━━━━━━━\u001b[0m \u001b[32m141.1/141.1 kB\u001b[0m \u001b[31m1.5 MB/s\u001b[0m eta \u001b[36m0:00:00\u001b[0mta \u001b[36m0:00:01\u001b[0m\n",
      "\u001b[?25hInstalling collected packages: orjson\n",
      "Successfully installed orjson-3.10.1\n",
      "\u001b[33mWARNING: Running pip as the 'root' user can result in broken permissions and conflicting behaviour with the system package manager. It is recommended to use a virtual environment instead: https://pip.pypa.io/warnings/venv\u001b[0m\u001b[33m\n",
      "\u001b[0m"
     ]
    }
   ],
   "source": [
    "!pip install orjson"
   ]
  },
  {
   "cell_type": "code",
   "execution_count": 3,
   "id": "6da13e7c-3648-4a89-9a32-53ea38fc7038",
   "metadata": {
    "tags": []
   },
   "outputs": [
    {
     "name": "stdout",
     "output_type": "stream",
     "text": [
      "sagemaker.config INFO - Not applying SDK defaults from location: /etc/xdg/sagemaker/config.yaml\n",
      "sagemaker.config INFO - Not applying SDK defaults from location: /root/.config/sagemaker/config.yaml\n"
     ]
    }
   ],
   "source": [
    "import warnings\n",
    "warnings.filterwarnings('ignore')\n",
    "\n",
    "import importlib\n",
    "import os\n",
    "import boto3\n",
    "import re\n",
    "import pandas as pd\n",
    "import orjson\n",
    "\n",
    "# Specify the path to your module\n",
    "module_path = '/root/Unified_LN_V2/DataScience-Repo/SageMaker/read_data_in_sagemaker.py'\n",
    "#module_path = '/home/ec2-user/SageMaker/DataScience-Repo/SageMaker/read_data_in_sagemaker.py'\n",
    "\n",
    "# Create a spec for the module\n",
    "module_spec = importlib.util.spec_from_file_location('read_data_in_sagemaker', module_path)\n",
    "\n",
    "# Import the module\n",
    "read_data_in_sagemaker = importlib.util.module_from_spec(module_spec)\n",
    "module_spec.loader.exec_module(read_data_in_sagemaker)\n",
    "\n",
    "s3 = boto3.client(service_name=\"s3\",region_name = \"us-east-2\")\n",
    "\n",
    "pd.set_option('display.max_columns', 500)\n",
    "pd.set_option('display.max_rows', 500)\n",
    "pd.set_option('display.max_colwidth', 500)"
   ]
  },
  {
   "cell_type": "code",
   "execution_count": 4,
   "id": "29855311-3e47-4f86-af04-d336dc4b4a47",
   "metadata": {
    "tags": []
   },
   "outputs": [
    {
     "data": {
      "text/plain": [
       "['home/sushil/LN_Unified_V2/Auto_Model_Dataset/3_Auto_Oot_Binned_Data_260324.csv',\n",
       " 'home/sushil/LN_Unified_V2/Auto_Model_Dataset/3_Auto_Test_Binned_Data_260324.csv',\n",
       " 'home/sushil/LN_Unified_V2/Auto_Model_Dataset/3_Auto_Train_Binned_Data_260324.csv',\n",
       " 'home/sushil/LN_Unified_V2/Auto_Model_Dataset/3_Auto_Ttd_Binned_Data_260324.csv']"
      ]
     },
     "execution_count": 4,
     "metadata": {},
     "output_type": "execute_result"
    }
   ],
   "source": [
    "read_data_in_sagemaker.list_objects_in_folder(s3, 'scien-ds-sm-root-backup', 'home/sushil/LN_Unified_V2/Auto_Model_Dataset/')"
   ]
  },
  {
   "cell_type": "code",
   "execution_count": 5,
   "id": "3b51692e-46d6-4cf6-8b7a-6428fe6b25cd",
   "metadata": {
    "tags": []
   },
   "outputs": [
    {
     "name": "stdout",
     "output_type": "stream",
     "text": [
      "040424_Auto_LN_V1_5_Scored_Data.csv\n",
      "1_LN_Auto_All_Updated_Data_220324.csv\n",
      "1_LN_Auto_V2_DEV_Data_220324.csv\n",
      "1_LN_Auto_V2_OOT_Data_220324.csv\n",
      "1_LN_Auto_V2_Test_RI_Data_220324.csv\n",
      "1_LN_Auto_V2_Train_RI_Data_220324.csv\n",
      "2_LN_Auto_V2_Oot_Funded_Data_250324.csv\n",
      "2_LN_Auto_V2_TTD_Data_250324.csv\n",
      "2_LN_Auto_V2_Test_Funded_Data_250324.csv\n",
      "2_LN_Auto_V2_Train_Funded_Data_250324.csv\n"
     ]
    }
   ],
   "source": [
    "!ls '/root/Unified_LN_V2/LN_Auto_V2/Data/'"
   ]
  },
  {
   "cell_type": "code",
   "execution_count": 18,
   "id": "3eafbeac-dcf8-4ec7-8f30-5c0b86f6e51c",
   "metadata": {
    "tags": []
   },
   "outputs": [],
   "source": [
    "s3_resource = boto3.resource('s3')\n",
    "\n",
    "#s3_resource.Bucket(bucket_name).upload_file(source_file_path_in_sagemaker, destination_file_path_in_s3_bucket)\n",
    "s3_resource.Bucket('scien-ds-sm-root-backup').upload_file(\"/root/Unified_LN_V2/LN_Auto_V2/Data/2_LN_Auto_V2_Train_Funded_Data_250324.csv\", \"home/sushil/LN_Unified_V2/Auto_Model_Dataset/2_LN_Auto_V2_Train_Funded_Data_250324.csv\")"
   ]
  },
  {
   "cell_type": "code",
   "execution_count": 25,
   "id": "a4e14364-664a-44d5-b087-4590e7868354",
   "metadata": {
    "tags": []
   },
   "outputs": [],
   "source": [
    "for file in ['2_LN_Auto_V2_Test_Funded_Data_250324.csv', '2_LN_Auto_V2_TTD_Data_250324.csv',\n",
    "             '2_LN_Auto_V2_Oot_Funded_Data_250324.csv']:\n",
    "    s3_resource.Bucket('scien-ds-sm-root-backup').upload_file(\n",
    "        f\"/root/Unified_LN_V2/LN_Auto_V2/Data/{file}\", f\"home/sushil/LN_Unified_V2/Auto_Model_Dataset/Raw_Data/{file}\")"
   ]
  },
  {
   "cell_type": "code",
   "execution_count": 26,
   "id": "94ae05bc-c4d1-4ae3-bcc5-7536cd2bee20",
   "metadata": {
    "tags": []
   },
   "outputs": [
    {
     "data": {
      "text/plain": [
       "['home/sushil/LN_Unified_V2/Auto_Model_Dataset/Raw_Data/',\n",
       " 'home/sushil/LN_Unified_V2/Auto_Model_Dataset/Raw_Data/2_LN_Auto_V2_Oot_Funded_Data_250324.csv',\n",
       " 'home/sushil/LN_Unified_V2/Auto_Model_Dataset/Raw_Data/2_LN_Auto_V2_TTD_Data_250324.csv',\n",
       " 'home/sushil/LN_Unified_V2/Auto_Model_Dataset/Raw_Data/2_LN_Auto_V2_Test_Funded_Data_250324.csv',\n",
       " 'home/sushil/LN_Unified_V2/Auto_Model_Dataset/Raw_Data/2_LN_Auto_V2_Train_Funded_Data_250324.csv']"
      ]
     },
     "execution_count": 26,
     "metadata": {},
     "output_type": "execute_result"
    }
   ],
   "source": [
    "read_data_in_sagemaker.list_objects_in_folder(s3, 'scien-ds-sm-root-backup', 'home/sushil/LN_Unified_V2/Auto_Model_Dataset/Raw_Data/')"
   ]
  },
  {
   "cell_type": "code",
   "execution_count": 27,
   "id": "0eb97f78-d340-4043-93e9-94a566df47a4",
   "metadata": {
    "tags": []
   },
   "outputs": [],
   "source": [
    "s3_resource.Bucket('scien-ds-sm-root-backup').upload_file(\n",
    "    f\"/root/Unified_LN_V2/LN_Auto_V2/Data/040424_Auto_LN_V1_5_Scored_Data.csv\", f\"home/sushil/LN_Unified_V2/Auto_Model_Dataset/Raw_Data/040424_Auto_LN_V1_5_Scored_Data.csv\")"
   ]
  },
  {
   "cell_type": "code",
   "execution_count": 28,
   "id": "26daadac-d9bc-4972-80d2-26971bda9f1b",
   "metadata": {
    "tags": []
   },
   "outputs": [],
   "source": [
    "s3_resource.Bucket('scien-ds-sm-root-backup').upload_file(\n",
    "    f\"/root/Unified_LN_V2/LN_Auto_V2/Data/1_LN_Auto_All_Updated_Data_220324.csv\", f\"home/sushil/LN_Unified_V2/Auto_Model_Dataset/Raw_Data/1_LN_Auto_All_Updated_Data_220324.csv\")"
   ]
  },
  {
   "cell_type": "code",
   "execution_count": 29,
   "id": "2ee0e29d-ab3e-4f67-8c83-ef2caa7d441a",
   "metadata": {
    "tags": []
   },
   "outputs": [
    {
     "data": {
      "text/plain": [
       "['home/sushil/LN_Unified_V2/Auto_Model_Dataset/Raw_Data/',\n",
       " 'home/sushil/LN_Unified_V2/Auto_Model_Dataset/Raw_Data/040424_Auto_LN_V1_5_Scored_Data.csv',\n",
       " 'home/sushil/LN_Unified_V2/Auto_Model_Dataset/Raw_Data/1_LN_Auto_All_Updated_Data_220324.csv',\n",
       " 'home/sushil/LN_Unified_V2/Auto_Model_Dataset/Raw_Data/2_LN_Auto_V2_Oot_Funded_Data_250324.csv',\n",
       " 'home/sushil/LN_Unified_V2/Auto_Model_Dataset/Raw_Data/2_LN_Auto_V2_TTD_Data_250324.csv',\n",
       " 'home/sushil/LN_Unified_V2/Auto_Model_Dataset/Raw_Data/2_LN_Auto_V2_Test_Funded_Data_250324.csv',\n",
       " 'home/sushil/LN_Unified_V2/Auto_Model_Dataset/Raw_Data/2_LN_Auto_V2_Train_Funded_Data_250324.csv']"
      ]
     },
     "execution_count": 29,
     "metadata": {},
     "output_type": "execute_result"
    }
   ],
   "source": [
    "read_data_in_sagemaker.list_objects_in_folder(s3, 'scien-ds-sm-root-backup', 'home/sushil/LN_Unified_V2/Auto_Model_Dataset/Raw_Data/')"
   ]
  },
  {
   "cell_type": "code",
   "execution_count": 30,
   "id": "a9571a42-e2a6-4e74-a06e-ce0494f43f16",
   "metadata": {
    "tags": []
   },
   "outputs": [],
   "source": [
    "s3_resource.Bucket('scien-ds-sm-root-backup').upload_file(\n",
    "    f\"/root/Unified_LN_V2/LN_Auto_V2/Model_Data/RI_Auto_Model/250324_RI_Auto_Model_Scored_Data.csv\", f\"home/sushil/LN_Unified_V2/Auto_Model_Dataset/RI/250324_RI_Auto_Model_Scored_Data.csv\")"
   ]
  },
  {
   "cell_type": "code",
   "execution_count": 31,
   "id": "f15d28ff-b7ae-4e1f-b2ab-e554fa20ae16",
   "metadata": {
    "tags": []
   },
   "outputs": [
    {
     "data": {
      "text/plain": [
       "['home/sushil/LN_Unified_V2/Auto_Model_Dataset/RI/250324_RI_Auto_Model_Scored_Data.csv']"
      ]
     },
     "execution_count": 31,
     "metadata": {},
     "output_type": "execute_result"
    }
   ],
   "source": [
    "read_data_in_sagemaker.list_objects_in_folder(s3, 'scien-ds-sm-root-backup', 'home/sushil/LN_Unified_V2/Auto_Model_Dataset/RI/')"
   ]
  },
  {
   "cell_type": "code",
   "execution_count": 32,
   "id": "c84c095c-11c4-4de2-a48d-5da535591911",
   "metadata": {
    "tags": []
   },
   "outputs": [
    {
     "name": "stdout",
     "output_type": "stream",
     "text": [
      "Data\n",
      "FICO_660_740_030424_LN_Auto_KGB_LDA_Hopt_1.csv\n",
      "FICO_660_740_050424_LN_Auto_KGB_LDA_Hopt_2.csv\n",
      "FICO_660_740_Oot_Auto_LN_V2_Scored_Data_2024-04-08.csv\n",
      "FICO_660_740_TTD_Auto_LN_V2_Scored_Data_2024-04-08.csv\n",
      "FICO_660_740_Test_Auto_LN_V2_Scored_Data_2024-04-08.csv\n",
      "FICO_660_740_Train_Auto_LN_V2_Scored_Data_2024-04-08.csv\n",
      "Mono_Data\n",
      "xgbm_ln_auto_v2_hpt_best_FICO_660_740.zip\n"
     ]
    }
   ],
   "source": [
    "!ls '/root/Unified_LN_V2/LN_Auto_V2/Model_Data/Auto_FICO_660_740_Model/'"
   ]
  },
  {
   "cell_type": "code",
   "execution_count": 33,
   "id": "0e295ea9-3b72-4055-84aa-8d4376fecef4",
   "metadata": {
    "tags": []
   },
   "outputs": [
    {
     "name": "stdout",
     "output_type": "stream",
     "text": [
      "Auto_FICO_660_740_Model  Non_Derog_Model\t   RI_Auto_Model\n",
      "Auto_FICO_lt_660_Model\t Non_Property_Owner_Model  Without_LDA_Auto_LN_V2\n",
      "Derog_Model\t\t Property_Owner_Model\n"
     ]
    }
   ],
   "source": [
    "!ls '/root/Unified_LN_V2/LN_Auto_V2/Model_Data/'"
   ]
  },
  {
   "cell_type": "code",
   "execution_count": 35,
   "id": "856e56a0-9bcf-42a1-80fd-dc8af236ac83",
   "metadata": {
    "tags": []
   },
   "outputs": [
    {
     "data": {
      "text/plain": [
       "['FICO_660_740_TTD_Auto_LN_V2_Scored_Data_2024-04-08.csv',\n",
       " 'xgbm_ln_auto_v2_hpt_best_FICO_660_740.zip',\n",
       " 'FICO_660_740_Test_Auto_LN_V2_Scored_Data_2024-04-08.csv',\n",
       " 'Mono_Data',\n",
       " 'Data',\n",
       " 'FICO_660_740_Train_Auto_LN_V2_Scored_Data_2024-04-08.csv',\n",
       " 'FICO_660_740_030424_LN_Auto_KGB_LDA_Hopt_1.csv',\n",
       " '.ipynb_checkpoints',\n",
       " 'FICO_660_740_Oot_Auto_LN_V2_Scored_Data_2024-04-08.csv',\n",
       " 'FICO_660_740_050424_LN_Auto_KGB_LDA_Hopt_2.csv']"
      ]
     },
     "execution_count": 35,
     "metadata": {},
     "output_type": "execute_result"
    }
   ],
   "source": [
    "os.listdir('/root/Unified_LN_V2/LN_Auto_V2/Model_Data/Auto_FICO_660_740_Model/')"
   ]
  },
  {
   "cell_type": "code",
   "execution_count": 37,
   "id": "9f861467-7884-453e-9045-2d1d71282092",
   "metadata": {
    "tags": []
   },
   "outputs": [
    {
     "data": {
      "text/plain": [
       "True"
      ]
     },
     "execution_count": 37,
     "metadata": {},
     "output_type": "execute_result"
    }
   ],
   "source": [
    "os.path.isdir('/root/Unified_LN_V2/LN_Auto_V2')"
   ]
  },
  {
   "cell_type": "code",
   "execution_count": 40,
   "id": "2d9a36dd-057c-45c1-88e5-7e1281107d90",
   "metadata": {
    "tags": []
   },
   "outputs": [],
   "source": [
    "path= '/root/Unified_LN_V2/LN_Auto_V2/Model_Data/Auto_FICO_660_740_Model/'"
   ]
  },
  {
   "cell_type": "code",
   "execution_count": null,
   "id": "8c6f0607-c54c-4c61-87c7-69f0eabb3898",
   "metadata": {},
   "outputs": [],
   "source": [
    "s3_resource.Bucket('scien-ds-sm-root-backup').upload_file(\n",
    "    f\"/root/Unified_LN_V2/LN_Auto_V2/Model_Data/RI_Auto_Model/250324_RI_Auto_Model_Scored_Data.csv\", f\"home/sushil/LN_Unified_V2/Auto_Model_Dataset/RI/250324_RI_Auto_Model_Scored_Data.csv\")"
   ]
  },
  {
   "cell_type": "code",
   "execution_count": 64,
   "id": "a69066b2-cf1a-4eba-92b0-4e59b8bb88ab",
   "metadata": {
    "tags": []
   },
   "outputs": [
    {
     "name": "stdout",
     "output_type": "stream",
     "text": [
      "path- /root/Unified_LN_V2/LN_Auto_V2/Model_Data/Auto_FICO_660_740_Model/\n",
      "folders- ['Mono_Data', 'Data', '.ipynb_checkpoints']\n",
      "files - ['FICO_660_740_TTD_Auto_LN_V2_Scored_Data_2024-04-08.csv', 'xgbm_ln_auto_v2_hpt_best_FICO_660_740.zip', 'FICO_660_740_Test_Auto_LN_V2_Scored_Data_2024-04-08.csv', 'FICO_660_740_Train_Auto_LN_V2_Scored_Data_2024-04-08.csv', 'FICO_660_740_030424_LN_Auto_KGB_LDA_Hopt_1.csv', 'FICO_660_740_Oot_Auto_LN_V2_Scored_Data_2024-04-08.csv', 'FICO_660_740_050424_LN_Auto_KGB_LDA_Hopt_2.csv']\n",
      "path- /root/Unified_LN_V2/LN_Auto_V2/Model_Data/Auto_FICO_660_740_Model/Mono_Data\n",
      "folders- []\n",
      "files - ['feature_meta.pickle', 'configFile.pickle', 'embed_df.pickle', 'numeric_df.pickle', 'FICO_660_740_1_Auto_Test_Binned_Data_280324.csv', 'feature_boundaries.pickle', 'FICO_660_740_1_Auto_Ttd_Binned_Data_280324.csv', 'FICO_660_740_1_Auto_Oot_Binned_Data_280324.csv', 'FICO_660_740_1_Auto_Train_Binned_Data_280324.csv']\n",
      "path- /root/Unified_LN_V2/LN_Auto_V2/Model_Data/Auto_FICO_660_740_Model/Data\n",
      "folders- []\n",
      "files - ['FICO_660_740_Auto_train_raw_data_280324.csv', 'FICO_660_740_Auto_oot_raw_data_280324.csv', 'FICO_660_740_Auto_test_raw_data_280324.csv', 'FICO_660_740_Auto_ttd_raw_data_280324.csv']\n",
      "path- /root/Unified_LN_V2/LN_Auto_V2/Model_Data/Auto_FICO_660_740_Model/.ipynb_checkpoints\n",
      "folders- []\n",
      "files - ['FICO_660_740_050424_LN_Auto_KGB_LDA_Hopt_2-checkpoint.csv']\n"
     ]
    }
   ],
   "source": [
    "for i,j,k in os.walk(path):\n",
    "    print(f'path- {i}')\n",
    "    print(f'folders- {j}')\n",
    "    print(f'files - {k}')\n",
    "    # for file in k:\n",
    "        # print(file)"
   ]
  },
  {
   "cell_type": "code",
   "execution_count": 68,
   "id": "a8f4e2f0-be29-4cdb-9639-dbce8bb619e8",
   "metadata": {
    "tags": []
   },
   "outputs": [
    {
     "name": "stdout",
     "output_type": "stream",
     "text": [
      "/root/Unified_LN_V2/LN_Auto_V2/Model_Data/Auto_FICO_660_740_Model/ ['Mono_Data', 'Data', '.ipynb_checkpoints'] ['FICO_660_740_TTD_Auto_LN_V2_Scored_Data_2024-04-08.csv', 'xgbm_ln_auto_v2_hpt_best_FICO_660_740.zip', 'FICO_660_740_Test_Auto_LN_V2_Scored_Data_2024-04-08.csv', 'FICO_660_740_Train_Auto_LN_V2_Scored_Data_2024-04-08.csv', 'FICO_660_740_030424_LN_Auto_KGB_LDA_Hopt_1.csv', 'FICO_660_740_Oot_Auto_LN_V2_Scored_Data_2024-04-08.csv', 'FICO_660_740_050424_LN_Auto_KGB_LDA_Hopt_2.csv']\n",
      "/root/Unified_LN_V2/LN_Auto_V2/Model_Data/Auto_FICO_660_740_Model/Mono_Data [] ['feature_meta.pickle', 'configFile.pickle', 'embed_df.pickle', 'numeric_df.pickle', 'FICO_660_740_1_Auto_Test_Binned_Data_280324.csv', 'feature_boundaries.pickle', 'FICO_660_740_1_Auto_Ttd_Binned_Data_280324.csv', 'FICO_660_740_1_Auto_Oot_Binned_Data_280324.csv', 'FICO_660_740_1_Auto_Train_Binned_Data_280324.csv']\n",
      "/root/Unified_LN_V2/LN_Auto_V2/Model_Data/Auto_FICO_660_740_Model/Data [] ['FICO_660_740_Auto_train_raw_data_280324.csv', 'FICO_660_740_Auto_oot_raw_data_280324.csv', 'FICO_660_740_Auto_test_raw_data_280324.csv', 'FICO_660_740_Auto_ttd_raw_data_280324.csv']\n",
      "/root/Unified_LN_V2/LN_Auto_V2/Model_Data/Auto_FICO_660_740_Model/.ipynb_checkpoints [] ['FICO_660_740_050424_LN_Auto_KGB_LDA_Hopt_2-checkpoint.csv']\n"
     ]
    }
   ],
   "source": [
    "for i, j, k in os.walk(path):\n",
    "    print(i, j, k)"
   ]
  },
  {
   "cell_type": "code",
   "execution_count": 91,
   "id": "a5dab9ed-8c18-4923-ba5e-137cc3866dd9",
   "metadata": {
    "tags": []
   },
   "outputs": [],
   "source": [
    "def upload_to_s3(path, path_to_upload, bucket= 'scien-ds-sm-root-backup'):\n",
    "    import boto3\n",
    "    pref= path.split('/')[-2]\n",
    "    print(pref)\n",
    "    s3_resource = boto3.resource('s3')\n",
    "    \n",
    "    for i, j, k in os.walk(path):\n",
    "        for file in k:\n",
    "            s3_resource.Bucket(bucket).upload_file(\n",
    "                f\"{i}/{file}\", f\"{path_to_upload}{pref}/{i.split('/')[-1]}/{file}\"\n",
    "            )"
   ]
  },
  {
   "cell_type": "code",
   "execution_count": 114,
   "id": "85455f29-063d-4148-97d2-107d43d5f70b",
   "metadata": {
    "tags": []
   },
   "outputs": [
    {
     "name": "stdout",
     "output_type": "stream",
     "text": [
      "Without_LDA_Auto_LN_V2\n"
     ]
    }
   ],
   "source": [
    "upload_to_s3(\n",
    "    '/root/Unified_LN_V2/LN_Auto_V2/Model_Data/Without_LDA_Auto_LN_V2/', \n",
    "    'home/sushil/LN_Unified_V2/Auto_Model_Dataset/'\n",
    ")"
   ]
  },
  {
   "cell_type": "code",
   "execution_count": 132,
   "id": "a40c43c6-e13f-4f0c-b52f-97e229c9a517",
   "metadata": {
    "tags": []
   },
   "outputs": [
    {
     "data": {
      "text/plain": [
       "['home/sushil/LN_Unified_V2/Auto_Model_Dataset/2_LN_Auto_V2_Train_Funded_Data_250324.csv',\n",
       " 'home/sushil/LN_Unified_V2/Auto_Model_Dataset/3_Auto_Oot_Binned_Data_260324.csv',\n",
       " 'home/sushil/LN_Unified_V2/Auto_Model_Dataset/3_Auto_Test_Binned_Data_260324.csv',\n",
       " 'home/sushil/LN_Unified_V2/Auto_Model_Dataset/3_Auto_Train_Binned_Data_260324.csv',\n",
       " 'home/sushil/LN_Unified_V2/Auto_Model_Dataset/3_Auto_Ttd_Binned_Data_260324.csv',\n",
       " 'home/sushil/LN_Unified_V2/Auto_Model_Dataset/FICO_660_740_030424_LN_Auto_KGB_LDA_Hopt_1.csv',\n",
       " 'home/sushil/LN_Unified_V2/Auto_Model_Dataset/FICO_660_740_050424_LN_Auto_KGB_LDA_Hopt_2.csv',\n",
       " 'home/sushil/LN_Unified_V2/Auto_Model_Dataset/FICO_660_740_Oot_Auto_LN_V2_Scored_Data_2024-04-08.csv',\n",
       " 'home/sushil/LN_Unified_V2/Auto_Model_Dataset/FICO_660_740_TTD_Auto_LN_V2_Scored_Data_2024-04-08.csv',\n",
       " 'home/sushil/LN_Unified_V2/Auto_Model_Dataset/FICO_660_740_Test_Auto_LN_V2_Scored_Data_2024-04-08.csv',\n",
       " 'home/sushil/LN_Unified_V2/Auto_Model_Dataset/FICO_660_740_Train_Auto_LN_V2_Scored_Data_2024-04-08.csv',\n",
       " 'home/sushil/LN_Unified_V2/Auto_Model_Dataset/Raw_Data',\n",
       " 'home/sushil/LN_Unified_V2/Auto_Model_Dataset/xgbm_ln_auto_v2_hpt_best_FICO_660_740.zip']"
      ]
     },
     "execution_count": 132,
     "metadata": {},
     "output_type": "execute_result"
    }
   ],
   "source": [
    "read_data_in_sagemaker.list_objects_in_folder(s3, 'scien-ds-sm-root-backup', 'home/sushil/LN_Unified_V2/Auto_Model_Dataset/')"
   ]
  },
  {
   "cell_type": "code",
   "execution_count": 116,
   "id": "6d8dafde-f034-4384-914e-15a7fcc4f4d8",
   "metadata": {
    "tags": []
   },
   "outputs": [
    {
     "data": {
      "text/plain": [
       "['home/sushil/LN_Unified_V2/Auto_Model_Dataset/Without_LDA_Auto_LN_V2/.ipynb_checkpoints/',\n",
       " 'home/sushil/LN_Unified_V2/Auto_Model_Dataset/Without_LDA_Auto_LN_V2//',\n",
       " 'home/sushil/LN_Unified_V2/Auto_Model_Dataset/Without_LDA_Auto_LN_V2/Iteration_2/',\n",
       " 'home/sushil/LN_Unified_V2/Auto_Model_Dataset/Without_LDA_Auto_LN_V2/Iteration_3/',\n",
       " 'home/sushil/LN_Unified_V2/Auto_Model_Dataset/Without_LDA_Auto_LN_V2/Iteration_4/',\n",
       " 'home/sushil/LN_Unified_V2/Auto_Model_Dataset/Without_LDA_Auto_LN_V2/Iteration_5/',\n",
       " 'home/sushil/LN_Unified_V2/Auto_Model_Dataset/Without_LDA_Auto_LN_V2/Mono_Data/',\n",
       " 'home/sushil/LN_Unified_V2/Auto_Model_Dataset/Without_LDA_Auto_LN_V2/Protected_Class_Data/',\n",
       " 'home/sushil/LN_Unified_V2/Auto_Model_Dataset/Without_LDA_Auto_LN_V2/With_LDA/',\n",
       " 'home/sushil/LN_Unified_V2/Auto_Model_Dataset/Without_LDA_Auto_LN_V2/Without_LDA/']"
      ]
     },
     "execution_count": 116,
     "metadata": {},
     "output_type": "execute_result"
    }
   ],
   "source": [
    "read_data_in_sagemaker.list_folders(s3, 'scien-ds-sm-root-backup', 'home/sushil/LN_Unified_V2/Auto_Model_Dataset/Without_LDA_Auto_LN_V2/')"
   ]
  },
  {
   "cell_type": "code",
   "execution_count": 123,
   "id": "c56fcc6f-a69b-4cbb-8e2f-ec610e05529d",
   "metadata": {
    "tags": []
   },
   "outputs": [
    {
     "data": {
      "text/plain": [
       "['home/sushil/LN_Unified_V2/Auto_Model_Dataset/.ipynb_checkpoints/',\n",
       " 'home/sushil/LN_Unified_V2/Auto_Model_Dataset//',\n",
       " 'home/sushil/LN_Unified_V2/Auto_Model_Dataset/Auto_FICO_660_740_Model.ipynb_checkpoints/',\n",
       " 'home/sushil/LN_Unified_V2/Auto_Model_Dataset/Auto_FICO_660_740_Model/',\n",
       " 'home/sushil/LN_Unified_V2/Auto_Model_Dataset/Auto_FICO_660_740_ModelData/',\n",
       " 'home/sushil/LN_Unified_V2/Auto_Model_Dataset/Auto_FICO_660_740_ModelMono_Data/',\n",
       " 'home/sushil/LN_Unified_V2/Auto_Model_Dataset/Auto_FICO_lt_660_Model/',\n",
       " 'home/sushil/LN_Unified_V2/Auto_Model_Dataset/Data/',\n",
       " 'home/sushil/LN_Unified_V2/Auto_Model_Dataset/Derog_Model/',\n",
       " 'home/sushil/LN_Unified_V2/Auto_Model_Dataset/Mono_Data/',\n",
       " 'home/sushil/LN_Unified_V2/Auto_Model_Dataset/Non_Derog_Model/',\n",
       " 'home/sushil/LN_Unified_V2/Auto_Model_Dataset/Non_Property_Owner_Model/',\n",
       " 'home/sushil/LN_Unified_V2/Auto_Model_Dataset/Property_Owner_Model/',\n",
       " 'home/sushil/LN_Unified_V2/Auto_Model_Dataset/RI/',\n",
       " 'home/sushil/LN_Unified_V2/Auto_Model_Dataset/RI_Auto_Model/',\n",
       " 'home/sushil/LN_Unified_V2/Auto_Model_Dataset/Raw_Data/',\n",
       " 'home/sushil/LN_Unified_V2/Auto_Model_Dataset/Without_LDA_Auto_LN_V2/']"
      ]
     },
     "execution_count": 123,
     "metadata": {},
     "output_type": "execute_result"
    }
   ],
   "source": [
    "read_data_in_sagemaker.list_folders(s3, 'scien-ds-sm-root-backup', 'home/sushil/LN_Unified_V2/Auto_Model_Dataset/')"
   ]
  },
  {
   "cell_type": "code",
   "execution_count": 133,
   "id": "03bd634c-868d-40b0-9924-15fa061ac403",
   "metadata": {
    "tags": []
   },
   "outputs": [
    {
     "data": {
      "text/plain": [
       "['home/sushil/LN_Unified_V2/Auto_Model_Dataset/Without_LDA_Auto_LN_V2/Iteration_3/050424_LN_Auto_KGB_LDA_No_Segment_Hopt_4.csv',\n",
       " 'home/sushil/LN_Unified_V2/Auto_Model_Dataset/Without_LDA_Auto_LN_V2/Iteration_3/With_LDA_Oot_Auto_LN_V2_Scored_Data_2024-04-08.csv',\n",
       " 'home/sushil/LN_Unified_V2/Auto_Model_Dataset/Without_LDA_Auto_LN_V2/Iteration_3/With_LDA_TTD_Auto_LN_V2_Scored_Data_2024-04-08.csv',\n",
       " 'home/sushil/LN_Unified_V2/Auto_Model_Dataset/Without_LDA_Auto_LN_V2/Iteration_3/With_LDA_Test_Auto_LN_V2_Scored_Data_2024-04-08.csv',\n",
       " 'home/sushil/LN_Unified_V2/Auto_Model_Dataset/Without_LDA_Auto_LN_V2/Iteration_3/With_LDA_Train_Auto_LN_V2_Scored_Data_2024-04-08.csv',\n",
       " 'home/sushil/LN_Unified_V2/Auto_Model_Dataset/Without_LDA_Auto_LN_V2/Iteration_3/xgbm_ln_auto_v2_hpt_best_with_lda_3.zip']"
      ]
     },
     "execution_count": 133,
     "metadata": {},
     "output_type": "execute_result"
    }
   ],
   "source": [
    "read_data_in_sagemaker.list_objects_in_folder(s3, 'scien-ds-sm-root-backup', 'home/sushil/LN_Unified_V2/Auto_Model_Dataset/Without_LDA_Auto_LN_V2/Iteration_3/')"
   ]
  },
  {
   "cell_type": "markdown",
   "id": "49fe9231-49f1-4d83-9c15-5285a1b85a59",
   "metadata": {},
   "source": [
    "### Unsec"
   ]
  },
  {
   "cell_type": "code",
   "execution_count": 135,
   "id": "7ab9f2d7-1b21-4aca-b1f2-01a462cc1734",
   "metadata": {
    "tags": []
   },
   "outputs": [],
   "source": [
    "s3_resource.Bucket('scien-ds-sm-root-backup').upload_file(\n",
    "    f\"/root/Unified_LN_V2/LN_Unsec_V2/Data/1_LN_Unsec_All_Updated_Data_090424.csv\", f\"home/sushil/LN_Unified_V2/Unsec_Model_Dataset/1_LN_Unsec_All_Updated_Data_090424.csv\")"
   ]
  },
  {
   "cell_type": "code",
   "execution_count": 136,
   "id": "a06a8a14-12c4-4ff7-91ce-309f74afa016",
   "metadata": {
    "tags": []
   },
   "outputs": [
    {
     "data": {
      "text/plain": [
       "['home/sushil/LN_Unified_V2/Unsec_Model_Dataset/1_LN_Unsec_All_Updated_Data_090424.csv']"
      ]
     },
     "execution_count": 136,
     "metadata": {},
     "output_type": "execute_result"
    }
   ],
   "source": [
    "read_data_in_sagemaker.list_objects_in_folder(s3, 'scien-ds-sm-root-backup', 'home/sushil/LN_Unified_V2/Unsec_Model_Dataset/')"
   ]
  },
  {
   "cell_type": "code",
   "execution_count": 137,
   "id": "6141d58d-afae-483d-82b4-9d83f03cf164",
   "metadata": {
    "tags": []
   },
   "outputs": [
    {
     "data": {
      "text/plain": [
       "['home/sushil/LN_Unified_V2/.ipynb_checkpoints/',\n",
       " 'home/sushil/LN_Unified_V2/Auto_Model_Dataset/',\n",
       " 'home/sushil/LN_Unified_V2/Client_Data_Auto/',\n",
       " 'home/sushil/LN_Unified_V2/Unsec_Model_Dataset/']"
      ]
     },
     "execution_count": 137,
     "metadata": {},
     "output_type": "execute_result"
    }
   ],
   "source": [
    "read_data_in_sagemaker.list_folders(s3, 'scien-ds-sm-root-backup', 'home/sushil/LN_Unified_V2/')"
   ]
  },
  {
   "cell_type": "code",
   "execution_count": 155,
   "id": "f872f9f2-e7f0-4169-bdcf-73a9448ac26a",
   "metadata": {
    "tags": []
   },
   "outputs": [
    {
     "data": {
      "text/plain": [
       "['Protected_Class_Data',\n",
       " 'RI_Unsec_Model',\n",
       " 'With_LDA',\n",
       " '.ipynb_checkpoints',\n",
       " 'Without_Segment_Model']"
      ]
     },
     "execution_count": 155,
     "metadata": {},
     "output_type": "execute_result"
    }
   ],
   "source": [
    "os.listdir('/root/Unified_LN_V2/LN_Unsec_V2/Model_Data/')"
   ]
  },
  {
   "cell_type": "code",
   "execution_count": 160,
   "id": "cb633258-2166-43d3-9de2-f94194cfb9c2",
   "metadata": {
    "tags": []
   },
   "outputs": [
    {
     "name": "stdout",
     "output_type": "stream",
     "text": [
      "Protected_Class_Data\n"
     ]
    }
   ],
   "source": [
    "upload_to_s3(\n",
    "    '/root/Unified_LN_V2/LN_Unsec_V2/Model_Data/Protected_Class_Data/', \n",
    "    'home/sushil/LN_Unified_V2/Unsec_Model_Dataset/'\n",
    ")"
   ]
  },
  {
   "cell_type": "code",
   "execution_count": 171,
   "id": "cdbeb40e-4616-44f3-be3d-e5f62f2138fd",
   "metadata": {
    "tags": []
   },
   "outputs": [
    {
     "data": {
      "text/plain": [
       "['home/sushil/LN_Unified_V2/Unsec_Model_Dataset/Without_Segment_Model//',\n",
       " 'home/sushil/LN_Unified_V2/Unsec_Model_Dataset/Without_Segment_Model/Data/',\n",
       " 'home/sushil/LN_Unified_V2/Unsec_Model_Dataset/Without_Segment_Model/Mono_Data/']"
      ]
     },
     "execution_count": 171,
     "metadata": {},
     "output_type": "execute_result"
    }
   ],
   "source": [
    "read_data_in_sagemaker.list_folders(s3, 'scien-ds-sm-root-backup', 'home/sushil/LN_Unified_V2/Unsec_Model_Dataset/Without_Segment_Model/')"
   ]
  },
  {
   "cell_type": "code",
   "execution_count": 167,
   "id": "f19cbf1a-3558-451c-a2ba-c6948a6a9029",
   "metadata": {
    "tags": []
   },
   "outputs": [
    {
     "data": {
      "text/plain": [
       "['home/sushil/LN_Unified_V2/Unsec_Model_Dataset/1_LN_Unsec_All_Updated_Data_090424.csv']"
      ]
     },
     "execution_count": 167,
     "metadata": {},
     "output_type": "execute_result"
    }
   ],
   "source": [
    "read_data_in_sagemaker.list_objects_in_folder(s3, 'scien-ds-sm-root-backup', 'home/sushil/LN_Unified_V2/Unsec_Model_Dataset')"
   ]
  },
  {
   "cell_type": "code",
   "execution_count": null,
   "id": "1133dc0d-0fb1-4227-a06a-6141573dd1fd",
   "metadata": {},
   "outputs": [],
   "source": []
  }
 ],
 "metadata": {
  "availableInstances": [
   {
    "_defaultOrder": 0,
    "_isFastLaunch": true,
    "category": "General purpose",
    "gpuNum": 0,
    "hideHardwareSpecs": false,
    "memoryGiB": 4,
    "name": "ml.t3.medium",
    "vcpuNum": 2
   },
   {
    "_defaultOrder": 1,
    "_isFastLaunch": false,
    "category": "General purpose",
    "gpuNum": 0,
    "hideHardwareSpecs": false,
    "memoryGiB": 8,
    "name": "ml.t3.large",
    "vcpuNum": 2
   },
   {
    "_defaultOrder": 2,
    "_isFastLaunch": false,
    "category": "General purpose",
    "gpuNum": 0,
    "hideHardwareSpecs": false,
    "memoryGiB": 16,
    "name": "ml.t3.xlarge",
    "vcpuNum": 4
   },
   {
    "_defaultOrder": 3,
    "_isFastLaunch": false,
    "category": "General purpose",
    "gpuNum": 0,
    "hideHardwareSpecs": false,
    "memoryGiB": 32,
    "name": "ml.t3.2xlarge",
    "vcpuNum": 8
   },
   {
    "_defaultOrder": 4,
    "_isFastLaunch": true,
    "category": "General purpose",
    "gpuNum": 0,
    "hideHardwareSpecs": false,
    "memoryGiB": 8,
    "name": "ml.m5.large",
    "vcpuNum": 2
   },
   {
    "_defaultOrder": 5,
    "_isFastLaunch": false,
    "category": "General purpose",
    "gpuNum": 0,
    "hideHardwareSpecs": false,
    "memoryGiB": 16,
    "name": "ml.m5.xlarge",
    "vcpuNum": 4
   },
   {
    "_defaultOrder": 6,
    "_isFastLaunch": false,
    "category": "General purpose",
    "gpuNum": 0,
    "hideHardwareSpecs": false,
    "memoryGiB": 32,
    "name": "ml.m5.2xlarge",
    "vcpuNum": 8
   },
   {
    "_defaultOrder": 7,
    "_isFastLaunch": false,
    "category": "General purpose",
    "gpuNum": 0,
    "hideHardwareSpecs": false,
    "memoryGiB": 64,
    "name": "ml.m5.4xlarge",
    "vcpuNum": 16
   },
   {
    "_defaultOrder": 8,
    "_isFastLaunch": false,
    "category": "General purpose",
    "gpuNum": 0,
    "hideHardwareSpecs": false,
    "memoryGiB": 128,
    "name": "ml.m5.8xlarge",
    "vcpuNum": 32
   },
   {
    "_defaultOrder": 9,
    "_isFastLaunch": false,
    "category": "General purpose",
    "gpuNum": 0,
    "hideHardwareSpecs": false,
    "memoryGiB": 192,
    "name": "ml.m5.12xlarge",
    "vcpuNum": 48
   },
   {
    "_defaultOrder": 10,
    "_isFastLaunch": false,
    "category": "General purpose",
    "gpuNum": 0,
    "hideHardwareSpecs": false,
    "memoryGiB": 256,
    "name": "ml.m5.16xlarge",
    "vcpuNum": 64
   },
   {
    "_defaultOrder": 11,
    "_isFastLaunch": false,
    "category": "General purpose",
    "gpuNum": 0,
    "hideHardwareSpecs": false,
    "memoryGiB": 384,
    "name": "ml.m5.24xlarge",
    "vcpuNum": 96
   },
   {
    "_defaultOrder": 12,
    "_isFastLaunch": false,
    "category": "General purpose",
    "gpuNum": 0,
    "hideHardwareSpecs": false,
    "memoryGiB": 8,
    "name": "ml.m5d.large",
    "vcpuNum": 2
   },
   {
    "_defaultOrder": 13,
    "_isFastLaunch": false,
    "category": "General purpose",
    "gpuNum": 0,
    "hideHardwareSpecs": false,
    "memoryGiB": 16,
    "name": "ml.m5d.xlarge",
    "vcpuNum": 4
   },
   {
    "_defaultOrder": 14,
    "_isFastLaunch": false,
    "category": "General purpose",
    "gpuNum": 0,
    "hideHardwareSpecs": false,
    "memoryGiB": 32,
    "name": "ml.m5d.2xlarge",
    "vcpuNum": 8
   },
   {
    "_defaultOrder": 15,
    "_isFastLaunch": false,
    "category": "General purpose",
    "gpuNum": 0,
    "hideHardwareSpecs": false,
    "memoryGiB": 64,
    "name": "ml.m5d.4xlarge",
    "vcpuNum": 16
   },
   {
    "_defaultOrder": 16,
    "_isFastLaunch": false,
    "category": "General purpose",
    "gpuNum": 0,
    "hideHardwareSpecs": false,
    "memoryGiB": 128,
    "name": "ml.m5d.8xlarge",
    "vcpuNum": 32
   },
   {
    "_defaultOrder": 17,
    "_isFastLaunch": false,
    "category": "General purpose",
    "gpuNum": 0,
    "hideHardwareSpecs": false,
    "memoryGiB": 192,
    "name": "ml.m5d.12xlarge",
    "vcpuNum": 48
   },
   {
    "_defaultOrder": 18,
    "_isFastLaunch": false,
    "category": "General purpose",
    "gpuNum": 0,
    "hideHardwareSpecs": false,
    "memoryGiB": 256,
    "name": "ml.m5d.16xlarge",
    "vcpuNum": 64
   },
   {
    "_defaultOrder": 19,
    "_isFastLaunch": false,
    "category": "General purpose",
    "gpuNum": 0,
    "hideHardwareSpecs": false,
    "memoryGiB": 384,
    "name": "ml.m5d.24xlarge",
    "vcpuNum": 96
   },
   {
    "_defaultOrder": 20,
    "_isFastLaunch": false,
    "category": "General purpose",
    "gpuNum": 0,
    "hideHardwareSpecs": true,
    "memoryGiB": 0,
    "name": "ml.geospatial.interactive",
    "supportedImageNames": [
     "sagemaker-geospatial-v1-0"
    ],
    "vcpuNum": 0
   },
   {
    "_defaultOrder": 21,
    "_isFastLaunch": true,
    "category": "Compute optimized",
    "gpuNum": 0,
    "hideHardwareSpecs": false,
    "memoryGiB": 4,
    "name": "ml.c5.large",
    "vcpuNum": 2
   },
   {
    "_defaultOrder": 22,
    "_isFastLaunch": false,
    "category": "Compute optimized",
    "gpuNum": 0,
    "hideHardwareSpecs": false,
    "memoryGiB": 8,
    "name": "ml.c5.xlarge",
    "vcpuNum": 4
   },
   {
    "_defaultOrder": 23,
    "_isFastLaunch": false,
    "category": "Compute optimized",
    "gpuNum": 0,
    "hideHardwareSpecs": false,
    "memoryGiB": 16,
    "name": "ml.c5.2xlarge",
    "vcpuNum": 8
   },
   {
    "_defaultOrder": 24,
    "_isFastLaunch": false,
    "category": "Compute optimized",
    "gpuNum": 0,
    "hideHardwareSpecs": false,
    "memoryGiB": 32,
    "name": "ml.c5.4xlarge",
    "vcpuNum": 16
   },
   {
    "_defaultOrder": 25,
    "_isFastLaunch": false,
    "category": "Compute optimized",
    "gpuNum": 0,
    "hideHardwareSpecs": false,
    "memoryGiB": 72,
    "name": "ml.c5.9xlarge",
    "vcpuNum": 36
   },
   {
    "_defaultOrder": 26,
    "_isFastLaunch": false,
    "category": "Compute optimized",
    "gpuNum": 0,
    "hideHardwareSpecs": false,
    "memoryGiB": 96,
    "name": "ml.c5.12xlarge",
    "vcpuNum": 48
   },
   {
    "_defaultOrder": 27,
    "_isFastLaunch": false,
    "category": "Compute optimized",
    "gpuNum": 0,
    "hideHardwareSpecs": false,
    "memoryGiB": 144,
    "name": "ml.c5.18xlarge",
    "vcpuNum": 72
   },
   {
    "_defaultOrder": 28,
    "_isFastLaunch": false,
    "category": "Compute optimized",
    "gpuNum": 0,
    "hideHardwareSpecs": false,
    "memoryGiB": 192,
    "name": "ml.c5.24xlarge",
    "vcpuNum": 96
   },
   {
    "_defaultOrder": 29,
    "_isFastLaunch": true,
    "category": "Accelerated computing",
    "gpuNum": 1,
    "hideHardwareSpecs": false,
    "memoryGiB": 16,
    "name": "ml.g4dn.xlarge",
    "vcpuNum": 4
   },
   {
    "_defaultOrder": 30,
    "_isFastLaunch": false,
    "category": "Accelerated computing",
    "gpuNum": 1,
    "hideHardwareSpecs": false,
    "memoryGiB": 32,
    "name": "ml.g4dn.2xlarge",
    "vcpuNum": 8
   },
   {
    "_defaultOrder": 31,
    "_isFastLaunch": false,
    "category": "Accelerated computing",
    "gpuNum": 1,
    "hideHardwareSpecs": false,
    "memoryGiB": 64,
    "name": "ml.g4dn.4xlarge",
    "vcpuNum": 16
   },
   {
    "_defaultOrder": 32,
    "_isFastLaunch": false,
    "category": "Accelerated computing",
    "gpuNum": 1,
    "hideHardwareSpecs": false,
    "memoryGiB": 128,
    "name": "ml.g4dn.8xlarge",
    "vcpuNum": 32
   },
   {
    "_defaultOrder": 33,
    "_isFastLaunch": false,
    "category": "Accelerated computing",
    "gpuNum": 4,
    "hideHardwareSpecs": false,
    "memoryGiB": 192,
    "name": "ml.g4dn.12xlarge",
    "vcpuNum": 48
   },
   {
    "_defaultOrder": 34,
    "_isFastLaunch": false,
    "category": "Accelerated computing",
    "gpuNum": 1,
    "hideHardwareSpecs": false,
    "memoryGiB": 256,
    "name": "ml.g4dn.16xlarge",
    "vcpuNum": 64
   },
   {
    "_defaultOrder": 35,
    "_isFastLaunch": false,
    "category": "Accelerated computing",
    "gpuNum": 1,
    "hideHardwareSpecs": false,
    "memoryGiB": 61,
    "name": "ml.p3.2xlarge",
    "vcpuNum": 8
   },
   {
    "_defaultOrder": 36,
    "_isFastLaunch": false,
    "category": "Accelerated computing",
    "gpuNum": 4,
    "hideHardwareSpecs": false,
    "memoryGiB": 244,
    "name": "ml.p3.8xlarge",
    "vcpuNum": 32
   },
   {
    "_defaultOrder": 37,
    "_isFastLaunch": false,
    "category": "Accelerated computing",
    "gpuNum": 8,
    "hideHardwareSpecs": false,
    "memoryGiB": 488,
    "name": "ml.p3.16xlarge",
    "vcpuNum": 64
   },
   {
    "_defaultOrder": 38,
    "_isFastLaunch": false,
    "category": "Accelerated computing",
    "gpuNum": 8,
    "hideHardwareSpecs": false,
    "memoryGiB": 768,
    "name": "ml.p3dn.24xlarge",
    "vcpuNum": 96
   },
   {
    "_defaultOrder": 39,
    "_isFastLaunch": false,
    "category": "Memory Optimized",
    "gpuNum": 0,
    "hideHardwareSpecs": false,
    "memoryGiB": 16,
    "name": "ml.r5.large",
    "vcpuNum": 2
   },
   {
    "_defaultOrder": 40,
    "_isFastLaunch": false,
    "category": "Memory Optimized",
    "gpuNum": 0,
    "hideHardwareSpecs": false,
    "memoryGiB": 32,
    "name": "ml.r5.xlarge",
    "vcpuNum": 4
   },
   {
    "_defaultOrder": 41,
    "_isFastLaunch": false,
    "category": "Memory Optimized",
    "gpuNum": 0,
    "hideHardwareSpecs": false,
    "memoryGiB": 64,
    "name": "ml.r5.2xlarge",
    "vcpuNum": 8
   },
   {
    "_defaultOrder": 42,
    "_isFastLaunch": false,
    "category": "Memory Optimized",
    "gpuNum": 0,
    "hideHardwareSpecs": false,
    "memoryGiB": 128,
    "name": "ml.r5.4xlarge",
    "vcpuNum": 16
   },
   {
    "_defaultOrder": 43,
    "_isFastLaunch": false,
    "category": "Memory Optimized",
    "gpuNum": 0,
    "hideHardwareSpecs": false,
    "memoryGiB": 256,
    "name": "ml.r5.8xlarge",
    "vcpuNum": 32
   },
   {
    "_defaultOrder": 44,
    "_isFastLaunch": false,
    "category": "Memory Optimized",
    "gpuNum": 0,
    "hideHardwareSpecs": false,
    "memoryGiB": 384,
    "name": "ml.r5.12xlarge",
    "vcpuNum": 48
   },
   {
    "_defaultOrder": 45,
    "_isFastLaunch": false,
    "category": "Memory Optimized",
    "gpuNum": 0,
    "hideHardwareSpecs": false,
    "memoryGiB": 512,
    "name": "ml.r5.16xlarge",
    "vcpuNum": 64
   },
   {
    "_defaultOrder": 46,
    "_isFastLaunch": false,
    "category": "Memory Optimized",
    "gpuNum": 0,
    "hideHardwareSpecs": false,
    "memoryGiB": 768,
    "name": "ml.r5.24xlarge",
    "vcpuNum": 96
   },
   {
    "_defaultOrder": 47,
    "_isFastLaunch": false,
    "category": "Accelerated computing",
    "gpuNum": 1,
    "hideHardwareSpecs": false,
    "memoryGiB": 16,
    "name": "ml.g5.xlarge",
    "vcpuNum": 4
   },
   {
    "_defaultOrder": 48,
    "_isFastLaunch": false,
    "category": "Accelerated computing",
    "gpuNum": 1,
    "hideHardwareSpecs": false,
    "memoryGiB": 32,
    "name": "ml.g5.2xlarge",
    "vcpuNum": 8
   },
   {
    "_defaultOrder": 49,
    "_isFastLaunch": false,
    "category": "Accelerated computing",
    "gpuNum": 1,
    "hideHardwareSpecs": false,
    "memoryGiB": 64,
    "name": "ml.g5.4xlarge",
    "vcpuNum": 16
   },
   {
    "_defaultOrder": 50,
    "_isFastLaunch": false,
    "category": "Accelerated computing",
    "gpuNum": 1,
    "hideHardwareSpecs": false,
    "memoryGiB": 128,
    "name": "ml.g5.8xlarge",
    "vcpuNum": 32
   },
   {
    "_defaultOrder": 51,
    "_isFastLaunch": false,
    "category": "Accelerated computing",
    "gpuNum": 1,
    "hideHardwareSpecs": false,
    "memoryGiB": 256,
    "name": "ml.g5.16xlarge",
    "vcpuNum": 64
   },
   {
    "_defaultOrder": 52,
    "_isFastLaunch": false,
    "category": "Accelerated computing",
    "gpuNum": 4,
    "hideHardwareSpecs": false,
    "memoryGiB": 192,
    "name": "ml.g5.12xlarge",
    "vcpuNum": 48
   },
   {
    "_defaultOrder": 53,
    "_isFastLaunch": false,
    "category": "Accelerated computing",
    "gpuNum": 4,
    "hideHardwareSpecs": false,
    "memoryGiB": 384,
    "name": "ml.g5.24xlarge",
    "vcpuNum": 96
   },
   {
    "_defaultOrder": 54,
    "_isFastLaunch": false,
    "category": "Accelerated computing",
    "gpuNum": 8,
    "hideHardwareSpecs": false,
    "memoryGiB": 768,
    "name": "ml.g5.48xlarge",
    "vcpuNum": 192
   },
   {
    "_defaultOrder": 55,
    "_isFastLaunch": false,
    "category": "Accelerated computing",
    "gpuNum": 8,
    "hideHardwareSpecs": false,
    "memoryGiB": 1152,
    "name": "ml.p4d.24xlarge",
    "vcpuNum": 96
   },
   {
    "_defaultOrder": 56,
    "_isFastLaunch": false,
    "category": "Accelerated computing",
    "gpuNum": 8,
    "hideHardwareSpecs": false,
    "memoryGiB": 1152,
    "name": "ml.p4de.24xlarge",
    "vcpuNum": 96
   },
   {
    "_defaultOrder": 57,
    "_isFastLaunch": false,
    "category": "Accelerated computing",
    "gpuNum": 0,
    "hideHardwareSpecs": false,
    "memoryGiB": 32,
    "name": "ml.trn1.2xlarge",
    "vcpuNum": 8
   },
   {
    "_defaultOrder": 58,
    "_isFastLaunch": false,
    "category": "Accelerated computing",
    "gpuNum": 0,
    "hideHardwareSpecs": false,
    "memoryGiB": 512,
    "name": "ml.trn1.32xlarge",
    "vcpuNum": 128
   },
   {
    "_defaultOrder": 59,
    "_isFastLaunch": false,
    "category": "Accelerated computing",
    "gpuNum": 0,
    "hideHardwareSpecs": false,
    "memoryGiB": 512,
    "name": "ml.trn1n.32xlarge",
    "vcpuNum": 128
   }
  ],
  "instance_type": "ml.t3.medium",
  "kernelspec": {
   "display_name": "Python 3 (Data Science 3.0)",
   "language": "python",
   "name": "python3__SAGEMAKER_INTERNAL__arn:aws:sagemaker:us-west-2:236514542706:image/sagemaker-data-science-310-v1"
  },
  "language_info": {
   "codemirror_mode": {
    "name": "ipython",
    "version": 3
   },
   "file_extension": ".py",
   "mimetype": "text/x-python",
   "name": "python",
   "nbconvert_exporter": "python",
   "pygments_lexer": "ipython3",
   "version": "3.10.6"
  }
 },
 "nbformat": 4,
 "nbformat_minor": 5
}
