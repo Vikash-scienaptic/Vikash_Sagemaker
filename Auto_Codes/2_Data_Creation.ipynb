{
 "cells": [
  {
   "cell_type": "code",
   "execution_count": 2,
   "id": "ba05ce9c-4f6a-418c-a965-10e75f028266",
   "metadata": {
    "tags": []
   },
   "outputs": [
    {
     "name": "stdout",
     "output_type": "stream",
     "text": [
      "Collecting orjson\n",
      "  Using cached orjson-3.9.15-cp310-cp310-manylinux_2_17_x86_64.manylinux2014_x86_64.whl.metadata (49 kB)\n",
      "Using cached orjson-3.9.15-cp310-cp310-manylinux_2_17_x86_64.manylinux2014_x86_64.whl (138 kB)\n",
      "Installing collected packages: orjson\n",
      "Successfully installed orjson-3.9.15\n",
      "\u001b[33mWARNING: Running pip as the 'root' user can result in broken permissions and conflicting behaviour with the system package manager. It is recommended to use a virtual environment instead: https://pip.pypa.io/warnings/venv\u001b[0m\u001b[33m\n",
      "\u001b[0m\n",
      "\u001b[1m[\u001b[0m\u001b[34;49mnotice\u001b[0m\u001b[1;39;49m]\u001b[0m\u001b[39;49m A new release of pip is available: \u001b[0m\u001b[31;49m23.3.1\u001b[0m\u001b[39;49m -> \u001b[0m\u001b[32;49m24.0\u001b[0m\n",
      "\u001b[1m[\u001b[0m\u001b[34;49mnotice\u001b[0m\u001b[1;39;49m]\u001b[0m\u001b[39;49m To update, run: \u001b[0m\u001b[32;49mpip install --upgrade pip\u001b[0m\n"
     ]
    }
   ],
   "source": [
    "!pip install orjson"
   ]
  },
  {
   "cell_type": "code",
   "execution_count": 3,
   "id": "bdc27557-407d-48cd-9d54-2d4fafc64eed",
   "metadata": {
    "tags": []
   },
   "outputs": [],
   "source": [
    "import pandas as pd\n",
    "import numpy as np\n",
    "import json\n",
    "import os\n",
    "import orjson\n",
    "import glob\n",
    "import sys\n",
    "import time\n",
    "from collections import defaultdict\n",
    "from datetime import datetime,timedelta\n",
    "import math\n",
    "from collections import Counter\n",
    "import warnings\n",
    "warnings.filterwarnings(\"ignore\")\n",
    "pd.set_option('display.max_rows',None)\n",
    "pd.set_option('display.max_columns',None)\n",
    "pd.set_option('display.max_colwidth', None)"
   ]
  },
  {
   "cell_type": "code",
   "execution_count": null,
   "id": "a3ac4cea-16b9-49c3-aec1-6b237e2f34fb",
   "metadata": {
    "tags": []
   },
   "outputs": [],
   "source": [
    "### Reading Data\n",
    "df= pd.read_csv('s3://scien-ds-sm-root-backup/home/sushil/LN_Unified_V2/Client_Data_Auto/210324_LN_V2_Auto_Dataset_With_Performance_Race_Age_and_Gender.csv')\n",
    "df.shape"
   ]
  },
  {
   "cell_type": "code",
   "execution_count": null,
   "id": "a66a5f6e-e12c-4a0e-8900-61cc4912b5fa",
   "metadata": {
    "tags": []
   },
   "outputs": [],
   "source": [
    "df[['approve_flag', 'funded_flag', 'bad_flag']].sum()"
   ]
  },
  {
   "cell_type": "code",
   "execution_count": null,
   "id": "d982325d-8680-4d46-ad49-5579233b095c",
   "metadata": {
    "tags": []
   },
   "outputs": [],
   "source": [
    "df['client'].value_counts(dropna= False)"
   ]
  },
  {
   "cell_type": "code",
   "execution_count": null,
   "id": "e319a54c-d4a6-467b-98c5-dcd3c37dc4a8",
   "metadata": {
    "tags": []
   },
   "outputs": [],
   "source": [
    "df= df[df['client']!= 'AAC'].reset_index(drop= True)\n",
    "df.shape"
   ]
  },
  {
   "cell_type": "code",
   "execution_count": null,
   "id": "9d04ce91-9478-4660-a0cf-017f25a40485",
   "metadata": {
    "tags": []
   },
   "outputs": [],
   "source": [
    "df= df[df['auto_score']>500].reset_index(drop= True)\n",
    "df.shape"
   ]
  },
  {
   "cell_type": "code",
   "execution_count": null,
   "id": "21b6f0b7-72ff-4d0f-b4de-2fa2182d8683",
   "metadata": {
    "tags": []
   },
   "outputs": [],
   "source": [
    "df['app_date']= df['app_date'].apply(lambda x: pd.to_datetime(x[:10]) if pd.isna(x)== False else x)\n",
    "df['app_date'].describe()"
   ]
  },
  {
   "cell_type": "code",
   "execution_count": 28,
   "id": "9699a783-26cc-4ec0-989b-b14547edcf98",
   "metadata": {
    "tags": []
   },
   "outputs": [],
   "source": [
    "def get_age(app_date, dob):\n",
    "#     app_date= app_date.copy()\n",
    "#     dob= dob.copy()\n",
    "    \n",
    "    if (pd.isna(app_date)== False) and (pd.isna(dob)== False):\n",
    "        \n",
    "        app_date= pd.to_datetime(app_date)\n",
    "        dob= pd.to_datetime(dob)\n",
    "        \n",
    "        if dob >= app_date:\n",
    "            dob= dob.replace(year= dob.year - 100)\n",
    "        else:\n",
    "            dob= dob\n",
    "\n",
    "        app_year, app_month, app_day= app_date.year, app_date.month, app_date.day\n",
    "        dob_year, dob_month, dob_day= dob.year, dob.month, dob.day\n",
    "        \n",
    "        age= (app_year - dob_year) + ((app_month - dob_month)/12) + ((app_day - dob_day)/365.5)\n",
    "        \n",
    "        return age\n",
    "    \n",
    "    else:\n",
    "        return np.NaN"
   ]
  },
  {
   "cell_type": "code",
   "execution_count": 29,
   "id": "b941f531-e994-4926-b937-11a304c7643a",
   "metadata": {
    "tags": []
   },
   "outputs": [
    {
     "data": {
      "text/plain": [
       "(70481, 342)"
      ]
     },
     "execution_count": 29,
     "metadata": {},
     "output_type": "execute_result"
    }
   ],
   "source": [
    "df[df['applicant_age']<0].shape"
   ]
  },
  {
   "cell_type": "code",
   "execution_count": 30,
   "id": "94f7eb03-c15e-4f39-b1e1-667e71f10f2f",
   "metadata": {
    "tags": []
   },
   "outputs": [
    {
     "data": {
      "text/html": [
       "<div>\n",
       "<style scoped>\n",
       "    .dataframe tbody tr th:only-of-type {\n",
       "        vertical-align: middle;\n",
       "    }\n",
       "\n",
       "    .dataframe tbody tr th {\n",
       "        vertical-align: top;\n",
       "    }\n",
       "\n",
       "    .dataframe thead th {\n",
       "        text-align: right;\n",
       "    }\n",
       "</style>\n",
       "<table border=\"1\" class=\"dataframe\">\n",
       "  <thead>\n",
       "    <tr style=\"text-align: right;\">\n",
       "      <th></th>\n",
       "      <th>client</th>\n",
       "      <th>applicant_age</th>\n",
       "      <th>applicant_dob</th>\n",
       "      <th>app_date</th>\n",
       "    </tr>\n",
       "  </thead>\n",
       "  <tbody>\n",
       "    <tr>\n",
       "      <th>732066</th>\n",
       "      <td>Tower</td>\n",
       "      <td>-51.609211</td>\n",
       "      <td>11/10/69</td>\n",
       "      <td>2018-03-31</td>\n",
       "    </tr>\n",
       "    <tr>\n",
       "      <th>698631</th>\n",
       "      <td>Tower</td>\n",
       "      <td>-54.105221</td>\n",
       "      <td>09/22/71</td>\n",
       "      <td>2017-08-14</td>\n",
       "    </tr>\n",
       "    <tr>\n",
       "      <th>761345</th>\n",
       "      <td>Tower</td>\n",
       "      <td>-53.961696</td>\n",
       "      <td>11/10/72</td>\n",
       "      <td>2018-11-24</td>\n",
       "    </tr>\n",
       "    <tr>\n",
       "      <th>801776</th>\n",
       "      <td>Tower</td>\n",
       "      <td>-43.789558</td>\n",
       "      <td>06/09/64</td>\n",
       "      <td>2020-08-25</td>\n",
       "    </tr>\n",
       "    <tr>\n",
       "      <th>823648</th>\n",
       "      <td>Tower</td>\n",
       "      <td>-31.659941</td>\n",
       "      <td>01/29/53</td>\n",
       "      <td>2021-06-01</td>\n",
       "    </tr>\n",
       "    <tr>\n",
       "      <th>783887</th>\n",
       "      <td>Tower</td>\n",
       "      <td>-52.980848</td>\n",
       "      <td>09/20/72</td>\n",
       "      <td>2019-09-27</td>\n",
       "    </tr>\n",
       "    <tr>\n",
       "      <th>716347</th>\n",
       "      <td>Tower</td>\n",
       "      <td>-45.777360</td>\n",
       "      <td>09/25/63</td>\n",
       "      <td>2017-12-15</td>\n",
       "    </tr>\n",
       "    <tr>\n",
       "      <th>801019</th>\n",
       "      <td>Tower</td>\n",
       "      <td>-39.866165</td>\n",
       "      <td>06/24/60</td>\n",
       "      <td>2020-08-12</td>\n",
       "    </tr>\n",
       "    <tr>\n",
       "      <th>665431</th>\n",
       "      <td>Tower</td>\n",
       "      <td>-33.857957</td>\n",
       "      <td>11/23/50</td>\n",
       "      <td>2017-01-14</td>\n",
       "    </tr>\n",
       "    <tr>\n",
       "      <th>773083</th>\n",
       "      <td>Tower</td>\n",
       "      <td>-37.295030</td>\n",
       "      <td>08/13/56</td>\n",
       "      <td>2019-04-27</td>\n",
       "    </tr>\n",
       "  </tbody>\n",
       "</table>\n",
       "</div>"
      ],
      "text/plain": [
       "       client  applicant_age applicant_dob   app_date\n",
       "732066  Tower     -51.609211      11/10/69 2018-03-31\n",
       "698631  Tower     -54.105221      09/22/71 2017-08-14\n",
       "761345  Tower     -53.961696      11/10/72 2018-11-24\n",
       "801776  Tower     -43.789558      06/09/64 2020-08-25\n",
       "823648  Tower     -31.659941      01/29/53 2021-06-01\n",
       "783887  Tower     -52.980848      09/20/72 2019-09-27\n",
       "716347  Tower     -45.777360      09/25/63 2017-12-15\n",
       "801019  Tower     -39.866165      06/24/60 2020-08-12\n",
       "665431  Tower     -33.857957      11/23/50 2017-01-14\n",
       "773083  Tower     -37.295030      08/13/56 2019-04-27"
      ]
     },
     "execution_count": 30,
     "metadata": {},
     "output_type": "execute_result"
    }
   ],
   "source": [
    "df[df['applicant_age']<0][['client', 'applicant_age', 'applicant_dob', 'app_date']].sample(10)"
   ]
  },
  {
   "cell_type": "code",
   "execution_count": 31,
   "id": "6804ec2b-7c0f-449c-b0b1-137f918a1b10",
   "metadata": {
    "tags": []
   },
   "outputs": [
    {
     "data": {
      "text/plain": [
       "count    821726.000000\n",
       "mean         42.632391\n",
       "std          14.738996\n",
       "min           0.000000\n",
       "25%          30.166667\n",
       "50%          41.937073\n",
       "75%          52.639307\n",
       "max         228.099749\n",
       "Name: applicant_age, dtype: float64"
      ]
     },
     "execution_count": 31,
     "metadata": {},
     "output_type": "execute_result"
    }
   ],
   "source": [
    "df['applicant_age']= df.apply(lambda x: get_age(x['app_date'], x['applicant_dob']) if x['applicant_age']< 0 else x['applicant_age'], axis= 1)\n",
    "df['applicant_age'].describe()"
   ]
  },
  {
   "cell_type": "code",
   "execution_count": 32,
   "id": "13c7178e-41b2-4eaa-9ce0-7988f150fa80",
   "metadata": {
    "tags": []
   },
   "outputs": [
    {
     "data": {
      "text/plain": [
       "client                         Tower\n",
       "applicant_age              48.390789\n",
       "applicant_dob               11/10/69\n",
       "app_date         2018-03-31 00:00:00\n",
       "Name: 732066, dtype: object"
      ]
     },
     "execution_count": 32,
     "metadata": {},
     "output_type": "execute_result"
    }
   ],
   "source": [
    "df.loc[732066][['client', 'applicant_age', 'applicant_dob', 'app_date']]"
   ]
  },
  {
   "cell_type": "code",
   "execution_count": 33,
   "id": "52691c41-99a7-4f89-b108-7cc85057923f",
   "metadata": {
    "tags": []
   },
   "outputs": [],
   "source": [
    "# df.to_csv('/root/Unified_LN_V2/LN_Auto_V2/Data/1_LN_Auto_All_Updated_Data_220324.csv', index= False)"
   ]
  },
  {
   "cell_type": "code",
   "execution_count": 3,
   "id": "14654426-0596-4890-9326-6258b0d1d3fb",
   "metadata": {
    "tags": []
   },
   "outputs": [
    {
     "data": {
      "text/plain": [
       "(824212, 342)"
      ]
     },
     "execution_count": 3,
     "metadata": {},
     "output_type": "execute_result"
    }
   ],
   "source": [
    "df= pd.read_csv('/root/Unified_LN_V2/LN_Auto_V2/Data/1_LN_Auto_All_Updated_Data_220324.csv')\n",
    "df.shape"
   ]
  },
  {
   "cell_type": "code",
   "execution_count": 4,
   "id": "09132b88-ee99-4c94-b3f9-3a0f8c8a1ea3",
   "metadata": {
    "tags": []
   },
   "outputs": [],
   "source": [
    "from sklearn.model_selection import train_test_split, StratifiedShuffleSplit, StratifiedGroupKFold, StratifiedKFold"
   ]
  },
  {
   "cell_type": "code",
   "execution_count": 5,
   "id": "72eabe36-0c8b-4ea2-837a-c330a89587d9",
   "metadata": {
    "tags": []
   },
   "outputs": [],
   "source": [
    "# sgkf= StratifiedGroupKFold(n_splits= 5, shuffle= True, random_state= 127)"
   ]
  },
  {
   "cell_type": "code",
   "execution_count": 18,
   "id": "0acb884c-fe3c-46c4-b635-3b3b4c378f43",
   "metadata": {
    "tags": []
   },
   "outputs": [
    {
     "data": {
      "text/plain": [
       "((700580, 342), (123632, 342))"
      ]
     },
     "execution_count": 18,
     "metadata": {},
     "output_type": "execute_result"
    }
   ],
   "source": [
    "T1,T2= train_test_split(df, test_size= 0.15, random_state= 2022)\n",
    "T1.shape, T2.shape"
   ]
  },
  {
   "cell_type": "code",
   "execution_count": 19,
   "id": "3132543a-8f0d-4646-9d07-ad934d3a8b27",
   "metadata": {
    "tags": []
   },
   "outputs": [
    {
     "data": {
      "text/plain": [
       "(approve_flag    412873.0\n",
       " funded_flag     209793.0\n",
       " bad_flag          3186.0\n",
       " dtype: float64,\n",
       " approve_flag    72832.0\n",
       " funded_flag     37121.0\n",
       " bad_flag          545.0\n",
       " dtype: float64)"
      ]
     },
     "execution_count": 19,
     "metadata": {},
     "output_type": "execute_result"
    }
   ],
   "source": [
    "T1[['approve_flag', 'funded_flag', 'bad_flag']].sum(), T2[['approve_flag', 'funded_flag', 'bad_flag']].sum()"
   ]
  },
  {
   "cell_type": "code",
   "execution_count": 20,
   "id": "8ca503fe-2c48-4ceb-9b7e-c2176364a81f",
   "metadata": {
    "tags": []
   },
   "outputs": [
    {
     "data": {
      "text/plain": [
       "(0.015186398020906322, 0.01468171654858436)"
      ]
     },
     "execution_count": 20,
     "metadata": {},
     "output_type": "execute_result"
    }
   ],
   "source": [
    "T1['bad_flag'].sum()/T1['funded_flag'].sum(), T2['bad_flag'].sum()/T2['funded_flag'].sum()"
   ]
  },
  {
   "cell_type": "code",
   "execution_count": 21,
   "id": "62576fb7-5968-48d5-adeb-20560430cbcc",
   "metadata": {
    "tags": []
   },
   "outputs": [
    {
     "data": {
      "text/plain": [
       "(0.5893302692055155, 0.5891031448168759)"
      ]
     },
     "execution_count": 21,
     "metadata": {},
     "output_type": "execute_result"
    }
   ],
   "source": [
    "T1['approve_flag'].mean(), T2['approve_flag'].mean()"
   ]
  },
  {
   "cell_type": "code",
   "execution_count": 22,
   "id": "fe2d3371-c45a-4729-92db-bc4f2da9debd",
   "metadata": {
    "tags": []
   },
   "outputs": [
    {
     "data": {
      "text/html": [
       "<div>\n",
       "<style scoped>\n",
       "    .dataframe tbody tr th:only-of-type {\n",
       "        vertical-align: middle;\n",
       "    }\n",
       "\n",
       "    .dataframe tbody tr th {\n",
       "        vertical-align: top;\n",
       "    }\n",
       "\n",
       "    .dataframe thead th {\n",
       "        text-align: right;\n",
       "    }\n",
       "</style>\n",
       "<table border=\"1\" class=\"dataframe\">\n",
       "  <thead>\n",
       "    <tr style=\"text-align: right;\">\n",
       "      <th></th>\n",
       "      <th>ttd</th>\n",
       "      <th>approved</th>\n",
       "      <th>funded</th>\n",
       "      <th>bad</th>\n",
       "      <th>avg_fico</th>\n",
       "      <th>avg_auto_score</th>\n",
       "      <th>min_app_date</th>\n",
       "      <th>max_app_date</th>\n",
       "    </tr>\n",
       "    <tr>\n",
       "      <th>client</th>\n",
       "      <th></th>\n",
       "      <th></th>\n",
       "      <th></th>\n",
       "      <th></th>\n",
       "      <th></th>\n",
       "      <th></th>\n",
       "      <th></th>\n",
       "      <th></th>\n",
       "    </tr>\n",
       "  </thead>\n",
       "  <tbody>\n",
       "    <tr>\n",
       "      <th>Arkansas</th>\n",
       "      <td>147800</td>\n",
       "      <td>87742.0</td>\n",
       "      <td>39869.0</td>\n",
       "      <td>241.0</td>\n",
       "      <td>680.155968</td>\n",
       "      <td>719.383917</td>\n",
       "      <td>2020-01-01</td>\n",
       "      <td>2022-09-29</td>\n",
       "    </tr>\n",
       "    <tr>\n",
       "      <th>Bethpage</th>\n",
       "      <td>32968</td>\n",
       "      <td>22737.0</td>\n",
       "      <td>11837.0</td>\n",
       "      <td>84.0</td>\n",
       "      <td>717.302632</td>\n",
       "      <td>719.934725</td>\n",
       "      <td>2017-01-01</td>\n",
       "      <td>2019-06-30</td>\n",
       "    </tr>\n",
       "    <tr>\n",
       "      <th>CPM</th>\n",
       "      <td>15365</td>\n",
       "      <td>11268.0</td>\n",
       "      <td>9645.0</td>\n",
       "      <td>139.0</td>\n",
       "      <td>695.021998</td>\n",
       "      <td>730.526782</td>\n",
       "      <td>2016-12-05</td>\n",
       "      <td>2022-09-29</td>\n",
       "    </tr>\n",
       "    <tr>\n",
       "      <th>GESA</th>\n",
       "      <td>80506</td>\n",
       "      <td>48766.0</td>\n",
       "      <td>28069.0</td>\n",
       "      <td>586.0</td>\n",
       "      <td>654.664366</td>\n",
       "      <td>701.111892</td>\n",
       "      <td>2018-01-01</td>\n",
       "      <td>2019-09-14</td>\n",
       "    </tr>\n",
       "    <tr>\n",
       "      <th>Guardian</th>\n",
       "      <td>82074</td>\n",
       "      <td>43060.0</td>\n",
       "      <td>27406.0</td>\n",
       "      <td>391.0</td>\n",
       "      <td>611.390135</td>\n",
       "      <td>707.273095</td>\n",
       "      <td>2019-11-05</td>\n",
       "      <td>2022-09-29</td>\n",
       "    </tr>\n",
       "    <tr>\n",
       "      <th>HFCU</th>\n",
       "      <td>14129</td>\n",
       "      <td>7406.0</td>\n",
       "      <td>2895.0</td>\n",
       "      <td>55.0</td>\n",
       "      <td>644.605763</td>\n",
       "      <td>719.001769</td>\n",
       "      <td>2018-11-27</td>\n",
       "      <td>2020-05-16</td>\n",
       "    </tr>\n",
       "    <tr>\n",
       "      <th>Hawaii</th>\n",
       "      <td>5973</td>\n",
       "      <td>2117.0</td>\n",
       "      <td>2077.0</td>\n",
       "      <td>4.0</td>\n",
       "      <td>625.453876</td>\n",
       "      <td>705.021430</td>\n",
       "      <td>2019-01-02</td>\n",
       "      <td>2022-09-29</td>\n",
       "    </tr>\n",
       "    <tr>\n",
       "      <th>NCU</th>\n",
       "      <td>2470</td>\n",
       "      <td>1631.0</td>\n",
       "      <td>873.0</td>\n",
       "      <td>12.0</td>\n",
       "      <td>588.333198</td>\n",
       "      <td>703.585020</td>\n",
       "      <td>2019-01-02</td>\n",
       "      <td>2019-11-29</td>\n",
       "    </tr>\n",
       "    <tr>\n",
       "      <th>Numerica</th>\n",
       "      <td>128156</td>\n",
       "      <td>60009.0</td>\n",
       "      <td>25791.0</td>\n",
       "      <td>419.0</td>\n",
       "      <td>646.034852</td>\n",
       "      <td>710.943296</td>\n",
       "      <td>2017-01-20</td>\n",
       "      <td>2020-01-31</td>\n",
       "    </tr>\n",
       "    <tr>\n",
       "      <th>SECU</th>\n",
       "      <td>54132</td>\n",
       "      <td>34477.0</td>\n",
       "      <td>18365.0</td>\n",
       "      <td>456.0</td>\n",
       "      <td>645.504157</td>\n",
       "      <td>717.615237</td>\n",
       "      <td>2017-01-01</td>\n",
       "      <td>2019-12-31</td>\n",
       "    </tr>\n",
       "    <tr>\n",
       "      <th>Tower</th>\n",
       "      <td>137007</td>\n",
       "      <td>93660.0</td>\n",
       "      <td>42966.0</td>\n",
       "      <td>799.0</td>\n",
       "      <td>693.850701</td>\n",
       "      <td>732.689257</td>\n",
       "      <td>2017-01-01</td>\n",
       "      <td>2022-03-23</td>\n",
       "    </tr>\n",
       "  </tbody>\n",
       "</table>\n",
       "</div>"
      ],
      "text/plain": [
       "             ttd  approved   funded    bad    avg_fico  avg_auto_score  \\\n",
       "client                                                                   \n",
       "Arkansas  147800   87742.0  39869.0  241.0  680.155968      719.383917   \n",
       "Bethpage   32968   22737.0  11837.0   84.0  717.302632      719.934725   \n",
       "CPM        15365   11268.0   9645.0  139.0  695.021998      730.526782   \n",
       "GESA       80506   48766.0  28069.0  586.0  654.664366      701.111892   \n",
       "Guardian   82074   43060.0  27406.0  391.0  611.390135      707.273095   \n",
       "HFCU       14129    7406.0   2895.0   55.0  644.605763      719.001769   \n",
       "Hawaii      5973    2117.0   2077.0    4.0  625.453876      705.021430   \n",
       "NCU         2470    1631.0    873.0   12.0  588.333198      703.585020   \n",
       "Numerica  128156   60009.0  25791.0  419.0  646.034852      710.943296   \n",
       "SECU       54132   34477.0  18365.0  456.0  645.504157      717.615237   \n",
       "Tower     137007   93660.0  42966.0  799.0  693.850701      732.689257   \n",
       "\n",
       "         min_app_date max_app_date  \n",
       "client                              \n",
       "Arkansas   2020-01-01   2022-09-29  \n",
       "Bethpage   2017-01-01   2019-06-30  \n",
       "CPM        2016-12-05   2022-09-29  \n",
       "GESA       2018-01-01   2019-09-14  \n",
       "Guardian   2019-11-05   2022-09-29  \n",
       "HFCU       2018-11-27   2020-05-16  \n",
       "Hawaii     2019-01-02   2022-09-29  \n",
       "NCU        2019-01-02   2019-11-29  \n",
       "Numerica   2017-01-20   2020-01-31  \n",
       "SECU       2017-01-01   2019-12-31  \n",
       "Tower      2017-01-01   2022-03-23  "
      ]
     },
     "execution_count": 22,
     "metadata": {},
     "output_type": "execute_result"
    }
   ],
   "source": [
    "T1.groupby('client').agg(\n",
    "    ttd= ('unique_id', 'count'),\n",
    "    approved= ('approve_flag', 'sum'),\n",
    "    funded= ('funded_flag', 'sum'),\n",
    "    bad= ('bad_flag', 'sum'),\n",
    "    avg_fico= ('fico_pb', 'mean'),\n",
    "    avg_auto_score= ('auto_score', 'mean'),\n",
    "    min_app_date=  ('app_date', 'min'),\n",
    "    max_app_date= ('app_date', 'max')\n",
    ")"
   ]
  },
  {
   "cell_type": "code",
   "execution_count": 23,
   "id": "2fc8c849-0dd5-4d17-86eb-60d509ac11a2",
   "metadata": {
    "tags": []
   },
   "outputs": [
    {
     "data": {
      "text/html": [
       "<div>\n",
       "<style scoped>\n",
       "    .dataframe tbody tr th:only-of-type {\n",
       "        vertical-align: middle;\n",
       "    }\n",
       "\n",
       "    .dataframe tbody tr th {\n",
       "        vertical-align: top;\n",
       "    }\n",
       "\n",
       "    .dataframe thead th {\n",
       "        text-align: right;\n",
       "    }\n",
       "</style>\n",
       "<table border=\"1\" class=\"dataframe\">\n",
       "  <thead>\n",
       "    <tr style=\"text-align: right;\">\n",
       "      <th></th>\n",
       "      <th>ttd</th>\n",
       "      <th>approved</th>\n",
       "      <th>funded</th>\n",
       "      <th>bad</th>\n",
       "      <th>avg_fico</th>\n",
       "      <th>avg_auto_score</th>\n",
       "      <th>min_app_date</th>\n",
       "      <th>max_app_date</th>\n",
       "    </tr>\n",
       "    <tr>\n",
       "      <th>client</th>\n",
       "      <th></th>\n",
       "      <th></th>\n",
       "      <th></th>\n",
       "      <th></th>\n",
       "      <th></th>\n",
       "      <th></th>\n",
       "      <th></th>\n",
       "      <th></th>\n",
       "    </tr>\n",
       "  </thead>\n",
       "  <tbody>\n",
       "    <tr>\n",
       "      <th>Arkansas</th>\n",
       "      <td>26286</td>\n",
       "      <td>15655.0</td>\n",
       "      <td>7081.0</td>\n",
       "      <td>50.0</td>\n",
       "      <td>681.427680</td>\n",
       "      <td>719.601080</td>\n",
       "      <td>2020-01-01</td>\n",
       "      <td>2022-09-29</td>\n",
       "    </tr>\n",
       "    <tr>\n",
       "      <th>Bethpage</th>\n",
       "      <td>5815</td>\n",
       "      <td>4027.0</td>\n",
       "      <td>2128.0</td>\n",
       "      <td>12.0</td>\n",
       "      <td>718.054710</td>\n",
       "      <td>720.316251</td>\n",
       "      <td>2017-01-02</td>\n",
       "      <td>2019-06-30</td>\n",
       "    </tr>\n",
       "    <tr>\n",
       "      <th>CPM</th>\n",
       "      <td>2640</td>\n",
       "      <td>1949.0</td>\n",
       "      <td>1685.0</td>\n",
       "      <td>21.0</td>\n",
       "      <td>697.906818</td>\n",
       "      <td>730.249621</td>\n",
       "      <td>2016-12-20</td>\n",
       "      <td>2022-09-29</td>\n",
       "    </tr>\n",
       "    <tr>\n",
       "      <th>GESA</th>\n",
       "      <td>14159</td>\n",
       "      <td>8602.0</td>\n",
       "      <td>4937.0</td>\n",
       "      <td>103.0</td>\n",
       "      <td>656.734236</td>\n",
       "      <td>701.559503</td>\n",
       "      <td>2018-01-01</td>\n",
       "      <td>2019-09-14</td>\n",
       "    </tr>\n",
       "    <tr>\n",
       "      <th>Guardian</th>\n",
       "      <td>14553</td>\n",
       "      <td>7581.0</td>\n",
       "      <td>4904.0</td>\n",
       "      <td>48.0</td>\n",
       "      <td>608.410010</td>\n",
       "      <td>707.152065</td>\n",
       "      <td>2019-11-05</td>\n",
       "      <td>2022-09-29</td>\n",
       "    </tr>\n",
       "    <tr>\n",
       "      <th>HFCU</th>\n",
       "      <td>2467</td>\n",
       "      <td>1287.0</td>\n",
       "      <td>515.0</td>\n",
       "      <td>9.0</td>\n",
       "      <td>641.759623</td>\n",
       "      <td>717.968788</td>\n",
       "      <td>2018-11-28</td>\n",
       "      <td>2020-05-16</td>\n",
       "    </tr>\n",
       "    <tr>\n",
       "      <th>Hawaii</th>\n",
       "      <td>1045</td>\n",
       "      <td>377.0</td>\n",
       "      <td>366.0</td>\n",
       "      <td>2.0</td>\n",
       "      <td>617.253589</td>\n",
       "      <td>706.092823</td>\n",
       "      <td>2019-01-02</td>\n",
       "      <td>2022-09-28</td>\n",
       "    </tr>\n",
       "    <tr>\n",
       "      <th>NCU</th>\n",
       "      <td>438</td>\n",
       "      <td>289.0</td>\n",
       "      <td>143.0</td>\n",
       "      <td>4.0</td>\n",
       "      <td>587.394977</td>\n",
       "      <td>702.121005</td>\n",
       "      <td>2019-01-02</td>\n",
       "      <td>2019-11-29</td>\n",
       "    </tr>\n",
       "    <tr>\n",
       "      <th>Numerica</th>\n",
       "      <td>22583</td>\n",
       "      <td>10562.0</td>\n",
       "      <td>4515.0</td>\n",
       "      <td>92.0</td>\n",
       "      <td>646.125305</td>\n",
       "      <td>710.990524</td>\n",
       "      <td>2017-01-20</td>\n",
       "      <td>2020-01-31</td>\n",
       "    </tr>\n",
       "    <tr>\n",
       "      <th>SECU</th>\n",
       "      <td>9599</td>\n",
       "      <td>6126.0</td>\n",
       "      <td>3322.0</td>\n",
       "      <td>76.0</td>\n",
       "      <td>640.774247</td>\n",
       "      <td>717.429524</td>\n",
       "      <td>2017-01-01</td>\n",
       "      <td>2019-12-31</td>\n",
       "    </tr>\n",
       "    <tr>\n",
       "      <th>Tower</th>\n",
       "      <td>24047</td>\n",
       "      <td>16377.0</td>\n",
       "      <td>7525.0</td>\n",
       "      <td>128.0</td>\n",
       "      <td>694.188173</td>\n",
       "      <td>733.071402</td>\n",
       "      <td>2017-01-01</td>\n",
       "      <td>2022-03-18</td>\n",
       "    </tr>\n",
       "  </tbody>\n",
       "</table>\n",
       "</div>"
      ],
      "text/plain": [
       "            ttd  approved  funded    bad    avg_fico  avg_auto_score  \\\n",
       "client                                                                 \n",
       "Arkansas  26286   15655.0  7081.0   50.0  681.427680      719.601080   \n",
       "Bethpage   5815    4027.0  2128.0   12.0  718.054710      720.316251   \n",
       "CPM        2640    1949.0  1685.0   21.0  697.906818      730.249621   \n",
       "GESA      14159    8602.0  4937.0  103.0  656.734236      701.559503   \n",
       "Guardian  14553    7581.0  4904.0   48.0  608.410010      707.152065   \n",
       "HFCU       2467    1287.0   515.0    9.0  641.759623      717.968788   \n",
       "Hawaii     1045     377.0   366.0    2.0  617.253589      706.092823   \n",
       "NCU         438     289.0   143.0    4.0  587.394977      702.121005   \n",
       "Numerica  22583   10562.0  4515.0   92.0  646.125305      710.990524   \n",
       "SECU       9599    6126.0  3322.0   76.0  640.774247      717.429524   \n",
       "Tower     24047   16377.0  7525.0  128.0  694.188173      733.071402   \n",
       "\n",
       "         min_app_date max_app_date  \n",
       "client                              \n",
       "Arkansas   2020-01-01   2022-09-29  \n",
       "Bethpage   2017-01-02   2019-06-30  \n",
       "CPM        2016-12-20   2022-09-29  \n",
       "GESA       2018-01-01   2019-09-14  \n",
       "Guardian   2019-11-05   2022-09-29  \n",
       "HFCU       2018-11-28   2020-05-16  \n",
       "Hawaii     2019-01-02   2022-09-28  \n",
       "NCU        2019-01-02   2019-11-29  \n",
       "Numerica   2017-01-20   2020-01-31  \n",
       "SECU       2017-01-01   2019-12-31  \n",
       "Tower      2017-01-01   2022-03-18  "
      ]
     },
     "execution_count": 23,
     "metadata": {},
     "output_type": "execute_result"
    }
   ],
   "source": [
    "T2.groupby('client').agg(\n",
    "    ttd= ('unique_id', 'count'),\n",
    "    approved= ('approve_flag', 'sum'),\n",
    "    funded= ('funded_flag', 'sum'),\n",
    "    bad= ('bad_flag', 'sum'),\n",
    "    avg_fico= ('fico_pb', 'mean'),\n",
    "    avg_auto_score= ('auto_score', 'mean'),\n",
    "    min_app_date=  ('app_date', 'min'),\n",
    "    max_app_date= ('app_date', 'max')\n",
    ")"
   ]
  },
  {
   "cell_type": "code",
   "execution_count": 24,
   "id": "5e1d0fb8-8c16-438e-b6d8-3194ee770fee",
   "metadata": {
    "tags": []
   },
   "outputs": [],
   "source": [
    "# T2.to_csv('/root/Unified_LN_V2/LN_Auto_V2/Data/1_LN_Auto_V2_OOT_Data_220324.csv', index= False)\n",
    "# T1.to_csv('/root/Unified_LN_V2/LN_Auto_V2/Data/1_LN_Auto_V2_DEV_Data_220324.csv', index= False)"
   ]
  },
  {
   "cell_type": "code",
   "execution_count": 25,
   "id": "a22b1ab2-1b62-4328-a1fe-d6c07cbdc93b",
   "metadata": {
    "tags": []
   },
   "outputs": [],
   "source": [
    "del df, T2"
   ]
  },
  {
   "cell_type": "markdown",
   "id": "511b4ab4-63ff-4894-baba-b338793a37a6",
   "metadata": {},
   "source": [
    "### Now Splitting the data into Train and Test"
   ]
  },
  {
   "cell_type": "code",
   "execution_count": 26,
   "id": "56d9c1a7-005f-4689-b33e-84aedc23f691",
   "metadata": {
    "tags": []
   },
   "outputs": [
    {
     "data": {
      "text/plain": [
       "(700580, 342)"
      ]
     },
     "execution_count": 26,
     "metadata": {},
     "output_type": "execute_result"
    }
   ],
   "source": [
    "T1.shape"
   ]
  },
  {
   "cell_type": "code",
   "execution_count": 27,
   "id": "a7319ce6-3a7d-4209-bc39-b74e615b04bc",
   "metadata": {
    "tags": []
   },
   "outputs": [
    {
     "data": {
      "text/plain": [
       "Borrower_Race_Prim_BISG\n",
       "white       386048\n",
       "missing     188851\n",
       "black        60934\n",
       "hispanic     55029\n",
       "api           8771\n",
       "aian           816\n",
       "multiple       128\n",
       "others           3\n",
       "Name: count, dtype: int64"
      ]
     },
     "execution_count": 27,
     "metadata": {},
     "output_type": "execute_result"
    }
   ],
   "source": [
    "T1['Borrower_Race_Prim_BISG'].value_counts(dropna= False)"
   ]
  },
  {
   "cell_type": "code",
   "execution_count": 28,
   "id": "9389122f-abe9-4fcc-8474-d5dbf6e708cc",
   "metadata": {
    "tags": []
   },
   "outputs": [
    {
     "data": {
      "text/plain": [
       "borrower_gender\n",
       "M    383258\n",
       "F    265313\n",
       "I     52009\n",
       "Name: count, dtype: int64"
      ]
     },
     "execution_count": 28,
     "metadata": {},
     "output_type": "execute_result"
    }
   ],
   "source": [
    "T1['borrower_gender'].value_counts(dropna= False)"
   ]
  },
  {
   "cell_type": "code",
   "execution_count": 29,
   "id": "3b29376a-6ea8-4af1-82ae-b065eee6468d",
   "metadata": {
    "tags": []
   },
   "outputs": [
    {
     "data": {
      "text/plain": [
       "age_cuts\n",
       "Age below 62       620625\n",
       "Age 62 and over     77829\n",
       "missing              2126\n",
       "Name: count, dtype: int64"
      ]
     },
     "execution_count": 29,
     "metadata": {},
     "output_type": "execute_result"
    }
   ],
   "source": [
    "T1['Race']= T1['Borrower_Race_Prim_BISG']\n",
    "T1['Gender']= T1['borrower_gender']\n",
    "T1['age_cuts']= np.where(T1['applicant_age'].isnull(), 'missing',\n",
    "                         np.where(T1['applicant_age']< 62, 'Age below 62',\n",
    "                                  np.where(T1['applicant_age']>= 62, 'Age 62 and over', 'missing')))\n",
    "\n",
    "T1['age_cuts'].value_counts(dropna= False)"
   ]
  },
  {
   "cell_type": "code",
   "execution_count": 30,
   "id": "874266c6-42b6-4b70-a337-9b58f0cf8f29",
   "metadata": {
    "tags": []
   },
   "outputs": [
    {
     "data": {
      "text/html": [
       "<div>\n",
       "<style scoped>\n",
       "    .dataframe tbody tr th:only-of-type {\n",
       "        vertical-align: middle;\n",
       "    }\n",
       "\n",
       "    .dataframe tbody tr th {\n",
       "        vertical-align: top;\n",
       "    }\n",
       "\n",
       "    .dataframe thead th {\n",
       "        text-align: right;\n",
       "    }\n",
       "</style>\n",
       "<table border=\"1\" class=\"dataframe\">\n",
       "  <thead>\n",
       "    <tr style=\"text-align: right;\">\n",
       "      <th></th>\n",
       "      <th>min</th>\n",
       "      <th>max</th>\n",
       "    </tr>\n",
       "    <tr>\n",
       "      <th>age_cuts</th>\n",
       "      <th></th>\n",
       "      <th></th>\n",
       "    </tr>\n",
       "  </thead>\n",
       "  <tbody>\n",
       "    <tr>\n",
       "      <th>Age 62 and over</th>\n",
       "      <td>62.0</td>\n",
       "      <td>228.099749</td>\n",
       "    </tr>\n",
       "    <tr>\n",
       "      <th>Age below 62</th>\n",
       "      <td>0.0</td>\n",
       "      <td>61.997264</td>\n",
       "    </tr>\n",
       "    <tr>\n",
       "      <th>missing</th>\n",
       "      <td>NaN</td>\n",
       "      <td>NaN</td>\n",
       "    </tr>\n",
       "  </tbody>\n",
       "</table>\n",
       "</div>"
      ],
      "text/plain": [
       "                  min         max\n",
       "age_cuts                         \n",
       "Age 62 and over  62.0  228.099749\n",
       "Age below 62      0.0   61.997264\n",
       "missing           NaN         NaN"
      ]
     },
     "execution_count": 30,
     "metadata": {},
     "output_type": "execute_result"
    }
   ],
   "source": [
    "T1.groupby('age_cuts')['applicant_age'].agg(['min', 'max'])"
   ]
  },
  {
   "cell_type": "code",
   "execution_count": 59,
   "id": "d3994360-c844-4b31-950b-8373fde908e8",
   "metadata": {
    "tags": []
   },
   "outputs": [
    {
     "data": {
      "text/plain": [
       "((490406, 345), (210174, 345))"
      ]
     },
     "execution_count": 59,
     "metadata": {},
     "output_type": "execute_result"
    }
   ],
   "source": [
    "T3,T4= train_test_split(T1, test_size= 0.3, random_state= 139)\n",
    "T3.shape, T4.shape"
   ]
  },
  {
   "cell_type": "code",
   "execution_count": 60,
   "id": "acc902e8-40f2-48e4-bf63-ff57af30f7b9",
   "metadata": {
    "tags": []
   },
   "outputs": [
    {
     "data": {
      "text/plain": [
       "(approve_flag    288932.0\n",
       " funded_flag     146675.0\n",
       " bad_flag          2221.0\n",
       " dtype: float64,\n",
       " approve_flag    123941.0\n",
       " funded_flag      63118.0\n",
       " bad_flag           965.0\n",
       " dtype: float64)"
      ]
     },
     "execution_count": 60,
     "metadata": {},
     "output_type": "execute_result"
    }
   ],
   "source": [
    "T3[['approve_flag', 'funded_flag', 'bad_flag']].sum(), T4[['approve_flag', 'funded_flag', 'bad_flag']].sum()"
   ]
  },
  {
   "cell_type": "code",
   "execution_count": 61,
   "id": "d2d10c87-e386-461e-bbf6-3d3500189f8b",
   "metadata": {
    "tags": []
   },
   "outputs": [
    {
     "data": {
      "text/plain": [
       "(0.589168974278455, 0.5897066240353231)"
      ]
     },
     "execution_count": 61,
     "metadata": {},
     "output_type": "execute_result"
    }
   ],
   "source": [
    "T3['approve_flag'].mean(), T4['approve_flag'].mean()"
   ]
  },
  {
   "cell_type": "code",
   "execution_count": 62,
   "id": "b5812fb4-6f5e-4a6b-9ad3-107bfcc66d9a",
   "metadata": {
    "tags": []
   },
   "outputs": [],
   "source": [
    "# T3.to_csv('/root/Unified_LN_V2/LN_Auto_V2/Data/1_LN_Auto_V2_Train_RI_Data_220324.csv', index= False)\n",
    "# T4.to_csv('/root/Unified_LN_V2/LN_Auto_V2/Data/1_LN_Auto_V2_Test_RI_Data_220324.csv', index= False)"
   ]
  },
  {
   "cell_type": "markdown",
   "id": "37142be1-88c6-450c-9c94-3f80290fa81a",
   "metadata": {},
   "source": [
    "### Next Part Funded"
   ]
  },
  {
   "cell_type": "code",
   "execution_count": 4,
   "id": "addc7245-e953-4538-8b55-f90d60055507",
   "metadata": {
    "tags": []
   },
   "outputs": [
    {
     "data": {
      "text/plain": [
       "((490406, 345), (210174, 345), (123632, 342))"
      ]
     },
     "execution_count": 4,
     "metadata": {},
     "output_type": "execute_result"
    }
   ],
   "source": [
    "Train = pd.read_csv('/root/Unified_LN_V2/LN_Auto_V2/Data/1_LN_Auto_V2_Train_RI_Data_220324.csv')\n",
    "Test = pd.read_csv('/root/Unified_LN_V2/LN_Auto_V2/Data/1_LN_Auto_V2_Test_RI_Data_220324.csv')\n",
    "Oot= pd.read_csv('/root/Unified_LN_V2/LN_Auto_V2/Data/1_LN_Auto_V2_OOT_Data_220324.csv')\n",
    "\n",
    "Train.shape, Test.shape, Oot.shape"
   ]
  },
  {
   "cell_type": "code",
   "execution_count": 5,
   "id": "b2805f68-595f-42e6-9a8e-888b9fbab7f5",
   "metadata": {
    "tags": []
   },
   "outputs": [
    {
     "data": {
      "text/plain": [
       "age_cuts\n",
       "Age below 62       109758\n",
       "Age 62 and over     13514\n",
       "missing               360\n",
       "Name: count, dtype: int64"
      ]
     },
     "execution_count": 5,
     "metadata": {},
     "output_type": "execute_result"
    }
   ],
   "source": [
    "Oot['Race']= Oot['Borrower_Race_Prim_BISG']\n",
    "Oot['Gender']= Oot['borrower_gender']\n",
    "Oot['age_cuts']= np.where(Oot['applicant_age'].isnull(), 'missing',\n",
    "                         np.where(Oot['applicant_age']< 62, 'Age below 62',\n",
    "                                  np.where(Oot['applicant_age']>= 62, 'Age 62 and over', 'missing')))\n",
    "\n",
    "Oot['age_cuts'].value_counts(dropna= False)"
   ]
  },
  {
   "cell_type": "code",
   "execution_count": 6,
   "id": "e63c124d-11d3-4bda-be54-5482030cf7d5",
   "metadata": {
    "tags": []
   },
   "outputs": [
    {
     "data": {
      "text/plain": [
       "(700580, 345)"
      ]
     },
     "execution_count": 6,
     "metadata": {},
     "output_type": "execute_result"
    }
   ],
   "source": [
    "TTD= pd.concat([Train, Test]).reset_index(drop= True)\n",
    "TTD.shape"
   ]
  },
  {
   "cell_type": "code",
   "execution_count": 7,
   "id": "4bcdbf90-5b6e-4965-9058-981b575ee45e",
   "metadata": {
    "tags": []
   },
   "outputs": [
    {
     "data": {
      "text/plain": [
       "(209793, 345)"
      ]
     },
     "execution_count": 7,
     "metadata": {},
     "output_type": "execute_result"
    }
   ],
   "source": [
    "funded_dev= TTD[TTD['funded_flag']== 1].reset_index(drop= True)\n",
    "funded_dev.shape"
   ]
  },
  {
   "cell_type": "code",
   "execution_count": 8,
   "id": "466e06be-5f22-4e10-8869-783afb0222d4",
   "metadata": {
    "tags": []
   },
   "outputs": [
    {
     "data": {
      "text/plain": [
       "(824212, 11)"
      ]
     },
     "execution_count": 8,
     "metadata": {},
     "output_type": "execute_result"
    }
   ],
   "source": [
    "scored= pd.read_csv('/root/Unified_LN_V2/LN_Auto_V2/Model_Data/RI_Auto_Model/250324_RI_Auto_Model_Scored_Data.csv')\n",
    "scored.shape"
   ]
  },
  {
   "cell_type": "code",
   "execution_count": 9,
   "id": "2d293d2f-1e10-46ea-80a5-d55efcffdc4f",
   "metadata": {
    "tags": []
   },
   "outputs": [],
   "source": [
    "scored['unique_id']= scored['unique_id'].astype(str)\n",
    "funded_dev['unique_id']= funded_dev['unique_id'].astype(str)"
   ]
  },
  {
   "cell_type": "code",
   "execution_count": 10,
   "id": "040c04a0-aea4-4217-93df-77e6410604fd",
   "metadata": {
    "tags": []
   },
   "outputs": [
    {
     "data": {
      "text/plain": [
       "(209793, 347)"
      ]
     },
     "execution_count": 10,
     "metadata": {},
     "output_type": "execute_result"
    }
   ],
   "source": [
    "funded_dev= funded_dev.merge(scored[['unique_id', 'client', 'p1', 'weight']], on= ['unique_id', 'client'], how= 'left')\n",
    "funded_dev.shape"
   ]
  },
  {
   "cell_type": "code",
   "execution_count": 11,
   "id": "501d3613-97a9-4ee6-99c6-de3b2e1da12f",
   "metadata": {
    "tags": []
   },
   "outputs": [
    {
     "data": {
      "text/plain": [
       "p1        0\n",
       "weight    0\n",
       "dtype: int64"
      ]
     },
     "execution_count": 11,
     "metadata": {},
     "output_type": "execute_result"
    }
   ],
   "source": [
    "funded_dev[['p1', 'weight']].isnull().sum()"
   ]
  },
  {
   "cell_type": "code",
   "execution_count": 12,
   "id": "44753364-78d7-44d0-b381-db44dffff988",
   "metadata": {
    "tags": []
   },
   "outputs": [],
   "source": [
    "funded_dev.rename(columns= {'p1': 'p1_ri'}, inplace= True)"
   ]
  },
  {
   "cell_type": "code",
   "execution_count": 13,
   "id": "b57c2bd9-2a7a-4db4-8c6d-8d8f4a99e48a",
   "metadata": {
    "tags": []
   },
   "outputs": [
    {
     "data": {
      "text/html": [
       "<div>\n",
       "<style scoped>\n",
       "    .dataframe tbody tr th:only-of-type {\n",
       "        vertical-align: middle;\n",
       "    }\n",
       "\n",
       "    .dataframe tbody tr th {\n",
       "        vertical-align: top;\n",
       "    }\n",
       "\n",
       "    .dataframe thead th {\n",
       "        text-align: right;\n",
       "    }\n",
       "</style>\n",
       "<table border=\"1\" class=\"dataframe\">\n",
       "  <thead>\n",
       "    <tr style=\"text-align: right;\">\n",
       "      <th></th>\n",
       "      <th>p1_ri</th>\n",
       "      <th>weight</th>\n",
       "    </tr>\n",
       "  </thead>\n",
       "  <tbody>\n",
       "    <tr>\n",
       "      <th>count</th>\n",
       "      <td>209793.000000</td>\n",
       "      <td>209793.000000</td>\n",
       "    </tr>\n",
       "    <tr>\n",
       "      <th>mean</th>\n",
       "      <td>0.646481</td>\n",
       "      <td>1.669757</td>\n",
       "    </tr>\n",
       "    <tr>\n",
       "      <th>std</th>\n",
       "      <td>0.151359</td>\n",
       "      <td>0.587157</td>\n",
       "    </tr>\n",
       "    <tr>\n",
       "      <th>min</th>\n",
       "      <td>0.067892</td>\n",
       "      <td>1.060974</td>\n",
       "    </tr>\n",
       "    <tr>\n",
       "      <th>25%</th>\n",
       "      <td>0.542640</td>\n",
       "      <td>1.307603</td>\n",
       "    </tr>\n",
       "    <tr>\n",
       "      <th>50%</th>\n",
       "      <td>0.672004</td>\n",
       "      <td>1.488086</td>\n",
       "    </tr>\n",
       "    <tr>\n",
       "      <th>75%</th>\n",
       "      <td>0.764758</td>\n",
       "      <td>1.842841</td>\n",
       "    </tr>\n",
       "    <tr>\n",
       "      <th>max</th>\n",
       "      <td>0.942530</td>\n",
       "      <td>14.729193</td>\n",
       "    </tr>\n",
       "  </tbody>\n",
       "</table>\n",
       "</div>"
      ],
      "text/plain": [
       "               p1_ri         weight\n",
       "count  209793.000000  209793.000000\n",
       "mean        0.646481       1.669757\n",
       "std         0.151359       0.587157\n",
       "min         0.067892       1.060974\n",
       "25%         0.542640       1.307603\n",
       "50%         0.672004       1.488086\n",
       "75%         0.764758       1.842841\n",
       "max         0.942530      14.729193"
      ]
     },
     "execution_count": 13,
     "metadata": {},
     "output_type": "execute_result"
    }
   ],
   "source": [
    "funded_dev[['p1_ri', 'weight']].describe()"
   ]
  },
  {
   "cell_type": "code",
   "execution_count": 14,
   "id": "ee4f1850-ea38-436a-9685-89be19636f30",
   "metadata": {
    "tags": []
   },
   "outputs": [],
   "source": [
    "from sklearn.model_selection import train_test_split"
   ]
  },
  {
   "cell_type": "code",
   "execution_count": 26,
   "id": "4e008f42-6943-48af-ac20-64f499275643",
   "metadata": {
    "tags": []
   },
   "outputs": [
    {
     "name": "stdout",
     "output_type": "stream",
     "text": [
      "0.015164618160770828 0.015237217579204931\n",
      "0.02135328698015847 0.02110936204633752\n"
     ]
    }
   ],
   "source": [
    "F1, F2= train_test_split(funded_dev, test_size= 0.3, random_state= 91)\n",
    "print(F1['bad_flag'].mean(), F2['bad_flag'].mean())\n",
    "print(sum(F1['bad_flag']*F1['weight'])/F1['weight'].sum(), sum(F2['bad_flag']*F2['weight'])/F2['weight'].sum())"
   ]
  },
  {
   "cell_type": "code",
   "execution_count": 27,
   "id": "850d072e-47f7-4874-a9d2-ae4b2e8ee2dd",
   "metadata": {
    "tags": []
   },
   "outputs": [
    {
     "data": {
      "text/plain": [
       "((146855, 347), (62938, 347))"
      ]
     },
     "execution_count": 27,
     "metadata": {},
     "output_type": "execute_result"
    }
   ],
   "source": [
    "F1.shape, F2.shape"
   ]
  },
  {
   "cell_type": "code",
   "execution_count": 28,
   "id": "d51e8320-4265-4548-bc56-c9e729d3a389",
   "metadata": {
    "tags": []
   },
   "outputs": [],
   "source": [
    "# F1.to_csv('/root/Unified_LN_V2/LN_Auto_V2/Data/2_LN_Auto_V2_Train_Funded_Data_250324.csv', index= False)\n",
    "# F2.to_csv('/root/Unified_LN_V2/LN_Auto_V2/Data/2_LN_Auto_V2_Test_Funded_Data_250324.csv', index= False)\n",
    "# Oot[Oot['funded_flag']== 1].to_csv('/root/Unified_LN_V2/LN_Auto_V2/Data/2_LN_Auto_V2_Oot_Funded_Data_250324.csv', index= False)"
   ]
  },
  {
   "cell_type": "code",
   "execution_count": 29,
   "id": "740f49ef-f824-4737-95ab-b520b7c227cf",
   "metadata": {
    "tags": []
   },
   "outputs": [
    {
     "data": {
      "text/plain": [
       "(37121, 345)"
      ]
     },
     "execution_count": 29,
     "metadata": {},
     "output_type": "execute_result"
    }
   ],
   "source": [
    "Oot[Oot['funded_flag']== 1].shape"
   ]
  },
  {
   "cell_type": "code",
   "execution_count": 30,
   "id": "b2321e1c-8272-4c89-8262-9a3daffb31b8",
   "metadata": {
    "tags": []
   },
   "outputs": [],
   "source": [
    "# TTD.to_csv('/root/Unified_LN_V2/LN_Auto_V2/Data/2_LN_Auto_V2_TTD_Data_250324.csv', index= False)"
   ]
  },
  {
   "cell_type": "code",
   "execution_count": null,
   "id": "2b29c468-def2-4311-8b8a-02e059d59bd4",
   "metadata": {},
   "outputs": [],
   "source": []
  }
 ],
 "metadata": {
  "availableInstances": [
   {
    "_defaultOrder": 0,
    "_isFastLaunch": true,
    "category": "General purpose",
    "gpuNum": 0,
    "hideHardwareSpecs": false,
    "memoryGiB": 4,
    "name": "ml.t3.medium",
    "vcpuNum": 2
   },
   {
    "_defaultOrder": 1,
    "_isFastLaunch": false,
    "category": "General purpose",
    "gpuNum": 0,
    "hideHardwareSpecs": false,
    "memoryGiB": 8,
    "name": "ml.t3.large",
    "vcpuNum": 2
   },
   {
    "_defaultOrder": 2,
    "_isFastLaunch": false,
    "category": "General purpose",
    "gpuNum": 0,
    "hideHardwareSpecs": false,
    "memoryGiB": 16,
    "name": "ml.t3.xlarge",
    "vcpuNum": 4
   },
   {
    "_defaultOrder": 3,
    "_isFastLaunch": false,
    "category": "General purpose",
    "gpuNum": 0,
    "hideHardwareSpecs": false,
    "memoryGiB": 32,
    "name": "ml.t3.2xlarge",
    "vcpuNum": 8
   },
   {
    "_defaultOrder": 4,
    "_isFastLaunch": true,
    "category": "General purpose",
    "gpuNum": 0,
    "hideHardwareSpecs": false,
    "memoryGiB": 8,
    "name": "ml.m5.large",
    "vcpuNum": 2
   },
   {
    "_defaultOrder": 5,
    "_isFastLaunch": false,
    "category": "General purpose",
    "gpuNum": 0,
    "hideHardwareSpecs": false,
    "memoryGiB": 16,
    "name": "ml.m5.xlarge",
    "vcpuNum": 4
   },
   {
    "_defaultOrder": 6,
    "_isFastLaunch": false,
    "category": "General purpose",
    "gpuNum": 0,
    "hideHardwareSpecs": false,
    "memoryGiB": 32,
    "name": "ml.m5.2xlarge",
    "vcpuNum": 8
   },
   {
    "_defaultOrder": 7,
    "_isFastLaunch": false,
    "category": "General purpose",
    "gpuNum": 0,
    "hideHardwareSpecs": false,
    "memoryGiB": 64,
    "name": "ml.m5.4xlarge",
    "vcpuNum": 16
   },
   {
    "_defaultOrder": 8,
    "_isFastLaunch": false,
    "category": "General purpose",
    "gpuNum": 0,
    "hideHardwareSpecs": false,
    "memoryGiB": 128,
    "name": "ml.m5.8xlarge",
    "vcpuNum": 32
   },
   {
    "_defaultOrder": 9,
    "_isFastLaunch": false,
    "category": "General purpose",
    "gpuNum": 0,
    "hideHardwareSpecs": false,
    "memoryGiB": 192,
    "name": "ml.m5.12xlarge",
    "vcpuNum": 48
   },
   {
    "_defaultOrder": 10,
    "_isFastLaunch": false,
    "category": "General purpose",
    "gpuNum": 0,
    "hideHardwareSpecs": false,
    "memoryGiB": 256,
    "name": "ml.m5.16xlarge",
    "vcpuNum": 64
   },
   {
    "_defaultOrder": 11,
    "_isFastLaunch": false,
    "category": "General purpose",
    "gpuNum": 0,
    "hideHardwareSpecs": false,
    "memoryGiB": 384,
    "name": "ml.m5.24xlarge",
    "vcpuNum": 96
   },
   {
    "_defaultOrder": 12,
    "_isFastLaunch": false,
    "category": "General purpose",
    "gpuNum": 0,
    "hideHardwareSpecs": false,
    "memoryGiB": 8,
    "name": "ml.m5d.large",
    "vcpuNum": 2
   },
   {
    "_defaultOrder": 13,
    "_isFastLaunch": false,
    "category": "General purpose",
    "gpuNum": 0,
    "hideHardwareSpecs": false,
    "memoryGiB": 16,
    "name": "ml.m5d.xlarge",
    "vcpuNum": 4
   },
   {
    "_defaultOrder": 14,
    "_isFastLaunch": false,
    "category": "General purpose",
    "gpuNum": 0,
    "hideHardwareSpecs": false,
    "memoryGiB": 32,
    "name": "ml.m5d.2xlarge",
    "vcpuNum": 8
   },
   {
    "_defaultOrder": 15,
    "_isFastLaunch": false,
    "category": "General purpose",
    "gpuNum": 0,
    "hideHardwareSpecs": false,
    "memoryGiB": 64,
    "name": "ml.m5d.4xlarge",
    "vcpuNum": 16
   },
   {
    "_defaultOrder": 16,
    "_isFastLaunch": false,
    "category": "General purpose",
    "gpuNum": 0,
    "hideHardwareSpecs": false,
    "memoryGiB": 128,
    "name": "ml.m5d.8xlarge",
    "vcpuNum": 32
   },
   {
    "_defaultOrder": 17,
    "_isFastLaunch": false,
    "category": "General purpose",
    "gpuNum": 0,
    "hideHardwareSpecs": false,
    "memoryGiB": 192,
    "name": "ml.m5d.12xlarge",
    "vcpuNum": 48
   },
   {
    "_defaultOrder": 18,
    "_isFastLaunch": false,
    "category": "General purpose",
    "gpuNum": 0,
    "hideHardwareSpecs": false,
    "memoryGiB": 256,
    "name": "ml.m5d.16xlarge",
    "vcpuNum": 64
   },
   {
    "_defaultOrder": 19,
    "_isFastLaunch": false,
    "category": "General purpose",
    "gpuNum": 0,
    "hideHardwareSpecs": false,
    "memoryGiB": 384,
    "name": "ml.m5d.24xlarge",
    "vcpuNum": 96
   },
   {
    "_defaultOrder": 20,
    "_isFastLaunch": false,
    "category": "General purpose",
    "gpuNum": 0,
    "hideHardwareSpecs": true,
    "memoryGiB": 0,
    "name": "ml.geospatial.interactive",
    "supportedImageNames": [
     "sagemaker-geospatial-v1-0"
    ],
    "vcpuNum": 0
   },
   {
    "_defaultOrder": 21,
    "_isFastLaunch": true,
    "category": "Compute optimized",
    "gpuNum": 0,
    "hideHardwareSpecs": false,
    "memoryGiB": 4,
    "name": "ml.c5.large",
    "vcpuNum": 2
   },
   {
    "_defaultOrder": 22,
    "_isFastLaunch": false,
    "category": "Compute optimized",
    "gpuNum": 0,
    "hideHardwareSpecs": false,
    "memoryGiB": 8,
    "name": "ml.c5.xlarge",
    "vcpuNum": 4
   },
   {
    "_defaultOrder": 23,
    "_isFastLaunch": false,
    "category": "Compute optimized",
    "gpuNum": 0,
    "hideHardwareSpecs": false,
    "memoryGiB": 16,
    "name": "ml.c5.2xlarge",
    "vcpuNum": 8
   },
   {
    "_defaultOrder": 24,
    "_isFastLaunch": false,
    "category": "Compute optimized",
    "gpuNum": 0,
    "hideHardwareSpecs": false,
    "memoryGiB": 32,
    "name": "ml.c5.4xlarge",
    "vcpuNum": 16
   },
   {
    "_defaultOrder": 25,
    "_isFastLaunch": false,
    "category": "Compute optimized",
    "gpuNum": 0,
    "hideHardwareSpecs": false,
    "memoryGiB": 72,
    "name": "ml.c5.9xlarge",
    "vcpuNum": 36
   },
   {
    "_defaultOrder": 26,
    "_isFastLaunch": false,
    "category": "Compute optimized",
    "gpuNum": 0,
    "hideHardwareSpecs": false,
    "memoryGiB": 96,
    "name": "ml.c5.12xlarge",
    "vcpuNum": 48
   },
   {
    "_defaultOrder": 27,
    "_isFastLaunch": false,
    "category": "Compute optimized",
    "gpuNum": 0,
    "hideHardwareSpecs": false,
    "memoryGiB": 144,
    "name": "ml.c5.18xlarge",
    "vcpuNum": 72
   },
   {
    "_defaultOrder": 28,
    "_isFastLaunch": false,
    "category": "Compute optimized",
    "gpuNum": 0,
    "hideHardwareSpecs": false,
    "memoryGiB": 192,
    "name": "ml.c5.24xlarge",
    "vcpuNum": 96
   },
   {
    "_defaultOrder": 29,
    "_isFastLaunch": true,
    "category": "Accelerated computing",
    "gpuNum": 1,
    "hideHardwareSpecs": false,
    "memoryGiB": 16,
    "name": "ml.g4dn.xlarge",
    "vcpuNum": 4
   },
   {
    "_defaultOrder": 30,
    "_isFastLaunch": false,
    "category": "Accelerated computing",
    "gpuNum": 1,
    "hideHardwareSpecs": false,
    "memoryGiB": 32,
    "name": "ml.g4dn.2xlarge",
    "vcpuNum": 8
   },
   {
    "_defaultOrder": 31,
    "_isFastLaunch": false,
    "category": "Accelerated computing",
    "gpuNum": 1,
    "hideHardwareSpecs": false,
    "memoryGiB": 64,
    "name": "ml.g4dn.4xlarge",
    "vcpuNum": 16
   },
   {
    "_defaultOrder": 32,
    "_isFastLaunch": false,
    "category": "Accelerated computing",
    "gpuNum": 1,
    "hideHardwareSpecs": false,
    "memoryGiB": 128,
    "name": "ml.g4dn.8xlarge",
    "vcpuNum": 32
   },
   {
    "_defaultOrder": 33,
    "_isFastLaunch": false,
    "category": "Accelerated computing",
    "gpuNum": 4,
    "hideHardwareSpecs": false,
    "memoryGiB": 192,
    "name": "ml.g4dn.12xlarge",
    "vcpuNum": 48
   },
   {
    "_defaultOrder": 34,
    "_isFastLaunch": false,
    "category": "Accelerated computing",
    "gpuNum": 1,
    "hideHardwareSpecs": false,
    "memoryGiB": 256,
    "name": "ml.g4dn.16xlarge",
    "vcpuNum": 64
   },
   {
    "_defaultOrder": 35,
    "_isFastLaunch": false,
    "category": "Accelerated computing",
    "gpuNum": 1,
    "hideHardwareSpecs": false,
    "memoryGiB": 61,
    "name": "ml.p3.2xlarge",
    "vcpuNum": 8
   },
   {
    "_defaultOrder": 36,
    "_isFastLaunch": false,
    "category": "Accelerated computing",
    "gpuNum": 4,
    "hideHardwareSpecs": false,
    "memoryGiB": 244,
    "name": "ml.p3.8xlarge",
    "vcpuNum": 32
   },
   {
    "_defaultOrder": 37,
    "_isFastLaunch": false,
    "category": "Accelerated computing",
    "gpuNum": 8,
    "hideHardwareSpecs": false,
    "memoryGiB": 488,
    "name": "ml.p3.16xlarge",
    "vcpuNum": 64
   },
   {
    "_defaultOrder": 38,
    "_isFastLaunch": false,
    "category": "Accelerated computing",
    "gpuNum": 8,
    "hideHardwareSpecs": false,
    "memoryGiB": 768,
    "name": "ml.p3dn.24xlarge",
    "vcpuNum": 96
   },
   {
    "_defaultOrder": 39,
    "_isFastLaunch": false,
    "category": "Memory Optimized",
    "gpuNum": 0,
    "hideHardwareSpecs": false,
    "memoryGiB": 16,
    "name": "ml.r5.large",
    "vcpuNum": 2
   },
   {
    "_defaultOrder": 40,
    "_isFastLaunch": false,
    "category": "Memory Optimized",
    "gpuNum": 0,
    "hideHardwareSpecs": false,
    "memoryGiB": 32,
    "name": "ml.r5.xlarge",
    "vcpuNum": 4
   },
   {
    "_defaultOrder": 41,
    "_isFastLaunch": false,
    "category": "Memory Optimized",
    "gpuNum": 0,
    "hideHardwareSpecs": false,
    "memoryGiB": 64,
    "name": "ml.r5.2xlarge",
    "vcpuNum": 8
   },
   {
    "_defaultOrder": 42,
    "_isFastLaunch": false,
    "category": "Memory Optimized",
    "gpuNum": 0,
    "hideHardwareSpecs": false,
    "memoryGiB": 128,
    "name": "ml.r5.4xlarge",
    "vcpuNum": 16
   },
   {
    "_defaultOrder": 43,
    "_isFastLaunch": false,
    "category": "Memory Optimized",
    "gpuNum": 0,
    "hideHardwareSpecs": false,
    "memoryGiB": 256,
    "name": "ml.r5.8xlarge",
    "vcpuNum": 32
   },
   {
    "_defaultOrder": 44,
    "_isFastLaunch": false,
    "category": "Memory Optimized",
    "gpuNum": 0,
    "hideHardwareSpecs": false,
    "memoryGiB": 384,
    "name": "ml.r5.12xlarge",
    "vcpuNum": 48
   },
   {
    "_defaultOrder": 45,
    "_isFastLaunch": false,
    "category": "Memory Optimized",
    "gpuNum": 0,
    "hideHardwareSpecs": false,
    "memoryGiB": 512,
    "name": "ml.r5.16xlarge",
    "vcpuNum": 64
   },
   {
    "_defaultOrder": 46,
    "_isFastLaunch": false,
    "category": "Memory Optimized",
    "gpuNum": 0,
    "hideHardwareSpecs": false,
    "memoryGiB": 768,
    "name": "ml.r5.24xlarge",
    "vcpuNum": 96
   },
   {
    "_defaultOrder": 47,
    "_isFastLaunch": false,
    "category": "Accelerated computing",
    "gpuNum": 1,
    "hideHardwareSpecs": false,
    "memoryGiB": 16,
    "name": "ml.g5.xlarge",
    "vcpuNum": 4
   },
   {
    "_defaultOrder": 48,
    "_isFastLaunch": false,
    "category": "Accelerated computing",
    "gpuNum": 1,
    "hideHardwareSpecs": false,
    "memoryGiB": 32,
    "name": "ml.g5.2xlarge",
    "vcpuNum": 8
   },
   {
    "_defaultOrder": 49,
    "_isFastLaunch": false,
    "category": "Accelerated computing",
    "gpuNum": 1,
    "hideHardwareSpecs": false,
    "memoryGiB": 64,
    "name": "ml.g5.4xlarge",
    "vcpuNum": 16
   },
   {
    "_defaultOrder": 50,
    "_isFastLaunch": false,
    "category": "Accelerated computing",
    "gpuNum": 1,
    "hideHardwareSpecs": false,
    "memoryGiB": 128,
    "name": "ml.g5.8xlarge",
    "vcpuNum": 32
   },
   {
    "_defaultOrder": 51,
    "_isFastLaunch": false,
    "category": "Accelerated computing",
    "gpuNum": 1,
    "hideHardwareSpecs": false,
    "memoryGiB": 256,
    "name": "ml.g5.16xlarge",
    "vcpuNum": 64
   },
   {
    "_defaultOrder": 52,
    "_isFastLaunch": false,
    "category": "Accelerated computing",
    "gpuNum": 4,
    "hideHardwareSpecs": false,
    "memoryGiB": 192,
    "name": "ml.g5.12xlarge",
    "vcpuNum": 48
   },
   {
    "_defaultOrder": 53,
    "_isFastLaunch": false,
    "category": "Accelerated computing",
    "gpuNum": 4,
    "hideHardwareSpecs": false,
    "memoryGiB": 384,
    "name": "ml.g5.24xlarge",
    "vcpuNum": 96
   },
   {
    "_defaultOrder": 54,
    "_isFastLaunch": false,
    "category": "Accelerated computing",
    "gpuNum": 8,
    "hideHardwareSpecs": false,
    "memoryGiB": 768,
    "name": "ml.g5.48xlarge",
    "vcpuNum": 192
   },
   {
    "_defaultOrder": 55,
    "_isFastLaunch": false,
    "category": "Accelerated computing",
    "gpuNum": 8,
    "hideHardwareSpecs": false,
    "memoryGiB": 1152,
    "name": "ml.p4d.24xlarge",
    "vcpuNum": 96
   },
   {
    "_defaultOrder": 56,
    "_isFastLaunch": false,
    "category": "Accelerated computing",
    "gpuNum": 8,
    "hideHardwareSpecs": false,
    "memoryGiB": 1152,
    "name": "ml.p4de.24xlarge",
    "vcpuNum": 96
   },
   {
    "_defaultOrder": 57,
    "_isFastLaunch": false,
    "category": "Accelerated computing",
    "gpuNum": 0,
    "hideHardwareSpecs": false,
    "memoryGiB": 32,
    "name": "ml.trn1.2xlarge",
    "vcpuNum": 8
   },
   {
    "_defaultOrder": 58,
    "_isFastLaunch": false,
    "category": "Accelerated computing",
    "gpuNum": 0,
    "hideHardwareSpecs": false,
    "memoryGiB": 512,
    "name": "ml.trn1.32xlarge",
    "vcpuNum": 128
   },
   {
    "_defaultOrder": 59,
    "_isFastLaunch": false,
    "category": "Accelerated computing",
    "gpuNum": 0,
    "hideHardwareSpecs": false,
    "memoryGiB": 512,
    "name": "ml.trn1n.32xlarge",
    "vcpuNum": 128
   }
  ],
  "kernelspec": {
   "display_name": "Python 3 (Data Science 3.0)",
   "language": "python",
   "name": "python3__SAGEMAKER_INTERNAL__arn:aws:sagemaker:us-west-2:236514542706:image/sagemaker-data-science-310-v1"
  },
  "language_info": {
   "codemirror_mode": {
    "name": "ipython",
    "version": 3
   },
   "file_extension": ".py",
   "mimetype": "text/x-python",
   "name": "python",
   "nbconvert_exporter": "python",
   "pygments_lexer": "ipython3",
   "version": "3.10.6"
  }
 },
 "nbformat": 4,
 "nbformat_minor": 5
}
