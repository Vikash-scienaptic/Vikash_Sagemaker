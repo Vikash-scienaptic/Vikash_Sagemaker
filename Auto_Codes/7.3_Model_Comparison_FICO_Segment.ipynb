{
 "cells": [
  {
   "cell_type": "markdown",
   "id": "33e14e95-5b40-493a-87c9-c386e328f4ce",
   "metadata": {},
   "source": [
    "### Final Results With Comparison to Different Model Performance"
   ]
  },
  {
   "cell_type": "code",
   "execution_count": 2,
   "id": "1da66cfe-494d-429f-93d0-cbc7ff894e68",
   "metadata": {
    "tags": []
   },
   "outputs": [
    {
     "name": "stdout",
     "output_type": "stream",
     "text": [
      "Requirement already satisfied: xgboost in /opt/conda/lib/python3.10/site-packages (2.0.3)\n",
      "Requirement already satisfied: numpy in /opt/conda/lib/python3.10/site-packages (from xgboost) (1.26.2)\n",
      "Requirement already satisfied: scipy in /opt/conda/lib/python3.10/site-packages (from xgboost) (1.11.4)\n",
      "\u001b[33mWARNING: Running pip as the 'root' user can result in broken permissions and conflicting behaviour with the system package manager. It is recommended to use a virtual environment instead: https://pip.pypa.io/warnings/venv\u001b[0m\u001b[33m\n",
      "\u001b[0m\n",
      "\u001b[1m[\u001b[0m\u001b[34;49mnotice\u001b[0m\u001b[1;39;49m]\u001b[0m\u001b[39;49m A new release of pip is available: \u001b[0m\u001b[31;49m23.3.1\u001b[0m\u001b[39;49m -> \u001b[0m\u001b[32;49m24.0\u001b[0m\n",
      "\u001b[1m[\u001b[0m\u001b[34;49mnotice\u001b[0m\u001b[1;39;49m]\u001b[0m\u001b[39;49m To update, run: \u001b[0m\u001b[32;49mpip install --upgrade pip\u001b[0m\n"
     ]
    }
   ],
   "source": [
    "!pip install xgboost"
   ]
  },
  {
   "cell_type": "code",
   "execution_count": 3,
   "id": "cf4a6236-d33d-4fc1-bc04-343500bd5543",
   "metadata": {
    "tags": []
   },
   "outputs": [
    {
     "name": "stdout",
     "output_type": "stream",
     "text": [
      "2.1.3\n"
     ]
    }
   ],
   "source": [
    "import warnings\n",
    "warnings.filterwarnings('ignore')\n",
    "import pandas as pd\n",
    "print(pd.__version__)\n",
    "import numpy as np\n",
    "import json\n",
    "import logging\n",
    "import xgboost as xgb\n",
    "import ast\n",
    "import itertools\n",
    "import scipy.stats as ss\n",
    "from sklearn.preprocessing import MinMaxScaler\n",
    "from scipy.stats import chi2\n",
    "import os\n",
    "import sys\n",
    "\n",
    "pd.set_option('display.max_rows',None)\n",
    "pd.set_option('display.max_columns',None)\n",
    "pd.set_option('display.max_colwidth', None)"
   ]
  },
  {
   "cell_type": "code",
   "execution_count": 4,
   "id": "56d0704b-9824-4450-948a-fd4fb63d177e",
   "metadata": {
    "tags": []
   },
   "outputs": [],
   "source": [
    "sys.path.append('/root/Unified_LN_V2/')\n",
    "from Utilities import *"
   ]
  },
  {
   "cell_type": "code",
   "execution_count": 5,
   "id": "5a303f71-dbf9-470f-9813-4fe49728b885",
   "metadata": {
    "tags": []
   },
   "outputs": [],
   "source": [
    "def air_calc_new(pred,prefix):\n",
    "    air = {}\n",
    "    target_control_dict = [\n",
    "            {'age_cuts': {\n",
    "                'target': ['Age 62 and over'],\n",
    "                'control': ['Age below 62']\n",
    "            }},\n",
    "            {'Race': {\n",
    "                'target': ['black', 'hispanic'],\n",
    "                'control': ['white']\n",
    "            }},\n",
    "            {'Race': {\n",
    "                'target': ['black'],\n",
    "                'control': ['white']\n",
    "            }},\n",
    "            {'Race': {\n",
    "                'target': ['hispanic'],\n",
    "                'control': ['white']\n",
    "            }},\n",
    "            {'Gender': {\n",
    "                'target': ['F'],\n",
    "                'control': ['M']\n",
    "            }},\n",
    "            # 'mmct_tag': {\n",
    "            #     'target': ['mmct'],\n",
    "            #     'control': ['non-mmct']\n",
    "            # }\n",
    "    ]\n",
    "\n",
    "    for var in target_control_dict:\n",
    "        for i in var:\n",
    "            target_list = var[i]['target']\n",
    "            control_list = var[i]['control']\n",
    "            p_target_list= ','.join(target_list) if (\n",
    "                (len(target_list)<= 1) and (('black' in target_list) or ('hispanic' in target_list))\n",
    "            ) else ''\n",
    "            \n",
    "            ttd_target= pred[pred[i].isin(target_list)]['con_wt'].sum()\n",
    "            approved_target= pred[pred[i].isin(target_list)]['approved'].multiply(pred[pred[i].isin(target_list)]['con_wt']).sum()\n",
    "            ttd_control= pred[pred[i].isin(control_list)]['con_wt'].sum()\n",
    "            approved_control= pred[pred[i].isin(control_list)]['approved'].multiply(pred[pred[i].isin(control_list)]['con_wt']).sum()\n",
    "            app_pct_target= round(approved_target/ttd_target, 4)\n",
    "            app_pct_control= round(approved_control/ttd_control, 4)\n",
    "            air[prefix+i+p_target_list]= [round(app_pct_target/app_pct_control, 4)]\n",
    "        \n",
    "            # print({'variable': i, 'target_list': p_target_list, 'ttd_target': ttd_target, 'ttd_control': ttd_control, \n",
    "                   # 'approved_target': approved_target, 'approved_control': approved_control})\n",
    "            \n",
    "    # print(air)\n",
    "        \n",
    "    return air"
   ]
  },
  {
   "cell_type": "code",
   "execution_count": 6,
   "id": "72544047-fb3f-45c3-b3ce-e6db94b51b27",
   "metadata": {
    "tags": []
   },
   "outputs": [],
   "source": [
    "col_tuple_pass= [\"unique_id\", 'client', \"wt2\", 'fico_pb', 'auto_score', 'approve_flag', 'funded_flag', 'bad_flag', 'Race', 'Gender', 'age_cuts']"
   ]
  },
  {
   "cell_type": "code",
   "execution_count": 7,
   "id": "7e94cfdb-f9d4-4fa3-bc76-2e9fc3b1b55d",
   "metadata": {
    "tags": []
   },
   "outputs": [],
   "source": [
    "def get_risk_rank(data, target, cols_tuple, score_col= 'p1', weight= 'RECWGT', asc= False):\n",
    "    dd = data.loc[:, cols_tuple + [score_col]]\n",
    "    # dd = pd.DataFrame(dd)\n",
    "    # dd = dd.reset_index()\n",
    "    dd['RECWGT'] = dd[\"wt2\"]\n",
    "    dd['conwt'] = 1\n",
    "    dd[target] = dd[target] \n",
    "    # pred = pd.concat([dd.loc[:, cols_tuple + ['RECWGT', 'conwt']],p],axis=1)\n",
    "    pred= dd.copy()\n",
    "    # display(pred.head())\n",
    "    print(pred[weight].sum(),((pred[weight]*pred[target]).sum()),pred[weight].max())\n",
    "\n",
    "    data_ks_cap5= rnkOrderingN(pred, target, weight, score_col, 5, asc)\n",
    "    # display(data_ks_cap5[0])\n",
    "    # print(data_ks_cap5[1])\n",
    "    # data_ks_cap10= rnkOrderingN(pred, target, weight, score_col, 10, asc)\n",
    "    # display(data_ks_cap10[0])\n",
    "    # print(data_ks_cap10[1])\n",
    "    return data_ks_cap5"
   ]
  },
  {
   "cell_type": "code",
   "execution_count": 8,
   "id": "0c176119-d996-48ed-8cad-a28fe28b0c63",
   "metadata": {
    "tags": []
   },
   "outputs": [],
   "source": [
    "def get_segment(d):\n",
    "    if (d['derogcount']> 0):\n",
    "        return 'Derog'\n",
    "    elif ((d['derogcount']== 0) and (d['assetprop']> 0)):\n",
    "        return 'Property Owner'\n",
    "    elif ((d['derogcount']== 0) and (d['assetprop']== 0)):\n",
    "        return 'Non Property Owner'\n",
    "    else:\n",
    "        return 'Missing'"
   ]
  },
  {
   "cell_type": "code",
   "execution_count": 9,
   "id": "ee0bc135-3e3d-4f6d-abec-b1e232d19b52",
   "metadata": {
    "tags": []
   },
   "outputs": [],
   "source": [
    "def Equal_Approval_Cutoff_Barsath(pred, target, score_col, asc= True):\n",
    "    pred= pred.copy()\n",
    "    actual_approved_count= pred[target].sum()\n",
    "    pred= pred.sort_values(by= [score_col], ascending= asc)\n",
    "    pred['con_wt']= 1\n",
    "    pred['cumsum']= pred['con_wt'].cumsum()\n",
    "    pred['approved']= np.where(pred['cumsum']<= actual_approved_count, 1, 0)\n",
    "    return pred #cutoff, original_dataset"
   ]
  },
  {
   "cell_type": "markdown",
   "id": "a81615f3-9438-4472-aa2f-ebdc527bddeb",
   "metadata": {},
   "source": [
    "## Reading Scored Data - Overall LDA"
   ]
  },
  {
   "cell_type": "code",
   "execution_count": 10,
   "id": "36e3c425-42cf-4a49-a444-6d3db1ed6576",
   "metadata": {
    "tags": []
   },
   "outputs": [
    {
     "data": {
      "text/plain": [
       "['With_LDA_Train_Auto_LN_V2_Scored_Data_2024-04-08.csv',\n",
       " '050424_LN_Auto_KGB_LDA_No_Segment_Hopt_4.csv',\n",
       " 'With_LDA_Oot_Auto_LN_V2_Scored_Data_2024-04-08.csv',\n",
       " 'xgbm_ln_auto_v2_hpt_best_with_lda_3.zip',\n",
       " 'With_LDA_Test_Auto_LN_V2_Scored_Data_2024-04-08.csv',\n",
       " 'With_LDA_TTD_Auto_LN_V2_Scored_Data_2024-04-08.csv']"
      ]
     },
     "execution_count": 10,
     "metadata": {},
     "output_type": "execute_result"
    }
   ],
   "source": [
    "path_overall= '/root/Unified_LN_V2/LN_Auto_V2/Model_Data/Without_LDA_Auto_LN_V2/With_LDA/Iteration_3/' #/root/Unified_LN_V2/LN_Auto_V2/Model_Data/Without_LDA_Auto_LN_V2/With_LDA/\n",
    "os.listdir(path_overall)"
   ]
  },
  {
   "cell_type": "code",
   "execution_count": 11,
   "id": "8084ef7f-3b51-4b9b-8e37-1797165a95a2",
   "metadata": {
    "tags": []
   },
   "outputs": [
    {
     "data": {
      "text/plain": [
       "((146855, 12), (62938, 12), (37121, 12), (685215, 12))"
      ]
     },
     "execution_count": 11,
     "metadata": {},
     "output_type": "execute_result"
    }
   ],
   "source": [
    "# train_scored_all= pd.read_csv(f\"{path_overall}With_LDA_Train_Auto_LN_V2_Scored_Data_2024-03-29.csv\")\n",
    "# test_scored_all= pd.read_csv(f\"{path_overall}With_LDA_Test_Auto_LN_V2_Scored_Data_2024-03-29.csv\")\n",
    "# oot_scored_all= pd.read_csv(f\"{path_overall}With_LDA_Oot_Auto_LN_V2_Scored_Data_2024-03-29.csv\")\n",
    "# ttd_scored_all= pd.read_csv(f\"{path_overall}With_LDA_TTD_Auto_LN_V2_Scored_Data_2024-03-29.csv\")\n",
    "\n",
    "# train_scored_all= pd.read_csv(f\"{path_overall}With_LDA_Train_Auto_LN_V2_Scored_Data_2024-04-02.csv\")\n",
    "# test_scored_all= pd.read_csv(f\"{path_overall}With_LDA_Test_Auto_LN_V2_Scored_Data_2024-04-02.csv\")\n",
    "# oot_scored_all= pd.read_csv(f\"{path_overall}With_LDA_Oot_Auto_LN_V2_Scored_Data_2024-04-02.csv\")\n",
    "# ttd_scored_all= pd.read_csv(f\"{path_overall}With_LDA_TTD_Auto_LN_V2_Scored_Data_2024-04-02.csv\")\n",
    "\n",
    "train_scored_all= pd.read_csv(f\"{path_overall}With_LDA_Train_Auto_LN_V2_Scored_Data_2024-04-08.csv\")\n",
    "test_scored_all= pd.read_csv(f\"{path_overall}With_LDA_Test_Auto_LN_V2_Scored_Data_2024-04-08.csv\")\n",
    "oot_scored_all= pd.read_csv(f\"{path_overall}With_LDA_Oot_Auto_LN_V2_Scored_Data_2024-04-08.csv\")\n",
    "ttd_scored_all= pd.read_csv(f\"{path_overall}With_LDA_TTD_Auto_LN_V2_Scored_Data_2024-04-08.csv\")\n",
    "\n",
    "train_scored_all.shape, test_scored_all.shape, oot_scored_all.shape, ttd_scored_all.shape"
   ]
  },
  {
   "cell_type": "code",
   "execution_count": 12,
   "id": "8c65f0ad-5611-4db2-8938-e193f011a480",
   "metadata": {
    "tags": []
   },
   "outputs": [
    {
     "data": {
      "text/plain": [
       "((246914, 12), (685215, 12), 200148.0)"
      ]
     },
     "execution_count": 12,
     "metadata": {},
     "output_type": "execute_result"
    }
   ],
   "source": [
    "funded_scored_all= pd.concat([train_scored_all, test_scored_all, oot_scored_all]).reset_index(drop= True)\n",
    "funded_scored_all.shape, ttd_scored_all.shape, ttd_scored_all['funded_flag'].sum()"
   ]
  },
  {
   "cell_type": "code",
   "execution_count": 13,
   "id": "a6852559-8d7a-49ca-b8db-47c8d9cc90df",
   "metadata": {
    "tags": []
   },
   "outputs": [],
   "source": [
    "funded_scored_all['unique_id']= funded_scored_all['unique_id'].astype(str)\n",
    "ttd_scored_all['unique_id']= ttd_scored_all['unique_id'].astype(str)"
   ]
  },
  {
   "cell_type": "code",
   "execution_count": 14,
   "id": "7bf90a97-d409-40eb-836f-d08a542e455b",
   "metadata": {
    "tags": []
   },
   "outputs": [],
   "source": [
    "funded_scored_all.rename(columns= {'p1': 'p1_overall_lda'}, inplace= True)\n",
    "ttd_scored_all.rename(columns= {'p1': 'p1_overall_lda'}, inplace= True)"
   ]
  },
  {
   "cell_type": "markdown",
   "id": "84278a3e-5234-4dbb-83e7-1aa1a21ef33e",
   "metadata": {},
   "source": [
    "### Reading V 1.5 Scored Data"
   ]
  },
  {
   "cell_type": "code",
   "execution_count": 15,
   "id": "86f12cff-9b15-4071-a42c-3832ce50a6a5",
   "metadata": {
    "tags": []
   },
   "outputs": [
    {
     "data": {
      "text/html": [
       "<div>\n",
       "<style scoped>\n",
       "    .dataframe tbody tr th:only-of-type {\n",
       "        vertical-align: middle;\n",
       "    }\n",
       "\n",
       "    .dataframe tbody tr th {\n",
       "        vertical-align: top;\n",
       "    }\n",
       "\n",
       "    .dataframe thead th {\n",
       "        text-align: right;\n",
       "    }\n",
       "</style>\n",
       "<table border=\"1\" class=\"dataframe\">\n",
       "  <thead>\n",
       "    <tr style=\"text-align: right;\">\n",
       "      <th></th>\n",
       "      <th>unique_id</th>\n",
       "      <th>client</th>\n",
       "      <th>p1_v1_5</th>\n",
       "      <th>fico_pb</th>\n",
       "      <th>dataset</th>\n",
       "    </tr>\n",
       "  </thead>\n",
       "  <tbody>\n",
       "    <tr>\n",
       "      <th>0</th>\n",
       "      <td>453208</td>\n",
       "      <td>SECU</td>\n",
       "      <td>0.053346</td>\n",
       "      <td>624.0</td>\n",
       "      <td>fico_lt_660</td>\n",
       "    </tr>\n",
       "    <tr>\n",
       "      <th>1</th>\n",
       "      <td>453394</td>\n",
       "      <td>SECU</td>\n",
       "      <td>0.064319</td>\n",
       "      <td>0.0</td>\n",
       "      <td>fico_lt_660</td>\n",
       "    </tr>\n",
       "    <tr>\n",
       "      <th>2</th>\n",
       "      <td>453515</td>\n",
       "      <td>SECU</td>\n",
       "      <td>0.086988</td>\n",
       "      <td>614.0</td>\n",
       "      <td>fico_lt_660</td>\n",
       "    </tr>\n",
       "    <tr>\n",
       "      <th>3</th>\n",
       "      <td>453555</td>\n",
       "      <td>SECU</td>\n",
       "      <td>0.035332</td>\n",
       "      <td>637.0</td>\n",
       "      <td>fico_lt_660</td>\n",
       "    </tr>\n",
       "    <tr>\n",
       "      <th>4</th>\n",
       "      <td>453594</td>\n",
       "      <td>SECU</td>\n",
       "      <td>0.094630</td>\n",
       "      <td>587.0</td>\n",
       "      <td>fico_lt_660</td>\n",
       "    </tr>\n",
       "  </tbody>\n",
       "</table>\n",
       "</div>"
      ],
      "text/plain": [
       "  unique_id client   p1_v1_5  fico_pb      dataset\n",
       "0    453208   SECU  0.053346    624.0  fico_lt_660\n",
       "1    453394   SECU  0.064319      0.0  fico_lt_660\n",
       "2    453515   SECU  0.086988    614.0  fico_lt_660\n",
       "3    453555   SECU  0.035332    637.0  fico_lt_660\n",
       "4    453594   SECU  0.094630    587.0  fico_lt_660"
      ]
     },
     "execution_count": 15,
     "metadata": {},
     "output_type": "execute_result"
    }
   ],
   "source": [
    "v15= pd.read_csv('/root/Unified_LN_V2/LN_Auto_V2/Data/040424_Auto_LN_V1_5_Scored_Data.csv')\n",
    "v15.head()"
   ]
  },
  {
   "cell_type": "code",
   "execution_count": 16,
   "id": "3999d51c-ea64-4153-8b39-f1f3002f0e00",
   "metadata": {
    "tags": []
   },
   "outputs": [
    {
     "data": {
      "text/plain": [
       "((824212, 5), (685215, 12), (246914, 12))"
      ]
     },
     "execution_count": 16,
     "metadata": {},
     "output_type": "execute_result"
    }
   ],
   "source": [
    "v15.shape, ttd_scored_all.shape, funded_scored_all.shape"
   ]
  },
  {
   "cell_type": "code",
   "execution_count": 17,
   "id": "87838280-11a7-4080-b0ce-621bcd942883",
   "metadata": {
    "tags": []
   },
   "outputs": [],
   "source": [
    "v15['unique_id']= v15['unique_id'].astype(str)"
   ]
  },
  {
   "cell_type": "code",
   "execution_count": 18,
   "id": "c73aaf8c-7b55-4356-abe5-de5b6d872ac4",
   "metadata": {
    "tags": []
   },
   "outputs": [
    {
     "name": "stdout",
     "output_type": "stream",
     "text": [
      "(685215, 12)\n"
     ]
    },
    {
     "data": {
      "text/plain": [
       "(685215, 13)"
      ]
     },
     "execution_count": 18,
     "metadata": {},
     "output_type": "execute_result"
    }
   ],
   "source": [
    "print(ttd_scored_all.shape)\n",
    "ttd_scored_all= ttd_scored_all.merge(v15[['unique_id', 'client', 'p1_v1_5']], on= ['unique_id', 'client'], how= 'left')\n",
    "ttd_scored_all.shape"
   ]
  },
  {
   "cell_type": "code",
   "execution_count": 19,
   "id": "d28f6bc7-d7e8-4942-b14e-7133112bd71d",
   "metadata": {
    "tags": []
   },
   "outputs": [
    {
     "data": {
      "text/plain": [
       "0"
      ]
     },
     "execution_count": 19,
     "metadata": {},
     "output_type": "execute_result"
    }
   ],
   "source": [
    "ttd_scored_all['p1_v1_5'].isnull().sum()"
   ]
  },
  {
   "cell_type": "code",
   "execution_count": 20,
   "id": "9168e6b1-9e06-41f1-919c-df9ff8974669",
   "metadata": {
    "tags": []
   },
   "outputs": [
    {
     "data": {
      "text/html": [
       "<div>\n",
       "<style scoped>\n",
       "    .dataframe tbody tr th:only-of-type {\n",
       "        vertical-align: middle;\n",
       "    }\n",
       "\n",
       "    .dataframe tbody tr th {\n",
       "        vertical-align: top;\n",
       "    }\n",
       "\n",
       "    .dataframe thead th {\n",
       "        text-align: right;\n",
       "    }\n",
       "</style>\n",
       "<table border=\"1\" class=\"dataframe\">\n",
       "  <thead>\n",
       "    <tr style=\"text-align: right;\">\n",
       "      <th></th>\n",
       "      <th>p1_v1_5</th>\n",
       "      <th>p1_overall_lda</th>\n",
       "    </tr>\n",
       "  </thead>\n",
       "  <tbody>\n",
       "    <tr>\n",
       "      <th>count</th>\n",
       "      <td>685215.000000</td>\n",
       "      <td>685215.000000</td>\n",
       "    </tr>\n",
       "    <tr>\n",
       "      <th>mean</th>\n",
       "      <td>0.038407</td>\n",
       "      <td>0.021863</td>\n",
       "    </tr>\n",
       "    <tr>\n",
       "      <th>std</th>\n",
       "      <td>0.032355</td>\n",
       "      <td>0.022076</td>\n",
       "    </tr>\n",
       "    <tr>\n",
       "      <th>min</th>\n",
       "      <td>0.007456</td>\n",
       "      <td>0.005289</td>\n",
       "    </tr>\n",
       "    <tr>\n",
       "      <th>25%</th>\n",
       "      <td>0.014268</td>\n",
       "      <td>0.007273</td>\n",
       "    </tr>\n",
       "    <tr>\n",
       "      <th>50%</th>\n",
       "      <td>0.025966</td>\n",
       "      <td>0.015229</td>\n",
       "    </tr>\n",
       "    <tr>\n",
       "      <th>75%</th>\n",
       "      <td>0.052640</td>\n",
       "      <td>0.024805</td>\n",
       "    </tr>\n",
       "    <tr>\n",
       "      <th>max</th>\n",
       "      <td>0.190158</td>\n",
       "      <td>0.114281</td>\n",
       "    </tr>\n",
       "  </tbody>\n",
       "</table>\n",
       "</div>"
      ],
      "text/plain": [
       "             p1_v1_5  p1_overall_lda\n",
       "count  685215.000000   685215.000000\n",
       "mean        0.038407        0.021863\n",
       "std         0.032355        0.022076\n",
       "min         0.007456        0.005289\n",
       "25%         0.014268        0.007273\n",
       "50%         0.025966        0.015229\n",
       "75%         0.052640        0.024805\n",
       "max         0.190158        0.114281"
      ]
     },
     "execution_count": 20,
     "metadata": {},
     "output_type": "execute_result"
    }
   ],
   "source": [
    "ttd_scored_all[['p1_v1_5', 'p1_overall_lda']].describe()"
   ]
  },
  {
   "cell_type": "code",
   "execution_count": 21,
   "id": "fead327c-437f-456b-b35b-5920e716f294",
   "metadata": {
    "tags": []
   },
   "outputs": [
    {
     "name": "stdout",
     "output_type": "stream",
     "text": [
      "(246914, 12)\n"
     ]
    },
    {
     "data": {
      "text/plain": [
       "((246914, 13), 0)"
      ]
     },
     "execution_count": 21,
     "metadata": {},
     "output_type": "execute_result"
    }
   ],
   "source": [
    "print(funded_scored_all.shape)\n",
    "funded_scored_all= funded_scored_all.merge(v15[['unique_id', 'client', 'p1_v1_5']], on= ['unique_id', 'client'], how= 'left')\n",
    "funded_scored_all.shape, funded_scored_all['p1_v1_5'].isnull().sum()"
   ]
  },
  {
   "cell_type": "code",
   "execution_count": 22,
   "id": "5ebc04e3-e16f-4249-8d38-e96c33e34772",
   "metadata": {
    "tags": []
   },
   "outputs": [],
   "source": [
    "# rnkOrderingN(funded_scored_all[~(funded_scored_all['fico_pb']>= 740)], 'bad_flag', None, 'p1_overall_lda', 5)"
   ]
  },
  {
   "cell_type": "code",
   "execution_count": 23,
   "id": "0b71d2ea-4f14-485f-ac59-97df0bc753ef",
   "metadata": {
    "tags": []
   },
   "outputs": [],
   "source": [
    "# rnkOrderingN(funded_scored_all[~(funded_scored_all['fico_pb']>= 740)], 'bad_flag', None, 'p1_v1_5', 5)"
   ]
  },
  {
   "cell_type": "markdown",
   "id": "57ccee4b-ac85-4dab-bc08-35599f08a35b",
   "metadata": {},
   "source": [
    "#### Reading FICO Segment Data"
   ]
  },
  {
   "cell_type": "code",
   "execution_count": 24,
   "id": "ccb3f8e3-d06a-4d1b-9e04-3679b57b7463",
   "metadata": {
    "tags": []
   },
   "outputs": [
    {
     "data": {
      "text/plain": [
       "['FICO_lt_660_050424_LN_Auto_KGB_LDA_Hopt_2.csv',\n",
       " 'Mono_Data',\n",
       " 'Data',\n",
       " '.ipynb_checkpoints',\n",
       " 'FICO_lt_660_Test_Auto_LN_V2_Scored_Data_2024-04-08.csv',\n",
       " 'xgbm_ln_auto_v2_hpt_best_FICO_lt_660.zip',\n",
       " 'FICO_lt_660_TTD_Auto_LN_V2_Scored_Data_2024-04-08.csv',\n",
       " 'FICO_lt_660_050424_LN_Auto_KGB_LDA_Hopt_3.csv',\n",
       " 'FICO_lt_660_Oot_Auto_LN_V2_Scored_Data_2024-04-08.csv',\n",
       " 'FICO_lt_660_Train_Auto_LN_V2_Scored_Data_2024-04-08.csv',\n",
       " 'FICO_lt_660_030424_LN_Auto_KGB_LDA_Hopt_1.csv']"
      ]
     },
     "execution_count": 24,
     "metadata": {},
     "output_type": "execute_result"
    }
   ],
   "source": [
    "path_owner= '/root/Unified_LN_V2/LN_Auto_V2/Model_Data/Auto_FICO_lt_660_Model/'\n",
    "os.listdir(path_owner)"
   ]
  },
  {
   "cell_type": "code",
   "execution_count": 25,
   "id": "086901b0-234a-4e89-82f6-bf6b48a10764",
   "metadata": {
    "tags": []
   },
   "outputs": [
    {
     "data": {
      "text/plain": [
       "((26240, 12), (11247, 12), (6668, 12), (259792, 12))"
      ]
     },
     "execution_count": 25,
     "metadata": {},
     "output_type": "execute_result"
    }
   ],
   "source": [
    "train_scored_owner= pd.read_csv(f'{path_owner}FICO_lt_660_Train_Auto_LN_V2_Scored_Data_2024-04-08.csv')\n",
    "test_scored_owner= pd.read_csv(f'{path_owner}FICO_lt_660_Test_Auto_LN_V2_Scored_Data_2024-04-08.csv')\n",
    "oot_scored_owner= pd.read_csv(f'{path_owner}FICO_lt_660_Oot_Auto_LN_V2_Scored_Data_2024-04-08.csv')\n",
    "ttd_scored_owner= pd.read_csv(f'{path_owner}FICO_lt_660_TTD_Auto_LN_V2_Scored_Data_2024-04-08.csv')\n",
    "train_scored_owner.shape, test_scored_owner.shape, oot_scored_owner.shape, ttd_scored_owner.shape"
   ]
  },
  {
   "cell_type": "code",
   "execution_count": 26,
   "id": "4019e213-5183-45de-b5bb-e259a39964e9",
   "metadata": {
    "tags": []
   },
   "outputs": [],
   "source": [
    "train_scored_owner['unique_id']= train_scored_owner['unique_id'].astype(str)\n",
    "test_scored_owner['unique_id']= test_scored_owner['unique_id'].astype(str)\n",
    "oot_scored_owner['unique_id']= oot_scored_owner['unique_id'].astype(str)\n",
    "ttd_scored_owner['unique_id']= ttd_scored_owner['unique_id'].astype(str)"
   ]
  },
  {
   "cell_type": "code",
   "execution_count": 27,
   "id": "85c4294e-6b1d-4fea-aef9-614538c5c9ac",
   "metadata": {
    "tags": []
   },
   "outputs": [],
   "source": [
    "train_scored_owner['dataset']= 'FICO_LT_660'\n",
    "test_scored_owner['dataset']= 'FICO_LT_660'\n",
    "oot_scored_owner['dataset']= 'FICO_LT_660'\n",
    "ttd_scored_owner['dataset']= 'FICO_LT_660'"
   ]
  },
  {
   "cell_type": "markdown",
   "id": "3a2e2aa6-a61f-4a24-9aa1-7109613a019f",
   "metadata": {},
   "source": [
    "#### Reading 660-740"
   ]
  },
  {
   "cell_type": "code",
   "execution_count": 28,
   "id": "e2db9ed8-e127-47e6-acc5-e2c9cf6758d5",
   "metadata": {
    "tags": []
   },
   "outputs": [
    {
     "data": {
      "text/plain": [
       "['FICO_660_740_TTD_Auto_LN_V2_Scored_Data_2024-04-08.csv',\n",
       " 'xgbm_ln_auto_v2_hpt_best_FICO_660_740.zip',\n",
       " 'FICO_660_740_Test_Auto_LN_V2_Scored_Data_2024-04-08.csv',\n",
       " 'Mono_Data',\n",
       " 'Data',\n",
       " 'FICO_660_740_Train_Auto_LN_V2_Scored_Data_2024-04-08.csv',\n",
       " 'FICO_660_740_030424_LN_Auto_KGB_LDA_Hopt_1.csv',\n",
       " '.ipynb_checkpoints',\n",
       " 'FICO_660_740_Oot_Auto_LN_V2_Scored_Data_2024-04-08.csv',\n",
       " 'FICO_660_740_050424_LN_Auto_KGB_LDA_Hopt_2.csv']"
      ]
     },
     "execution_count": 28,
     "metadata": {},
     "output_type": "execute_result"
    }
   ],
   "source": [
    "path_non_owner= '/root/Unified_LN_V2/LN_Auto_V2/Model_Data/Auto_FICO_660_740_Model/'\n",
    "os.listdir(path_non_owner)"
   ]
  },
  {
   "cell_type": "code",
   "execution_count": 29,
   "id": "637b9d50-75b3-44ff-9aca-f33172794cbb",
   "metadata": {
    "tags": []
   },
   "outputs": [
    {
     "data": {
      "text/plain": [
       "((53526, 12), (22940, 12), (13665, 12), (228747, 12))"
      ]
     },
     "execution_count": 29,
     "metadata": {},
     "output_type": "execute_result"
    }
   ],
   "source": [
    "train_scored_nonowner= pd.read_csv(f'{path_non_owner}FICO_660_740_Train_Auto_LN_V2_Scored_Data_2024-04-08.csv')\n",
    "test_scored_nonowner= pd.read_csv(f'{path_non_owner}FICO_660_740_Test_Auto_LN_V2_Scored_Data_2024-04-08.csv')\n",
    "oot_scored_nonowner= pd.read_csv(f'{path_non_owner}FICO_660_740_Oot_Auto_LN_V2_Scored_Data_2024-04-08.csv')\n",
    "ttd_scored_nonowner= pd.read_csv(f'{path_non_owner}FICO_660_740_TTD_Auto_LN_V2_Scored_Data_2024-04-08.csv')\n",
    "train_scored_nonowner.shape, test_scored_nonowner.shape, oot_scored_nonowner.shape, ttd_scored_nonowner.shape"
   ]
  },
  {
   "cell_type": "code",
   "execution_count": 30,
   "id": "58553dd8-37a1-4b8a-bbac-abc09679613c",
   "metadata": {
    "tags": []
   },
   "outputs": [],
   "source": [
    "train_scored_nonowner['unique_id']= train_scored_nonowner['unique_id'].astype(str)\n",
    "test_scored_nonowner['unique_id']= test_scored_nonowner['unique_id'].astype(str)\n",
    "oot_scored_nonowner['unique_id']= oot_scored_nonowner['unique_id'].astype(str)\n",
    "ttd_scored_nonowner['unique_id']= ttd_scored_nonowner['unique_id'].astype(str)"
   ]
  },
  {
   "cell_type": "code",
   "execution_count": 31,
   "id": "e57c5649-574c-47b9-ad2b-39a2a4f10e62",
   "metadata": {
    "tags": []
   },
   "outputs": [],
   "source": [
    "train_scored_nonowner['dataset']= 'FICO_660_740'\n",
    "test_scored_nonowner['dataset']= 'FICO_660_740'\n",
    "oot_scored_nonowner['dataset']= 'FICO_660_740'\n",
    "ttd_scored_nonowner['dataset']= 'FICO_660_740'"
   ]
  },
  {
   "cell_type": "code",
   "execution_count": 32,
   "id": "0af0c17e-da6d-4d9f-9497-b9e40b33ac35",
   "metadata": {
    "tags": []
   },
   "outputs": [
    {
     "data": {
      "text/plain": [
       "((79766, 13), (34187, 13), (20333, 13), (488539, 13))"
      ]
     },
     "execution_count": 32,
     "metadata": {},
     "output_type": "execute_result"
    }
   ],
   "source": [
    "train_ono= pd.concat([train_scored_owner, train_scored_nonowner]).reset_index(drop= True)\n",
    "test_ono= pd.concat([test_scored_owner, test_scored_nonowner]).reset_index(drop= True)\n",
    "oot_ono= pd.concat([oot_scored_owner, oot_scored_nonowner]).reset_index(drop= True)\n",
    "ttd_ono= pd.concat([ttd_scored_owner, ttd_scored_nonowner]).reset_index(drop= True)\n",
    "train_ono.shape, test_ono.shape, oot_ono.shape, ttd_ono.shape"
   ]
  },
  {
   "cell_type": "code",
   "execution_count": 33,
   "id": "002cbaae-1f45-49ce-8145-836ccd5d8085",
   "metadata": {
    "tags": []
   },
   "outputs": [
    {
     "name": "stdout",
     "output_type": "stream",
     "text": [
      "dataset\n",
      "FICO_660_740    53526\n",
      "FICO_LT_660     26240\n",
      "Name: count, dtype: int64 (26240, 13) (53526, 13)\n",
      "dataset\n",
      "FICO_660_740    22940\n",
      "FICO_LT_660     11247\n",
      "Name: count, dtype: int64 (11247, 13) (22940, 13)\n",
      "dataset\n",
      "FICO_660_740    13665\n",
      "FICO_LT_660      6668\n",
      "Name: count, dtype: int64 (6668, 13) (13665, 13)\n",
      "dataset\n",
      "FICO_LT_660     259792\n",
      "FICO_660_740    228747\n",
      "Name: count, dtype: int64 (259792, 13) (228747, 13)\n"
     ]
    }
   ],
   "source": [
    "print(train_ono['dataset'].value_counts(dropna= False), train_scored_owner.shape, train_scored_nonowner.shape)\n",
    "print(test_ono['dataset'].value_counts(dropna= False), test_scored_owner.shape, test_scored_nonowner.shape)\n",
    "print(oot_ono['dataset'].value_counts(dropna= False), oot_scored_owner.shape, oot_scored_nonowner.shape)\n",
    "print(ttd_ono['dataset'].value_counts(dropna= False), ttd_scored_owner.shape, ttd_scored_nonowner.shape)"
   ]
  },
  {
   "cell_type": "code",
   "execution_count": 34,
   "id": "55018515-76d7-462f-8a1c-a36a5a938269",
   "metadata": {
    "tags": []
   },
   "outputs": [],
   "source": [
    "del train_scored_all, train_scored_nonowner, train_scored_owner\n",
    "del test_scored_all, test_scored_nonowner, test_scored_owner\n",
    "del oot_scored_all, oot_scored_nonowner, oot_scored_owner\n",
    "del ttd_scored_nonowner, ttd_scored_owner"
   ]
  },
  {
   "cell_type": "code",
   "execution_count": 35,
   "id": "d892c395-2c1f-45c5-9ccb-84b3fd8beb94",
   "metadata": {
    "tags": []
   },
   "outputs": [
    {
     "data": {
      "text/plain": [
       "0"
      ]
     },
     "execution_count": 35,
     "metadata": {},
     "output_type": "execute_result"
    }
   ],
   "source": [
    "import gc\n",
    "gc.collect()"
   ]
  },
  {
   "cell_type": "markdown",
   "id": "3ec51ca2-c17e-4ab0-8dab-b9847469aaaa",
   "metadata": {},
   "source": [
    "### Merging p1-overall"
   ]
  },
  {
   "cell_type": "code",
   "execution_count": 36,
   "id": "a6160e1e-4689-4f5a-bd80-aa41132cce00",
   "metadata": {
    "tags": []
   },
   "outputs": [
    {
     "name": "stdout",
     "output_type": "stream",
     "text": [
      "(79766, 13)\n",
      "(79766, 15)\n",
      "p1                0\n",
      "p1_overall_lda    0\n",
      "p1_v1_5           0\n",
      "dtype: int64\n",
      "(34187, 13)\n",
      "(34187, 15)\n",
      "p1                0\n",
      "p1_overall_lda    0\n",
      "p1_v1_5           0\n",
      "dtype: int64\n",
      "(20333, 13)\n",
      "(20333, 15)\n",
      "p1                0\n",
      "p1_overall_lda    0\n",
      "p1_v1_5           0\n",
      "dtype: int64\n",
      "(488539, 13)\n",
      "(488539, 15)\n",
      "p1                0\n",
      "p1_overall_lda    0\n",
      "p1_v1_5           0\n",
      "dtype: int64\n"
     ]
    }
   ],
   "source": [
    "print(train_ono.shape)\n",
    "train_ono= train_ono.merge(funded_scored_all[['unique_id', 'client', 'p1_overall_lda', 'p1_v1_5']], on= ['unique_id', 'client'], how= 'left')\n",
    "print(train_ono.shape)\n",
    "print(train_ono[['p1', 'p1_overall_lda', 'p1_v1_5']].isnull().sum())\n",
    "\n",
    "print(test_ono.shape)\n",
    "test_ono= test_ono.merge(funded_scored_all[['unique_id', 'client', 'p1_overall_lda', 'p1_v1_5']], on= ['unique_id', 'client'], how= 'left')\n",
    "print(test_ono.shape)\n",
    "print(test_ono[['p1', 'p1_overall_lda', 'p1_v1_5']].isnull().sum())\n",
    "\n",
    "print(oot_ono.shape)\n",
    "oot_ono= oot_ono.merge(funded_scored_all[['unique_id', 'client', 'p1_overall_lda', 'p1_v1_5']], on= ['unique_id', 'client'], how= 'left')\n",
    "print(oot_ono.shape)\n",
    "print(oot_ono[['p1', 'p1_overall_lda', 'p1_v1_5']].isnull().sum())\n",
    "\n",
    "print(ttd_ono.shape)\n",
    "ttd_ono= ttd_ono.merge(ttd_scored_all[['unique_id', 'client', 'p1_overall_lda', 'p1_v1_5']], on= ['unique_id', 'client'], how= 'left')\n",
    "print(ttd_ono.shape)\n",
    "print(ttd_ono[['p1', 'p1_overall_lda', 'p1_v1_5']].isnull().sum())"
   ]
  },
  {
   "cell_type": "code",
   "execution_count": 37,
   "id": "52e0909b-591e-4bc2-8b68-32a10accdf7e",
   "metadata": {
    "tags": []
   },
   "outputs": [
    {
     "data": {
      "text/plain": [
       "(                  p1  p1_overall_lda        p1_v1_5\n",
       " count  488539.000000   488539.000000  488539.000000\n",
       " mean        0.036216        0.025858       0.047088\n",
       " std         0.029825        0.024149       0.034185\n",
       " min         0.003063        0.005289       0.007456\n",
       " 25%         0.012328        0.008925       0.020267\n",
       " 50%         0.027645        0.018214       0.037432\n",
       " 75%         0.051672        0.028622       0.064244\n",
       " max         0.232617        0.114281       0.190158,\n",
       "                  p1  p1_overall_lda       p1_v1_5\n",
       " count  79766.000000    79766.000000  79766.000000\n",
       " mean       0.026323        0.021353      0.036112\n",
       " std        0.024877        0.020708      0.029133\n",
       " min        0.003063        0.005289      0.007456\n",
       " 25%        0.008373        0.007453      0.015088\n",
       " 50%        0.017102        0.016376      0.025590\n",
       " 75%        0.036325        0.024709      0.048128\n",
       " max        0.214624        0.114281      0.188945,\n",
       "                  p1  p1_overall_lda       p1_v1_5\n",
       " count  34187.000000    34187.000000  34187.000000\n",
       " mean       0.026264        0.021318      0.036027\n",
       " std        0.024743        0.020611      0.028849\n",
       " min        0.003346        0.005289      0.007456\n",
       " 25%        0.008354        0.007441      0.015076\n",
       " 50%        0.017153        0.016376      0.025565\n",
       " 75%        0.036509        0.024709      0.048152\n",
       " max        0.232617        0.114281      0.188945,\n",
       "                  p1  p1_overall_lda       p1_v1_5\n",
       " count  20333.000000    20333.000000  20333.000000\n",
       " mean       0.026415        0.021460      0.036169\n",
       " std        0.025147        0.021020      0.029441\n",
       " min        0.003063        0.005289      0.007456\n",
       " 25%        0.008373        0.007453      0.014998\n",
       " 50%        0.016905        0.016376      0.025372\n",
       " 75%        0.036601        0.024709      0.047904\n",
       " max        0.188358        0.114281      0.185110)"
      ]
     },
     "execution_count": 37,
     "metadata": {},
     "output_type": "execute_result"
    }
   ],
   "source": [
    "ttd_ono[['p1', 'p1_overall_lda', 'p1_v1_5']].describe(), train_ono[['p1', 'p1_overall_lda', 'p1_v1_5']].describe(), test_ono[['p1', 'p1_overall_lda', 'p1_v1_5']].describe(), oot_ono[['p1', 'p1_overall_lda', 'p1_v1_5']].describe()"
   ]
  },
  {
   "cell_type": "code",
   "execution_count": 38,
   "id": "859b31d5-fc92-4fd7-be76-4ee791bc82ec",
   "metadata": {
    "tags": []
   },
   "outputs": [
    {
     "data": {
      "text/html": [
       "<div>\n",
       "<style scoped>\n",
       "    .dataframe tbody tr th:only-of-type {\n",
       "        vertical-align: middle;\n",
       "    }\n",
       "\n",
       "    .dataframe tbody tr th {\n",
       "        vertical-align: top;\n",
       "    }\n",
       "\n",
       "    .dataframe thead tr th {\n",
       "        text-align: left;\n",
       "    }\n",
       "</style>\n",
       "<table border=\"1\" class=\"dataframe\">\n",
       "  <thead>\n",
       "    <tr>\n",
       "      <th>dataset</th>\n",
       "      <th colspan=\"8\" halign=\"left\">FICO_660_740</th>\n",
       "      <th colspan=\"8\" halign=\"left\">FICO_LT_660</th>\n",
       "    </tr>\n",
       "    <tr>\n",
       "      <th></th>\n",
       "      <th>count</th>\n",
       "      <th>mean</th>\n",
       "      <th>std</th>\n",
       "      <th>min</th>\n",
       "      <th>25%</th>\n",
       "      <th>50%</th>\n",
       "      <th>75%</th>\n",
       "      <th>max</th>\n",
       "      <th>count</th>\n",
       "      <th>mean</th>\n",
       "      <th>std</th>\n",
       "      <th>min</th>\n",
       "      <th>25%</th>\n",
       "      <th>50%</th>\n",
       "      <th>75%</th>\n",
       "      <th>max</th>\n",
       "    </tr>\n",
       "  </thead>\n",
       "  <tbody>\n",
       "    <tr>\n",
       "      <th>p1</th>\n",
       "      <td>53526.0</td>\n",
       "      <td>0.013589</td>\n",
       "      <td>0.009805</td>\n",
       "      <td>0.003063</td>\n",
       "      <td>0.006863</td>\n",
       "      <td>0.010642</td>\n",
       "      <td>0.017309</td>\n",
       "      <td>0.102884</td>\n",
       "      <td>26240.0</td>\n",
       "      <td>0.052299</td>\n",
       "      <td>0.026071</td>\n",
       "      <td>0.019454</td>\n",
       "      <td>0.032982</td>\n",
       "      <td>0.046852</td>\n",
       "      <td>0.064449</td>\n",
       "      <td>0.214624</td>\n",
       "    </tr>\n",
       "    <tr>\n",
       "      <th>p1_overall_lda</th>\n",
       "      <td>53526.0</td>\n",
       "      <td>0.017774</td>\n",
       "      <td>0.017027</td>\n",
       "      <td>0.005289</td>\n",
       "      <td>0.007080</td>\n",
       "      <td>0.012634</td>\n",
       "      <td>0.021837</td>\n",
       "      <td>0.114281</td>\n",
       "      <td>26240.0</td>\n",
       "      <td>0.028653</td>\n",
       "      <td>0.025155</td>\n",
       "      <td>0.005289</td>\n",
       "      <td>0.012432</td>\n",
       "      <td>0.020237</td>\n",
       "      <td>0.030570</td>\n",
       "      <td>0.114281</td>\n",
       "    </tr>\n",
       "    <tr>\n",
       "      <th>p1_v1_5</th>\n",
       "      <td>53526.0</td>\n",
       "      <td>0.022418</td>\n",
       "      <td>0.014222</td>\n",
       "      <td>0.007456</td>\n",
       "      <td>0.012809</td>\n",
       "      <td>0.018149</td>\n",
       "      <td>0.027091</td>\n",
       "      <td>0.160300</td>\n",
       "      <td>26240.0</td>\n",
       "      <td>0.064044</td>\n",
       "      <td>0.031699</td>\n",
       "      <td>0.020207</td>\n",
       "      <td>0.040836</td>\n",
       "      <td>0.055724</td>\n",
       "      <td>0.081057</td>\n",
       "      <td>0.188945</td>\n",
       "    </tr>\n",
       "  </tbody>\n",
       "</table>\n",
       "</div>"
      ],
      "text/plain": [
       "dataset        FICO_660_740                                                    \\\n",
       "                      count      mean       std       min       25%       50%   \n",
       "p1                  53526.0  0.013589  0.009805  0.003063  0.006863  0.010642   \n",
       "p1_overall_lda      53526.0  0.017774  0.017027  0.005289  0.007080  0.012634   \n",
       "p1_v1_5             53526.0  0.022418  0.014222  0.007456  0.012809  0.018149   \n",
       "\n",
       "dataset                            FICO_LT_660                                \\\n",
       "                     75%       max       count      mean       std       min   \n",
       "p1              0.017309  0.102884     26240.0  0.052299  0.026071  0.019454   \n",
       "p1_overall_lda  0.021837  0.114281     26240.0  0.028653  0.025155  0.005289   \n",
       "p1_v1_5         0.027091  0.160300     26240.0  0.064044  0.031699  0.020207   \n",
       "\n",
       "dataset                                                 \n",
       "                     25%       50%       75%       max  \n",
       "p1              0.032982  0.046852  0.064449  0.214624  \n",
       "p1_overall_lda  0.012432  0.020237  0.030570  0.114281  \n",
       "p1_v1_5         0.040836  0.055724  0.081057  0.188945  "
      ]
     },
     "execution_count": 38,
     "metadata": {},
     "output_type": "execute_result"
    }
   ],
   "source": [
    "train_ono.groupby(['dataset'])[['p1', 'p1_overall_lda', 'p1_v1_5']].apply(lambda x: x.describe()).T"
   ]
  },
  {
   "cell_type": "code",
   "execution_count": 39,
   "id": "79d4c18a-b1ca-48b6-94fa-8e0b50700d86",
   "metadata": {
    "tags": []
   },
   "outputs": [
    {
     "data": {
      "text/plain": [
       "(26240, 15)"
      ]
     },
     "execution_count": 39,
     "metadata": {},
     "output_type": "execute_result"
    }
   ],
   "source": [
    "train_ono[train_ono['dataset'].isin(['FICO_LT_660'])].shape"
   ]
  },
  {
   "cell_type": "code",
   "execution_count": 40,
   "id": "ee45b562-4598-4155-9d2b-fc255a207deb",
   "metadata": {
    "tags": []
   },
   "outputs": [
    {
     "data": {
      "text/plain": [
       "dataset\n",
       "FICO_660_740    53526\n",
       "FICO_LT_660     26240\n",
       "Name: count, dtype: int64"
      ]
     },
     "execution_count": 40,
     "metadata": {},
     "output_type": "execute_result"
    }
   ],
   "source": [
    "train_ono['dataset'].value_counts(dropna= False)"
   ]
  },
  {
   "cell_type": "code",
   "execution_count": 41,
   "id": "52881b91-eea6-44db-8758-30eae710bc90",
   "metadata": {
    "tags": []
   },
   "outputs": [],
   "source": [
    "def get_model_comparison_segment(train_d, test_d, oot_d, ttd_d, segment, pref, d):\n",
    "    train_d= train_d.copy()\n",
    "    test_d= test_d.copy()\n",
    "    oot_d= oot_d.copy()\n",
    "    ttd_d= ttd_d.copy()\n",
    "    print({'segment': segment})#, 'overall shape': data.shape, 'segmented shape': data[data['dataset'].isin(segment)].shape})\n",
    "    \n",
    "    a= {'Model': pref, 'Dataset': d}\n",
    "    \n",
    "    a[f'KS Weighted Train Model']= rnkOrderingN(train_d[train_d['dataset'].isin(segment)], 'bad_flag', 'wt2', 'p1', n_bkts= 5, asc= False)[1]['KS']\n",
    "    a[f'KS Weighted Test Model']= rnkOrderingN(test_d[test_d['dataset'].isin(segment)], 'bad_flag', 'wt2', 'p1', n_bkts= 5, asc= False)[1]['KS']\n",
    "    \n",
    "    a[f'KS Non Weighted Train Model']= rnkOrderingN(train_d[train_d['dataset'].isin(segment)], 'bad_flag', None, 'p1', n_bkts= 5, asc= False)[1]['KS']\n",
    "    a[f'KS Non Weighted Test Model']= rnkOrderingN(test_d[test_d['dataset'].isin(segment)], 'bad_flag', None, 'p1', n_bkts= 5, asc= False)[1]['KS']\n",
    "    a[f'KS Non Weighted Oot Model']= rnkOrderingN(oot_d[oot_d['dataset'].isin(segment)], 'bad_flag', None, 'p1', n_bkts= 5, asc= False)[1]['KS']\n",
    "    \n",
    "    a[f'KS Non Weighted Oot FICO']= rnkOrderingN(test_d[test_d['dataset'].isin(segment)], 'bad_flag', None, 'fico_pb', n_bkts= 5, asc= True)[1]['KS']\n",
    "    a[f'KS Non Weighted Oot Auto Score']= rnkOrderingN(test_d[test_d['dataset'].isin(segment)], 'bad_flag', None, 'auto_score', n_bkts= 5, asc= True)[1]['KS']\n",
    "    \n",
    "    a['Bad Rate Train']= train_d[train_d['dataset'].isin(segment)]['bad_flag'].mean()\n",
    "    a['Bad Rate Test']= test_d[test_d['dataset'].isin(segment)]['bad_flag'].mean()\n",
    "    a['Bad Rate Oot']= oot_d[oot_d['dataset'].isin(segment)]['bad_flag'].mean()\n",
    "    \n",
    "    air_sgement_model= air_calc_new(Equal_Approval_Cutoff_Barsath(ttd_d[ttd_d['dataset'].isin(segment)], 'approve_flag', 'p1'), 'AIR TTD')\n",
    "    a[f'AIR Age Model']= air_sgement_model['AIR TTDage_cuts']\n",
    "    a[f'AIR Race Model']= air_sgement_model['AIR TTDRace']\n",
    "    a[f'AIR Race Black Model']= air_sgement_model['AIR TTDRaceblack']\n",
    "    a[f'AIR Race Hispanic Model']= air_sgement_model['AIR TTDRacehispanic']\n",
    "    a[f'AIR Gender Model']= air_sgement_model['AIR TTDGender']\n",
    "    \n",
    "    air_fico_model= air_calc_new(Equal_Approval_Cutoff_Barsath(ttd_d[ttd_d['dataset'].isin(segment)], 'approve_flag', 'fico_pb', asc= False), 'AIR TTD')\n",
    "    a[f'AIR Age FICO']= air_fico_model['AIR TTDage_cuts']\n",
    "    a[f'AIR Race FICO']= air_fico_model['AIR TTDRace']\n",
    "    a[f'AIR Race Black FICO']= air_fico_model['AIR TTDRaceblack']\n",
    "    a[f'AIR Race Hispanic FICO']= air_fico_model['AIR TTDRacehispanic']\n",
    "    a[f'AIR Gender FICO']= air_fico_model['AIR TTDGender']\n",
    "    \n",
    "    return a"
   ]
  },
  {
   "cell_type": "code",
   "execution_count": 42,
   "id": "01131838-df7a-4295-b0ae-34f6559edcbb",
   "metadata": {
    "tags": []
   },
   "outputs": [],
   "source": [
    "def get_model_comparison_overall(train_d, test_d, oot_d, ttd_d, segment, pref, d):\n",
    "    train_d= train_d.copy()\n",
    "    test_d= test_d.copy()\n",
    "    oot_d= oot_d.copy()\n",
    "    ttd_d= ttd_d.copy()\n",
    "    print({'segment': segment})#, 'overall shape': data.shape, 'segmented shape': data[data['dataset'].isin(segment)].shape})\n",
    "    \n",
    "    a= {'Model': pref, 'Dataset': d}\n",
    "    \n",
    "    a[f'KS Weighted Train Model']= rnkOrderingN(train_d[train_d['dataset'].isin(segment)], 'bad_flag', 'wt2', 'p1_overall_lda', n_bkts= 5, asc= False)[1]['KS']\n",
    "    a[f'KS Weighted Test Model']= rnkOrderingN(test_d[test_d['dataset'].isin(segment)], 'bad_flag', 'wt2', 'p1_overall_lda', n_bkts= 5, asc= False)[1]['KS']\n",
    "    \n",
    "    a[f'KS Non Weighted Train Model']= rnkOrderingN(train_d[train_d['dataset'].isin(segment)], 'bad_flag', None, 'p1_overall_lda', n_bkts= 5, asc= False)[1]['KS']\n",
    "    a[f'KS Non Weighted Test Model']= rnkOrderingN(test_d[test_d['dataset'].isin(segment)], 'bad_flag', None, 'p1_overall_lda', n_bkts= 5, asc= False)[1]['KS']\n",
    "    a[f'KS Non Weighted Oot Model']= rnkOrderingN(oot_d[oot_d['dataset'].isin(segment)], 'bad_flag', None, 'p1_overall_lda', n_bkts= 5, asc= False)[1]['KS']\n",
    "    \n",
    "    a[f'KS Non Weighted Oot FICO']= rnkOrderingN(test_d[test_d['dataset'].isin(segment)], 'bad_flag', None, 'fico_pb', n_bkts= 5, asc= True)[1]['KS']\n",
    "    a[f'KS Non Weighted Oot Auto Score']= rnkOrderingN(test_d[test_d['dataset'].isin(segment)], 'bad_flag', None, 'auto_score', n_bkts= 5, asc= True)[1]['KS']\n",
    "    \n",
    "    a['Bad Rate Train']= train_d[train_d['dataset'].isin(segment)]['bad_flag'].mean()\n",
    "    a['Bad Rate Test']= test_d[test_d['dataset'].isin(segment)]['bad_flag'].mean()\n",
    "    a['Bad Rate Oot']= oot_d[oot_d['dataset'].isin(segment)]['bad_flag'].mean()\n",
    "    \n",
    "    air_sgement_model= air_calc_new(Equal_Approval_Cutoff_Barsath(ttd_d[ttd_d['dataset'].isin(segment)], 'approve_flag', 'p1_overall_lda'), 'AIR TTD')\n",
    "    a[f'AIR Age Model']= air_sgement_model['AIR TTDage_cuts']\n",
    "    a[f'AIR Race Model']= air_sgement_model['AIR TTDRace']\n",
    "    a[f'AIR Race Black Model']= air_sgement_model['AIR TTDRaceblack']\n",
    "    a[f'AIR Race Hispanic Model']= air_sgement_model['AIR TTDRacehispanic']\n",
    "    a[f'AIR Gender Model']= air_sgement_model['AIR TTDGender']\n",
    "    \n",
    "    air_fico_model= air_calc_new(Equal_Approval_Cutoff_Barsath(ttd_d[ttd_d['dataset'].isin(segment)], 'approve_flag', 'fico_pb', asc= False), 'AIR TTD')\n",
    "    a[f'AIR Age FICO']= air_fico_model['AIR TTDage_cuts']\n",
    "    a[f'AIR Race FICO']= air_fico_model['AIR TTDRace']\n",
    "    a[f'AIR Race Black FICO']= air_fico_model['AIR TTDRaceblack']\n",
    "    a[f'AIR Race Hispanic FICO']= air_fico_model['AIR TTDRacehispanic']\n",
    "    a[f'AIR Gender FICO']= air_fico_model['AIR TTDGender']\n",
    "    \n",
    "    return a\n",
    "    "
   ]
  },
  {
   "cell_type": "code",
   "execution_count": 43,
   "id": "f1fedd22-6cd6-470a-adf0-b7a4344b8239",
   "metadata": {
    "tags": []
   },
   "outputs": [],
   "source": [
    "def get_model_comparison_v15(train_d, test_d, oot_d, ttd_d, segment, pref, d):\n",
    "    train_d= train_d.copy()\n",
    "    test_d= test_d.copy()\n",
    "    oot_d= oot_d.copy()\n",
    "    ttd_d= ttd_d.copy()\n",
    "    print({'segment': segment})#, 'overall shape': data.shape, 'segmented shape': data[data['dataset'].isin(segment)].shape})\n",
    "    \n",
    "    a= {'Model': pref, 'Dataset': d}\n",
    "    \n",
    "    a[f'KS Weighted Train Model']= rnkOrderingN(train_d[train_d['dataset'].isin(segment)], 'bad_flag', 'wt2', 'p1_v1_5', n_bkts= 5, asc= False)[1]['KS']\n",
    "    a[f'KS Weighted Test Model']= rnkOrderingN(test_d[test_d['dataset'].isin(segment)], 'bad_flag', 'wt2', 'p1_v1_5', n_bkts= 5, asc= False)[1]['KS']\n",
    "    \n",
    "    a[f'KS Non Weighted Train Model']= rnkOrderingN(train_d[train_d['dataset'].isin(segment)], 'bad_flag', None, 'p1_v1_5', n_bkts= 5, asc= False)[1]['KS']\n",
    "    a[f'KS Non Weighted Test Model']= rnkOrderingN(test_d[test_d['dataset'].isin(segment)], 'bad_flag', None, 'p1_v1_5', n_bkts= 5, asc= False)[1]['KS']\n",
    "    a[f'KS Non Weighted Oot Model']= rnkOrderingN(oot_d[oot_d['dataset'].isin(segment)], 'bad_flag', None, 'p1_v1_5', n_bkts= 5, asc= False)[1]['KS']\n",
    "    \n",
    "    a[f'KS Non Weighted Oot FICO']= rnkOrderingN(test_d[test_d['dataset'].isin(segment)], 'bad_flag', None, 'fico_pb', n_bkts= 5, asc= True)[1]['KS']\n",
    "    a[f'KS Non Weighted Oot Auto Score']= rnkOrderingN(test_d[test_d['dataset'].isin(segment)], 'bad_flag', None, 'auto_score', n_bkts= 5, asc= True)[1]['KS']\n",
    "    \n",
    "    a['Bad Rate Train']= train_d[train_d['dataset'].isin(segment)]['bad_flag'].mean()\n",
    "    a['Bad Rate Test']= test_d[test_d['dataset'].isin(segment)]['bad_flag'].mean()\n",
    "    a['Bad Rate Oot']= oot_d[oot_d['dataset'].isin(segment)]['bad_flag'].mean()\n",
    "    \n",
    "    air_sgement_model= air_calc_new(Equal_Approval_Cutoff_Barsath(ttd_d[ttd_d['dataset'].isin(segment)], 'approve_flag', 'p1_v1_5'), 'AIR TTD')\n",
    "    a[f'AIR Age Model']= air_sgement_model['AIR TTDage_cuts']\n",
    "    a[f'AIR Race Model']= air_sgement_model['AIR TTDRace']\n",
    "    a[f'AIR Race Black Model']= air_sgement_model['AIR TTDRaceblack']\n",
    "    a[f'AIR Race Hispanic Model']= air_sgement_model['AIR TTDRacehispanic']\n",
    "    a[f'AIR Gender Model']= air_sgement_model['AIR TTDGender']\n",
    "    \n",
    "    air_fico_model= air_calc_new(Equal_Approval_Cutoff_Barsath(ttd_d[ttd_d['dataset'].isin(segment)], 'approve_flag', 'fico_pb', asc= False), 'AIR TTD')\n",
    "    a[f'AIR Age FICO']= air_fico_model['AIR TTDage_cuts']\n",
    "    a[f'AIR Race FICO']= air_fico_model['AIR TTDRace']\n",
    "    a[f'AIR Race Black FICO']= air_fico_model['AIR TTDRaceblack']\n",
    "    a[f'AIR Race Hispanic FICO']= air_fico_model['AIR TTDRacehispanic']\n",
    "    a[f'AIR Gender FICO']= air_fico_model['AIR TTDGender']\n",
    "    \n",
    "    return a"
   ]
  },
  {
   "cell_type": "code",
   "execution_count": 44,
   "id": "6d8da075-1110-4a5b-aeb6-9fa2fbc06afd",
   "metadata": {
    "tags": []
   },
   "outputs": [
    {
     "name": "stdout",
     "output_type": "stream",
     "text": [
      "{'segment': ['FICO_LT_660']}\n",
      "{'segment': ['FICO_LT_660']}\n",
      "{'segment': ['FICO_LT_660']}\n"
     ]
    },
    {
     "data": {
      "text/html": [
       "<div>\n",
       "<style scoped>\n",
       "    .dataframe tbody tr th:only-of-type {\n",
       "        vertical-align: middle;\n",
       "    }\n",
       "\n",
       "    .dataframe tbody tr th {\n",
       "        vertical-align: top;\n",
       "    }\n",
       "\n",
       "    .dataframe thead th {\n",
       "        text-align: right;\n",
       "    }\n",
       "</style>\n",
       "<table border=\"1\" class=\"dataframe\">\n",
       "  <thead>\n",
       "    <tr style=\"text-align: right;\">\n",
       "      <th></th>\n",
       "      <th>Model</th>\n",
       "      <th>Dataset</th>\n",
       "      <th>KS Weighted Train Model</th>\n",
       "      <th>KS Weighted Test Model</th>\n",
       "      <th>KS Non Weighted Train Model</th>\n",
       "      <th>KS Non Weighted Test Model</th>\n",
       "      <th>KS Non Weighted Oot Model</th>\n",
       "      <th>KS Non Weighted Oot FICO</th>\n",
       "      <th>KS Non Weighted Oot Auto Score</th>\n",
       "      <th>Bad Rate Train</th>\n",
       "      <th>Bad Rate Test</th>\n",
       "      <th>Bad Rate Oot</th>\n",
       "      <th>AIR Age Model</th>\n",
       "      <th>AIR Race Model</th>\n",
       "      <th>AIR Race Black Model</th>\n",
       "      <th>AIR Race Hispanic Model</th>\n",
       "      <th>AIR Gender Model</th>\n",
       "      <th>AIR Age FICO</th>\n",
       "      <th>AIR Race FICO</th>\n",
       "      <th>AIR Race Black FICO</th>\n",
       "      <th>AIR Race Hispanic FICO</th>\n",
       "      <th>AIR Gender FICO</th>\n",
       "    </tr>\n",
       "  </thead>\n",
       "  <tbody>\n",
       "    <tr>\n",
       "      <th>0</th>\n",
       "      <td>FICO_LT_660</td>\n",
       "      <td>FICO_LT_660</td>\n",
       "      <td>24.36</td>\n",
       "      <td>23.14</td>\n",
       "      <td>24.69</td>\n",
       "      <td>23.73</td>\n",
       "      <td>24.98</td>\n",
       "      <td>15.14</td>\n",
       "      <td>23.37</td>\n",
       "      <td>0.050762</td>\n",
       "      <td>0.050325</td>\n",
       "      <td>0.047241</td>\n",
       "      <td>1.8436</td>\n",
       "      <td>0.7523</td>\n",
       "      <td>0.7805</td>\n",
       "      <td>0.7073</td>\n",
       "      <td>0.9526</td>\n",
       "      <td>1.1556</td>\n",
       "      <td>0.8307</td>\n",
       "      <td>0.7166</td>\n",
       "      <td>1.0111</td>\n",
       "      <td>0.976</td>\n",
       "    </tr>\n",
       "    <tr>\n",
       "      <th>0</th>\n",
       "      <td>Overall</td>\n",
       "      <td>FICO_LT_660</td>\n",
       "      <td>20.60</td>\n",
       "      <td>23.10</td>\n",
       "      <td>21.53</td>\n",
       "      <td>21.83</td>\n",
       "      <td>23.64</td>\n",
       "      <td>15.14</td>\n",
       "      <td>23.37</td>\n",
       "      <td>0.050762</td>\n",
       "      <td>0.050325</td>\n",
       "      <td>0.047241</td>\n",
       "      <td>1.7243</td>\n",
       "      <td>0.7914</td>\n",
       "      <td>0.7855</td>\n",
       "      <td>0.8010</td>\n",
       "      <td>0.9329</td>\n",
       "      <td>1.1556</td>\n",
       "      <td>0.8307</td>\n",
       "      <td>0.7166</td>\n",
       "      <td>1.0111</td>\n",
       "      <td>0.976</td>\n",
       "    </tr>\n",
       "    <tr>\n",
       "      <th>0</th>\n",
       "      <td>V1.5</td>\n",
       "      <td>FICO_LT_660</td>\n",
       "      <td>22.12</td>\n",
       "      <td>21.07</td>\n",
       "      <td>20.97</td>\n",
       "      <td>23.36</td>\n",
       "      <td>23.98</td>\n",
       "      <td>15.14</td>\n",
       "      <td>23.37</td>\n",
       "      <td>0.050762</td>\n",
       "      <td>0.050325</td>\n",
       "      <td>0.047241</td>\n",
       "      <td>1.7936</td>\n",
       "      <td>0.8010</td>\n",
       "      <td>0.8197</td>\n",
       "      <td>0.7716</td>\n",
       "      <td>0.9740</td>\n",
       "      <td>1.1556</td>\n",
       "      <td>0.8307</td>\n",
       "      <td>0.7166</td>\n",
       "      <td>1.0111</td>\n",
       "      <td>0.976</td>\n",
       "    </tr>\n",
       "  </tbody>\n",
       "</table>\n",
       "</div>"
      ],
      "text/plain": [
       "         Model      Dataset  KS Weighted Train Model  KS Weighted Test Model  \\\n",
       "0  FICO_LT_660  FICO_LT_660                    24.36                   23.14   \n",
       "0      Overall  FICO_LT_660                    20.60                   23.10   \n",
       "0         V1.5  FICO_LT_660                    22.12                   21.07   \n",
       "\n",
       "   KS Non Weighted Train Model  KS Non Weighted Test Model  \\\n",
       "0                        24.69                       23.73   \n",
       "0                        21.53                       21.83   \n",
       "0                        20.97                       23.36   \n",
       "\n",
       "   KS Non Weighted Oot Model  KS Non Weighted Oot FICO  \\\n",
       "0                      24.98                     15.14   \n",
       "0                      23.64                     15.14   \n",
       "0                      23.98                     15.14   \n",
       "\n",
       "   KS Non Weighted Oot Auto Score  Bad Rate Train  Bad Rate Test  \\\n",
       "0                           23.37        0.050762       0.050325   \n",
       "0                           23.37        0.050762       0.050325   \n",
       "0                           23.37        0.050762       0.050325   \n",
       "\n",
       "   Bad Rate Oot  AIR Age Model  AIR Race Model  AIR Race Black Model  \\\n",
       "0      0.047241         1.8436          0.7523                0.7805   \n",
       "0      0.047241         1.7243          0.7914                0.7855   \n",
       "0      0.047241         1.7936          0.8010                0.8197   \n",
       "\n",
       "   AIR Race Hispanic Model  AIR Gender Model  AIR Age FICO  AIR Race FICO  \\\n",
       "0                   0.7073            0.9526        1.1556         0.8307   \n",
       "0                   0.8010            0.9329        1.1556         0.8307   \n",
       "0                   0.7716            0.9740        1.1556         0.8307   \n",
       "\n",
       "   AIR Race Black FICO  AIR Race Hispanic FICO  AIR Gender FICO  \n",
       "0               0.7166                  1.0111            0.976  \n",
       "0               0.7166                  1.0111            0.976  \n",
       "0               0.7166                  1.0111            0.976  "
      ]
     },
     "execution_count": 44,
     "metadata": {},
     "output_type": "execute_result"
    }
   ],
   "source": [
    "pd.concat(\n",
    "    [pd.DataFrame(get_model_comparison_segment(train_ono, test_ono, oot_ono, ttd_ono, ['FICO_LT_660'], 'FICO_LT_660', 'FICO_LT_660')),\n",
    "     pd.DataFrame(get_model_comparison_overall(train_ono, test_ono, oot_ono, ttd_ono, ['FICO_LT_660'], 'Overall', 'FICO_LT_660')),\n",
    "     pd.DataFrame(get_model_comparison_v15(train_ono, test_ono, oot_ono, ttd_ono, ['FICO_LT_660'], 'V1.5', 'FICO_LT_660'))]\n",
    ")"
   ]
  },
  {
   "cell_type": "code",
   "execution_count": 45,
   "id": "d0540fa5-4ca0-43e4-a858-d98b0086208d",
   "metadata": {
    "tags": []
   },
   "outputs": [
    {
     "name": "stdout",
     "output_type": "stream",
     "text": [
      "{'segment': ['FICO_660_740']}\n",
      "{'segment': ['FICO_660_740']}\n",
      "{'segment': ['FICO_660_740']}\n"
     ]
    },
    {
     "data": {
      "text/html": [
       "<div>\n",
       "<style scoped>\n",
       "    .dataframe tbody tr th:only-of-type {\n",
       "        vertical-align: middle;\n",
       "    }\n",
       "\n",
       "    .dataframe tbody tr th {\n",
       "        vertical-align: top;\n",
       "    }\n",
       "\n",
       "    .dataframe thead th {\n",
       "        text-align: right;\n",
       "    }\n",
       "</style>\n",
       "<table border=\"1\" class=\"dataframe\">\n",
       "  <thead>\n",
       "    <tr style=\"text-align: right;\">\n",
       "      <th></th>\n",
       "      <th>Model</th>\n",
       "      <th>Dataset</th>\n",
       "      <th>KS Weighted Train Model</th>\n",
       "      <th>KS Weighted Test Model</th>\n",
       "      <th>KS Non Weighted Train Model</th>\n",
       "      <th>KS Non Weighted Test Model</th>\n",
       "      <th>KS Non Weighted Oot Model</th>\n",
       "      <th>KS Non Weighted Oot FICO</th>\n",
       "      <th>KS Non Weighted Oot Auto Score</th>\n",
       "      <th>Bad Rate Train</th>\n",
       "      <th>Bad Rate Test</th>\n",
       "      <th>Bad Rate Oot</th>\n",
       "      <th>AIR Age Model</th>\n",
       "      <th>AIR Race Model</th>\n",
       "      <th>AIR Race Black Model</th>\n",
       "      <th>AIR Race Hispanic Model</th>\n",
       "      <th>AIR Gender Model</th>\n",
       "      <th>AIR Age FICO</th>\n",
       "      <th>AIR Race FICO</th>\n",
       "      <th>AIR Race Black FICO</th>\n",
       "      <th>AIR Race Hispanic FICO</th>\n",
       "      <th>AIR Gender FICO</th>\n",
       "    </tr>\n",
       "  </thead>\n",
       "  <tbody>\n",
       "    <tr>\n",
       "      <th>0</th>\n",
       "      <td>FICO_660_740</td>\n",
       "      <td>FICO_660_740</td>\n",
       "      <td>25.76</td>\n",
       "      <td>25.68</td>\n",
       "      <td>25.65</td>\n",
       "      <td>25.64</td>\n",
       "      <td>24.31</td>\n",
       "      <td>18.21</td>\n",
       "      <td>17.89</td>\n",
       "      <td>0.013676</td>\n",
       "      <td>0.013688</td>\n",
       "      <td>0.013611</td>\n",
       "      <td>1.2570</td>\n",
       "      <td>0.8285</td>\n",
       "      <td>0.9041</td>\n",
       "      <td>0.7679</td>\n",
       "      <td>0.9719</td>\n",
       "      <td>1.0684</td>\n",
       "      <td>0.935</td>\n",
       "      <td>0.9128</td>\n",
       "      <td>0.9527</td>\n",
       "      <td>0.9741</td>\n",
       "    </tr>\n",
       "    <tr>\n",
       "      <th>0</th>\n",
       "      <td>Overall</td>\n",
       "      <td>FICO_660_740</td>\n",
       "      <td>24.32</td>\n",
       "      <td>23.19</td>\n",
       "      <td>23.71</td>\n",
       "      <td>23.38</td>\n",
       "      <td>25.40</td>\n",
       "      <td>18.21</td>\n",
       "      <td>17.89</td>\n",
       "      <td>0.013676</td>\n",
       "      <td>0.013688</td>\n",
       "      <td>0.013611</td>\n",
       "      <td>1.3118</td>\n",
       "      <td>0.8691</td>\n",
       "      <td>0.9386</td>\n",
       "      <td>0.8135</td>\n",
       "      <td>0.9568</td>\n",
       "      <td>1.0684</td>\n",
       "      <td>0.935</td>\n",
       "      <td>0.9128</td>\n",
       "      <td>0.9527</td>\n",
       "      <td>0.9741</td>\n",
       "    </tr>\n",
       "    <tr>\n",
       "      <th>0</th>\n",
       "      <td>V1.5</td>\n",
       "      <td>FICO_660_740</td>\n",
       "      <td>25.07</td>\n",
       "      <td>21.97</td>\n",
       "      <td>26.48</td>\n",
       "      <td>23.70</td>\n",
       "      <td>24.86</td>\n",
       "      <td>18.21</td>\n",
       "      <td>17.89</td>\n",
       "      <td>0.013676</td>\n",
       "      <td>0.013688</td>\n",
       "      <td>0.013611</td>\n",
       "      <td>1.2711</td>\n",
       "      <td>0.8175</td>\n",
       "      <td>0.9432</td>\n",
       "      <td>0.7167</td>\n",
       "      <td>0.9796</td>\n",
       "      <td>1.0684</td>\n",
       "      <td>0.935</td>\n",
       "      <td>0.9128</td>\n",
       "      <td>0.9527</td>\n",
       "      <td>0.9741</td>\n",
       "    </tr>\n",
       "  </tbody>\n",
       "</table>\n",
       "</div>"
      ],
      "text/plain": [
       "          Model       Dataset  KS Weighted Train Model  \\\n",
       "0  FICO_660_740  FICO_660_740                    25.76   \n",
       "0       Overall  FICO_660_740                    24.32   \n",
       "0          V1.5  FICO_660_740                    25.07   \n",
       "\n",
       "   KS Weighted Test Model  KS Non Weighted Train Model  \\\n",
       "0                   25.68                        25.65   \n",
       "0                   23.19                        23.71   \n",
       "0                   21.97                        26.48   \n",
       "\n",
       "   KS Non Weighted Test Model  KS Non Weighted Oot Model  \\\n",
       "0                       25.64                      24.31   \n",
       "0                       23.38                      25.40   \n",
       "0                       23.70                      24.86   \n",
       "\n",
       "   KS Non Weighted Oot FICO  KS Non Weighted Oot Auto Score  Bad Rate Train  \\\n",
       "0                     18.21                           17.89        0.013676   \n",
       "0                     18.21                           17.89        0.013676   \n",
       "0                     18.21                           17.89        0.013676   \n",
       "\n",
       "   Bad Rate Test  Bad Rate Oot  AIR Age Model  AIR Race Model  \\\n",
       "0       0.013688      0.013611         1.2570          0.8285   \n",
       "0       0.013688      0.013611         1.3118          0.8691   \n",
       "0       0.013688      0.013611         1.2711          0.8175   \n",
       "\n",
       "   AIR Race Black Model  AIR Race Hispanic Model  AIR Gender Model  \\\n",
       "0                0.9041                   0.7679            0.9719   \n",
       "0                0.9386                   0.8135            0.9568   \n",
       "0                0.9432                   0.7167            0.9796   \n",
       "\n",
       "   AIR Age FICO  AIR Race FICO  AIR Race Black FICO  AIR Race Hispanic FICO  \\\n",
       "0        1.0684          0.935               0.9128                  0.9527   \n",
       "0        1.0684          0.935               0.9128                  0.9527   \n",
       "0        1.0684          0.935               0.9128                  0.9527   \n",
       "\n",
       "   AIR Gender FICO  \n",
       "0           0.9741  \n",
       "0           0.9741  \n",
       "0           0.9741  "
      ]
     },
     "execution_count": 45,
     "metadata": {},
     "output_type": "execute_result"
    }
   ],
   "source": [
    "pd.concat(\n",
    "    [pd.DataFrame(get_model_comparison_segment(train_ono, test_ono, oot_ono, ttd_ono, ['FICO_660_740'], 'FICO_660_740', 'FICO_660_740')),\n",
    "     pd.DataFrame(get_model_comparison_overall(train_ono, test_ono, oot_ono, ttd_ono, ['FICO_660_740'], 'Overall', 'FICO_660_740')),\n",
    "     pd.DataFrame(get_model_comparison_v15(train_ono, test_ono, oot_ono, ttd_ono, ['FICO_660_740'], 'V1.5', 'FICO_660_740'))]\n",
    ")"
   ]
  },
  {
   "cell_type": "code",
   "execution_count": 46,
   "id": "779a2e72-9287-4162-bcf3-dcaf5d4d8817",
   "metadata": {
    "tags": []
   },
   "outputs": [
    {
     "name": "stdout",
     "output_type": "stream",
     "text": [
      "{'segment': ['FICO_LT_660', 'FICO_660_740']}\n",
      "{'segment': ['FICO_LT_660', 'FICO_660_740']}\n",
      "{'segment': ['FICO_LT_660', 'FICO_660_740']}\n"
     ]
    },
    {
     "data": {
      "text/html": [
       "<div>\n",
       "<style scoped>\n",
       "    .dataframe tbody tr th:only-of-type {\n",
       "        vertical-align: middle;\n",
       "    }\n",
       "\n",
       "    .dataframe tbody tr th {\n",
       "        vertical-align: top;\n",
       "    }\n",
       "\n",
       "    .dataframe thead th {\n",
       "        text-align: right;\n",
       "    }\n",
       "</style>\n",
       "<table border=\"1\" class=\"dataframe\">\n",
       "  <thead>\n",
       "    <tr style=\"text-align: right;\">\n",
       "      <th></th>\n",
       "      <th>Model</th>\n",
       "      <th>Dataset</th>\n",
       "      <th>KS Weighted Train Model</th>\n",
       "      <th>KS Weighted Test Model</th>\n",
       "      <th>KS Non Weighted Train Model</th>\n",
       "      <th>KS Non Weighted Test Model</th>\n",
       "      <th>KS Non Weighted Oot Model</th>\n",
       "      <th>KS Non Weighted Oot FICO</th>\n",
       "      <th>KS Non Weighted Oot Auto Score</th>\n",
       "      <th>Bad Rate Train</th>\n",
       "      <th>Bad Rate Test</th>\n",
       "      <th>Bad Rate Oot</th>\n",
       "      <th>AIR Age Model</th>\n",
       "      <th>AIR Race Model</th>\n",
       "      <th>AIR Race Black Model</th>\n",
       "      <th>AIR Race Hispanic Model</th>\n",
       "      <th>AIR Gender Model</th>\n",
       "      <th>AIR Age FICO</th>\n",
       "      <th>AIR Race FICO</th>\n",
       "      <th>AIR Race Black FICO</th>\n",
       "      <th>AIR Race Hispanic FICO</th>\n",
       "      <th>AIR Gender FICO</th>\n",
       "    </tr>\n",
       "  </thead>\n",
       "  <tbody>\n",
       "    <tr>\n",
       "      <th>0</th>\n",
       "      <td>Both</td>\n",
       "      <td>Both</td>\n",
       "      <td>37.36</td>\n",
       "      <td>34.55</td>\n",
       "      <td>36.18</td>\n",
       "      <td>34.53</td>\n",
       "      <td>32.87</td>\n",
       "      <td>32.31</td>\n",
       "      <td>27.99</td>\n",
       "      <td>0.025876</td>\n",
       "      <td>0.025741</td>\n",
       "      <td>0.02464</td>\n",
       "      <td>1.3774</td>\n",
       "      <td>0.7607</td>\n",
       "      <td>0.6680</td>\n",
       "      <td>0.8716</td>\n",
       "      <td>0.9481</td>\n",
       "      <td>1.1889</td>\n",
       "      <td>0.7914</td>\n",
       "      <td>0.6473</td>\n",
       "      <td>0.9639</td>\n",
       "      <td>0.9455</td>\n",
       "    </tr>\n",
       "    <tr>\n",
       "      <th>0</th>\n",
       "      <td>Overall</td>\n",
       "      <td>Both</td>\n",
       "      <td>28.32</td>\n",
       "      <td>28.32</td>\n",
       "      <td>27.68</td>\n",
       "      <td>29.86</td>\n",
       "      <td>28.97</td>\n",
       "      <td>32.31</td>\n",
       "      <td>27.99</td>\n",
       "      <td>0.025876</td>\n",
       "      <td>0.025741</td>\n",
       "      <td>0.02464</td>\n",
       "      <td>1.5280</td>\n",
       "      <td>0.7946</td>\n",
       "      <td>0.7838</td>\n",
       "      <td>0.8078</td>\n",
       "      <td>0.9321</td>\n",
       "      <td>1.1889</td>\n",
       "      <td>0.7914</td>\n",
       "      <td>0.6473</td>\n",
       "      <td>0.9639</td>\n",
       "      <td>0.9455</td>\n",
       "    </tr>\n",
       "    <tr>\n",
       "      <th>0</th>\n",
       "      <td>V1.5</td>\n",
       "      <td>Both</td>\n",
       "      <td>36.28</td>\n",
       "      <td>35.44</td>\n",
       "      <td>35.68</td>\n",
       "      <td>34.88</td>\n",
       "      <td>32.25</td>\n",
       "      <td>32.31</td>\n",
       "      <td>27.99</td>\n",
       "      <td>0.025876</td>\n",
       "      <td>0.025741</td>\n",
       "      <td>0.02464</td>\n",
       "      <td>1.4358</td>\n",
       "      <td>0.7528</td>\n",
       "      <td>0.6850</td>\n",
       "      <td>0.8343</td>\n",
       "      <td>0.9547</td>\n",
       "      <td>1.1889</td>\n",
       "      <td>0.7914</td>\n",
       "      <td>0.6473</td>\n",
       "      <td>0.9639</td>\n",
       "      <td>0.9455</td>\n",
       "    </tr>\n",
       "  </tbody>\n",
       "</table>\n",
       "</div>"
      ],
      "text/plain": [
       "     Model Dataset  KS Weighted Train Model  KS Weighted Test Model  \\\n",
       "0     Both    Both                    37.36                   34.55   \n",
       "0  Overall    Both                    28.32                   28.32   \n",
       "0     V1.5    Both                    36.28                   35.44   \n",
       "\n",
       "   KS Non Weighted Train Model  KS Non Weighted Test Model  \\\n",
       "0                        36.18                       34.53   \n",
       "0                        27.68                       29.86   \n",
       "0                        35.68                       34.88   \n",
       "\n",
       "   KS Non Weighted Oot Model  KS Non Weighted Oot FICO  \\\n",
       "0                      32.87                     32.31   \n",
       "0                      28.97                     32.31   \n",
       "0                      32.25                     32.31   \n",
       "\n",
       "   KS Non Weighted Oot Auto Score  Bad Rate Train  Bad Rate Test  \\\n",
       "0                           27.99        0.025876       0.025741   \n",
       "0                           27.99        0.025876       0.025741   \n",
       "0                           27.99        0.025876       0.025741   \n",
       "\n",
       "   Bad Rate Oot  AIR Age Model  AIR Race Model  AIR Race Black Model  \\\n",
       "0       0.02464         1.3774          0.7607                0.6680   \n",
       "0       0.02464         1.5280          0.7946                0.7838   \n",
       "0       0.02464         1.4358          0.7528                0.6850   \n",
       "\n",
       "   AIR Race Hispanic Model  AIR Gender Model  AIR Age FICO  AIR Race FICO  \\\n",
       "0                   0.8716            0.9481        1.1889         0.7914   \n",
       "0                   0.8078            0.9321        1.1889         0.7914   \n",
       "0                   0.8343            0.9547        1.1889         0.7914   \n",
       "\n",
       "   AIR Race Black FICO  AIR Race Hispanic FICO  AIR Gender FICO  \n",
       "0               0.6473                  0.9639           0.9455  \n",
       "0               0.6473                  0.9639           0.9455  \n",
       "0               0.6473                  0.9639           0.9455  "
      ]
     },
     "execution_count": 46,
     "metadata": {},
     "output_type": "execute_result"
    }
   ],
   "source": [
    "pd.concat(\n",
    "    [pd.DataFrame(get_model_comparison_segment(train_ono, test_ono, oot_ono, ttd_ono, ['FICO_LT_660', 'FICO_660_740'], 'Both', 'Both')),\n",
    "     pd.DataFrame(get_model_comparison_overall(train_ono, test_ono, oot_ono, ttd_ono, ['FICO_LT_660', 'FICO_660_740'], 'Overall', 'Both')),\n",
    "     pd.DataFrame(get_model_comparison_v15(train_ono, test_ono, oot_ono, ttd_ono, ['FICO_LT_660', 'FICO_660_740'], 'V1.5', 'Both'))]\n",
    ")"
   ]
  },
  {
   "cell_type": "code",
   "execution_count": 47,
   "id": "123980f9-b3dc-4bbf-9a85-decb890e615e",
   "metadata": {
    "tags": []
   },
   "outputs": [
    {
     "data": {
      "text/plain": [
       "(   min_score  max_score  mean_score  total    Goods    Bads  Bad_Rate  \\\n",
       " 0   0.042880   0.214624    0.067578  15954  14863.0  1091.0      6.84   \n",
       " 1   0.022532   0.042877    0.031333  15953  15491.0   462.0      2.90   \n",
       " 2   0.012751   0.022532    0.017377  15953  15691.0   262.0      1.64   \n",
       " 3   0.007256   0.012751    0.009761  15953  15793.0   160.0      1.00   \n",
       " 4   0.003063   0.007256    0.005566  15953  15864.0    89.0      0.56   \n",
       " \n",
       "    Cum_Total  Cum_Good  Cum_Bad     KS  \n",
       " 0       20.0     19.13    52.86  33.73  \n",
       " 1       40.0     39.06    75.24  36.18  \n",
       " 2       60.0     59.26    87.94  28.68  \n",
       " 3       80.0     79.58    95.69  16.11  \n",
       " 4      100.0    100.00   100.00   0.00  ,\n",
       " {'Gini': 45.879999999999995, 'KS': 36.18})"
      ]
     },
     "execution_count": 47,
     "metadata": {},
     "output_type": "execute_result"
    }
   ],
   "source": [
    "rnkOrderingN(train_ono, 'bad_flag', None, 'p1', 5)"
   ]
  },
  {
   "cell_type": "code",
   "execution_count": 55,
   "id": "58fa1225-e6d5-4511-91dd-c68a246de613",
   "metadata": {
    "tags": []
   },
   "outputs": [
    {
     "data": {
      "text/plain": [
       "dataset\n",
       "FICO_LT_660     259792\n",
       "FICO_660_740    228747\n",
       "Name: count, dtype: int64"
      ]
     },
     "execution_count": 55,
     "metadata": {},
     "output_type": "execute_result"
    }
   ],
   "source": [
    "ttd_ono['dataset'].value_counts(dropna= False)"
   ]
  },
  {
   "cell_type": "code",
   "execution_count": 59,
   "id": "adf66601-d55d-4f65-a06d-acdf0871d420",
   "metadata": {
    "tags": []
   },
   "outputs": [
    {
     "data": {
      "text/plain": [
       "dataset\n",
       "FICO_660_740     {'AIR TTDage_cuts': [1.257], 'AIR TTDRace': [0.8285], 'AIR TTDRaceblack': [0.9041], 'AIR TTDRacehispanic': [0.7679], 'AIR TTDGender': [0.9719]}\n",
       "FICO_LT_660     {'AIR TTDage_cuts': [1.8436], 'AIR TTDRace': [0.7523], 'AIR TTDRaceblack': [0.7805], 'AIR TTDRacehispanic': [0.7073], 'AIR TTDGender': [0.9526]}\n",
       "dtype: object"
      ]
     },
     "execution_count": 59,
     "metadata": {},
     "output_type": "execute_result"
    }
   ],
   "source": [
    "ttd_ono.groupby('dataset').apply(lambda x: air_calc_new(Equal_Approval_Cutoff_Barsath(x, 'approve_flag', 'p1'), 'AIR TTD'))"
   ]
  },
  {
   "cell_type": "code",
   "execution_count": null,
   "id": "81ebabc3-ce8c-4f18-b086-5defd881eff7",
   "metadata": {},
   "outputs": [],
   "source": []
  },
  {
   "cell_type": "code",
   "execution_count": null,
   "id": "4756697e-c9ed-469a-a688-9d5fb7780c11",
   "metadata": {},
   "outputs": [],
   "source": []
  },
  {
   "cell_type": "code",
   "execution_count": 52,
   "id": "bac1f047-4f67-4e95-a6af-f26eb9192662",
   "metadata": {
    "tags": []
   },
   "outputs": [
    {
     "data": {
      "text/plain": [
       "{'AIR TTDage_cuts': [1.4358],\n",
       " 'AIR TTDRace': [0.7528],\n",
       " 'AIR TTDRaceblack': [0.685],\n",
       " 'AIR TTDRacehispanic': [0.8343],\n",
       " 'AIR TTDGender': [0.9547]}"
      ]
     },
     "execution_count": 52,
     "metadata": {},
     "output_type": "execute_result"
    }
   ],
   "source": [
    "air_calc_new(Equal_Approval_Cutoff_Barsath(ttd_ono, 'approve_flag', 'p1_v1_5'), 'AIR TTD')"
   ]
  },
  {
   "cell_type": "code",
   "execution_count": 53,
   "id": "ce697c9b-2f22-4c57-8b4f-cb128d9752cb",
   "metadata": {
    "tags": []
   },
   "outputs": [
    {
     "data": {
      "text/plain": [
       "{'AIR TTDage_cuts': [1.3774],\n",
       " 'AIR TTDRace': [0.7607],\n",
       " 'AIR TTDRaceblack': [0.668],\n",
       " 'AIR TTDRacehispanic': [0.8716],\n",
       " 'AIR TTDGender': [0.9481]}"
      ]
     },
     "execution_count": 53,
     "metadata": {},
     "output_type": "execute_result"
    }
   ],
   "source": [
    "air_calc_new(Equal_Approval_Cutoff_Barsath(ttd_ono, 'approve_flag', 'p1'), 'AIR TTD')"
   ]
  },
  {
   "cell_type": "code",
   "execution_count": 54,
   "id": "72cba292-e02b-4cc0-960f-fb3a0009a288",
   "metadata": {
    "tags": []
   },
   "outputs": [
    {
     "data": {
      "text/plain": [
       "{'AIR TTDage_cuts': [1.528],\n",
       " 'AIR TTDRace': [0.7946],\n",
       " 'AIR TTDRaceblack': [0.7838],\n",
       " 'AIR TTDRacehispanic': [0.8078],\n",
       " 'AIR TTDGender': [0.9321]}"
      ]
     },
     "execution_count": 54,
     "metadata": {},
     "output_type": "execute_result"
    }
   ],
   "source": [
    "air_calc_new(Equal_Approval_Cutoff_Barsath(ttd_ono, 'approve_flag', 'p1_overall_lda'), 'AIR TTD')"
   ]
  },
  {
   "cell_type": "markdown",
   "id": "6ef8e13d-38fd-4ede-ae53-648e13bc05c0",
   "metadata": {},
   "source": [
    "### END"
   ]
  },
  {
   "cell_type": "code",
   "execution_count": 51,
   "id": "73160951-b5dc-4e52-948f-7d7cb991f22b",
   "metadata": {},
   "outputs": [
    {
     "data": {
      "text/html": [
       "<div>\n",
       "<style scoped>\n",
       "    .dataframe tbody tr th:only-of-type {\n",
       "        vertical-align: middle;\n",
       "    }\n",
       "\n",
       "    .dataframe tbody tr th {\n",
       "        vertical-align: top;\n",
       "    }\n",
       "\n",
       "    .dataframe thead th {\n",
       "        text-align: right;\n",
       "    }\n",
       "</style>\n",
       "<table border=\"1\" class=\"dataframe\">\n",
       "  <thead>\n",
       "    <tr style=\"text-align: right;\">\n",
       "      <th></th>\n",
       "      <th>min</th>\n",
       "      <th>max</th>\n",
       "    </tr>\n",
       "    <tr>\n",
       "      <th>dataset</th>\n",
       "      <th></th>\n",
       "      <th></th>\n",
       "    </tr>\n",
       "  </thead>\n",
       "  <tbody>\n",
       "    <tr>\n",
       "      <th>FICO_660_740</th>\n",
       "      <td>660.0</td>\n",
       "      <td>740.0</td>\n",
       "    </tr>\n",
       "    <tr>\n",
       "      <th>FICO_LT_660</th>\n",
       "      <td>0.0</td>\n",
       "      <td>659.0</td>\n",
       "    </tr>\n",
       "  </tbody>\n",
       "</table>\n",
       "</div>"
      ],
      "text/plain": [
       "                min    max\n",
       "dataset                   \n",
       "FICO_660_740  660.0  740.0\n",
       "FICO_LT_660     0.0  659.0"
      ]
     },
     "execution_count": 51,
     "metadata": {},
     "output_type": "execute_result"
    }
   ],
   "source": [
    "train_ono.groupby('dataset')['fico_pb'].agg(['min', 'max'])"
   ]
  },
  {
   "cell_type": "code",
   "execution_count": 60,
   "id": "b7a1aaab-11e3-4ad8-b9fb-91098a3c7b3d",
   "metadata": {
    "tags": []
   },
   "outputs": [],
   "source": [
    "def air_calc_new_2(pred,prefix):\n",
    "    air = {}\n",
    "    target_control_dict = [\n",
    "            {'age_cuts': {\n",
    "                'target': ['Age 62 and over'],\n",
    "                'control': ['Age below 62']\n",
    "            }},\n",
    "            {'Race': {\n",
    "                'target': ['black', 'hispanic'],\n",
    "                'control': ['white']\n",
    "            }},\n",
    "            {'Race': {\n",
    "                'target': ['black'],\n",
    "                'control': ['white']\n",
    "            }},\n",
    "            {'Race': {\n",
    "                'target': ['hispanic'],\n",
    "                'control': ['white']\n",
    "            }},\n",
    "            {'Gender': {\n",
    "                'target': ['F'],\n",
    "                'control': ['M']\n",
    "            }},\n",
    "            # 'mmct_tag': {\n",
    "            #     'target': ['mmct'],\n",
    "            #     'control': ['non-mmct']\n",
    "            # }\n",
    "    ]\n",
    "\n",
    "    for var in target_control_dict:\n",
    "        for i in var:\n",
    "            target_list = var[i]['target']\n",
    "            control_list = var[i]['control']\n",
    "            p_target_list= ','.join(target_list) if (\n",
    "                (len(target_list)<= 1) and (('black' in target_list) or ('hispanic' in target_list))\n",
    "            ) else ''\n",
    "            \n",
    "            ttd_target= pred[pred[i].isin(target_list)]['con_wt'].sum()\n",
    "            approved_target= pred[pred[i].isin(target_list)]['approved'].multiply(pred[pred[i].isin(target_list)]['con_wt']).sum()\n",
    "            ttd_control= pred[pred[i].isin(control_list)]['con_wt'].sum()\n",
    "            approved_control= pred[pred[i].isin(control_list)]['approved'].multiply(pred[pred[i].isin(control_list)]['con_wt']).sum()\n",
    "            app_pct_target= round(approved_target/ttd_target, 4)\n",
    "            app_pct_control= round(approved_control/ttd_control, 4)\n",
    "            air[prefix+i+p_target_list]= [round(app_pct_target/app_pct_control, 4)]\n",
    "        \n",
    "            print({'variable': i, 'target_list': p_target_list, 'ttd_target': ttd_target, 'ttd_control': ttd_control, \n",
    "                   'approved_target': approved_target, 'approved_control': approved_control})\n",
    "            \n",
    "    print(air)\n",
    "        \n",
    "    return air"
   ]
  },
  {
   "cell_type": "code",
   "execution_count": 61,
   "id": "a0ad2af0-8b9f-4c49-aaf4-8a564b125a37",
   "metadata": {
    "tags": []
   },
   "outputs": [
    {
     "name": "stdout",
     "output_type": "stream",
     "text": [
      "{'variable': 'age_cuts', 'target_list': '', 'ttd_target': 40529, 'ttd_control': 445884, 'approved_target': 26255, 'approved_control': 209679}\n",
      "{'variable': 'Race', 'target_list': '', 'ttd_target': 95125, 'ttd_control': 259333, 'approved_target': 38550, 'approved_control': 138164}\n",
      "{'variable': 'Race', 'target_list': 'black', 'ttd_target': 51856, 'ttd_control': 259333, 'approved_target': 18457, 'approved_control': 138164}\n",
      "{'variable': 'Race', 'target_list': 'hispanic', 'ttd_target': 43269, 'ttd_control': 259333, 'approved_target': 20093, 'approved_control': 138164}\n",
      "{'variable': 'Gender', 'target_list': '', 'ttd_target': 191167, 'ttd_control': 257696, 'approved_target': 90833, 'approved_control': 129119}\n",
      "{'AIR TTDage_cuts': [1.3774], 'AIR TTDRace': [0.7607], 'AIR TTDRaceblack': [0.668], 'AIR TTDRacehispanic': [0.8716], 'AIR TTDGender': [0.9481]}\n"
     ]
    },
    {
     "data": {
      "text/plain": [
       "{'AIR TTDage_cuts': [1.3774],\n",
       " 'AIR TTDRace': [0.7607],\n",
       " 'AIR TTDRaceblack': [0.668],\n",
       " 'AIR TTDRacehispanic': [0.8716],\n",
       " 'AIR TTDGender': [0.9481]}"
      ]
     },
     "execution_count": 61,
     "metadata": {},
     "output_type": "execute_result"
    }
   ],
   "source": [
    "air_calc_new_2(Equal_Approval_Cutoff_Barsath(ttd_ono, 'approve_flag', 'p1'), 'AIR TTD')"
   ]
  },
  {
   "cell_type": "code",
   "execution_count": 62,
   "id": "fd2023e4-2493-41f6-9d59-55d3ea586957",
   "metadata": {
    "tags": []
   },
   "outputs": [
    {
     "name": "stdout",
     "output_type": "stream",
     "text": [
      "{'variable': 'age_cuts', 'target_list': '', 'ttd_target': 22375, 'ttd_control': 206372, 'approved_target': 17763, 'approved_control': 130338}\n",
      "{'variable': 'Race', 'target_list': '', 'ttd_target': 38155, 'ttd_control': 131888, 'approved_target': 21699, 'approved_control': 90529}\n",
      "{'variable': 'Race', 'target_list': 'black', 'ttd_target': 16984, 'ttd_control': 131888, 'approved_target': 10540, 'approved_control': 90529}\n",
      "{'variable': 'Race', 'target_list': 'hispanic', 'ttd_target': 21171, 'ttd_control': 131888, 'approved_target': 11159, 'approved_control': 90529}\n",
      "{'variable': 'Gender', 'target_list': '', 'ttd_target': 87379, 'ttd_control': 124765, 'approved_target': 56228, 'approved_control': 82610}\n",
      "{'AIR TTDage_cuts': [1.257], 'AIR TTDRace': [0.8285], 'AIR TTDRaceblack': [0.9041], 'AIR TTDRacehispanic': [0.7679], 'AIR TTDGender': [0.9719]}\n",
      "{'variable': 'age_cuts', 'target_list': '', 'ttd_target': 18154, 'ttd_control': 239512, 'approved_target': 10723, 'approved_control': 76741}\n",
      "{'variable': 'Race', 'target_list': '', 'ttd_target': 56970, 'ttd_control': 127445, 'approved_target': 16382, 'approved_control': 48725}\n",
      "{'variable': 'Race', 'target_list': 'black', 'ttd_target': 34872, 'ttd_control': 127445, 'approved_target': 10407, 'approved_control': 48725}\n",
      "{'variable': 'Race', 'target_list': 'hispanic', 'ttd_target': 22098, 'ttd_control': 127445, 'approved_target': 5975, 'approved_control': 48725}\n",
      "{'variable': 'Gender', 'target_list': '', 'ttd_target': 103788, 'ttd_control': 132931, 'approved_target': 35016, 'approved_control': 47078}\n",
      "{'AIR TTDage_cuts': [1.8436], 'AIR TTDRace': [0.7523], 'AIR TTDRaceblack': [0.7805], 'AIR TTDRacehispanic': [0.7073], 'AIR TTDGender': [0.9526]}\n"
     ]
    },
    {
     "data": {
      "text/plain": [
       "dataset\n",
       "FICO_660_740     {'AIR TTDage_cuts': [1.257], 'AIR TTDRace': [0.8285], 'AIR TTDRaceblack': [0.9041], 'AIR TTDRacehispanic': [0.7679], 'AIR TTDGender': [0.9719]}\n",
       "FICO_LT_660     {'AIR TTDage_cuts': [1.8436], 'AIR TTDRace': [0.7523], 'AIR TTDRaceblack': [0.7805], 'AIR TTDRacehispanic': [0.7073], 'AIR TTDGender': [0.9526]}\n",
       "dtype: object"
      ]
     },
     "execution_count": 62,
     "metadata": {},
     "output_type": "execute_result"
    }
   ],
   "source": [
    "ttd_ono.groupby('dataset').apply(lambda x: air_calc_new_2(Equal_Approval_Cutoff_Barsath(x, 'approve_flag', 'p1'), 'AIR TTD'))"
   ]
  },
  {
   "cell_type": "code",
   "execution_count": null,
   "id": "152ce8c6-17fd-439a-a1b1-52eb77eb81c2",
   "metadata": {},
   "outputs": [],
   "source": []
  },
  {
   "cell_type": "code",
   "execution_count": null,
   "id": "e625166d-6d01-4d17-805d-16048cf204ed",
   "metadata": {},
   "outputs": [],
   "source": []
  },
  {
   "cell_type": "code",
   "execution_count": null,
   "id": "0db04eec-7102-491c-8c19-0216da3752ed",
   "metadata": {},
   "outputs": [],
   "source": []
  },
  {
   "cell_type": "markdown",
   "id": "e22ca768-90d4-4116-94c4-a24e267a1b97",
   "metadata": {},
   "source": [
    "### Misc"
   ]
  },
  {
   "cell_type": "code",
   "execution_count": 3,
   "id": "b8853649-ef7a-435f-8f6f-a868cf2efdc7",
   "metadata": {
    "tags": []
   },
   "outputs": [
    {
     "data": {
      "text/plain": [
       "'/root/Unified_LN_V2/LN_Auto_V2/Code'"
      ]
     },
     "execution_count": 3,
     "metadata": {},
     "output_type": "execute_result"
    }
   ],
   "source": [
    "pwd"
   ]
  },
  {
   "cell_type": "code",
   "execution_count": 9,
   "id": "b5842282-58be-46ae-8494-daef02b6d85c",
   "metadata": {
    "tags": []
   },
   "outputs": [
    {
     "name": "stdout",
     "output_type": "stream",
     "text": [
      "\u001b[0m\u001b[01;34mImageMagick-6\u001b[0m/    \u001b[01;34mdict\u001b[0m/                  \u001b[01;34micons\u001b[0m/             \u001b[01;34mperl\u001b[0m/\n",
      "\u001b[01;34mX11\u001b[0m/              \u001b[01;34mdjvu\u001b[0m/                  \u001b[01;34minfo\u001b[0m/              \u001b[01;34mperl5\u001b[0m/\n",
      "\u001b[01;34madduser\u001b[0m/          \u001b[01;34mdoc\u001b[0m/                   \u001b[01;34mkerberos-configs\u001b[0m/  \u001b[01;34mpixmaps\u001b[0m/\n",
      "\u001b[01;34mapplications\u001b[0m/     \u001b[01;34mdoc-base\u001b[0m/              \u001b[01;34mkeyrings\u001b[0m/          \u001b[01;34mpkgconfig\u001b[0m/\n",
      "\u001b[01;34mapport\u001b[0m/           \u001b[01;34mdpkg\u001b[0m/                  \u001b[01;34mlibc-bin\u001b[0m/          \u001b[01;34mpolkit-1\u001b[0m/\n",
      "\u001b[01;34mbase-files\u001b[0m/       \u001b[01;34memacs\u001b[0m/                 \u001b[01;34mlibthai\u001b[0m/           \u001b[01;34mpoppler\u001b[0m/\n",
      "\u001b[01;34mbase-passwd\u001b[0m/      \u001b[01;34mfontconfig\u001b[0m/            \u001b[01;34mlintian\u001b[0m/           \u001b[01;34mpython3\u001b[0m/\n",
      "\u001b[01;34mbash-completion\u001b[0m/  \u001b[01;34mfonts\u001b[0m/                 \u001b[01;34mlocale\u001b[0m/            \u001b[01;34mreadline\u001b[0m/\n",
      "\u001b[01;34mbinfmts\u001b[0m/          \u001b[01;34mfonts-droid-fallback\u001b[0m/  \u001b[01;34mman\u001b[0m/               \u001b[01;34msensible-utils\u001b[0m/\n",
      "\u001b[01;34mbug\u001b[0m/              \u001b[01;34mgcc\u001b[0m/                   \u001b[01;34mmenu\u001b[0m/              \u001b[01;34mtabset\u001b[0m/\n",
      "\u001b[01;34mca-certificates\u001b[0m/  \u001b[01;34mgdb\u001b[0m/                   \u001b[01;34mmercurial\u001b[0m/         \u001b[01;34mterminfo\u001b[0m/\n",
      "\u001b[01;34mcolor\u001b[0m/            \u001b[01;34mghostscript\u001b[0m/           \u001b[01;34mmetainfo\u001b[0m/          \u001b[01;34mucf\u001b[0m/\n",
      "\u001b[01;34mcommon-licenses\u001b[0m/  \u001b[01;34mgit-core\u001b[0m/              \u001b[01;34mmisc\u001b[0m/              \u001b[01;34mxml\u001b[0m/\n",
      "\u001b[01;34mdbus-1\u001b[0m/           \u001b[01;34mgitweb\u001b[0m/                \u001b[01;34mnetpbm\u001b[0m/            \u001b[01;34mzoneinfo\u001b[0m/\n",
      "\u001b[01;34mdebconf\u001b[0m/          \u001b[01;34mglib-2.0\u001b[0m/              \u001b[01;34mpam\u001b[0m/               \u001b[01;34mzsh\u001b[0m/\n",
      "\u001b[01;34mdebianutils\u001b[0m/      \u001b[01;34mgroff\u001b[0m/                 \u001b[01;34mpam-configs\u001b[0m/\n"
     ]
    }
   ],
   "source": [
    "ls '/usr/share/'"
   ]
  },
  {
   "cell_type": "code",
   "execution_count": null,
   "id": "356ba9e7-b6eb-4840-8ec4-6fb379676f79",
   "metadata": {},
   "outputs": [],
   "source": []
  },
  {
   "cell_type": "code",
   "execution_count": null,
   "id": "0b844498-1098-496d-8594-2b49d6de8ea1",
   "metadata": {},
   "outputs": [],
   "source": []
  }
 ],
 "metadata": {
  "availableInstances": [
   {
    "_defaultOrder": 0,
    "_isFastLaunch": true,
    "category": "General purpose",
    "gpuNum": 0,
    "hideHardwareSpecs": false,
    "memoryGiB": 4,
    "name": "ml.t3.medium",
    "vcpuNum": 2
   },
   {
    "_defaultOrder": 1,
    "_isFastLaunch": false,
    "category": "General purpose",
    "gpuNum": 0,
    "hideHardwareSpecs": false,
    "memoryGiB": 8,
    "name": "ml.t3.large",
    "vcpuNum": 2
   },
   {
    "_defaultOrder": 2,
    "_isFastLaunch": false,
    "category": "General purpose",
    "gpuNum": 0,
    "hideHardwareSpecs": false,
    "memoryGiB": 16,
    "name": "ml.t3.xlarge",
    "vcpuNum": 4
   },
   {
    "_defaultOrder": 3,
    "_isFastLaunch": false,
    "category": "General purpose",
    "gpuNum": 0,
    "hideHardwareSpecs": false,
    "memoryGiB": 32,
    "name": "ml.t3.2xlarge",
    "vcpuNum": 8
   },
   {
    "_defaultOrder": 4,
    "_isFastLaunch": true,
    "category": "General purpose",
    "gpuNum": 0,
    "hideHardwareSpecs": false,
    "memoryGiB": 8,
    "name": "ml.m5.large",
    "vcpuNum": 2
   },
   {
    "_defaultOrder": 5,
    "_isFastLaunch": false,
    "category": "General purpose",
    "gpuNum": 0,
    "hideHardwareSpecs": false,
    "memoryGiB": 16,
    "name": "ml.m5.xlarge",
    "vcpuNum": 4
   },
   {
    "_defaultOrder": 6,
    "_isFastLaunch": false,
    "category": "General purpose",
    "gpuNum": 0,
    "hideHardwareSpecs": false,
    "memoryGiB": 32,
    "name": "ml.m5.2xlarge",
    "vcpuNum": 8
   },
   {
    "_defaultOrder": 7,
    "_isFastLaunch": false,
    "category": "General purpose",
    "gpuNum": 0,
    "hideHardwareSpecs": false,
    "memoryGiB": 64,
    "name": "ml.m5.4xlarge",
    "vcpuNum": 16
   },
   {
    "_defaultOrder": 8,
    "_isFastLaunch": false,
    "category": "General purpose",
    "gpuNum": 0,
    "hideHardwareSpecs": false,
    "memoryGiB": 128,
    "name": "ml.m5.8xlarge",
    "vcpuNum": 32
   },
   {
    "_defaultOrder": 9,
    "_isFastLaunch": false,
    "category": "General purpose",
    "gpuNum": 0,
    "hideHardwareSpecs": false,
    "memoryGiB": 192,
    "name": "ml.m5.12xlarge",
    "vcpuNum": 48
   },
   {
    "_defaultOrder": 10,
    "_isFastLaunch": false,
    "category": "General purpose",
    "gpuNum": 0,
    "hideHardwareSpecs": false,
    "memoryGiB": 256,
    "name": "ml.m5.16xlarge",
    "vcpuNum": 64
   },
   {
    "_defaultOrder": 11,
    "_isFastLaunch": false,
    "category": "General purpose",
    "gpuNum": 0,
    "hideHardwareSpecs": false,
    "memoryGiB": 384,
    "name": "ml.m5.24xlarge",
    "vcpuNum": 96
   },
   {
    "_defaultOrder": 12,
    "_isFastLaunch": false,
    "category": "General purpose",
    "gpuNum": 0,
    "hideHardwareSpecs": false,
    "memoryGiB": 8,
    "name": "ml.m5d.large",
    "vcpuNum": 2
   },
   {
    "_defaultOrder": 13,
    "_isFastLaunch": false,
    "category": "General purpose",
    "gpuNum": 0,
    "hideHardwareSpecs": false,
    "memoryGiB": 16,
    "name": "ml.m5d.xlarge",
    "vcpuNum": 4
   },
   {
    "_defaultOrder": 14,
    "_isFastLaunch": false,
    "category": "General purpose",
    "gpuNum": 0,
    "hideHardwareSpecs": false,
    "memoryGiB": 32,
    "name": "ml.m5d.2xlarge",
    "vcpuNum": 8
   },
   {
    "_defaultOrder": 15,
    "_isFastLaunch": false,
    "category": "General purpose",
    "gpuNum": 0,
    "hideHardwareSpecs": false,
    "memoryGiB": 64,
    "name": "ml.m5d.4xlarge",
    "vcpuNum": 16
   },
   {
    "_defaultOrder": 16,
    "_isFastLaunch": false,
    "category": "General purpose",
    "gpuNum": 0,
    "hideHardwareSpecs": false,
    "memoryGiB": 128,
    "name": "ml.m5d.8xlarge",
    "vcpuNum": 32
   },
   {
    "_defaultOrder": 17,
    "_isFastLaunch": false,
    "category": "General purpose",
    "gpuNum": 0,
    "hideHardwareSpecs": false,
    "memoryGiB": 192,
    "name": "ml.m5d.12xlarge",
    "vcpuNum": 48
   },
   {
    "_defaultOrder": 18,
    "_isFastLaunch": false,
    "category": "General purpose",
    "gpuNum": 0,
    "hideHardwareSpecs": false,
    "memoryGiB": 256,
    "name": "ml.m5d.16xlarge",
    "vcpuNum": 64
   },
   {
    "_defaultOrder": 19,
    "_isFastLaunch": false,
    "category": "General purpose",
    "gpuNum": 0,
    "hideHardwareSpecs": false,
    "memoryGiB": 384,
    "name": "ml.m5d.24xlarge",
    "vcpuNum": 96
   },
   {
    "_defaultOrder": 20,
    "_isFastLaunch": false,
    "category": "General purpose",
    "gpuNum": 0,
    "hideHardwareSpecs": true,
    "memoryGiB": 0,
    "name": "ml.geospatial.interactive",
    "supportedImageNames": [
     "sagemaker-geospatial-v1-0"
    ],
    "vcpuNum": 0
   },
   {
    "_defaultOrder": 21,
    "_isFastLaunch": true,
    "category": "Compute optimized",
    "gpuNum": 0,
    "hideHardwareSpecs": false,
    "memoryGiB": 4,
    "name": "ml.c5.large",
    "vcpuNum": 2
   },
   {
    "_defaultOrder": 22,
    "_isFastLaunch": false,
    "category": "Compute optimized",
    "gpuNum": 0,
    "hideHardwareSpecs": false,
    "memoryGiB": 8,
    "name": "ml.c5.xlarge",
    "vcpuNum": 4
   },
   {
    "_defaultOrder": 23,
    "_isFastLaunch": false,
    "category": "Compute optimized",
    "gpuNum": 0,
    "hideHardwareSpecs": false,
    "memoryGiB": 16,
    "name": "ml.c5.2xlarge",
    "vcpuNum": 8
   },
   {
    "_defaultOrder": 24,
    "_isFastLaunch": false,
    "category": "Compute optimized",
    "gpuNum": 0,
    "hideHardwareSpecs": false,
    "memoryGiB": 32,
    "name": "ml.c5.4xlarge",
    "vcpuNum": 16
   },
   {
    "_defaultOrder": 25,
    "_isFastLaunch": false,
    "category": "Compute optimized",
    "gpuNum": 0,
    "hideHardwareSpecs": false,
    "memoryGiB": 72,
    "name": "ml.c5.9xlarge",
    "vcpuNum": 36
   },
   {
    "_defaultOrder": 26,
    "_isFastLaunch": false,
    "category": "Compute optimized",
    "gpuNum": 0,
    "hideHardwareSpecs": false,
    "memoryGiB": 96,
    "name": "ml.c5.12xlarge",
    "vcpuNum": 48
   },
   {
    "_defaultOrder": 27,
    "_isFastLaunch": false,
    "category": "Compute optimized",
    "gpuNum": 0,
    "hideHardwareSpecs": false,
    "memoryGiB": 144,
    "name": "ml.c5.18xlarge",
    "vcpuNum": 72
   },
   {
    "_defaultOrder": 28,
    "_isFastLaunch": false,
    "category": "Compute optimized",
    "gpuNum": 0,
    "hideHardwareSpecs": false,
    "memoryGiB": 192,
    "name": "ml.c5.24xlarge",
    "vcpuNum": 96
   },
   {
    "_defaultOrder": 29,
    "_isFastLaunch": true,
    "category": "Accelerated computing",
    "gpuNum": 1,
    "hideHardwareSpecs": false,
    "memoryGiB": 16,
    "name": "ml.g4dn.xlarge",
    "vcpuNum": 4
   },
   {
    "_defaultOrder": 30,
    "_isFastLaunch": false,
    "category": "Accelerated computing",
    "gpuNum": 1,
    "hideHardwareSpecs": false,
    "memoryGiB": 32,
    "name": "ml.g4dn.2xlarge",
    "vcpuNum": 8
   },
   {
    "_defaultOrder": 31,
    "_isFastLaunch": false,
    "category": "Accelerated computing",
    "gpuNum": 1,
    "hideHardwareSpecs": false,
    "memoryGiB": 64,
    "name": "ml.g4dn.4xlarge",
    "vcpuNum": 16
   },
   {
    "_defaultOrder": 32,
    "_isFastLaunch": false,
    "category": "Accelerated computing",
    "gpuNum": 1,
    "hideHardwareSpecs": false,
    "memoryGiB": 128,
    "name": "ml.g4dn.8xlarge",
    "vcpuNum": 32
   },
   {
    "_defaultOrder": 33,
    "_isFastLaunch": false,
    "category": "Accelerated computing",
    "gpuNum": 4,
    "hideHardwareSpecs": false,
    "memoryGiB": 192,
    "name": "ml.g4dn.12xlarge",
    "vcpuNum": 48
   },
   {
    "_defaultOrder": 34,
    "_isFastLaunch": false,
    "category": "Accelerated computing",
    "gpuNum": 1,
    "hideHardwareSpecs": false,
    "memoryGiB": 256,
    "name": "ml.g4dn.16xlarge",
    "vcpuNum": 64
   },
   {
    "_defaultOrder": 35,
    "_isFastLaunch": false,
    "category": "Accelerated computing",
    "gpuNum": 1,
    "hideHardwareSpecs": false,
    "memoryGiB": 61,
    "name": "ml.p3.2xlarge",
    "vcpuNum": 8
   },
   {
    "_defaultOrder": 36,
    "_isFastLaunch": false,
    "category": "Accelerated computing",
    "gpuNum": 4,
    "hideHardwareSpecs": false,
    "memoryGiB": 244,
    "name": "ml.p3.8xlarge",
    "vcpuNum": 32
   },
   {
    "_defaultOrder": 37,
    "_isFastLaunch": false,
    "category": "Accelerated computing",
    "gpuNum": 8,
    "hideHardwareSpecs": false,
    "memoryGiB": 488,
    "name": "ml.p3.16xlarge",
    "vcpuNum": 64
   },
   {
    "_defaultOrder": 38,
    "_isFastLaunch": false,
    "category": "Accelerated computing",
    "gpuNum": 8,
    "hideHardwareSpecs": false,
    "memoryGiB": 768,
    "name": "ml.p3dn.24xlarge",
    "vcpuNum": 96
   },
   {
    "_defaultOrder": 39,
    "_isFastLaunch": false,
    "category": "Memory Optimized",
    "gpuNum": 0,
    "hideHardwareSpecs": false,
    "memoryGiB": 16,
    "name": "ml.r5.large",
    "vcpuNum": 2
   },
   {
    "_defaultOrder": 40,
    "_isFastLaunch": false,
    "category": "Memory Optimized",
    "gpuNum": 0,
    "hideHardwareSpecs": false,
    "memoryGiB": 32,
    "name": "ml.r5.xlarge",
    "vcpuNum": 4
   },
   {
    "_defaultOrder": 41,
    "_isFastLaunch": false,
    "category": "Memory Optimized",
    "gpuNum": 0,
    "hideHardwareSpecs": false,
    "memoryGiB": 64,
    "name": "ml.r5.2xlarge",
    "vcpuNum": 8
   },
   {
    "_defaultOrder": 42,
    "_isFastLaunch": false,
    "category": "Memory Optimized",
    "gpuNum": 0,
    "hideHardwareSpecs": false,
    "memoryGiB": 128,
    "name": "ml.r5.4xlarge",
    "vcpuNum": 16
   },
   {
    "_defaultOrder": 43,
    "_isFastLaunch": false,
    "category": "Memory Optimized",
    "gpuNum": 0,
    "hideHardwareSpecs": false,
    "memoryGiB": 256,
    "name": "ml.r5.8xlarge",
    "vcpuNum": 32
   },
   {
    "_defaultOrder": 44,
    "_isFastLaunch": false,
    "category": "Memory Optimized",
    "gpuNum": 0,
    "hideHardwareSpecs": false,
    "memoryGiB": 384,
    "name": "ml.r5.12xlarge",
    "vcpuNum": 48
   },
   {
    "_defaultOrder": 45,
    "_isFastLaunch": false,
    "category": "Memory Optimized",
    "gpuNum": 0,
    "hideHardwareSpecs": false,
    "memoryGiB": 512,
    "name": "ml.r5.16xlarge",
    "vcpuNum": 64
   },
   {
    "_defaultOrder": 46,
    "_isFastLaunch": false,
    "category": "Memory Optimized",
    "gpuNum": 0,
    "hideHardwareSpecs": false,
    "memoryGiB": 768,
    "name": "ml.r5.24xlarge",
    "vcpuNum": 96
   },
   {
    "_defaultOrder": 47,
    "_isFastLaunch": false,
    "category": "Accelerated computing",
    "gpuNum": 1,
    "hideHardwareSpecs": false,
    "memoryGiB": 16,
    "name": "ml.g5.xlarge",
    "vcpuNum": 4
   },
   {
    "_defaultOrder": 48,
    "_isFastLaunch": false,
    "category": "Accelerated computing",
    "gpuNum": 1,
    "hideHardwareSpecs": false,
    "memoryGiB": 32,
    "name": "ml.g5.2xlarge",
    "vcpuNum": 8
   },
   {
    "_defaultOrder": 49,
    "_isFastLaunch": false,
    "category": "Accelerated computing",
    "gpuNum": 1,
    "hideHardwareSpecs": false,
    "memoryGiB": 64,
    "name": "ml.g5.4xlarge",
    "vcpuNum": 16
   },
   {
    "_defaultOrder": 50,
    "_isFastLaunch": false,
    "category": "Accelerated computing",
    "gpuNum": 1,
    "hideHardwareSpecs": false,
    "memoryGiB": 128,
    "name": "ml.g5.8xlarge",
    "vcpuNum": 32
   },
   {
    "_defaultOrder": 51,
    "_isFastLaunch": false,
    "category": "Accelerated computing",
    "gpuNum": 1,
    "hideHardwareSpecs": false,
    "memoryGiB": 256,
    "name": "ml.g5.16xlarge",
    "vcpuNum": 64
   },
   {
    "_defaultOrder": 52,
    "_isFastLaunch": false,
    "category": "Accelerated computing",
    "gpuNum": 4,
    "hideHardwareSpecs": false,
    "memoryGiB": 192,
    "name": "ml.g5.12xlarge",
    "vcpuNum": 48
   },
   {
    "_defaultOrder": 53,
    "_isFastLaunch": false,
    "category": "Accelerated computing",
    "gpuNum": 4,
    "hideHardwareSpecs": false,
    "memoryGiB": 384,
    "name": "ml.g5.24xlarge",
    "vcpuNum": 96
   },
   {
    "_defaultOrder": 54,
    "_isFastLaunch": false,
    "category": "Accelerated computing",
    "gpuNum": 8,
    "hideHardwareSpecs": false,
    "memoryGiB": 768,
    "name": "ml.g5.48xlarge",
    "vcpuNum": 192
   },
   {
    "_defaultOrder": 55,
    "_isFastLaunch": false,
    "category": "Accelerated computing",
    "gpuNum": 8,
    "hideHardwareSpecs": false,
    "memoryGiB": 1152,
    "name": "ml.p4d.24xlarge",
    "vcpuNum": 96
   },
   {
    "_defaultOrder": 56,
    "_isFastLaunch": false,
    "category": "Accelerated computing",
    "gpuNum": 8,
    "hideHardwareSpecs": false,
    "memoryGiB": 1152,
    "name": "ml.p4de.24xlarge",
    "vcpuNum": 96
   },
   {
    "_defaultOrder": 57,
    "_isFastLaunch": false,
    "category": "Accelerated computing",
    "gpuNum": 0,
    "hideHardwareSpecs": false,
    "memoryGiB": 32,
    "name": "ml.trn1.2xlarge",
    "vcpuNum": 8
   },
   {
    "_defaultOrder": 58,
    "_isFastLaunch": false,
    "category": "Accelerated computing",
    "gpuNum": 0,
    "hideHardwareSpecs": false,
    "memoryGiB": 512,
    "name": "ml.trn1.32xlarge",
    "vcpuNum": 128
   },
   {
    "_defaultOrder": 59,
    "_isFastLaunch": false,
    "category": "Accelerated computing",
    "gpuNum": 0,
    "hideHardwareSpecs": false,
    "memoryGiB": 512,
    "name": "ml.trn1n.32xlarge",
    "vcpuNum": 128
   }
  ],
  "kernelspec": {
   "display_name": "Python 3 (Data Science 3.0)",
   "language": "python",
   "name": "python3__SAGEMAKER_INTERNAL__arn:aws:sagemaker:us-west-2:236514542706:image/sagemaker-data-science-310-v1"
  },
  "language_info": {
   "codemirror_mode": {
    "name": "ipython",
    "version": 3
   },
   "file_extension": ".py",
   "mimetype": "text/x-python",
   "name": "python",
   "nbconvert_exporter": "python",
   "pygments_lexer": "ipython3",
   "version": "3.10.6"
  },
  "lcc_arn": "arn:aws:sagemaker:us-west-2:087022704862:studio-lifecycle-config/install-h2o-java-new"
 },
 "nbformat": 4,
 "nbformat_minor": 5
}
