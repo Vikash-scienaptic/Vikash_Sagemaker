{
 "cells": [
  {
   "cell_type": "code",
   "execution_count": 23,
   "id": "34c330f9-bbef-46b2-8139-1a6a5b0a6926",
   "metadata": {
    "tags": []
   },
   "outputs": [],
   "source": [
    "import pandas as pd\n",
    "import numpy as np\n",
    "import boto3\n",
    "import sagemaker\n",
    "import json\n",
    "import re\n",
    "import random\n",
    "import orjson\n",
    "import importlib\n",
    "from io import StringIO, BytesIO"
   ]
  },
  {
   "cell_type": "code",
   "execution_count": 61,
   "id": "366ad439-c2d5-4e91-b1f0-edd6c1879561",
   "metadata": {
    "tags": []
   },
   "outputs": [
    {
     "data": {
      "text/plain": [
       "<botocore.client.S3 at 0x7f9b2bdc1600>"
      ]
     },
     "execution_count": 61,
     "metadata": {},
     "output_type": "execute_result"
    }
   ],
   "source": [
    "s3 = boto3.client('s3',region_name = \"us-east-2\")\n",
    "s3"
   ]
  },
  {
   "cell_type": "code",
   "execution_count": 62,
   "id": "87794081-a5ae-47ed-b8c0-3e333316bf47",
   "metadata": {
    "tags": []
   },
   "outputs": [
    {
     "name": "stdout",
     "output_type": "stream",
     "text": [
      "sagemaker-ap-south-1-087022704862\n",
      "sagemaker-automated-execution-087022704862-us-west-2\n",
      "sagemaker-studio-087022704862-1tpm63rtddk\n",
      "sagemaker-studio-087022704862-3qmrrdlammh\n",
      "sagemaker-studio-087022704862-cm8ga3fdmti\n",
      "sagemaker-studio-90qgueyqqc5\n",
      "sagemaker-studio-lsvvw82teco\n",
      "sagemaker-us-west-2-087022704862\n",
      "scienaptic-ds-auto-dashboard\n",
      "us-cit-prod-root-backup\n"
     ]
    }
   ],
   "source": [
    "response = s3.list_buckets()\n",
    "\n",
    "bucket_names = [bucket['Name'] for bucket in response['Buckets']]\n",
    "\n",
    "for name in bucket_names:\n",
    "    print(name)"
   ]
  },
  {
   "cell_type": "markdown",
   "id": "a6103538-6263-436c-93f7-03082a41564e",
   "metadata": {},
   "source": [
    "## Unsecured"
   ]
  },
  {
   "cell_type": "code",
   "execution_count": 173,
   "id": "a3c20e00-a402-4344-b493-9a621fd39662",
   "metadata": {
    "tags": []
   },
   "outputs": [
    {
     "data": {
      "text/plain": [
       "['home/sushil/LN_Unified_V2/Unsec_Model_Dataset/Data/',\n",
       " 'home/sushil/LN_Unified_V2/Unsec_Model_Dataset/Protected_Class_Data/',\n",
       " 'home/sushil/LN_Unified_V2/Unsec_Model_Dataset/RI_Unsec_Model/',\n",
       " 'home/sushil/LN_Unified_V2/Unsec_Model_Dataset/With_LDA/',\n",
       " 'home/sushil/LN_Unified_V2/Unsec_Model_Dataset/Without_Segment_Model/']"
      ]
     },
     "execution_count": 173,
     "metadata": {},
     "output_type": "execute_result"
    }
   ],
   "source": [
    "response = s3.list_objects_v2(Bucket = 'scien-ds-sm-root-backup', Delimiter='/',Prefix='home/sushil/LN_Unified_V2/Unsec_Model_Dataset/')\n",
    "# list = [i['Key'] for i in response['Contents']]\n",
    "# for i in list:\n",
    "#     print(i)\n",
    "folders = [prefix['Prefix'] for prefix in response.get('CommonPrefixes', [])]\n",
    "folders"
   ]
  },
  {
   "cell_type": "markdown",
   "id": "e9939b39-0262-4004-a993-4f1cc771781f",
   "metadata": {},
   "source": [
    "### Unsecured Final Dataset"
   ]
  },
  {
   "cell_type": "code",
   "execution_count": 178,
   "id": "f853bbd4-e4fa-463a-a3a7-2676a62f5ebc",
   "metadata": {
    "tags": []
   },
   "outputs": [
    {
     "name": "stdout",
     "output_type": "stream",
     "text": [
      "home/sushil/LN_Unified_V2/Unsec_Model_Dataset/Without_Segment_Model/Mono_Data/Overall_1_Unsec_Oot_Binned_Data_100424.csv\n",
      "home/sushil/LN_Unified_V2/Unsec_Model_Dataset/Without_Segment_Model/Mono_Data/Overall_1_Unsec_Test_Binned_Data_100424.csv\n",
      "home/sushil/LN_Unified_V2/Unsec_Model_Dataset/Without_Segment_Model/Mono_Data/Overall_1_Unsec_Train_Binned_Data_100424.csv\n",
      "home/sushil/LN_Unified_V2/Unsec_Model_Dataset/Without_Segment_Model/Mono_Data/Overall_1_Unsec_Ttd_Binned_Data_100424.csv\n",
      "home/sushil/LN_Unified_V2/Unsec_Model_Dataset/Without_Segment_Model/Mono_Data/configFile.pickle\n",
      "home/sushil/LN_Unified_V2/Unsec_Model_Dataset/Without_Segment_Model/Mono_Data/embed_df.pickle\n",
      "home/sushil/LN_Unified_V2/Unsec_Model_Dataset/Without_Segment_Model/Mono_Data/feature_boundaries.pickle\n",
      "home/sushil/LN_Unified_V2/Unsec_Model_Dataset/Without_Segment_Model/Mono_Data/feature_meta.pickle\n",
      "home/sushil/LN_Unified_V2/Unsec_Model_Dataset/Without_Segment_Model/Mono_Data/numeric_df.pickle\n"
     ]
    }
   ],
   "source": [
    "response = s3.list_objects_v2(Bucket = 'scien-ds-sm-root-backup', Delimiter='/',Prefix='home/sushil/LN_Unified_V2/Unsec_Model_Dataset/Without_Segment_Model/Mono_Data/')\n",
    "list = [i['Key'] for i in response['Contents']]\n",
    "for i in list:\n",
    "    print(i)\n",
    "# folders = [prefix['Prefix'] for prefix in response.get('CommonPrefixes', [])]\n",
    "# folders"
   ]
  },
  {
   "cell_type": "code",
   "execution_count": null,
   "id": "6b11f8eb-0db3-4d51-a91e-a019ca8d924e",
   "metadata": {},
   "outputs": [],
   "source": []
  },
  {
   "cell_type": "markdown",
   "id": "a5e1cb72-29aa-4df8-a962-ad12f1c3a308",
   "metadata": {},
   "source": [
    "## Auto"
   ]
  },
  {
   "cell_type": "code",
   "execution_count": 129,
   "id": "9e1637a0-f6cd-462e-9663-3283c8eb66af",
   "metadata": {
    "tags": []
   },
   "outputs": [
    {
     "data": {
      "text/plain": [
       "['home/sushil/LN_Unified_V2/Auto_Model_Dataset/.ipynb_checkpoints/',\n",
       " 'home/sushil/LN_Unified_V2/Auto_Model_Dataset//',\n",
       " 'home/sushil/LN_Unified_V2/Auto_Model_Dataset/Auto_FICO_660_740_Model.ipynb_checkpoints/',\n",
       " 'home/sushil/LN_Unified_V2/Auto_Model_Dataset/Auto_FICO_660_740_Model/',\n",
       " 'home/sushil/LN_Unified_V2/Auto_Model_Dataset/Auto_FICO_660_740_ModelData/',\n",
       " 'home/sushil/LN_Unified_V2/Auto_Model_Dataset/Auto_FICO_660_740_ModelMono_Data/',\n",
       " 'home/sushil/LN_Unified_V2/Auto_Model_Dataset/Auto_FICO_lt_660_Model/',\n",
       " 'home/sushil/LN_Unified_V2/Auto_Model_Dataset/Data/',\n",
       " 'home/sushil/LN_Unified_V2/Auto_Model_Dataset/Derog_Model/',\n",
       " 'home/sushil/LN_Unified_V2/Auto_Model_Dataset/Mono_Data/',\n",
       " 'home/sushil/LN_Unified_V2/Auto_Model_Dataset/Non_Derog_Model/',\n",
       " 'home/sushil/LN_Unified_V2/Auto_Model_Dataset/Non_Property_Owner_Model/',\n",
       " 'home/sushil/LN_Unified_V2/Auto_Model_Dataset/Property_Owner_Model/',\n",
       " 'home/sushil/LN_Unified_V2/Auto_Model_Dataset/RI/',\n",
       " 'home/sushil/LN_Unified_V2/Auto_Model_Dataset/RI_Auto_Model/',\n",
       " 'home/sushil/LN_Unified_V2/Auto_Model_Dataset/Raw_Data/',\n",
       " 'home/sushil/LN_Unified_V2/Auto_Model_Dataset/Without_LDA_Auto_LN_V2/']"
      ]
     },
     "execution_count": 129,
     "metadata": {},
     "output_type": "execute_result"
    }
   ],
   "source": [
    "response = s3.list_objects_v2(Bucket = 'scien-ds-sm-root-backup', Delimiter='/',Prefix='home/sushil/LN_Unified_V2/Auto_Model_Dataset/')\n",
    "\n",
    "folders = [prefix['Prefix'] for prefix in response.get('CommonPrefixes', [])]\n",
    "folders"
   ]
  },
  {
   "cell_type": "markdown",
   "id": "5d1ee6a5-1e14-4f9d-9604-4adeb624ad0e",
   "metadata": {},
   "source": [
    "### Final Dataset"
   ]
  },
  {
   "cell_type": "code",
   "execution_count": 165,
   "id": "e7fb189b-93b5-44a2-bef7-40fa72af336f",
   "metadata": {
    "tags": []
   },
   "outputs": [
    {
     "name": "stdout",
     "output_type": "stream",
     "text": [
      "home/sushil/LN_Unified_V2/Auto_Model_Dataset/Without_LDA_Auto_LN_V2/Iteration_3/050424_LN_Auto_KGB_LDA_No_Segment_Hopt_4.csv\n",
      "home/sushil/LN_Unified_V2/Auto_Model_Dataset/Without_LDA_Auto_LN_V2/Iteration_3/With_LDA_Oot_Auto_LN_V2_Scored_Data_2024-04-08.csv\n",
      "home/sushil/LN_Unified_V2/Auto_Model_Dataset/Without_LDA_Auto_LN_V2/Iteration_3/With_LDA_TTD_Auto_LN_V2_Scored_Data_2024-04-08.csv\n",
      "home/sushil/LN_Unified_V2/Auto_Model_Dataset/Without_LDA_Auto_LN_V2/Iteration_3/With_LDA_Test_Auto_LN_V2_Scored_Data_2024-04-08.csv\n",
      "home/sushil/LN_Unified_V2/Auto_Model_Dataset/Without_LDA_Auto_LN_V2/Iteration_3/With_LDA_Train_Auto_LN_V2_Scored_Data_2024-04-08.csv\n",
      "home/sushil/LN_Unified_V2/Auto_Model_Dataset/Without_LDA_Auto_LN_V2/Iteration_3/xgbm_ln_auto_v2_hpt_best_with_lda_3.zip\n"
     ]
    }
   ],
   "source": [
    "response = s3.list_objects_v2(Bucket = 'scien-ds-sm-root-backup', Delimiter='/',Prefix='home/sushil/LN_Unified_V2/Auto_Model_Dataset/Without_LDA_Auto_LN_V2/Iteration_3/')\n",
    "list = [i['Key'] for i in response['Contents']]\n",
    "for i in list:\n",
    "    print(i)"
   ]
  },
  {
   "cell_type": "code",
   "execution_count": null,
   "id": "dde8a9b7-1877-4f3b-a01f-81d13a664243",
   "metadata": {},
   "outputs": [],
   "source": []
  },
  {
   "cell_type": "markdown",
   "id": "90246908-a2eb-4ed5-8306-2d010f7363d9",
   "metadata": {},
   "source": [
    "### Raw Data"
   ]
  },
  {
   "cell_type": "code",
   "execution_count": 139,
   "id": "d5f07c0d-7a3f-42e3-afac-9c1ada7430c6",
   "metadata": {
    "tags": []
   },
   "outputs": [
    {
     "name": "stdout",
     "output_type": "stream",
     "text": [
      "home/sushil/LN_Unified_V2/Auto_Model_Dataset/Raw_Data/\n",
      "home/sushil/LN_Unified_V2/Auto_Model_Dataset/Raw_Data/040424_Auto_LN_V1_5_Scored_Data.csv\n",
      "home/sushil/LN_Unified_V2/Auto_Model_Dataset/Raw_Data/1_LN_Auto_All_Updated_Data_220324.csv\n",
      "home/sushil/LN_Unified_V2/Auto_Model_Dataset/Raw_Data/2_LN_Auto_V2_Oot_Funded_Data_250324.csv\n",
      "home/sushil/LN_Unified_V2/Auto_Model_Dataset/Raw_Data/2_LN_Auto_V2_TTD_Data_250324.csv\n",
      "home/sushil/LN_Unified_V2/Auto_Model_Dataset/Raw_Data/2_LN_Auto_V2_Test_Funded_Data_250324.csv\n",
      "home/sushil/LN_Unified_V2/Auto_Model_Dataset/Raw_Data/2_LN_Auto_V2_Train_Funded_Data_250324.csv\n"
     ]
    }
   ],
   "source": [
    "response = s3.list_objects_v2(Bucket = 'scien-ds-sm-root-backup', Delimiter='/',Prefix='home/sushil/LN_Unified_V2/Auto_Model_Dataset/Raw_Data/')\n",
    "list = [i['Key'] for i in response['Contents']]\n",
    "for i in list:\n",
    "    print(i)"
   ]
  },
  {
   "cell_type": "code",
   "execution_count": 161,
   "id": "500c4dc6-8d87-45ac-b980-576808b89a83",
   "metadata": {
    "tags": []
   },
   "outputs": [],
   "source": [
    "# response = s3.list_objects_v2(Bucket = 'scien-ds-sm-root-backup', Delimiter='/',Prefix='home/sushil/LN_Unified_V2/Auto_Model_Dataset/Data/')\n",
    "# list = [i['Key'] for i in response['Contents']]\n",
    "# for i in list:\n",
    "#     print(i)"
   ]
  },
  {
   "cell_type": "markdown",
   "id": "b8b739ad-19d6-498b-be00-f7ee6fe0b6d7",
   "metadata": {},
   "source": [
    "### Binned Data"
   ]
  },
  {
   "cell_type": "code",
   "execution_count": 141,
   "id": "267a202c-5f45-4dc5-943b-dfa41ad02591",
   "metadata": {
    "tags": []
   },
   "outputs": [
    {
     "name": "stdout",
     "output_type": "stream",
     "text": [
      "home/sushil/LN_Unified_V2/Auto_Model_Dataset/2_LN_Auto_V2_Train_Funded_Data_250324.csv\n",
      "home/sushil/LN_Unified_V2/Auto_Model_Dataset/3_Auto_Oot_Binned_Data_260324.csv\n",
      "home/sushil/LN_Unified_V2/Auto_Model_Dataset/3_Auto_Test_Binned_Data_260324.csv\n",
      "home/sushil/LN_Unified_V2/Auto_Model_Dataset/3_Auto_Train_Binned_Data_260324.csv\n",
      "home/sushil/LN_Unified_V2/Auto_Model_Dataset/3_Auto_Ttd_Binned_Data_260324.csv\n",
      "home/sushil/LN_Unified_V2/Auto_Model_Dataset/FICO_660_740_030424_LN_Auto_KGB_LDA_Hopt_1.csv\n",
      "home/sushil/LN_Unified_V2/Auto_Model_Dataset/FICO_660_740_050424_LN_Auto_KGB_LDA_Hopt_2.csv\n",
      "home/sushil/LN_Unified_V2/Auto_Model_Dataset/FICO_660_740_Oot_Auto_LN_V2_Scored_Data_2024-04-08.csv\n",
      "home/sushil/LN_Unified_V2/Auto_Model_Dataset/FICO_660_740_TTD_Auto_LN_V2_Scored_Data_2024-04-08.csv\n",
      "home/sushil/LN_Unified_V2/Auto_Model_Dataset/FICO_660_740_Test_Auto_LN_V2_Scored_Data_2024-04-08.csv\n",
      "home/sushil/LN_Unified_V2/Auto_Model_Dataset/FICO_660_740_Train_Auto_LN_V2_Scored_Data_2024-04-08.csv\n",
      "home/sushil/LN_Unified_V2/Auto_Model_Dataset/Raw_Data\n",
      "home/sushil/LN_Unified_V2/Auto_Model_Dataset/xgbm_ln_auto_v2_hpt_best_FICO_660_740.zip\n"
     ]
    }
   ],
   "source": [
    "response = s3.list_objects_v2(Bucket = 'scien-ds-sm-root-backup', Delimiter='/',Prefix='home/sushil/LN_Unified_V2/Auto_Model_Dataset/')\n",
    "list = [i['Key'] for i in response['Contents']]\n",
    "for i in list:\n",
    "    print(i)"
   ]
  },
  {
   "cell_type": "markdown",
   "id": "411b1d9c-0db4-4b5b-ae72-a62bec14e98f",
   "metadata": {},
   "source": [
    "### RI Data"
   ]
  },
  {
   "cell_type": "code",
   "execution_count": 142,
   "id": "8d813bf9-68ee-423d-a3d0-b31be22ddbcf",
   "metadata": {
    "tags": []
   },
   "outputs": [
    {
     "name": "stdout",
     "output_type": "stream",
     "text": [
      "home/sushil/LN_Unified_V2/Auto_Model_Dataset/RI_Auto_Model//220324_LN_Auto_RI_Hopt_1.csv\n",
      "home/sushil/LN_Unified_V2/Auto_Model_Dataset/RI_Auto_Model//220324_LN_Auto_RI_Hopt_2.csv\n",
      "home/sushil/LN_Unified_V2/Auto_Model_Dataset/RI_Auto_Model//250324_RI_Auto_Model_Scored_Data.csv\n",
      "home/sushil/LN_Unified_V2/Auto_Model_Dataset/RI_Auto_Model//xgb_auto_RI_best_hopt.zip\n"
     ]
    }
   ],
   "source": [
    "response = s3.list_objects_v2(Bucket = 'scien-ds-sm-root-backup', Delimiter='/',Prefix='home/sushil/LN_Unified_V2/Auto_Model_Dataset/RI_Auto_Model//')\n",
    "list = [i['Key'] for i in response['Contents']]\n",
    "for i in list:\n",
    "    print(i)"
   ]
  },
  {
   "cell_type": "markdown",
   "id": "07fe2a5f-fd67-4a88-b92a-fa3c385ee358",
   "metadata": {},
   "source": [
    "### Derog Data"
   ]
  },
  {
   "cell_type": "code",
   "execution_count": 152,
   "id": "feca4fcd-a48e-49ea-88dd-8989a96db937",
   "metadata": {
    "tags": []
   },
   "outputs": [
    {
     "name": "stdout",
     "output_type": "stream",
     "text": [
      "home/sushil/LN_Unified_V2/Auto_Model_Dataset/Derog_Model//Derog_290324_LN_Auto_KGB_LDA_Hopt_1.csv\n",
      "home/sushil/LN_Unified_V2/Auto_Model_Dataset/Derog_Model//Derog_Oot_Auto_LN_V2_Scored_Data_2024-03-29.csv\n",
      "home/sushil/LN_Unified_V2/Auto_Model_Dataset/Derog_Model//Derog_TTD_Auto_LN_V2_Scored_Data_2024-03-29.csv\n",
      "home/sushil/LN_Unified_V2/Auto_Model_Dataset/Derog_Model//Derog_Test_Auto_LN_V2_Scored_Data_2024-03-29.csv\n",
      "home/sushil/LN_Unified_V2/Auto_Model_Dataset/Derog_Model//Derog_Train_Auto_LN_V2_Scored_Data_2024-03-29.csv\n",
      "home/sushil/LN_Unified_V2/Auto_Model_Dataset/Derog_Model//xgbm_ln_auto_v2_hpt_best_1_Derog.zip\n"
     ]
    }
   ],
   "source": [
    "response = s3.list_objects_v2(Bucket = 'scien-ds-sm-root-backup', Delimiter='/',Prefix='home/sushil/LN_Unified_V2/Auto_Model_Dataset/Derog_Model//')\n",
    "list = [i['Key'] for i in response['Contents']]\n",
    "for i in list:\n",
    "    print(i)"
   ]
  },
  {
   "cell_type": "markdown",
   "id": "09fb082a-e453-4b20-bf12-e51da27533df",
   "metadata": {},
   "source": [
    "### FICO 660-740 Data"
   ]
  },
  {
   "cell_type": "code",
   "execution_count": 153,
   "id": "d8a54efd-a780-4fc2-a8c6-f5bc00206156",
   "metadata": {
    "tags": []
   },
   "outputs": [
    {
     "name": "stdout",
     "output_type": "stream",
     "text": [
      "home/sushil/LN_Unified_V2/Auto_Model_Dataset/Auto_FICO_660_740_Model//FICO_660_740_030424_LN_Auto_KGB_LDA_Hopt_1.csv\n",
      "home/sushil/LN_Unified_V2/Auto_Model_Dataset/Auto_FICO_660_740_Model//FICO_660_740_050424_LN_Auto_KGB_LDA_Hopt_2.csv\n",
      "home/sushil/LN_Unified_V2/Auto_Model_Dataset/Auto_FICO_660_740_Model//FICO_660_740_Oot_Auto_LN_V2_Scored_Data_2024-04-08.csv\n",
      "home/sushil/LN_Unified_V2/Auto_Model_Dataset/Auto_FICO_660_740_Model//FICO_660_740_TTD_Auto_LN_V2_Scored_Data_2024-04-08.csv\n",
      "home/sushil/LN_Unified_V2/Auto_Model_Dataset/Auto_FICO_660_740_Model//FICO_660_740_Test_Auto_LN_V2_Scored_Data_2024-04-08.csv\n",
      "home/sushil/LN_Unified_V2/Auto_Model_Dataset/Auto_FICO_660_740_Model//FICO_660_740_Train_Auto_LN_V2_Scored_Data_2024-04-08.csv\n",
      "home/sushil/LN_Unified_V2/Auto_Model_Dataset/Auto_FICO_660_740_Model//xgbm_ln_auto_v2_hpt_best_FICO_660_740.zip\n"
     ]
    }
   ],
   "source": [
    "response = s3.list_objects_v2(Bucket = 'scien-ds-sm-root-backup', Delimiter='/',Prefix='home/sushil/LN_Unified_V2/Auto_Model_Dataset/Auto_FICO_660_740_Model//')\n",
    "list = [i['Key'] for i in response['Contents']]\n",
    "for i in list:\n",
    "    print(i)"
   ]
  },
  {
   "cell_type": "markdown",
   "id": "342381dc-226d-4841-bc0d-b0742a7d1fa3",
   "metadata": {},
   "source": [
    "### Auto_FICO_lt_660 Data"
   ]
  },
  {
   "cell_type": "code",
   "execution_count": 160,
   "id": "d7078968-c57e-4548-bbc6-a40b44f48777",
   "metadata": {
    "tags": []
   },
   "outputs": [
    {
     "name": "stdout",
     "output_type": "stream",
     "text": [
      "home/sushil/LN_Unified_V2/Auto_Model_Dataset/Auto_FICO_lt_660_Model//FICO_lt_660_030424_LN_Auto_KGB_LDA_Hopt_1.csv\n",
      "home/sushil/LN_Unified_V2/Auto_Model_Dataset/Auto_FICO_lt_660_Model//FICO_lt_660_050424_LN_Auto_KGB_LDA_Hopt_2.csv\n",
      "home/sushil/LN_Unified_V2/Auto_Model_Dataset/Auto_FICO_lt_660_Model//FICO_lt_660_050424_LN_Auto_KGB_LDA_Hopt_3.csv\n",
      "home/sushil/LN_Unified_V2/Auto_Model_Dataset/Auto_FICO_lt_660_Model//FICO_lt_660_Oot_Auto_LN_V2_Scored_Data_2024-04-08.csv\n",
      "home/sushil/LN_Unified_V2/Auto_Model_Dataset/Auto_FICO_lt_660_Model//FICO_lt_660_TTD_Auto_LN_V2_Scored_Data_2024-04-08.csv\n",
      "home/sushil/LN_Unified_V2/Auto_Model_Dataset/Auto_FICO_lt_660_Model//FICO_lt_660_Test_Auto_LN_V2_Scored_Data_2024-04-08.csv\n",
      "home/sushil/LN_Unified_V2/Auto_Model_Dataset/Auto_FICO_lt_660_Model//FICO_lt_660_Train_Auto_LN_V2_Scored_Data_2024-04-08.csv\n",
      "home/sushil/LN_Unified_V2/Auto_Model_Dataset/Auto_FICO_lt_660_Model//xgbm_ln_auto_v2_hpt_best_FICO_lt_660.zip\n"
     ]
    }
   ],
   "source": [
    "response = s3.list_objects_v2(Bucket = 'scien-ds-sm-root-backup', Delimiter='/',Prefix='home/sushil/LN_Unified_V2/Auto_Model_Dataset/Auto_FICO_lt_660_Model//')\n",
    "list = [i['Key'] for i in response['Contents']]\n",
    "for i in list:\n",
    "    print(i)"
   ]
  },
  {
   "cell_type": "code",
   "execution_count": null,
   "id": "f0cc5cd5-c98c-40b6-b34c-b89e604e7b95",
   "metadata": {},
   "outputs": [],
   "source": []
  },
  {
   "cell_type": "code",
   "execution_count": null,
   "id": "d9ec9c8f-938e-4702-84f1-7ceb6dc286d0",
   "metadata": {},
   "outputs": [],
   "source": []
  },
  {
   "cell_type": "code",
   "execution_count": 41,
   "id": "133eee37-eb7f-46c5-946c-3c14d30a6977",
   "metadata": {
    "tags": []
   },
   "outputs": [
    {
     "name": "stdout",
     "output_type": "stream",
     "text": [
      "/\n",
      "1FFC/\n",
      "1FFC/1FFC_01012024_01012024.json\n",
      "1FFC/1FFC_01022024_01022024.json\n",
      "1FFC/1FFC_01032024_01032024.json\n"
     ]
    }
   ],
   "source": [
    "response  = s3.list_objects_v2(Bucket='us-prod-data-do-not-delete')\n",
    "c = 0\n",
    "if 'Contents' in response:\n",
    "    # Iterate through each object\n",
    "    c = 0\n",
    "    for obj in response['Contents']:\n",
    "        if c<5:\n",
    "            print(obj['Key'])\n",
    "            c+=1\n",
    "else:\n",
    "    print('No objects found in the bucket.')"
   ]
  },
  {
   "cell_type": "code",
   "execution_count": 114,
   "id": "33a76f1c-1166-4421-939b-c02cf48c4336",
   "metadata": {
    "tags": []
   },
   "outputs": [
    {
     "data": {
      "text/plain": [
       "'{\"$oid\": \"65930ac48b6e1608ae106e17\"}'"
      ]
     },
     "execution_count": 114,
     "metadata": {},
     "output_type": "execute_result"
    }
   ],
   "source": [
    "response = s3.get_object(Bucket='us-prod-data-do-not-delete',Key='1FFC/1FFC_01012024_01012024.json')\n",
    "\n",
    "json_content = json.loads(response['Body'].read())\n",
    "json.dumps(json_content[10]['_id'])"
   ]
  },
  {
   "cell_type": "code",
   "execution_count": 57,
   "id": "7e4285f4-6297-430a-9ece-5dbc64a2f5dc",
   "metadata": {
    "tags": []
   },
   "outputs": [
    {
     "data": {
      "text/plain": [
       "(46, 24)"
      ]
     },
     "execution_count": 57,
     "metadata": {},
     "output_type": "execute_result"
    }
   ],
   "source": [
    "response = s3.get_object(Bucket='scienaptic-ds-auto-dashboard',Key='resources (22).csv')\n",
    "\n",
    "content = response['Body'].read().decode('utf-8')\n",
    "data = pd.read_csv(StringIO(content))\n",
    "data.shape"
   ]
  },
  {
   "cell_type": "code",
   "execution_count": 59,
   "id": "96a5c826-4766-44c9-ad40-82d581ecc00f",
   "metadata": {
    "tags": []
   },
   "outputs": [
    {
     "data": {
      "text/html": [
       "<div>\n",
       "<style scoped>\n",
       "    .dataframe tbody tr th:only-of-type {\n",
       "        vertical-align: middle;\n",
       "    }\n",
       "\n",
       "    .dataframe tbody tr th {\n",
       "        vertical-align: top;\n",
       "    }\n",
       "\n",
       "    .dataframe thead th {\n",
       "        text-align: right;\n",
       "    }\n",
       "</style>\n",
       "<table border=\"1\" class=\"dataframe\">\n",
       "  <thead>\n",
       "    <tr style=\"text-align: right;\">\n",
       "      <th></th>\n",
       "      <th>Identifier</th>\n",
       "      <th>Tag: Name</th>\n",
       "      <th>Service</th>\n",
       "      <th>Type</th>\n",
       "      <th>Region</th>\n",
       "      <th>Tag: Backup</th>\n",
       "      <th>Tag: CostCenter</th>\n",
       "      <th>Tag: Customer</th>\n",
       "      <th>Tag: DR-LifeCycle-Policy</th>\n",
       "      <th>Tag: Environment</th>\n",
       "      <th>...</th>\n",
       "      <th>Tag: Region</th>\n",
       "      <th>Tag: Subnet</th>\n",
       "      <th>Tag: aws:cloudformation:logical-id</th>\n",
       "      <th>Tag: aws:cloudformation:stack-id</th>\n",
       "      <th>Tag: aws:cloudformation:stack-name</th>\n",
       "      <th>Tag: aws:dlm:lifecycle-policy-id</th>\n",
       "      <th>Tag: aws:dlm:lifecycle-schedule-name</th>\n",
       "      <th>Tag: dlm:managed</th>\n",
       "      <th>Tag: instance-id</th>\n",
       "      <th>Tags</th>\n",
       "    </tr>\n",
       "  </thead>\n",
       "  <tbody>\n",
       "    <tr>\n",
       "      <th>0</th>\n",
       "      <td>ClntProd-PopkornFintech-VNet-Stack/f34efe70-9e...</td>\n",
       "      <td>ClntProd-PopkornFintech-VNet-Stack</td>\n",
       "      <td>CloudFormation</td>\n",
       "      <td>Stack</td>\n",
       "      <td>ap-south-1</td>\n",
       "      <td>No</td>\n",
       "      <td>TBD</td>\n",
       "      <td>Popkorn Fintech</td>\n",
       "      <td>(not tagged)</td>\n",
       "      <td>(not tagged)</td>\n",
       "      <td>...</td>\n",
       "      <td>(not tagged)</td>\n",
       "      <td>(not tagged)</td>\n",
       "      <td>(not tagged)</td>\n",
       "      <td>(not tagged)</td>\n",
       "      <td>(not tagged)</td>\n",
       "      <td>(not tagged)</td>\n",
       "      <td>(not tagged)</td>\n",
       "      <td>(not tagged)</td>\n",
       "      <td>(not tagged)</td>\n",
       "      <td>7</td>\n",
       "    </tr>\n",
       "    <tr>\n",
       "      <th>1</th>\n",
       "      <td>eipalloc-059ff1836541dba48</td>\n",
       "      <td>PopkornFintech-UAT-Web-Db-server-01</td>\n",
       "      <td>EC2</td>\n",
       "      <td>EIP</td>\n",
       "      <td>ap-south-1</td>\n",
       "      <td>No</td>\n",
       "      <td>TBD</td>\n",
       "      <td>Popkorn Fintech</td>\n",
       "      <td>(not tagged)</td>\n",
       "      <td>UAT</td>\n",
       "      <td>...</td>\n",
       "      <td>(not tagged)</td>\n",
       "      <td>(not tagged)</td>\n",
       "      <td>(not tagged)</td>\n",
       "      <td>(not tagged)</td>\n",
       "      <td>(not tagged)</td>\n",
       "      <td>(not tagged)</td>\n",
       "      <td>(not tagged)</td>\n",
       "      <td>(not tagged)</td>\n",
       "      <td>(not tagged)</td>\n",
       "      <td>8</td>\n",
       "    </tr>\n",
       "    <tr>\n",
       "      <th>2</th>\n",
       "      <td>ami-0accecc4bff471943</td>\n",
       "      <td>PopkornFintech-UAT-Web-Db-server-01</td>\n",
       "      <td>EC2</td>\n",
       "      <td>Image</td>\n",
       "      <td>ap-south-1</td>\n",
       "      <td>IRIS</td>\n",
       "      <td>TBD</td>\n",
       "      <td>Popkorn Fintech</td>\n",
       "      <td>Yes</td>\n",
       "      <td>UAT</td>\n",
       "      <td>...</td>\n",
       "      <td>(not tagged)</td>\n",
       "      <td>(not tagged)</td>\n",
       "      <td>(not tagged)</td>\n",
       "      <td>(not tagged)</td>\n",
       "      <td>(not tagged)</td>\n",
       "      <td>policy-0c0ba5198d36b9752</td>\n",
       "      <td>Schedule 1</td>\n",
       "      <td>true</td>\n",
       "      <td>i-039432729443a2e3f</td>\n",
       "      <td>13</td>\n",
       "    </tr>\n",
       "    <tr>\n",
       "      <th>3</th>\n",
       "      <td>ami-06ee2411e7dbd560c</td>\n",
       "      <td>PopkornFintech-UAT-Web-Db-server-01</td>\n",
       "      <td>EC2</td>\n",
       "      <td>Image</td>\n",
       "      <td>ap-south-1</td>\n",
       "      <td>IRIS</td>\n",
       "      <td>TBD</td>\n",
       "      <td>Popkorn Fintech</td>\n",
       "      <td>Yes</td>\n",
       "      <td>UAT</td>\n",
       "      <td>...</td>\n",
       "      <td>(not tagged)</td>\n",
       "      <td>(not tagged)</td>\n",
       "      <td>(not tagged)</td>\n",
       "      <td>(not tagged)</td>\n",
       "      <td>(not tagged)</td>\n",
       "      <td>policy-0c0ba5198d36b9752</td>\n",
       "      <td>Schedule 1</td>\n",
       "      <td>true</td>\n",
       "      <td>i-039432729443a2e3f</td>\n",
       "      <td>13</td>\n",
       "    </tr>\n",
       "    <tr>\n",
       "      <th>4</th>\n",
       "      <td>ami-0e8bd049d12334002</td>\n",
       "      <td>PopkornFintech-UAT-Web-Db-server-01</td>\n",
       "      <td>EC2</td>\n",
       "      <td>Image</td>\n",
       "      <td>ap-south-1</td>\n",
       "      <td>IRIS</td>\n",
       "      <td>TBD</td>\n",
       "      <td>Popkorn Fintech</td>\n",
       "      <td>Yes</td>\n",
       "      <td>UAT</td>\n",
       "      <td>...</td>\n",
       "      <td>(not tagged)</td>\n",
       "      <td>(not tagged)</td>\n",
       "      <td>(not tagged)</td>\n",
       "      <td>(not tagged)</td>\n",
       "      <td>(not tagged)</td>\n",
       "      <td>policy-0c0ba5198d36b9752</td>\n",
       "      <td>Schedule 1</td>\n",
       "      <td>true</td>\n",
       "      <td>i-039432729443a2e3f</td>\n",
       "      <td>13</td>\n",
       "    </tr>\n",
       "  </tbody>\n",
       "</table>\n",
       "<p>5 rows × 24 columns</p>\n",
       "</div>"
      ],
      "text/plain": [
       "                                          Identifier  \\\n",
       "0  ClntProd-PopkornFintech-VNet-Stack/f34efe70-9e...   \n",
       "1                         eipalloc-059ff1836541dba48   \n",
       "2                              ami-0accecc4bff471943   \n",
       "3                              ami-06ee2411e7dbd560c   \n",
       "4                              ami-0e8bd049d12334002   \n",
       "\n",
       "                             Tag: Name         Service   Type      Region  \\\n",
       "0   ClntProd-PopkornFintech-VNet-Stack  CloudFormation  Stack  ap-south-1   \n",
       "1  PopkornFintech-UAT-Web-Db-server-01             EC2    EIP  ap-south-1   \n",
       "2  PopkornFintech-UAT-Web-Db-server-01             EC2  Image  ap-south-1   \n",
       "3  PopkornFintech-UAT-Web-Db-server-01             EC2  Image  ap-south-1   \n",
       "4  PopkornFintech-UAT-Web-Db-server-01             EC2  Image  ap-south-1   \n",
       "\n",
       "  Tag: Backup Tag: CostCenter    Tag: Customer Tag: DR-LifeCycle-Policy  \\\n",
       "0          No             TBD  Popkorn Fintech             (not tagged)   \n",
       "1          No             TBD  Popkorn Fintech             (not tagged)   \n",
       "2        IRIS             TBD  Popkorn Fintech                      Yes   \n",
       "3        IRIS             TBD  Popkorn Fintech                      Yes   \n",
       "4        IRIS             TBD  Popkorn Fintech                      Yes   \n",
       "\n",
       "  Tag: Environment  ...   Tag: Region   Tag: Subnet  \\\n",
       "0     (not tagged)  ...  (not tagged)  (not tagged)   \n",
       "1              UAT  ...  (not tagged)  (not tagged)   \n",
       "2              UAT  ...  (not tagged)  (not tagged)   \n",
       "3              UAT  ...  (not tagged)  (not tagged)   \n",
       "4              UAT  ...  (not tagged)  (not tagged)   \n",
       "\n",
       "  Tag: aws:cloudformation:logical-id Tag: aws:cloudformation:stack-id  \\\n",
       "0                       (not tagged)                     (not tagged)   \n",
       "1                       (not tagged)                     (not tagged)   \n",
       "2                       (not tagged)                     (not tagged)   \n",
       "3                       (not tagged)                     (not tagged)   \n",
       "4                       (not tagged)                     (not tagged)   \n",
       "\n",
       "  Tag: aws:cloudformation:stack-name Tag: aws:dlm:lifecycle-policy-id  \\\n",
       "0                       (not tagged)                     (not tagged)   \n",
       "1                       (not tagged)                     (not tagged)   \n",
       "2                       (not tagged)         policy-0c0ba5198d36b9752   \n",
       "3                       (not tagged)         policy-0c0ba5198d36b9752   \n",
       "4                       (not tagged)         policy-0c0ba5198d36b9752   \n",
       "\n",
       "  Tag: aws:dlm:lifecycle-schedule-name Tag: dlm:managed     Tag: instance-id  \\\n",
       "0                         (not tagged)     (not tagged)         (not tagged)   \n",
       "1                         (not tagged)     (not tagged)         (not tagged)   \n",
       "2                           Schedule 1             true  i-039432729443a2e3f   \n",
       "3                           Schedule 1             true  i-039432729443a2e3f   \n",
       "4                           Schedule 1             true  i-039432729443a2e3f   \n",
       "\n",
       "  Tags  \n",
       "0    7  \n",
       "1    8  \n",
       "2   13  \n",
       "3   13  \n",
       "4   13  \n",
       "\n",
       "[5 rows x 24 columns]"
      ]
     },
     "execution_count": 59,
     "metadata": {},
     "output_type": "execute_result"
    }
   ],
   "source": [
    "data.head()"
   ]
  },
  {
   "cell_type": "code",
   "execution_count": null,
   "id": "4331c8fd-ce37-4c4f-a0fd-9c49187e7d80",
   "metadata": {},
   "outputs": [],
   "source": []
  }
 ],
 "metadata": {
  "availableInstances": [
   {
    "_defaultOrder": 0,
    "_isFastLaunch": true,
    "category": "General purpose",
    "gpuNum": 0,
    "hideHardwareSpecs": false,
    "memoryGiB": 4,
    "name": "ml.t3.medium",
    "vcpuNum": 2
   },
   {
    "_defaultOrder": 1,
    "_isFastLaunch": false,
    "category": "General purpose",
    "gpuNum": 0,
    "hideHardwareSpecs": false,
    "memoryGiB": 8,
    "name": "ml.t3.large",
    "vcpuNum": 2
   },
   {
    "_defaultOrder": 2,
    "_isFastLaunch": false,
    "category": "General purpose",
    "gpuNum": 0,
    "hideHardwareSpecs": false,
    "memoryGiB": 16,
    "name": "ml.t3.xlarge",
    "vcpuNum": 4
   },
   {
    "_defaultOrder": 3,
    "_isFastLaunch": false,
    "category": "General purpose",
    "gpuNum": 0,
    "hideHardwareSpecs": false,
    "memoryGiB": 32,
    "name": "ml.t3.2xlarge",
    "vcpuNum": 8
   },
   {
    "_defaultOrder": 4,
    "_isFastLaunch": true,
    "category": "General purpose",
    "gpuNum": 0,
    "hideHardwareSpecs": false,
    "memoryGiB": 8,
    "name": "ml.m5.large",
    "vcpuNum": 2
   },
   {
    "_defaultOrder": 5,
    "_isFastLaunch": false,
    "category": "General purpose",
    "gpuNum": 0,
    "hideHardwareSpecs": false,
    "memoryGiB": 16,
    "name": "ml.m5.xlarge",
    "vcpuNum": 4
   },
   {
    "_defaultOrder": 6,
    "_isFastLaunch": false,
    "category": "General purpose",
    "gpuNum": 0,
    "hideHardwareSpecs": false,
    "memoryGiB": 32,
    "name": "ml.m5.2xlarge",
    "vcpuNum": 8
   },
   {
    "_defaultOrder": 7,
    "_isFastLaunch": false,
    "category": "General purpose",
    "gpuNum": 0,
    "hideHardwareSpecs": false,
    "memoryGiB": 64,
    "name": "ml.m5.4xlarge",
    "vcpuNum": 16
   },
   {
    "_defaultOrder": 8,
    "_isFastLaunch": false,
    "category": "General purpose",
    "gpuNum": 0,
    "hideHardwareSpecs": false,
    "memoryGiB": 128,
    "name": "ml.m5.8xlarge",
    "vcpuNum": 32
   },
   {
    "_defaultOrder": 9,
    "_isFastLaunch": false,
    "category": "General purpose",
    "gpuNum": 0,
    "hideHardwareSpecs": false,
    "memoryGiB": 192,
    "name": "ml.m5.12xlarge",
    "vcpuNum": 48
   },
   {
    "_defaultOrder": 10,
    "_isFastLaunch": false,
    "category": "General purpose",
    "gpuNum": 0,
    "hideHardwareSpecs": false,
    "memoryGiB": 256,
    "name": "ml.m5.16xlarge",
    "vcpuNum": 64
   },
   {
    "_defaultOrder": 11,
    "_isFastLaunch": false,
    "category": "General purpose",
    "gpuNum": 0,
    "hideHardwareSpecs": false,
    "memoryGiB": 384,
    "name": "ml.m5.24xlarge",
    "vcpuNum": 96
   },
   {
    "_defaultOrder": 12,
    "_isFastLaunch": false,
    "category": "General purpose",
    "gpuNum": 0,
    "hideHardwareSpecs": false,
    "memoryGiB": 8,
    "name": "ml.m5d.large",
    "vcpuNum": 2
   },
   {
    "_defaultOrder": 13,
    "_isFastLaunch": false,
    "category": "General purpose",
    "gpuNum": 0,
    "hideHardwareSpecs": false,
    "memoryGiB": 16,
    "name": "ml.m5d.xlarge",
    "vcpuNum": 4
   },
   {
    "_defaultOrder": 14,
    "_isFastLaunch": false,
    "category": "General purpose",
    "gpuNum": 0,
    "hideHardwareSpecs": false,
    "memoryGiB": 32,
    "name": "ml.m5d.2xlarge",
    "vcpuNum": 8
   },
   {
    "_defaultOrder": 15,
    "_isFastLaunch": false,
    "category": "General purpose",
    "gpuNum": 0,
    "hideHardwareSpecs": false,
    "memoryGiB": 64,
    "name": "ml.m5d.4xlarge",
    "vcpuNum": 16
   },
   {
    "_defaultOrder": 16,
    "_isFastLaunch": false,
    "category": "General purpose",
    "gpuNum": 0,
    "hideHardwareSpecs": false,
    "memoryGiB": 128,
    "name": "ml.m5d.8xlarge",
    "vcpuNum": 32
   },
   {
    "_defaultOrder": 17,
    "_isFastLaunch": false,
    "category": "General purpose",
    "gpuNum": 0,
    "hideHardwareSpecs": false,
    "memoryGiB": 192,
    "name": "ml.m5d.12xlarge",
    "vcpuNum": 48
   },
   {
    "_defaultOrder": 18,
    "_isFastLaunch": false,
    "category": "General purpose",
    "gpuNum": 0,
    "hideHardwareSpecs": false,
    "memoryGiB": 256,
    "name": "ml.m5d.16xlarge",
    "vcpuNum": 64
   },
   {
    "_defaultOrder": 19,
    "_isFastLaunch": false,
    "category": "General purpose",
    "gpuNum": 0,
    "hideHardwareSpecs": false,
    "memoryGiB": 384,
    "name": "ml.m5d.24xlarge",
    "vcpuNum": 96
   },
   {
    "_defaultOrder": 20,
    "_isFastLaunch": false,
    "category": "General purpose",
    "gpuNum": 0,
    "hideHardwareSpecs": true,
    "memoryGiB": 0,
    "name": "ml.geospatial.interactive",
    "supportedImageNames": [
     "sagemaker-geospatial-v1-0"
    ],
    "vcpuNum": 0
   },
   {
    "_defaultOrder": 21,
    "_isFastLaunch": true,
    "category": "Compute optimized",
    "gpuNum": 0,
    "hideHardwareSpecs": false,
    "memoryGiB": 4,
    "name": "ml.c5.large",
    "vcpuNum": 2
   },
   {
    "_defaultOrder": 22,
    "_isFastLaunch": false,
    "category": "Compute optimized",
    "gpuNum": 0,
    "hideHardwareSpecs": false,
    "memoryGiB": 8,
    "name": "ml.c5.xlarge",
    "vcpuNum": 4
   },
   {
    "_defaultOrder": 23,
    "_isFastLaunch": false,
    "category": "Compute optimized",
    "gpuNum": 0,
    "hideHardwareSpecs": false,
    "memoryGiB": 16,
    "name": "ml.c5.2xlarge",
    "vcpuNum": 8
   },
   {
    "_defaultOrder": 24,
    "_isFastLaunch": false,
    "category": "Compute optimized",
    "gpuNum": 0,
    "hideHardwareSpecs": false,
    "memoryGiB": 32,
    "name": "ml.c5.4xlarge",
    "vcpuNum": 16
   },
   {
    "_defaultOrder": 25,
    "_isFastLaunch": false,
    "category": "Compute optimized",
    "gpuNum": 0,
    "hideHardwareSpecs": false,
    "memoryGiB": 72,
    "name": "ml.c5.9xlarge",
    "vcpuNum": 36
   },
   {
    "_defaultOrder": 26,
    "_isFastLaunch": false,
    "category": "Compute optimized",
    "gpuNum": 0,
    "hideHardwareSpecs": false,
    "memoryGiB": 96,
    "name": "ml.c5.12xlarge",
    "vcpuNum": 48
   },
   {
    "_defaultOrder": 27,
    "_isFastLaunch": false,
    "category": "Compute optimized",
    "gpuNum": 0,
    "hideHardwareSpecs": false,
    "memoryGiB": 144,
    "name": "ml.c5.18xlarge",
    "vcpuNum": 72
   },
   {
    "_defaultOrder": 28,
    "_isFastLaunch": false,
    "category": "Compute optimized",
    "gpuNum": 0,
    "hideHardwareSpecs": false,
    "memoryGiB": 192,
    "name": "ml.c5.24xlarge",
    "vcpuNum": 96
   },
   {
    "_defaultOrder": 29,
    "_isFastLaunch": true,
    "category": "Accelerated computing",
    "gpuNum": 1,
    "hideHardwareSpecs": false,
    "memoryGiB": 16,
    "name": "ml.g4dn.xlarge",
    "vcpuNum": 4
   },
   {
    "_defaultOrder": 30,
    "_isFastLaunch": false,
    "category": "Accelerated computing",
    "gpuNum": 1,
    "hideHardwareSpecs": false,
    "memoryGiB": 32,
    "name": "ml.g4dn.2xlarge",
    "vcpuNum": 8
   },
   {
    "_defaultOrder": 31,
    "_isFastLaunch": false,
    "category": "Accelerated computing",
    "gpuNum": 1,
    "hideHardwareSpecs": false,
    "memoryGiB": 64,
    "name": "ml.g4dn.4xlarge",
    "vcpuNum": 16
   },
   {
    "_defaultOrder": 32,
    "_isFastLaunch": false,
    "category": "Accelerated computing",
    "gpuNum": 1,
    "hideHardwareSpecs": false,
    "memoryGiB": 128,
    "name": "ml.g4dn.8xlarge",
    "vcpuNum": 32
   },
   {
    "_defaultOrder": 33,
    "_isFastLaunch": false,
    "category": "Accelerated computing",
    "gpuNum": 4,
    "hideHardwareSpecs": false,
    "memoryGiB": 192,
    "name": "ml.g4dn.12xlarge",
    "vcpuNum": 48
   },
   {
    "_defaultOrder": 34,
    "_isFastLaunch": false,
    "category": "Accelerated computing",
    "gpuNum": 1,
    "hideHardwareSpecs": false,
    "memoryGiB": 256,
    "name": "ml.g4dn.16xlarge",
    "vcpuNum": 64
   },
   {
    "_defaultOrder": 35,
    "_isFastLaunch": false,
    "category": "Accelerated computing",
    "gpuNum": 1,
    "hideHardwareSpecs": false,
    "memoryGiB": 61,
    "name": "ml.p3.2xlarge",
    "vcpuNum": 8
   },
   {
    "_defaultOrder": 36,
    "_isFastLaunch": false,
    "category": "Accelerated computing",
    "gpuNum": 4,
    "hideHardwareSpecs": false,
    "memoryGiB": 244,
    "name": "ml.p3.8xlarge",
    "vcpuNum": 32
   },
   {
    "_defaultOrder": 37,
    "_isFastLaunch": false,
    "category": "Accelerated computing",
    "gpuNum": 8,
    "hideHardwareSpecs": false,
    "memoryGiB": 488,
    "name": "ml.p3.16xlarge",
    "vcpuNum": 64
   },
   {
    "_defaultOrder": 38,
    "_isFastLaunch": false,
    "category": "Accelerated computing",
    "gpuNum": 8,
    "hideHardwareSpecs": false,
    "memoryGiB": 768,
    "name": "ml.p3dn.24xlarge",
    "vcpuNum": 96
   },
   {
    "_defaultOrder": 39,
    "_isFastLaunch": false,
    "category": "Memory Optimized",
    "gpuNum": 0,
    "hideHardwareSpecs": false,
    "memoryGiB": 16,
    "name": "ml.r5.large",
    "vcpuNum": 2
   },
   {
    "_defaultOrder": 40,
    "_isFastLaunch": false,
    "category": "Memory Optimized",
    "gpuNum": 0,
    "hideHardwareSpecs": false,
    "memoryGiB": 32,
    "name": "ml.r5.xlarge",
    "vcpuNum": 4
   },
   {
    "_defaultOrder": 41,
    "_isFastLaunch": false,
    "category": "Memory Optimized",
    "gpuNum": 0,
    "hideHardwareSpecs": false,
    "memoryGiB": 64,
    "name": "ml.r5.2xlarge",
    "vcpuNum": 8
   },
   {
    "_defaultOrder": 42,
    "_isFastLaunch": false,
    "category": "Memory Optimized",
    "gpuNum": 0,
    "hideHardwareSpecs": false,
    "memoryGiB": 128,
    "name": "ml.r5.4xlarge",
    "vcpuNum": 16
   },
   {
    "_defaultOrder": 43,
    "_isFastLaunch": false,
    "category": "Memory Optimized",
    "gpuNum": 0,
    "hideHardwareSpecs": false,
    "memoryGiB": 256,
    "name": "ml.r5.8xlarge",
    "vcpuNum": 32
   },
   {
    "_defaultOrder": 44,
    "_isFastLaunch": false,
    "category": "Memory Optimized",
    "gpuNum": 0,
    "hideHardwareSpecs": false,
    "memoryGiB": 384,
    "name": "ml.r5.12xlarge",
    "vcpuNum": 48
   },
   {
    "_defaultOrder": 45,
    "_isFastLaunch": false,
    "category": "Memory Optimized",
    "gpuNum": 0,
    "hideHardwareSpecs": false,
    "memoryGiB": 512,
    "name": "ml.r5.16xlarge",
    "vcpuNum": 64
   },
   {
    "_defaultOrder": 46,
    "_isFastLaunch": false,
    "category": "Memory Optimized",
    "gpuNum": 0,
    "hideHardwareSpecs": false,
    "memoryGiB": 768,
    "name": "ml.r5.24xlarge",
    "vcpuNum": 96
   },
   {
    "_defaultOrder": 47,
    "_isFastLaunch": false,
    "category": "Accelerated computing",
    "gpuNum": 1,
    "hideHardwareSpecs": false,
    "memoryGiB": 16,
    "name": "ml.g5.xlarge",
    "vcpuNum": 4
   },
   {
    "_defaultOrder": 48,
    "_isFastLaunch": false,
    "category": "Accelerated computing",
    "gpuNum": 1,
    "hideHardwareSpecs": false,
    "memoryGiB": 32,
    "name": "ml.g5.2xlarge",
    "vcpuNum": 8
   },
   {
    "_defaultOrder": 49,
    "_isFastLaunch": false,
    "category": "Accelerated computing",
    "gpuNum": 1,
    "hideHardwareSpecs": false,
    "memoryGiB": 64,
    "name": "ml.g5.4xlarge",
    "vcpuNum": 16
   },
   {
    "_defaultOrder": 50,
    "_isFastLaunch": false,
    "category": "Accelerated computing",
    "gpuNum": 1,
    "hideHardwareSpecs": false,
    "memoryGiB": 128,
    "name": "ml.g5.8xlarge",
    "vcpuNum": 32
   },
   {
    "_defaultOrder": 51,
    "_isFastLaunch": false,
    "category": "Accelerated computing",
    "gpuNum": 1,
    "hideHardwareSpecs": false,
    "memoryGiB": 256,
    "name": "ml.g5.16xlarge",
    "vcpuNum": 64
   },
   {
    "_defaultOrder": 52,
    "_isFastLaunch": false,
    "category": "Accelerated computing",
    "gpuNum": 4,
    "hideHardwareSpecs": false,
    "memoryGiB": 192,
    "name": "ml.g5.12xlarge",
    "vcpuNum": 48
   },
   {
    "_defaultOrder": 53,
    "_isFastLaunch": false,
    "category": "Accelerated computing",
    "gpuNum": 4,
    "hideHardwareSpecs": false,
    "memoryGiB": 384,
    "name": "ml.g5.24xlarge",
    "vcpuNum": 96
   },
   {
    "_defaultOrder": 54,
    "_isFastLaunch": false,
    "category": "Accelerated computing",
    "gpuNum": 8,
    "hideHardwareSpecs": false,
    "memoryGiB": 768,
    "name": "ml.g5.48xlarge",
    "vcpuNum": 192
   },
   {
    "_defaultOrder": 55,
    "_isFastLaunch": false,
    "category": "Accelerated computing",
    "gpuNum": 8,
    "hideHardwareSpecs": false,
    "memoryGiB": 1152,
    "name": "ml.p4d.24xlarge",
    "vcpuNum": 96
   },
   {
    "_defaultOrder": 56,
    "_isFastLaunch": false,
    "category": "Accelerated computing",
    "gpuNum": 8,
    "hideHardwareSpecs": false,
    "memoryGiB": 1152,
    "name": "ml.p4de.24xlarge",
    "vcpuNum": 96
   },
   {
    "_defaultOrder": 57,
    "_isFastLaunch": false,
    "category": "Accelerated computing",
    "gpuNum": 0,
    "hideHardwareSpecs": false,
    "memoryGiB": 32,
    "name": "ml.trn1.2xlarge",
    "vcpuNum": 8
   },
   {
    "_defaultOrder": 58,
    "_isFastLaunch": false,
    "category": "Accelerated computing",
    "gpuNum": 0,
    "hideHardwareSpecs": false,
    "memoryGiB": 512,
    "name": "ml.trn1.32xlarge",
    "vcpuNum": 128
   },
   {
    "_defaultOrder": 59,
    "_isFastLaunch": false,
    "category": "Accelerated computing",
    "gpuNum": 0,
    "hideHardwareSpecs": false,
    "memoryGiB": 512,
    "name": "ml.trn1n.32xlarge",
    "vcpuNum": 128
   }
  ],
  "instance_type": "ml.t3.medium",
  "kernelspec": {
   "display_name": "Python 3 (Data Science 3.0)",
   "language": "python",
   "name": "python3__SAGEMAKER_INTERNAL__arn:aws:sagemaker:us-west-2:236514542706:image/sagemaker-data-science-310-v1"
  },
  "language_info": {
   "codemirror_mode": {
    "name": "ipython",
    "version": 3
   },
   "file_extension": ".py",
   "mimetype": "text/x-python",
   "name": "python",
   "nbconvert_exporter": "python",
   "pygments_lexer": "ipython3",
   "version": "3.10.6"
  }
 },
 "nbformat": 4,
 "nbformat_minor": 5
}
